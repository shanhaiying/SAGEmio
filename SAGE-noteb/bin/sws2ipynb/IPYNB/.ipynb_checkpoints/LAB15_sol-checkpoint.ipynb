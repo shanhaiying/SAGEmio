{
 "cells": [
  {
   "cell_type": "markdown",
   "metadata": {},
   "source": [
    "<h3>C&aacute;lculo simb&oacute;lico</h3>\n",
    "<p>Definimos variables simb&oacute;licas y expresiones simb&oacute;licas que nos permiten operar \"como con l&aacute;piz y papel\".</p>\n",
    "<h4>Variables simb&oacute;licas</h4>\n",
    "<p>Deben declararse previamente (excepto 'x' que se puede tomar como variable simb&oacute;lica por defecto)</p>"
   ]
  },
  {
   "cell_type": "code",
   "execution_count": 1,
   "metadata": {
    "collapsed": false
   },
   "outputs": [
    {
     "ename": "NameError",
     "evalue": "name 'y' is not defined",
     "output_type": "error",
     "traceback": [
      "\u001b[1;31m---------------------------------------------------------------------------\u001b[0m",
      "\u001b[1;31mNameError\u001b[0m                                 Traceback (most recent call last)",
      "\u001b[1;32m<ipython-input-1-e1b4cc09674e>\u001b[0m in \u001b[0;36m<module>\u001b[1;34m()\u001b[0m\n\u001b[1;32m----> 1\u001b[1;33m \u001b[0mx\u001b[0m\u001b[1;33m+\u001b[0m\u001b[0my\u001b[0m\u001b[1;33m+\u001b[0m\u001b[0mInteger\u001b[0m\u001b[1;33m(\u001b[0m\u001b[1;36m2\u001b[0m\u001b[1;33m)\u001b[0m\u001b[1;33m*\u001b[0m\u001b[0ma\u001b[0m\u001b[1;33m**\u001b[0m\u001b[0mb\u001b[0m\u001b[1;33m-\u001b[0m\u001b[0mc\u001b[0m\u001b[1;33m\u001b[0m\u001b[0m\n\u001b[0m",
      "\u001b[1;31mNameError\u001b[0m: name 'y' is not defined"
     ]
    }
   ],
   "source": [
    "x+y+2*a^b-c"
   ]
  },
  {
   "cell_type": "code",
   "execution_count": 2,
   "metadata": {
    "collapsed": false
   },
   "outputs": [
    {
     "data": {
      "text/plain": [
       "c"
      ]
     },
     "execution_count": 2,
     "metadata": {},
     "output_type": "execute_result"
    }
   ],
   "source": [
    "#\n",
    "var('x y z')\n",
    "var(\"a b\")\n",
    "var('c')\n",
    "#"
   ]
  },
  {
   "cell_type": "code",
   "execution_count": 3,
   "metadata": {
    "collapsed": false
   },
   "outputs": [
    {
     "data": {
      "text/plain": [
       "2*a^b - c + x + y"
      ]
     },
     "execution_count": 3,
     "metadata": {},
     "output_type": "execute_result"
    }
   ],
   "source": [
    "x+y+2*a^b-c"
   ]
  },
  {
   "cell_type": "markdown",
   "metadata": {},
   "source": [
    "<p><strong>Muy importante:</strong> Poner especial cuidado al asignar valores a las variables simb&oacute;licas que utilicemos, dejan de ser variables. En algunos &aacute;mbitos, la asignaci&oacute;n es local (ver el apartado <em>Sustituciones</em>).</p>\n",
    "\n",
    "<h4>Expresiones simb&oacute;licas</h4>\n",
    "<p>El tipo de expresiones que normalmente utilizamos operando con variables y constantes</p>"
   ]
  },
  {
   "cell_type": "code",
   "execution_count": 4,
   "metadata": {
    "collapsed": false
   },
   "outputs": [],
   "source": [
    "#\n",
    "s=x+ y +z\n",
    "xx=x^2\n",
    "yy=y^2\n",
    "zz=z^2\n",
    "sq=xx+yy+zz\n",
    "ss=s^2\n",
    "s2=(x+y+z)^2\n",
    "quad=a*xx+b*x+c\n",
    "#"
   ]
  },
  {
   "cell_type": "markdown",
   "metadata": {},
   "source": [
    "<p>Nota: el comando show() nos 'dibuja' su <strong>&uacute;nico</strong> argumento&nbsp; en pantalla. Para expresiones simb&oacute;licas, trata de acercarse a nuestra escritura.</p>"
   ]
  },
  {
   "cell_type": "code",
   "execution_count": 5,
   "metadata": {
    "collapsed": false
   },
   "outputs": [
    {
     "data": {
      "text/html": [
       "<html><script type=\"math/tex; mode=display\">\\newcommand{\\Bold}[1]{\\mathbf{#1}}\\left(x + y + z, {\\left(x + y + z\\right)}^{2}, x^{2} + y^{2} + z^{2}, a x^{2} + b x + c\\right)</script></html>"
      ],
      "text/plain": [
       "(x + y + z, (x + y + z)^2, x^2 + y^2 + z^2, a*x^2 + b*x + c)"
      ]
     },
     "metadata": {},
     "output_type": "display_data"
    }
   ],
   "source": [
    "#\n",
    "(s,ss,sq,quad); show((s,ss,sq,quad))"
   ]
  },
  {
   "cell_type": "code",
   "execution_count": 6,
   "metadata": {
    "collapsed": false
   },
   "outputs": [
    {
     "data": {
      "text/html": [
       "<html><script type=\"math/tex; mode=display\">\\newcommand{\\Bold}[1]{\\mathbf{#1}}2 \\, x y + 2 \\, x z + 2 \\, y z</script></html>"
      ],
      "text/plain": [
       "2*x*y + 2*x*z + 2*y*z"
      ]
     },
     "metadata": {},
     "output_type": "display_data"
    }
   ],
   "source": [
    "show((ss-sq).expand())"
   ]
  },
  {
   "cell_type": "code",
   "execution_count": 7,
   "metadata": {
    "collapsed": false
   },
   "outputs": [
    {
     "data": {
      "text/html": [
       "<html><script type=\"math/tex; mode=display\">\\newcommand{\\Bold}[1]{\\mathbf{#1}}\\left[x^{2}, x y, x z, x y, y^{2}, y z, x z, y z, z^{2}\\right]</script></html>"
      ],
      "text/plain": [
       "[x^2, x*y, x*z, x*y, y^2, y*z, x*z, y*z, z^2]"
      ]
     },
     "metadata": {},
     "output_type": "display_data"
    }
   ],
   "source": [
    "show([i*j for i in [x,y,z] for j in [x,y,z]])"
   ]
  },
  {
   "cell_type": "markdown",
   "metadata": {},
   "source": [
    "<p><strong>Ejercicio.</strong> Para quitar las repeticiones, aplicar, adecuadamente, <span style=\"font-family: comic sans ms,sans-serif;\">list(set())</span> a la lista anterior.</p>"
   ]
  },
  {
   "cell_type": "markdown",
   "metadata": {},
   "source": [
    "<h4>Manipulaciones simb&oacute;licas: <span style=\"font-family: courier new,courier;\">simplify</span>, <span style=\"font-family: courier new,courier;\">factor<span style=\"font-family: terminal,monaco;\">, <span style=\"font-family: courier new,courier;\">expand</span>.<br /></span></span></h4>"
   ]
  },
  {
   "cell_type": "code",
   "execution_count": 8,
   "metadata": {
    "collapsed": false
   },
   "outputs": [
    {
     "data": {
      "text/html": [
       "<html><script type=\"math/tex; mode=display\">\\newcommand{\\Bold}[1]{\\mathbf{#1}}{\\left(x^{2} + y^{2} + z^{2}\\right)} {\\left(x + y + z\\right)}^{2} - {\\left(x^{2} + y^{2} + z^{2}\\right)}^{2}</script></html>"
      ],
      "text/plain": [
       "(x^2 + y^2 + z^2)*(x + y + z)^2 - (x^2 + y^2 + z^2)^2"
      ]
     },
     "metadata": {},
     "output_type": "display_data"
    },
    {
     "data": {
      "text/html": [
       "<html><script type=\"math/tex; mode=display\">\\newcommand{\\Bold}[1]{\\mathbf{#1}}2 \\, {\\left(x^{2} + y^{2} + z^{2}\\right)} {\\left(x y + x z + y z\\right)}</script></html>"
      ],
      "text/plain": [
       "2*(x^2 + y^2 + z^2)*(x*y + x*z + y*z)"
      ]
     },
     "metadata": {},
     "output_type": "display_data"
    },
    {
     "data": {
      "text/html": [
       "<html><script type=\"math/tex; mode=display\">\\newcommand{\\Bold}[1]{\\mathbf{#1}}{\\left(x^{2} + y^{2} + z^{2}\\right)} {\\left(x + y + z\\right)}^{2} - {\\left(x^{2} + y^{2} + z^{2}\\right)}^{2}</script></html>"
      ],
      "text/plain": [
       "(x^2 + y^2 + z^2)*(x + y + z)^2 - (x^2 + y^2 + z^2)^2"
      ]
     },
     "metadata": {},
     "output_type": "display_data"
    },
    {
     "data": {
      "text/html": [
       "<html><script type=\"math/tex; mode=display\">\\newcommand{\\Bold}[1]{\\mathbf{#1}}2 \\, x^{3} y + 2 \\, x y^{3} + 2 \\, x^{3} z + 2 \\, x^{2} y z + 2 \\, x y^{2} z + 2 \\, y^{3} z + 2 \\, x y z^{2} + 2 \\, x z^{3} + 2 \\, y z^{3}</script></html>"
      ],
      "text/plain": [
       "2*x^3*y + 2*x*y^3 + 2*x^3*z + 2*x^2*y*z + 2*x*y^2*z + 2*y^3*z + 2*x*y*z^2 + 2*x*z^3 + 2*y*z^3"
      ]
     },
     "metadata": {},
     "output_type": "display_data"
    },
    {
     "data": {
      "text/html": [
       "<html><script type=\"math/tex; mode=display\">\\newcommand{\\Bold}[1]{\\mathbf{#1}}2 \\, {\\left(x^{2} + y^{2} + z^{2}\\right)} {\\left(x y + x z + y z\\right)}</script></html>"
      ],
      "text/plain": [
       "2*(x^2 + y^2 + z^2)*(x*y + x*z + y*z)"
      ]
     },
     "metadata": {},
     "output_type": "display_data"
    }
   ],
   "source": [
    "expresion=ss*sq-sq*sq\n",
    "show(expresion)\n",
    "show(expresion.factor())\n",
    "show(expresion.simplify())\n",
    "show(expresion.expand())\n",
    "show(expresion.expand().factor())"
   ]
  },
  {
   "cell_type": "markdown",
   "metadata": {},
   "source": [
    "<h4>Expresiones de un tipo espec&iacute;fico: trig, exp, rational, log.</h4>\n",
    "<p>Los m&eacute;todos <span style=\"font-family: comic sans ms,sans-serif;\">.expand(), .simplify()</span> tienen variantes espec&iacute;ficas para algunas familias de expresiones.</p>"
   ]
  },
  {
   "cell_type": "code",
   "execution_count": 9,
   "metadata": {
    "collapsed": false
   },
   "outputs": [
    {
     "data": {
      "text/html": [
       "<html><script type=\"math/tex; mode=display\">\\newcommand{\\Bold}[1]{\\mathbf{#1}}\\left(\\sin\\left(2 \\, x + y\\right), \\cos\\left(y\\right) \\sin\\left(2 \\, x\\right) + \\cos\\left(2 \\, x\\right) \\sin\\left(y\\right)\\right)</script></html>"
      ],
      "text/plain": [
       "(sin(2*x + y), cos(y)*sin(2*x) + cos(2*x)*sin(y))"
      ]
     },
     "metadata": {},
     "output_type": "display_data"
    }
   ],
   "source": [
    "#\n",
    "seno2x=sin(2*x+y)\n",
    "show((seno2x.simplify(),seno2x.simplify_trig()))"
   ]
  },
  {
   "cell_type": "code",
   "execution_count": 10,
   "metadata": {
    "collapsed": false
   },
   "outputs": [
    {
     "data": {
      "text/html": [
       "<html><script type=\"math/tex; mode=display\">\\newcommand{\\Bold}[1]{\\mathbf{#1}}\\left(\\sin\\left(2 \\, x + y\\right), \\cos\\left(y\\right) \\sin\\left(2 \\, x\\right) + \\cos\\left(2 \\, x\\right) \\sin\\left(y\\right)\\right)</script></html>"
      ],
      "text/plain": [
       "(sin(2*x + y), cos(y)*sin(2*x) + cos(2*x)*sin(y))"
      ]
     },
     "metadata": {},
     "output_type": "display_data"
    }
   ],
   "source": [
    "show((seno2x.expand(),seno2x.expand_trig()))"
   ]
  },
  {
   "cell_type": "code",
   "execution_count": 11,
   "metadata": {
    "collapsed": false
   },
   "outputs": [
    {
     "name": "stderr",
     "output_type": "stream",
     "text": [
      "/usr/lib/sagemath/local/lib/python2.7/site-packages/sage/repl/ipython_kernel/__main__.py:3: DeprecationWarning: simplify_exp is deprecated. Please use canonicalize_radical instead.\n",
      "See http://trac.sagemath.org/11912 for details.\n",
      "  IPKernelApp.launch_instance(kernel_class=SageKernel)\n"
     ]
    },
    {
     "data": {
      "text/html": [
       "<html><script type=\"math/tex; mode=display\">\\newcommand{\\Bold}[1]{\\mathbf{#1}}\\left[{\\left(x^{2}\\right)}^{2 \\, a} x^{a}, x^{5 \\, a}, x^{a} {\\left| x \\right|}^{4 \\, a}\\right]</script></html>"
      ],
      "text/plain": [
       "[(x^2)^(2*a)*x^a, x^(5*a), x^a*abs(x)^(4*a)]"
      ]
     },
     "metadata": {},
     "output_type": "display_data"
    }
   ],
   "source": [
    "#\n",
    "potencia=x^a*xx^(2*a)\n",
    "show([potencia.simplify(),potencia.simplify_exp(),potencia.expand_log()])"
   ]
  },
  {
   "cell_type": "code",
   "execution_count": 12,
   "metadata": {
    "collapsed": false
   },
   "outputs": [
    {
     "data": {
      "text/html": [
       "<html><script type=\"math/tex; mode=display\">\\newcommand{\\Bold}[1]{\\mathbf{#1}}-\\frac{a - 2}{a^{2} - 2 \\, a + 1}</script></html>"
      ],
      "text/plain": [
       "-(a - 2)/(a^2 - 2*a + 1)"
      ]
     },
     "metadata": {},
     "output_type": "display_data"
    }
   ],
   "source": [
    "fracs=1/(1-a)+1/(1-a)^2\n",
    "show(fracs.simplify_rational())"
   ]
  },
  {
   "cell_type": "markdown",
   "metadata": {},
   "source": [
    "<p><strong>Ejercicio.</strong> Averiguar qu&eacute; m&eacute;todo nos ayuda a completar la siguiente tabla</p>\n",
    "<table style=\"border-color: #000000; border-width: 1px;\" border=\"1\" align=\"left\">\n",
    "<tbody>\n",
    "<tr>\n",
    "<td>$\\sin(a+b)$</td>\n",
    "<td>$\\sin a\\cos b+\\dots$</td>\n",
    "<td>$\\cos(a+b)$</td>\n",
    "<td>$\\dots\\quad\\dots$</td>\n",
    "</tr>\n",
    "<tr>\n",
    "<td>$\\tan(a+b)$</td>\n",
    "<td>$\\dots\\quad\\dots$</td>\n",
    "<td>&nbsp;</td>\n",
    "<td>&nbsp;</td>\n",
    "</tr>\n",
    "<tr>\n",
    "<td>$\\sin(a-b)$</td>\n",
    "<td>&nbsp;$\\dots\\quad\\dots$</td>\n",
    "<td>$\\cos(a-b)$</td>\n",
    "<td>&nbsp;$\\dots\\quad\\dots$</td>\n",
    "</tr>\n",
    "<tr>\n",
    "<td>$\\tan(a-b$</td>\n",
    "<td>&nbsp;$\\dots\\quad\\dots$</td>\n",
    "<td>&nbsp;</td>\n",
    "<td>&nbsp;</td>\n",
    "</tr>\n",
    "<tr>\n",
    "<td>$\\sin(2a)$</td>\n",
    "<td>&nbsp;$\\dots\\quad\\dots$</td>\n",
    "<td>$\\cos(2a)$</td>\n",
    "<td>&nbsp;$\\dots\\quad\\dots$</td>\n",
    "</tr>\n",
    "<tr>\n",
    "<td>$\\tan(2a)$</td>\n",
    "<td>&nbsp;$\\dots\\quad\\dots$</td>\n",
    "<td>&nbsp;</td>\n",
    "<td>&nbsp;</td>\n",
    "</tr>\n",
    "</tbody>\n",
    "</table>"
   ]
  },
  {
   "cell_type": "markdown",
   "metadata": {},
   "source": [
    "<h4>Sustituciones</h4>"
   ]
  },
  {
   "cell_type": "code",
   "execution_count": 13,
   "metadata": {
    "collapsed": false
   },
   "outputs": [
    {
     "name": "stdout",
     "output_type": "stream",
     "text": [
      "3\n",
      "36\n",
      "36\n"
     ]
    },
    {
     "data": {
      "text/html": [
       "<html><script type=\"math/tex; mode=display\">\\newcommand{\\Bold}[1]{\\mathbf{#1}}\\left(a x^{2} + b x + c, 2 \\, a c x + a x^{2} + c\\right)</script></html>"
      ],
      "text/plain": [
       "(a*x^2 + b*x + c, 2*a*c*x + a*x^2 + c)"
      ]
     },
     "metadata": {},
     "output_type": "display_data"
    }
   ],
   "source": [
    "#\n",
    "print s(x=1,y=1,z=1)\n",
    "print s2(x=1,y=2,z=3)\n",
    "print ss(y=2,x=1,z=3)\n",
    "bquad=quad(b=2*a*c)\n",
    "show((quad,bquad))"
   ]
  },
  {
   "cell_type": "code",
   "execution_count": 14,
   "metadata": {
    "collapsed": false
   },
   "outputs": [
    {
     "name": "stdout",
     "output_type": "stream",
     "text": [
      "3\n"
     ]
    },
    {
     "name": "stderr",
     "output_type": "stream",
     "text": [
      "/usr/lib/sagemath/local/lib/python2.7/site-packages/IPython/core/interactiveshell.py:2885: DeprecationWarning: Substitution using function-call syntax and unnamed arguments is deprecated and will be removed from a future release of Sage; you can use named arguments instead, like EXPR(x=..., y=...)\n",
      "See http://trac.sagemath.org/5930 for details.\n",
      "  exec(code_obj, self.user_global_ns, self.user_ns)\n"
     ]
    }
   ],
   "source": [
    "print s(1,1,1)"
   ]
  },
  {
   "cell_type": "markdown",
   "metadata": {},
   "source": [
    "<h4>Funciones simb&oacute;licas</h4>\n",
    "<p>A medio camino entre las expresiones simb&oacute;licas y las funciones de SAGE, las funciones simb&oacute;licas son expresiones simb&oacute;licas en las que  <span style=\"color: #ff0000;\"><strong>se fija el orden</strong></span> de las variables de entrada. Esto elimina la ambig&uuml;edad  sobre qu&eacute; variables se deben sustituir por qu&eacute; argumentos y permite  usarlas en sitios donde se espera una funci&oacute;n de python.</p>"
   ]
  },
  {
   "cell_type": "code",
   "execution_count": 15,
   "metadata": {
    "collapsed": false
   },
   "outputs": [
    {
     "data": {
      "text/plain": [
       "(6, 20)"
      ]
     },
     "execution_count": 15,
     "metadata": {},
     "output_type": "execute_result"
    }
   ],
   "source": [
    "#\n",
    "f(x,y,z)=x^2+2*y^2+3*z^2\n",
    "f(1,1,1),f(3,2,1)"
   ]
  },
  {
   "cell_type": "markdown",
   "metadata": {},
   "source": [
    "<p>Nota: el m&eacute;todo <span style=\"font-family: comic sans ms,sans-serif;\">.variables()</span> nos devuelve una tupla con las variables simb&oacute;licas del objeto a que se aplica.</p>"
   ]
  },
  {
   "cell_type": "code",
   "execution_count": 16,
   "metadata": {
    "collapsed": false
   },
   "outputs": [
    {
     "data": {
      "text/plain": [
       "(x, y, z)"
      ]
     },
     "execution_count": 16,
     "metadata": {},
     "output_type": "execute_result"
    }
   ],
   "source": [
    "f.variables(); s.variables()"
   ]
  },
  {
   "cell_type": "markdown",
   "metadata": {},
   "source": [
    "<p><strong>Ejercicio.</strong> Elaborar una tabla de valores para la funci&oacute;n $F:\\mathbb Z_4\\times\\mathbb Z_4\\longrightarrow\\mathbb Z_4$ definida por $F(x,y)=x-2y$.</p>"
   ]
  },
  {
   "cell_type": "code",
   "execution_count": 17,
   "metadata": {
    "collapsed": false
   },
   "outputs": [],
   "source": [
    "def tabla(m):\n",
    "    L = []\n",
    "    for x in srange(m):\n",
    "        for y in srange(m):\n",
    "            L.append((x,y,(x-2^y)%m))\n",
    "    return L"
   ]
  },
  {
   "cell_type": "markdown",
   "metadata": {},
   "source": [
    "<p>Con <span style=\"font-family: comic sans ms,sans-serif;\">point3d()</span> se puede visualizar la gr&aacute;fica de $F$. Consultar las ayudas <span style=\"font-family: comic sans ms,sans-serif;\">point3d?</span> y <span style=\"font-family: comic sans ms,sans-serif;\">point3d??</span>.</p>\n",
    "<p><strong>Ejercicio.</strong> Graficar $F$, distinguiendo las secciones: $F_j=\\{(x,y,F(x,y))\\,:\\,F(x,y)=j\\}$, $j=0,1,2,3$.</p>"
   ]
  },
  {
   "cell_type": "code",
   "execution_count": 18,
   "metadata": {
    "collapsed": false
   },
   "outputs": [
    {
     "data": {
      "text/html": [
       "\n",
       "<iframe srcdoc=\"\n",
       "<html>\n",
       "<head>\n",
       "  <style>\n",
       "    * {\n",
       "      margin: 0;\n",
       "      padding: 0;\n",
       "      overflow: hidden;\n",
       "    }\n",
       "    body, html {      \n",
       "      height: 100%;\n",
       "      width: 100%;\n",
       "    }\n",
       "  </style>\n",
       "  <script type=&quot;text/javascript&quot; src=&quot;/nbextensions/jsmol/JSmol.min.js&quot;></script>\n",
       "</head>\n",
       "<body>\n",
       "  <script type=&quot;text/javascript&quot;>\n",
       "    var script = [\n",
       "  'data &quot;model list&quot;',\n",
       "  '10',\n",
       "  'empty',\n",
       "  'Xx -3.0 -4.0 -3.0',\n",
       "  'Xx 0.0 -4.0 -3.0',\n",
       "  'Xx 3.0 -4.0 -3.0',\n",
       "  'Xx 4.0 -3.0 -3.0',\n",
       "  'Xx 4.0 0.0 -3.0',\n",
       "  'Xx 4.0 3.0 -3.0',\n",
       "  'Xx -4.0 -3.0 -3.0',\n",
       "  'Xx -4.0 -3.0 0.0',\n",
       "  'Xx -4.0 -3.0 3.0',\n",
       "  'Xx 5.5 5.5 5.5',\n",
       "  'end &quot;model list&quot;; show data',\n",
       "  'select *',\n",
       "  'wireframe off; spacefill off',\n",
       "  'set labelOffset 0 0',\n",
       "  'background [255,255,255]',\n",
       "  'spin OFF',\n",
       "  'moveto 0 -764 -346 -545 76.39',\n",
       "  'centerAt absolute {0 0 0}',\n",
       "  'zoom 100',\n",
       "  'frank OFF',\n",
       "  'set perspectivedepth ON',\n",
       "  'draw point_1 DIAMETER 5 {-3.0 -3.0 3.0}',\n",
       "  'color $point_1  [102,102,255]',\n",
       "  'draw point_2 DIAMETER 5 {-3.0 -1.0 1.0}',\n",
       "  'color $point_2  [102,102,255]',\n",
       "  'draw point_3 DIAMETER 5 {-3.0 1.0 -3.0}',\n",
       "  'color $point_3  [102,102,255]',\n",
       "  'draw point_4 DIAMETER 5 {-3.0 3.0 -3.0}',\n",
       "  'color $point_4  [102,102,255]',\n",
       "  'draw point_5 DIAMETER 5 {-1.0 -3.0 -3.0}',\n",
       "  'color $point_5  [102,102,255]',\n",
       "  'draw point_6 DIAMETER 5 {-1.0 -1.0 3.0}',\n",
       "  'color $point_6  [102,102,255]',\n",
       "  'draw point_7 DIAMETER 5 {-1.0 1.0 -1.0}',\n",
       "  'color $point_7  [102,102,255]',\n",
       "  'draw point_8 DIAMETER 5 {-1.0 3.0 -1.0}',\n",
       "  'color $point_8  [102,102,255]',\n",
       "  'draw point_9 DIAMETER 5 {1.0 -3.0 -1.0}',\n",
       "  'color $point_9  [102,102,255]',\n",
       "  'draw point_10 DIAMETER 5 {1.0 -1.0 -3.0}',\n",
       "  'color $point_10  [102,102,255]',\n",
       "  'draw point_11 DIAMETER 5 {1.0 1.0 1.0}',\n",
       "  'color $point_11  [102,102,255]',\n",
       "  'draw point_12 DIAMETER 5 {1.0 3.0 1.0}',\n",
       "  'color $point_12  [102,102,255]',\n",
       "  'draw point_13 DIAMETER 5 {3.0 -3.0 1.0}',\n",
       "  'color $point_13  [102,102,255]',\n",
       "  'draw point_14 DIAMETER 5 {3.0 -1.0 -1.0}',\n",
       "  'color $point_14  [102,102,255]',\n",
       "  'draw point_15 DIAMETER 5 {3.0 1.0 3.0}',\n",
       "  'color $point_15  [102,102,255]',\n",
       "  'draw point_16 DIAMETER 5 {3.0 3.0 3.0}',\n",
       "  'color $point_16  [102,102,255]',\n",
       "  'draw line_17 diameter 1 curve {-3.0 -3.0 -3.0}  {-3.0 3.0 -3.0} ',\n",
       "  'color $line_17 translucent 0.5 [0,0,0]',\n",
       "  'draw line_18 diameter 1 curve {-3.0 3.0 -3.0}  {3.0 3.0 -3.0} ',\n",
       "  'color $line_18 translucent 0.5 [0,0,0]',\n",
       "  'draw line_19 diameter 1 curve {3.0 3.0 -3.0}  {3.0 -3.0 -3.0} ',\n",
       "  'color $line_19 translucent 0.5 [0,0,0]',\n",
       "  'draw line_20 diameter 1 curve {3.0 -3.0 -3.0}  {-3.0 -3.0 -3.0} ',\n",
       "  'color $line_20 translucent 0.5 [0,0,0]',\n",
       "  'draw line_21 diameter 1 curve {-3.0 -3.0 -3.0}  {-3.0 -3.0 3.0} ',\n",
       "  'color $line_21 translucent 0.5 [0,0,0]',\n",
       "  'draw line_22 diameter 1 curve {-3.0 -3.0 3.0}  {-3.0 3.0 3.0} ',\n",
       "  'color $line_22 translucent 0.5 [0,0,0]',\n",
       "  'draw line_23 diameter 1 curve {-3.0 3.0 3.0}  {3.0 3.0 3.0} ',\n",
       "  'color $line_23 translucent 0.5 [0,0,0]',\n",
       "  'draw line_24 diameter 1 curve {3.0 3.0 3.0}  {3.0 -3.0 3.0} ',\n",
       "  'color $line_24 translucent 0.5 [0,0,0]',\n",
       "  'draw line_25 diameter 1 curve {3.0 -3.0 3.0}  {-3.0 -3.0 3.0} ',\n",
       "  'color $line_25 translucent 0.5 [0,0,0]',\n",
       "  'draw line_26 diameter 1 curve {-3.0 -3.0 3.0} ',\n",
       "  'color $line_26 translucent 0.5 [0,0,0]',\n",
       "  'draw line_27 diameter 1 curve {-3.0 3.0 -3.0}  {-3.0 3.0 3.0} ',\n",
       "  'color $line_27 translucent 0.5 [0,0,0]',\n",
       "  'draw line_28 diameter 1 curve {3.0 -3.0 -3.0}  {3.0 -3.0 3.0} ',\n",
       "  'color $line_28 translucent 0.5 [0,0,0]',\n",
       "  'draw line_29 diameter 1 curve {3.0 3.0 -3.0}  {3.0 3.0 3.0} ',\n",
       "  'color $line_29 translucent 0.5 [0,0,0]',\n",
       "  'select atomno = 1',\n",
       "  'color atom  [76,76,76]',\n",
       "  'label &quot;0.0&quot;',\n",
       "  'select atomno = 2',\n",
       "  'color atom  [76,76,76]',\n",
       "  'label &quot;1.5&quot;',\n",
       "  'select atomno = 3',\n",
       "  'color atom  [76,76,76]',\n",
       "  'label &quot;3.0&quot;',\n",
       "  'select atomno = 4',\n",
       "  'color atom  [76,76,76]',\n",
       "  'label &quot;0.0&quot;',\n",
       "  'select atomno = 5',\n",
       "  'color atom  [76,76,76]',\n",
       "  'label &quot;1.5&quot;',\n",
       "  'select atomno = 6',\n",
       "  'color atom  [76,76,76]',\n",
       "  'label &quot;3.0&quot;',\n",
       "  'select atomno = 7',\n",
       "  'color atom  [76,76,76]',\n",
       "  'label &quot;0.0&quot;',\n",
       "  'select atomno = 8',\n",
       "  'color atom  [76,76,76]',\n",
       "  'label &quot;1.5&quot;',\n",
       "  'select atomno = 9',\n",
       "  'color atom  [76,76,76]',\n",
       "  'label &quot;3.0&quot;',\n",
       "  'isosurface fullylit; pmesh o* fullylit; set antialiasdisplay on;',\n",
       "].join('\\n');;\n",
       "    var Info = {\n",
       "      width: '100%',\n",
       "      height: '500',\n",
       "      debug: false,\n",
       "      disableInitialConsole: true,   // very slow when used with inline mesh\n",
       "      color: '#3131ff',\n",
       "      addSelectionOptions: false,\n",
       "      use: 'HTML5',\n",
       "      j2sPath: '/nbextensions/jsmol/j2s',\n",
       "      script: script,\n",
       "    };\n",
       "    var jmolApplet0 = Jmol.getApplet('jmolApplet0', Info);\n",
       "  </script>\n",
       "</body>\n",
       "</html>\n",
       "\" \n",
       "        width=\"100%\"\n",
       "        height=\"500\"\n",
       "        style=\"border: 0;\">\n",
       "</iframe>\n"
      ],
      "text/plain": [
       "Graphics3d Object"
      ]
     },
     "execution_count": 18,
     "metadata": {},
     "output_type": "execute_result"
    }
   ],
   "source": [
    "point3d(tabla(4))"
   ]
  },
  {
   "cell_type": "code",
   "execution_count": 19,
   "metadata": {
    "collapsed": false
   },
   "outputs": [],
   "source": [
    "point3d?"
   ]
  },
  {
   "cell_type": "code",
   "execution_count": 20,
   "metadata": {
    "collapsed": false
   },
   "outputs": [],
   "source": [
    "g= point3d((4,3,2),size=20,color='red',opacity=.5)+point3d((4,1,2),size=20,color='blue',opacity=.5)"
   ]
  },
  {
   "cell_type": "code",
   "execution_count": 21,
   "metadata": {
    "collapsed": false
   },
   "outputs": [
    {
     "data": {
      "text/html": [
       "\n",
       "<iframe srcdoc=\"\n",
       "<html>\n",
       "<head>\n",
       "  <style>\n",
       "    * {\n",
       "      margin: 0;\n",
       "      padding: 0;\n",
       "      overflow: hidden;\n",
       "    }\n",
       "    body, html {      \n",
       "      height: 100%;\n",
       "      width: 100%;\n",
       "    }\n",
       "  </style>\n",
       "  <script type=&quot;text/javascript&quot; src=&quot;/nbextensions/jsmol/JSmol.min.js&quot;></script>\n",
       "</head>\n",
       "<body>\n",
       "  <script type=&quot;text/javascript&quot;>\n",
       "    var script = [\n",
       "  'data &quot;model list&quot;',\n",
       "  '10',\n",
       "  'empty',\n",
       "  'Xx -3.0 -4.0 -3.0',\n",
       "  'Xx 0.0 -4.0 -3.0',\n",
       "  'Xx 3.0 -4.0 -3.0',\n",
       "  'Xx 4.0 -3.0 -3.0',\n",
       "  'Xx 4.0 0.0 -3.0',\n",
       "  'Xx 4.0 3.0 -3.0',\n",
       "  'Xx -4.0 -3.0 -3.0',\n",
       "  'Xx -4.0 -3.0 0.0',\n",
       "  'Xx -4.0 -3.0 3.0',\n",
       "  'Xx 5.5 5.5 5.5',\n",
       "  'end &quot;model list&quot;; show data',\n",
       "  'select *',\n",
       "  'wireframe off; spacefill off',\n",
       "  'set labelOffset 0 0',\n",
       "  'background [255,255,255]',\n",
       "  'spin OFF',\n",
       "  'moveto 0 -764 -346 -545 76.39',\n",
       "  'centerAt absolute {0 0 0}',\n",
       "  'zoom 100',\n",
       "  'frank OFF',\n",
       "  'set perspectivedepth ON',\n",
       "  'draw point_1 DIAMETER 20 {0.0 3.0 0.0}',\n",
       "  'color $point_1 translucent 0.5 [255,0,0]',\n",
       "  'draw point_2 DIAMETER 20 {0.0 -3.0 0.0}',\n",
       "  'color $point_2 translucent 0.5 [0,0,255]',\n",
       "  'draw line_3 diameter 1 curve {-3.0 -3.0 -3.0}  {-3.0 3.0 -3.0} ',\n",
       "  'color $line_3 translucent 0.5 [0,0,0]',\n",
       "  'draw line_4 diameter 1 curve {-3.0 3.0 -3.0}  {3.0 3.0 -3.0} ',\n",
       "  'color $line_4 translucent 0.5 [0,0,0]',\n",
       "  'draw line_5 diameter 1 curve {3.0 3.0 -3.0}  {3.0 -3.0 -3.0} ',\n",
       "  'color $line_5 translucent 0.5 [0,0,0]',\n",
       "  'draw line_6 diameter 1 curve {3.0 -3.0 -3.0}  {-3.0 -3.0 -3.0} ',\n",
       "  'color $line_6 translucent 0.5 [0,0,0]',\n",
       "  'draw line_7 diameter 1 curve {-3.0 -3.0 -3.0}  {-3.0 -3.0 3.0} ',\n",
       "  'color $line_7 translucent 0.5 [0,0,0]',\n",
       "  'draw line_8 diameter 1 curve {-3.0 -3.0 3.0}  {-3.0 3.0 3.0} ',\n",
       "  'color $line_8 translucent 0.5 [0,0,0]',\n",
       "  'draw line_9 diameter 1 curve {-3.0 3.0 3.0}  {3.0 3.0 3.0} ',\n",
       "  'color $line_9 translucent 0.5 [0,0,0]',\n",
       "  'draw line_10 diameter 1 curve {3.0 3.0 3.0}  {3.0 -3.0 3.0} ',\n",
       "  'color $line_10 translucent 0.5 [0,0,0]',\n",
       "  'draw line_11 diameter 1 curve {3.0 -3.0 3.0}  {-3.0 -3.0 3.0} ',\n",
       "  'color $line_11 translucent 0.5 [0,0,0]',\n",
       "  'draw line_12 diameter 1 curve {-3.0 -3.0 3.0} ',\n",
       "  'color $line_12 translucent 0.5 [0,0,0]',\n",
       "  'draw line_13 diameter 1 curve {-3.0 3.0 -3.0}  {-3.0 3.0 3.0} ',\n",
       "  'color $line_13 translucent 0.5 [0,0,0]',\n",
       "  'draw line_14 diameter 1 curve {3.0 -3.0 -3.0}  {3.0 -3.0 3.0} ',\n",
       "  'color $line_14 translucent 0.5 [0,0,0]',\n",
       "  'draw line_15 diameter 1 curve {3.0 3.0 -3.0}  {3.0 3.0 3.0} ',\n",
       "  'color $line_15 translucent 0.5 [0,0,0]',\n",
       "  'select atomno = 1',\n",
       "  'color atom  [76,76,76]',\n",
       "  'label &quot;3.0&quot;',\n",
       "  'select atomno = 2',\n",
       "  'color atom  [76,76,76]',\n",
       "  'label &quot;4.0&quot;',\n",
       "  'select atomno = 3',\n",
       "  'color atom  [76,76,76]',\n",
       "  'label &quot;5.0&quot;',\n",
       "  'select atomno = 4',\n",
       "  'color atom  [76,76,76]',\n",
       "  'label &quot;1.0&quot;',\n",
       "  'select atomno = 5',\n",
       "  'color atom  [76,76,76]',\n",
       "  'label &quot;2.0&quot;',\n",
       "  'select atomno = 6',\n",
       "  'color atom  [76,76,76]',\n",
       "  'label &quot;3.0&quot;',\n",
       "  'select atomno = 7',\n",
       "  'color atom  [76,76,76]',\n",
       "  'label &quot;1.0&quot;',\n",
       "  'select atomno = 8',\n",
       "  'color atom  [76,76,76]',\n",
       "  'label &quot;2.0&quot;',\n",
       "  'select atomno = 9',\n",
       "  'color atom  [76,76,76]',\n",
       "  'label &quot;3.0&quot;',\n",
       "  'isosurface fullylit; pmesh o* fullylit; set antialiasdisplay on;',\n",
       "].join('\\n');;\n",
       "    var Info = {\n",
       "      width: '100%',\n",
       "      height: '500',\n",
       "      debug: false,\n",
       "      disableInitialConsole: true,   // very slow when used with inline mesh\n",
       "      color: '#3131ff',\n",
       "      addSelectionOptions: false,\n",
       "      use: 'HTML5',\n",
       "      j2sPath: '/nbextensions/jsmol/j2s',\n",
       "      script: script,\n",
       "    };\n",
       "    var jmolApplet0 = Jmol.getApplet('jmolApplet0', Info);\n",
       "  </script>\n",
       "</body>\n",
       "</html>\n",
       "\" \n",
       "        width=\"100%\"\n",
       "        height=\"500\"\n",
       "        style=\"border: 0;\">\n",
       "</iframe>\n"
      ],
      "text/plain": [
       "Graphics3d Object"
      ]
     },
     "metadata": {},
     "output_type": "display_data"
    }
   ],
   "source": [
    "g.show()"
   ]
  },
  {
   "cell_type": "code",
   "execution_count": 22,
   "metadata": {
    "collapsed": false
   },
   "outputs": [],
   "source": [
    "def grafica(m):\n",
    "    L = []\n",
    "    for x in srange(m):\n",
    "        for y in srange(m):\n",
    "            r = (((x-2^y)%m)/m).n()\n",
    "            L.append(point3d((x,y,(x-2^y)%m),size=15,rgbcolor=(r,2*r,3*r)))\n",
    "    return L"
   ]
  },
  {
   "cell_type": "code",
   "execution_count": 23,
   "metadata": {
    "collapsed": false
   },
   "outputs": [
    {
     "data": {
      "text/html": [
       "\n",
       "<iframe srcdoc=\"\n",
       "<html>\n",
       "<head>\n",
       "  <style>\n",
       "    * {\n",
       "      margin: 0;\n",
       "      padding: 0;\n",
       "      overflow: hidden;\n",
       "    }\n",
       "    body, html {      \n",
       "      height: 100%;\n",
       "      width: 100%;\n",
       "    }\n",
       "  </style>\n",
       "  <script type=&quot;text/javascript&quot; src=&quot;/nbextensions/jsmol/JSmol.min.js&quot;></script>\n",
       "</head>\n",
       "<body>\n",
       "  <script type=&quot;text/javascript&quot;>\n",
       "    var script = [\n",
       "  'data &quot;model list&quot;',\n",
       "  '10',\n",
       "  'empty',\n",
       "  'Xx -3.0 -4.0 -3.0',\n",
       "  'Xx 0.0 -4.0 -3.0',\n",
       "  'Xx 3.0 -4.0 -3.0',\n",
       "  'Xx 4.0 -3.0 -3.0',\n",
       "  'Xx 4.0 0.0 -3.0',\n",
       "  'Xx 4.0 3.0 -3.0',\n",
       "  'Xx -4.0 -3.0 -3.0',\n",
       "  'Xx -4.0 -3.0 0.0',\n",
       "  'Xx -4.0 -3.0 3.0',\n",
       "  'Xx 5.5 5.5 5.5',\n",
       "  'end &quot;model list&quot;; show data',\n",
       "  'select *',\n",
       "  'wireframe off; spacefill off',\n",
       "  'set labelOffset 0 0',\n",
       "  'background [255,255,255]',\n",
       "  'spin OFF',\n",
       "  'moveto 0 -764 -346 -545 76.39',\n",
       "  'centerAt absolute {0 0 0}',\n",
       "  'zoom 100',\n",
       "  'frank OFF',\n",
       "  'set perspectivedepth ON',\n",
       "  'draw point_1 DIAMETER 15 {-3.0 -3.0 3.0}',\n",
       "  'color $point_1  [191,382,573]',\n",
       "  'draw point_2 DIAMETER 15 {-3.0 -1.0 1.0}',\n",
       "  'color $point_2  [127,255,382]',\n",
       "  'draw point_3 DIAMETER 15 {-3.0 1.0 -3.0}',\n",
       "  'color $point_3  [0,0,0]',\n",
       "  'draw point_4 DIAMETER 15 {-3.0 3.0 -3.0}',\n",
       "  'color $point_4  [0,0,0]',\n",
       "  'draw point_5 DIAMETER 15 {-1.0 -3.0 -3.0}',\n",
       "  'color $point_5  [0,0,0]',\n",
       "  'draw point_6 DIAMETER 15 {-1.0 -1.0 3.0}',\n",
       "  'color $point_6  [191,382,573]',\n",
       "  'draw point_7 DIAMETER 15 {-1.0 1.0 -1.0}',\n",
       "  'color $point_7  [63,127,191]',\n",
       "  'draw point_8 DIAMETER 15 {-1.0 3.0 -1.0}',\n",
       "  'color $point_8  [63,127,191]',\n",
       "  'draw point_9 DIAMETER 15 {1.0 -3.0 -1.0}',\n",
       "  'color $point_9  [63,127,191]',\n",
       "  'draw point_10 DIAMETER 15 {1.0 -1.0 -3.0}',\n",
       "  'color $point_10  [0,0,0]',\n",
       "  'draw point_11 DIAMETER 15 {1.0 1.0 1.0}',\n",
       "  'color $point_11  [127,255,382]',\n",
       "  'draw point_12 DIAMETER 15 {1.0 3.0 1.0}',\n",
       "  'color $point_12  [127,255,382]',\n",
       "  'draw point_13 DIAMETER 15 {3.0 -3.0 1.0}',\n",
       "  'color $point_13  [127,255,382]',\n",
       "  'draw point_14 DIAMETER 15 {3.0 -1.0 -1.0}',\n",
       "  'color $point_14  [63,127,191]',\n",
       "  'draw point_15 DIAMETER 15 {3.0 1.0 3.0}',\n",
       "  'color $point_15  [191,382,573]',\n",
       "  'draw point_16 DIAMETER 15 {3.0 3.0 3.0}',\n",
       "  'color $point_16  [191,382,573]',\n",
       "  'draw line_17 diameter 1 curve {-3.0 -3.0 -3.0}  {-3.0 3.0 -3.0} ',\n",
       "  'color $line_17 translucent 0.5 [0,0,0]',\n",
       "  'draw line_18 diameter 1 curve {-3.0 3.0 -3.0}  {3.0 3.0 -3.0} ',\n",
       "  'color $line_18 translucent 0.5 [0,0,0]',\n",
       "  'draw line_19 diameter 1 curve {3.0 3.0 -3.0}  {3.0 -3.0 -3.0} ',\n",
       "  'color $line_19 translucent 0.5 [0,0,0]',\n",
       "  'draw line_20 diameter 1 curve {3.0 -3.0 -3.0}  {-3.0 -3.0 -3.0} ',\n",
       "  'color $line_20 translucent 0.5 [0,0,0]',\n",
       "  'draw line_21 diameter 1 curve {-3.0 -3.0 -3.0}  {-3.0 -3.0 3.0} ',\n",
       "  'color $line_21 translucent 0.5 [0,0,0]',\n",
       "  'draw line_22 diameter 1 curve {-3.0 -3.0 3.0}  {-3.0 3.0 3.0} ',\n",
       "  'color $line_22 translucent 0.5 [0,0,0]',\n",
       "  'draw line_23 diameter 1 curve {-3.0 3.0 3.0}  {3.0 3.0 3.0} ',\n",
       "  'color $line_23 translucent 0.5 [0,0,0]',\n",
       "  'draw line_24 diameter 1 curve {3.0 3.0 3.0}  {3.0 -3.0 3.0} ',\n",
       "  'color $line_24 translucent 0.5 [0,0,0]',\n",
       "  'draw line_25 diameter 1 curve {3.0 -3.0 3.0}  {-3.0 -3.0 3.0} ',\n",
       "  'color $line_25 translucent 0.5 [0,0,0]',\n",
       "  'draw line_26 diameter 1 curve {-3.0 -3.0 3.0} ',\n",
       "  'color $line_26 translucent 0.5 [0,0,0]',\n",
       "  'draw line_27 diameter 1 curve {-3.0 3.0 -3.0}  {-3.0 3.0 3.0} ',\n",
       "  'color $line_27 translucent 0.5 [0,0,0]',\n",
       "  'draw line_28 diameter 1 curve {3.0 -3.0 -3.0}  {3.0 -3.0 3.0} ',\n",
       "  'color $line_28 translucent 0.5 [0,0,0]',\n",
       "  'draw line_29 diameter 1 curve {3.0 3.0 -3.0}  {3.0 3.0 3.0} ',\n",
       "  'color $line_29 translucent 0.5 [0,0,0]',\n",
       "  'select atomno = 1',\n",
       "  'color atom  [76,76,76]',\n",
       "  'label &quot;0.0&quot;',\n",
       "  'select atomno = 2',\n",
       "  'color atom  [76,76,76]',\n",
       "  'label &quot;1.5&quot;',\n",
       "  'select atomno = 3',\n",
       "  'color atom  [76,76,76]',\n",
       "  'label &quot;3.0&quot;',\n",
       "  'select atomno = 4',\n",
       "  'color atom  [76,76,76]',\n",
       "  'label &quot;0.0&quot;',\n",
       "  'select atomno = 5',\n",
       "  'color atom  [76,76,76]',\n",
       "  'label &quot;1.5&quot;',\n",
       "  'select atomno = 6',\n",
       "  'color atom  [76,76,76]',\n",
       "  'label &quot;3.0&quot;',\n",
       "  'select atomno = 7',\n",
       "  'color atom  [76,76,76]',\n",
       "  'label &quot;0.0&quot;',\n",
       "  'select atomno = 8',\n",
       "  'color atom  [76,76,76]',\n",
       "  'label &quot;1.5&quot;',\n",
       "  'select atomno = 9',\n",
       "  'color atom  [76,76,76]',\n",
       "  'label &quot;3.0&quot;',\n",
       "  'isosurface fullylit; pmesh o* fullylit; set antialiasdisplay on;',\n",
       "].join('\\n');;\n",
       "    var Info = {\n",
       "      width: '100%',\n",
       "      height: '500',\n",
       "      debug: false,\n",
       "      disableInitialConsole: true,   // very slow when used with inline mesh\n",
       "      color: '#3131ff',\n",
       "      addSelectionOptions: false,\n",
       "      use: 'HTML5',\n",
       "      j2sPath: '/nbextensions/jsmol/j2s',\n",
       "      script: script,\n",
       "    };\n",
       "    var jmolApplet0 = Jmol.getApplet('jmolApplet0', Info);\n",
       "  </script>\n",
       "</body>\n",
       "</html>\n",
       "\" \n",
       "        width=\"100%\"\n",
       "        height=\"500\"\n",
       "        style=\"border: 0;\">\n",
       "</iframe>\n"
      ],
      "text/plain": [
       "Graphics3d Object"
      ]
     },
     "metadata": {},
     "output_type": "display_data"
    }
   ],
   "source": [
    "sum(grafica(4)).show()"
   ]
  },
  {
   "cell_type": "markdown",
   "metadata": {},
   "source": [
    "<h4>Evaluaci&oacute;n de relaciones</h4>\n",
    "<p>Una relaci&oacute;n directa, con conectores como ==, &gt;=, &lt;, etc. da como respuesta la misma relaci&oacute;n. Para obtener una respuesta l&oacute;gica debemos aplicar la funci&oacute;n <span style=\"font-family: comic sans ms,sans-serif;\">bool()</span>.</p>"
   ]
  },
  {
   "cell_type": "code",
   "execution_count": 24,
   "metadata": {
    "collapsed": false
   },
   "outputs": [
    {
     "name": "stdout",
     "output_type": "stream",
     "text": [
      "(x + y + z)^2 == (x + y + z)^2\n",
      "True\n"
     ]
    }
   ],
   "source": [
    "#\n",
    "print ss==s2\n",
    "print bool(ss==s2)"
   ]
  },
  {
   "cell_type": "markdown",
   "metadata": {},
   "source": [
    "<p>Las posibles respuestas True, False, no son sim&eacute;tricas.</p>\n",
    "<p>True: SAGE puede demostrar que la relaci&oacute;n es cierta para cualesquiera valores de las variables</p>\n",
    "<p>False: La negaci&oacute;n de lo anterior, es decir, SAGE <span style=\"color: #ff0000;\"><strong>no</strong></span> puede demostrar que la relaci&oacute;n sea cierta para cualesquiera valores de las variables. Por supuesto puede ocurrir que haya encontrado una colecci&oacute;n de valores para los que la relaci&oacute;n no se verifica. En este caso <span style=\"font-family: comic sans ms,sans-serif;\">bool</span> de la negaci&oacute;n de la proposici&oacute;n dar&aacute; True.</p>"
   ]
  },
  {
   "cell_type": "markdown",
   "metadata": {},
   "source": [
    "<h4>Resoluci&oacute;n de ecuaciones y de sistemas</h4>\n",
    "<p>Uso de <span style=\"font-family: comic sans ms,sans-serif;\">solve(), .find_root()<br /></span></p>"
   ]
  },
  {
   "cell_type": "code",
   "execution_count": 25,
   "metadata": {
    "collapsed": false
   },
   "outputs": [
    {
     "data": {
      "text/plain": [
       "a*x^2 + b*x + c"
      ]
     },
     "execution_count": 25,
     "metadata": {},
     "output_type": "execute_result"
    }
   ],
   "source": [
    "quad"
   ]
  },
  {
   "cell_type": "code",
   "execution_count": 26,
   "metadata": {
    "collapsed": false
   },
   "outputs": [
    {
     "data": {
      "text/plain": [
       "[x == -1]"
      ]
     },
     "execution_count": 26,
     "metadata": {},
     "output_type": "execute_result"
    }
   ],
   "source": [
    "quad121=quad(a=1,b=2,c=1)\n",
    "solve(quad121==0,x)"
   ]
  },
  {
   "cell_type": "code",
   "execution_count": 27,
   "metadata": {
    "collapsed": false
   },
   "outputs": [
    {
     "ename": "RuntimeError",
     "evalue": "f appears to have no zero on the interval",
     "output_type": "error",
     "traceback": [
      "\u001b[1;31m---------------------------------------------------------------------------\u001b[0m",
      "\u001b[1;31mRuntimeError\u001b[0m                              Traceback (most recent call last)",
      "\u001b[1;32m<ipython-input-27-184ef4a1f639>\u001b[0m in \u001b[0;36m<module>\u001b[1;34m()\u001b[0m\n\u001b[1;32m----> 1\u001b[1;33m \u001b[0mquad121\u001b[0m\u001b[1;33m.\u001b[0m\u001b[0mfind_root\u001b[0m\u001b[1;33m(\u001b[0m\u001b[1;33m-\u001b[0m\u001b[0mRealNumber\u001b[0m\u001b[1;33m(\u001b[0m\u001b[1;34m'.5'\u001b[0m\u001b[1;33m)\u001b[0m\u001b[1;33m,\u001b[0m\u001b[0mRealNumber\u001b[0m\u001b[1;33m(\u001b[0m\u001b[1;34m'.5'\u001b[0m\u001b[1;33m)\u001b[0m\u001b[1;33m)\u001b[0m\u001b[1;33m\u001b[0m\u001b[0m\n\u001b[0m",
      "\u001b[1;32msage/symbolic/expression.pyx\u001b[0m in \u001b[0;36msage.symbolic.expression.Expression.find_root (/usr/lib/sagemath//src/build/cythonized/sage/symbolic/expression.cpp:57525)\u001b[1;34m()\u001b[0m\n",
      "\u001b[1;32m/usr/lib/sagemath/local/lib/python2.7/site-packages/sage/numerical/optimize.py\u001b[0m in \u001b[0;36mfind_root\u001b[1;34m(f, a, b, xtol, rtol, maxiter, full_output)\u001b[0m\n\u001b[0;32m     92\u001b[0m                 \u001b[1;32melse\u001b[0m\u001b[1;33m:\u001b[0m\u001b[1;33m\u001b[0m\u001b[0m\n\u001b[0;32m     93\u001b[0m                     \u001b[1;32mreturn\u001b[0m \u001b[0ms\u001b[0m\u001b[1;33m\u001b[0m\u001b[0m\n\u001b[1;32m---> 94\u001b[1;33m             \u001b[1;32mraise\u001b[0m \u001b[0mRuntimeError\u001b[0m\u001b[1;33m(\u001b[0m\u001b[1;34m\"f appears to have no zero on the interval\"\u001b[0m\u001b[1;33m)\u001b[0m\u001b[1;33m\u001b[0m\u001b[0m\n\u001b[0m\u001b[0;32m     95\u001b[0m         \u001b[1;31m# If we found such an s, then we just instead find\u001b[0m\u001b[1;33m\u001b[0m\u001b[1;33m\u001b[0m\u001b[0m\n\u001b[0;32m     96\u001b[0m         \u001b[1;31m# a root between left and s or s and right.\u001b[0m\u001b[1;33m\u001b[0m\u001b[1;33m\u001b[0m\u001b[0m\n",
      "\u001b[1;31mRuntimeError\u001b[0m: f appears to have no zero on the interval"
     ]
    }
   ],
   "source": [
    "quad121.find_root(-.5,.5)"
   ]
  },
  {
   "cell_type": "code",
   "execution_count": 28,
   "metadata": {
    "collapsed": false
   },
   "outputs": [
    {
     "data": {
      "text/plain": [
       "-1.0"
      ]
     },
     "execution_count": 28,
     "metadata": {},
     "output_type": "execute_result"
    }
   ],
   "source": [
    "quad121.find_root(-2,.5)"
   ]
  },
  {
   "cell_type": "code",
   "execution_count": 29,
   "metadata": {
    "collapsed": false
   },
   "outputs": [
    {
     "data": {
      "image/png": "[encoded data removed]",
      "text/plain": [
       "Graphics object consisting of 1 graphics primitive"
      ]
     },
     "execution_count": 29,
     "metadata": {},
     "output_type": "execute_result"
    }
   ],
   "source": [
    "plot(quad121,(x,-2,1))"
   ]
  },
  {
   "cell_type": "code",
   "execution_count": 30,
   "metadata": {
    "collapsed": false
   },
   "outputs": [
    {
     "data": {
      "text/plain": [
       "[x == -1/10*sqrt(110) - 1, x == 1/10*sqrt(110) - 1]"
      ]
     },
     "execution_count": 30,
     "metadata": {},
     "output_type": "execute_result"
    }
   ],
   "source": [
    "#\n",
    "solucion=solve(quad121==1.1,x)\n",
    "solucion"
   ]
  },
  {
   "cell_type": "code",
   "execution_count": 31,
   "metadata": {
    "collapsed": false
   },
   "outputs": [
    {
     "data": {
      "text/plain": [
       "(-2.0488088481701516, 0.04880884817015161)"
      ]
     },
     "execution_count": 31,
     "metadata": {},
     "output_type": "execute_result"
    }
   ],
   "source": [
    "find_root(quad121-1.1,-5,0),find_root(quad121-1.1,0,5)"
   ]
  },
  {
   "cell_type": "code",
   "execution_count": 32,
   "metadata": {
    "collapsed": false
   },
   "outputs": [
    {
     "data": {
      "text/plain": [
       "[x == -1/10*sqrt(110) - 1, x == 1/10*sqrt(110) - 1]"
      ]
     },
     "execution_count": 32,
     "metadata": {},
     "output_type": "execute_result"
    }
   ],
   "source": [
    "f(x)=x^2+2*x+1\n",
    "solucion2=solve(f-1.1==0,x)\n",
    "solucion2"
   ]
  },
  {
   "cell_type": "markdown",
   "metadata": {},
   "source": [
    "<p><strong>Ejercicio.</strong> Encontrar soluciones a la ecuaci&oacute;n</p>\n",
    "<p>$$\\sin(a+b)=\\tan(a-b)$$</p>\n",
    "<p>para los siguientes valores de $a$: $0$, $\\pi$, $\\pi/2$ y $3\\pi/4$.</p>"
   ]
  },
  {
   "cell_type": "markdown",
   "metadata": {},
   "source": [
    "<h4>Sistemas</h4>"
   ]
  },
  {
   "cell_type": "code",
   "execution_count": 33,
   "metadata": {
    "collapsed": false
   },
   "outputs": [
    {
     "data": {
      "text/plain": [
       "[[x == (1/5), y == (2/5), z == (3/5)]]"
      ]
     },
     "execution_count": 33,
     "metadata": {},
     "output_type": "execute_result"
    }
   ],
   "source": [
    "eq1 = 2*x       +z ==  1\n",
    "eq2 =   x +  y - z ==  0\n",
    "eq3 =  -x -2*y      == -1\n",
    "X=solve([eq1,eq2,eq3],x,y,z)\n",
    "X"
   ]
  },
  {
   "cell_type": "code",
   "execution_count": 34,
   "metadata": {
    "collapsed": false
   },
   "outputs": [
    {
     "data": {
      "text/plain": [
       "x + y + z == (6/5)"
      ]
     },
     "execution_count": 34,
     "metadata": {},
     "output_type": "execute_result"
    }
   ],
   "source": [
    "sum([X[0][j] for j in range(len(X[0]))])"
   ]
  },
  {
   "cell_type": "code",
   "execution_count": 35,
   "metadata": {
    "collapsed": false
   },
   "outputs": [
    {
     "name": "stdout",
     "output_type": "stream",
     "text": [
      "[\n",
      "[x == -(a - 2)/(a + 4), y == (a + 1)/(a + 4), z == 3/(a + 4)]\n",
      "]\n"
     ]
    }
   ],
   "source": [
    "eq1 = 2*x       +a*z ==  1\n",
    "eq2 =   x +  y - z ==  0\n",
    "eq3 =  -x -2*y      == -1\n",
    "X=solve([eq1,eq2,eq3],x,y,z)\n",
    "print X"
   ]
  },
  {
   "cell_type": "code",
   "execution_count": 36,
   "metadata": {
    "collapsed": false
   },
   "outputs": [
    {
     "data": {
      "text/plain": [
       "x + y + z == (a + 1)/(a + 4) - (a - 2)/(a + 4) + 3/(a + 4)"
      ]
     },
     "execution_count": 36,
     "metadata": {},
     "output_type": "execute_result"
    }
   ],
   "source": [
    "SOL=X[0][0]+X[0][1]+X[0][2]\n",
    "SOL"
   ]
  },
  {
   "cell_type": "code",
   "execution_count": 37,
   "metadata": {
    "collapsed": false
   },
   "outputs": [
    {
     "data": {
      "text/plain": [
       "x + y + z == 6/(a + 4)"
      ]
     },
     "execution_count": 37,
     "metadata": {},
     "output_type": "execute_result"
    }
   ],
   "source": [
    "SOL.factor()"
   ]
  }
 ],
 "metadata": {
  "kernelspec": {
   "display_name": "SageMath 7.2",
   "language": "",
   "name": "sagemath"
  },
  "language_info": {
   "codemirror_mode": {
    "name": "ipython",
    "version": 2
   },
   "file_extension": ".py",
   "mimetype": "text/x-python",
   "name": "python",
   "nbconvert_exporter": "python",
   "pygments_lexer": "ipython2",
   "version": "2.7.10"
  }
 },
 "nbformat": 4,
 "nbformat_minor": 0
}
