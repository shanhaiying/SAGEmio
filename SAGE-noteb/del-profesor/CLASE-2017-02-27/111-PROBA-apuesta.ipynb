{
 "cells": [
  {
   "cell_type": "markdown",
   "metadata": {},
   "source": [
    "<p>En este hipot&eacute;tico juego de casino apostamos un Euro a la posibilidad de que en $1000$ lanzamientos de una moneda correcta se obtengan $10$&nbsp; caras seguidas. Supongamos que en caso de ganar el casino nos da como premio $X$ Euros y queremos saber si el valor de $X$ hace que el juego sea justo. En realidad los juegos de los casinos siempre les benefician a ellos, y por tanto son injustos para el jugador que si juega mucho siempre acabar&aacute; arruinado,&nbsp; porque si no los casinos no ser&iacute;an rentables y desaparecer&iacute;an.</p>"
   ]
  },
  {
   "cell_type": "code",
   "execution_count": 1,
   "metadata": {
    "collapsed": false
   },
   "outputs": [],
   "source": [
    "def cadena(L):\n",
    "    C = ''\n",
    "    for item in L:\n",
    "        C += str(item)\n",
    "    return C"
   ]
  },
  {
   "cell_type": "code",
   "execution_count": 2,
   "metadata": {
    "collapsed": false
   },
   "outputs": [],
   "source": [
    "def jugada():\n",
    "    return [randint(0,1) for muda in srange(10^3)]"
   ]
  },
  {
   "cell_type": "code",
   "execution_count": 3,
   "metadata": {
    "collapsed": false
   },
   "outputs": [],
   "source": [
    "def probabilidad(N,k):\n",
    "    cont = 0\n",
    "    for muda in srange(N):\n",
    "        #if muda%10 == 0:\n",
    "        #    print muda\n",
    "        C = cadena(jugada())\n",
    "        if cadena([1]*k) in C:\n",
    "            cont += 1\n",
    "    return (cont/N).n()"
   ]
  },
  {
   "cell_type": "code",
   "execution_count": 4,
   "metadata": {
    "collapsed": false
   },
   "outputs": [
    {
     "data": {
      "text/plain": [
       "[0.411000000000000,\n",
       " 0.396000000000000,\n",
       " 0.407000000000000,\n",
       " 0.392000000000000,\n",
       " 0.393000000000000,\n",
       " 0.369000000000000,\n",
       " 0.400000000000000,\n",
       " 0.386000000000000,\n",
       " 0.370000000000000,\n",
       " 0.391000000000000]"
      ]
     },
     "execution_count": 4,
     "metadata": {},
     "output_type": "execute_result"
    }
   ],
   "source": [
    "[probabilidad(10^3,10) for muda in srange(10)]"
   ]
  },
  {
   "cell_type": "code",
   "execution_count": 5,
   "metadata": {
    "collapsed": false
   },
   "outputs": [
    {
     "data": {
      "text/plain": [
       "0.383900000000000"
      ]
     },
     "execution_count": 5,
     "metadata": {},
     "output_type": "execute_result"
    }
   ],
   "source": [
    "sum([probabilidad(10^3,10) for muda in srange(10)])/10"
   ]
  },
  {
   "cell_type": "code",
   "execution_count": 6,
   "metadata": {
    "collapsed": false
   },
   "outputs": [
    {
     "data": {
      "text/plain": [
       "2.63157894736842"
      ]
     },
     "execution_count": 6,
     "metadata": {},
     "output_type": "execute_result"
    }
   ],
   "source": [
    "1/0.38"
   ]
  },
  {
   "cell_type": "markdown",
   "metadata": {},
   "source": [
    "<p>Si apuesto un Euro y la probabilidad de ganar es $0{.}38$ el premino en caso de ganar debe ser $1/0.38=2.63157894736842$ Euros para que el juego sea justo. Si jugamos $100$ veces gasto $100$ Euros y obtengo un premio que es $0.38\\times (1/0{.}38) \\times 100=100$ mientras que el casino obtiene $100$ Euros y debe darme como premio los $100$ Euros que he ganado.</p>\n",
    "<p>Es claro que si los juegos de azar fueran juegos justos no habr&iacute;a casinos porque no ganar&iacute;an nada. Lo sorprendente es que haya jugadores teniendo en cuenta que todos los juegos de azar benefician ampliamente al casino. Por ejemplo, en el caso que estamos estudiando el premio, en caso de obtener 10 caras seguidas,&nbsp; podr&iacute;a ser de $2$ Euros en lugar de $2{.}63157894736842$ euros, de forma que si jugamos $100$ veces podr&iacute;amos obtener, aproximadamente, $0{.}38\\times 2\\times 100=76$ Euros.</p>"
   ]
  }
 ],
 "metadata": {
  "kernelspec": {
   "display_name": "SageMath 7.3",
   "language": "",
   "name": "sagemath"
  },
  "language_info": {
   "codemirror_mode": {
    "name": "ipython",
    "version": 2
   },
   "file_extension": ".py",
   "mimetype": "text/x-python",
   "name": "python",
   "nbconvert_exporter": "python",
   "pygments_lexer": "ipython2",
   "version": "2.7.10"
  }
 },
 "nbformat": 4,
 "nbformat_minor": 0
}
