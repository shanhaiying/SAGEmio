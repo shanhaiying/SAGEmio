{
 "nbformat": 4, 
 "cells": [
  {
   "execution_count": 1, 
   "cell_type": "code", 
   "source": [
    "def subint(f,a,b):\n", 
    "    if f(x=a)*f(x=b) > 0:\n", 
    "        return \"ERROR: el intervalo no sirve para aplicar Bolzano\"\n", 
    "    else:\n", 
    "        if f(x=a)*f(x=(a+b)/2) < 0:\n", 
    "            return a,(a+b)/2\n", 
    "        elif f(x=(a+b)/2)*f(x=b) < 0:\n", 
    "            return (a+b)/2,b\n", 
    "        elif f(x=(a+b)/2)== 0:\n", 
    "            return \"f tiene un cero en: %s\" %str((a+b)/2)\n", 
    "        else:\n", 
    "            return \"ERROR\""
   ], 
   "outputs": [], 
   "metadata": {
    "collapsed": false
   }
  }, 
  {
   "execution_count": 2, 
   "cell_type": "code", 
   "source": [
    "f(x)=x^2+0.0000001*x-1"
   ], 
   "outputs": [], 
   "metadata": {
    "collapsed": false
   }
  }, 
  {
   "execution_count": 3, 
   "cell_type": "code", 
   "source": [
    "subint(f,0.0,2.0)"
   ], 
   "outputs": [
    {
     "output_type": "execute_result", 
     "data": {
      "text/plain": [
       "(0.000000000000000, 1.00000000000000)"
      ]
     }, 
     "execution_count": 3, 
     "metadata": {}
    }
   ], 
   "metadata": {
    "collapsed": false
   }
  }, 
  {
   "execution_count": 4, 
   "cell_type": "code", 
   "source": [
    "def iterador(f,a,b,e):\n", 
    "    while abs(a-b) > e:\n", 
    "        a,b = subint(f,a,b)\n", 
    "    return a,b,abs(a-b)"
   ], 
   "outputs": [], 
   "metadata": {
    "collapsed": false
   }
  }, 
  {
   "execution_count": 5, 
   "cell_type": "code", 
   "source": [
    "iterador(f,0.0,2.0,0.000000001)"
   ], 
   "outputs": [
    {
     "output_type": "execute_result", 
     "data": {
      "text/plain": [
       "(0.999999949708581, 0.999999950639904, 9.31322574615479e-10)"
      ]
     }, 
     "execution_count": 5, 
     "metadata": {}
    }
   ], 
   "metadata": {
    "collapsed": false
   }
  }, 
  {
   "execution_count": 6, 
   "cell_type": "code", 
   "source": [
    "iterador(f,0.0,2.0,0.000000000000001)"
   ], 
   "outputs": [
    {
     "output_type": "execute_result", 
     "data": {
      "text/plain": [
       "(0.999999950000001, 0.999999950000002, 8.88178419700125e-16)"
      ]
     }, 
     "execution_count": 6, 
     "metadata": {}
    }
   ], 
   "metadata": {
    "collapsed": false
   }
  }
 ], 
 "metadata": {
  "kernelspec": {
   "display_name": "Sage 6.6", 
   "name": "sage_6_6", 
   "language": "python"
  }
 }, 
 "nbformat_minor": 0
}