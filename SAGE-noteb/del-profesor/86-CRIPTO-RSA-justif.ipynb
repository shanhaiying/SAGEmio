{
 "cells": [
  {
   "cell_type": "markdown",
   "metadata": {},
   "source": [
    "## 1 Generamos claves"
   ]
  },
  {
   "cell_type": "code",
   "execution_count": 1,
   "metadata": {
    "collapsed": true
   },
   "outputs": [],
   "source": [
    "def generar_claves(N):\n",
    "    p,q=1,1\n",
    "    n=p*q\n",
    "    while n>26^(N+1) or 26^N>n:\n",
    "        p = random_prime(26^(N//2),lbound=26^(N//3))\n",
    "        q = random_prime(26^(N+1)//p,lbound=26^N//p)\n",
    "        n = p*q\n",
    "    return n,p,q"
   ]
  },
  {
   "cell_type": "markdown",
   "metadata": {},
   "source": [
    "Esta función para generar claves RSA,  para un alfabeto de $26$ caracteres,  parece ser mejor que la propuesta durante la clase, pero no deja de ser arbitraria.  "
   ]
  },
  {
   "cell_type": "code",
   "execution_count": 2,
   "metadata": {
    "collapsed": true
   },
   "outputs": [],
   "source": [
    "n,p,q = generar_claves(20)"
   ]
  },
  {
   "cell_type": "code",
   "execution_count": 3,
   "metadata": {
    "collapsed": false
   },
   "outputs": [
    {
     "name": "stdout",
     "output_type": "stream",
     "text": [
      "90260620715347 * 1602719730586067\n",
      "90260620715347\n",
      "1602719730586067\n"
     ]
    }
   ],
   "source": [
    "print factor(n);print p;print q"
   ]
  },
  {
   "cell_type": "code",
   "execution_count": 4,
   "metadata": {
    "collapsed": false
   },
   "outputs": [
    {
     "name": "stdout",
     "output_type": "stream",
     "text": [
      "-1512459109870720\n"
     ]
    }
   ],
   "source": [
    "print p-q"
   ]
  },
  {
   "cell_type": "code",
   "execution_count": 5,
   "metadata": {
    "collapsed": false
   },
   "outputs": [],
   "source": [
    "Phi = (p-1)*(q-1)"
   ]
  },
  {
   "cell_type": "code",
   "execution_count": 6,
   "metadata": {
    "collapsed": false
   },
   "outputs": [],
   "source": [
    "def invertible(Phi):\n",
    "    for int in xsrange(16^7,16^10):\n",
    "        if gcd(int,Phi)==1:\n",
    "            return int,xgcd(int,Phi)\n",
    "            break"
   ]
  },
  {
   "cell_type": "code",
   "execution_count": 7,
   "metadata": {
    "collapsed": false
   },
   "outputs": [
    {
     "data": {
      "text/plain": [
       "(268435457, (1, 42577915311413748024142810073, -79007510))"
      ]
     },
     "execution_count": 7,
     "metadata": {},
     "output_type": "execute_result"
    }
   ],
   "source": [
    "SOL = invertible(Phi);SOL"
   ]
  },
  {
   "cell_type": "code",
   "execution_count": 8,
   "metadata": {
    "collapsed": false
   },
   "outputs": [
    {
     "data": {
      "text/plain": [
       "1"
      ]
     },
     "execution_count": 8,
     "metadata": {},
     "output_type": "execute_result"
    }
   ],
   "source": [
    "SOL[0]*SOL[1][1]+Phi*SOL[1][2]"
   ]
  },
  {
   "cell_type": "code",
   "execution_count": 9,
   "metadata": {
    "collapsed": false
   },
   "outputs": [
    {
     "name": "stdout",
     "output_type": "stream",
     "text": [
      "42577915311413748024142810073\n"
     ]
    }
   ],
   "source": [
    "clave_pr=SOL[1][1]%Phi;print clave_pr"
   ]
  },
  {
   "cell_type": "code",
   "execution_count": 10,
   "metadata": {
    "collapsed": false
   },
   "outputs": [
    {
     "data": {
      "text/plain": [
       "True"
      ]
     },
     "execution_count": 10,
     "metadata": {},
     "output_type": "execute_result"
    }
   ],
   "source": [
    "26^21 > n > 26^20 #Deben cumplirse"
   ]
  },
  {
   "cell_type": "markdown",
   "metadata": {},
   "source": [
    "La clave pública que hemos generado  es (n,SOL[0]) y la correspondiente  clave privada es *clave_pr*."
   ]
  },
  {
   "cell_type": "markdown",
   "metadata": {},
   "source": [
    "## 2 Comprobamos\n",
    "\n",
    "Queremos entender el motivo por el que un mensaje de $N$ caracteres encriptado con RSA produce, casi siempre,  un mensaje con $N$ o $N+1$ caracteres. "
   ]
  },
  {
   "cell_type": "code",
   "execution_count": 11,
   "metadata": {
    "collapsed": false
   },
   "outputs": [
    {
     "data": {
      "text/plain": [
       "26"
      ]
     },
     "execution_count": 11,
     "metadata": {},
     "output_type": "execute_result"
    }
   ],
   "source": [
    "alfb = 'ABCDEFGHIJKLMNOPQRSTUVWXYZ';len(alfb)"
   ]
  },
  {
   "cell_type": "code",
   "execution_count": 12,
   "metadata": {
    "collapsed": true
   },
   "outputs": [],
   "source": [
    "L_alfb = list(alfb)\n",
    "\n",
    "def ord2(c):\n",
    "    return L_alfb.index(c)\n",
    "\n",
    "def chr2(n):\n",
    "    return L_alfb[n]\n"
   ]
  },
  {
   "cell_type": "code",
   "execution_count": 13,
   "metadata": {
    "collapsed": true
   },
   "outputs": [],
   "source": [
    "def codifica(text,alfb):\n",
    "    L = list(text)\n",
    "    L1 = map(ord2,L)\n",
    "    m,i,base = 0,0,len(alfb)\n",
    "    for j in L1:\n",
    "        m += j*base^i\n",
    "        i += 1\n",
    "    return m"
   ]
  },
  {
   "cell_type": "code",
   "execution_count": 14,
   "metadata": {
    "collapsed": true
   },
   "outputs": [],
   "source": [
    "def generador(N,alfb):\n",
    "    C = ''\n",
    "    for muda in srange(N):\n",
    "        C += alfb[randint(0,N-1)]\n",
    "    return C"
   ]
  },
  {
   "cell_type": "code",
   "execution_count": 15,
   "metadata": {
    "collapsed": false
   },
   "outputs": [
    {
     "data": {
      "text/plain": [
       "'RJKFJLSLERHLNDLHGJLI'"
      ]
     },
     "execution_count": 15,
     "metadata": {},
     "output_type": "execute_result"
    }
   ],
   "source": [
    "generador(20,alfb)"
   ]
  },
  {
   "cell_type": "code",
   "execution_count": 16,
   "metadata": {
    "collapsed": true
   },
   "outputs": [],
   "source": [
    "from string import join\n",
    "def descodifica(m,alfb):\n",
    "    L = m.digits(base=len(alfb))\n",
    "    L.reverse\n",
    "    L1 = map(chr2,L)\n",
    "    return  join(L1,sep = '')"
   ]
  },
  {
   "cell_type": "code",
   "execution_count": 17,
   "metadata": {
    "collapsed": true
   },
   "outputs": [],
   "source": [
    "def comprobador(N,k):\n",
    "    L = []\n",
    "    L1 = []\n",
    "    for muda in xsrange(k):\n",
    "        C = generador(N,alfb)\n",
    "        m = codifica(C,alfb)\n",
    "        if gcd(m,n) != 1:\n",
    "            break\n",
    "        m_encript = power_mod(m,SOL[0],n)\n",
    "        C1 = descodifica(m_encript,alfb)\n",
    "        L.append(len(C1))\n",
    "        if len(C1)<N:\n",
    "            L1.append((C,m,C1,m_encript))\n",
    "    return L,L1\n",
    "        "
   ]
  },
  {
   "cell_type": "code",
   "execution_count": 18,
   "metadata": {
    "collapsed": false
   },
   "outputs": [
    {
     "name": "stdout",
     "output_type": "stream",
     "text": [
      "21\n",
      "18\n"
     ]
    }
   ],
   "source": [
    "L,L1 = comprobador(20,1000);print max(L);print min(L)"
   ]
  },
  {
   "cell_type": "code",
   "execution_count": 19,
   "metadata": {
    "collapsed": false
   },
   "outputs": [
    {
     "name": "stdout",
     "output_type": "stream",
     "text": [
      "[('HLKKSTBGCKTQECGLMHJA', 273794530240711855203629405, 'SFIOMHJPKLZATKGEYCY', 710829631986178032019031748), ('PASIJQBRCCGARTGMTNJI', 6412642597555127420509067047, 'ASTVHDSRMQLKQLAWZNL', 340141514436066789636754200), ('MQEDQBJMQOGGASTFSNBH', 5410284735744674863256402196, 'GOUTKRYGTYEFIKDTNZI', 264780765193871340863573754), ('JKDEGSKBBOKLTNTRKHHN', 10178833670849829793777189177, 'MBPSRLUNSEDTNZOFDX', 26218207258497928967192834), ('OSALIJPGSPNQBJBMPLKA', 307941547721400165652670202, 'LXZTDFCMSEGPTKDYIPQ', 489068917308941013470615213), ('MGBMAAORFNGNTHOPLBHQ', 12471472419352800218485867564, 'EDFNBOVSQPVBWUPHJGK', 302003304772775801545199646)]\n"
     ]
    }
   ],
   "source": [
    "print L1"
   ]
  },
  {
   "cell_type": "markdown",
   "metadata": {},
   "source": [
    "Vemos que, salvo en unos pocos casos, siempre se obtienen cadenas de al menos $20$ caracteres. "
   ]
  },
  {
   "cell_type": "code",
   "execution_count": 20,
   "metadata": {
    "collapsed": false
   },
   "outputs": [
    {
     "data": {
      "text/plain": [
       "True"
      ]
     },
     "execution_count": 20,
     "metadata": {},
     "output_type": "execute_result"
    }
   ],
   "source": [
    "L1[0][3]<26^20"
   ]
  },
  {
   "cell_type": "code",
   "execution_count": 21,
   "metadata": {
    "collapsed": false
   },
   "outputs": [
    {
     "data": {
      "text/plain": [
       "True"
      ]
     },
     "execution_count": 21,
     "metadata": {},
     "output_type": "execute_result"
    }
   ],
   "source": [
    "L1[0][3]<26^19"
   ]
  },
  {
   "cell_type": "code",
   "execution_count": 22,
   "metadata": {
    "collapsed": false
   },
   "outputs": [
    {
     "data": {
      "text/plain": [
       "False"
      ]
     },
     "execution_count": 22,
     "metadata": {},
     "output_type": "execute_result"
    }
   ],
   "source": [
    "L1[0][3]<26^18"
   ]
  },
  {
   "cell_type": "code",
   "execution_count": 23,
   "metadata": {
    "collapsed": false
   },
   "outputs": [
    {
     "name": "stdout",
     "output_type": "stream",
     "text": [
      "SFIOMHJPKLZATKGEYCY\n"
     ]
    }
   ],
   "source": [
    "C2 = descodifica(L1[0][3],alfb);print C2"
   ]
  },
  {
   "cell_type": "markdown",
   "metadata": {},
   "source": [
    "Vemos que es posible que el texto encriptado y descodificado tenga menos de $20$ caracteres. El caso extremo de esta situación es, como se indicó durante la clase,  un texto que se codifique como $0$ ($AAAAA...$) o como $1$ ($BAAAA...$), y es claro que, con las funciones anteriores no recuperamos el texto original (en el primer caso obtenemos $'\\  '$ y en el segundo $'B'$). Pensando un poco vemos que el problema viene de la función *descodifica*, y en particular de la primera línea,  que no rellena con ceros la lista de dígitos y entonces pierde las Aes finales. "
   ]
  },
  {
   "cell_type": "code",
   "execution_count": 24,
   "metadata": {
    "collapsed": true
   },
   "outputs": [],
   "source": [
    "from string import join\n",
    "def descodifica2(m,alfb):\n",
    "    L = m.digits(base=len(alfb),padto=20)\n",
    "    L.reverse\n",
    "    L1 = map(chr2,L)\n",
    "    return  join(L1,sep = '')"
   ]
  },
  {
   "cell_type": "code",
   "execution_count": 25,
   "metadata": {
    "collapsed": true
   },
   "outputs": [],
   "source": [
    "def comprobador2(N,k):\n",
    "    L = []\n",
    "    L1 = []\n",
    "    for muda in xsrange(k):\n",
    "        C = generador(N,alfb)\n",
    "        m = codifica(C,alfb)\n",
    "        if gcd(m,n) != 1:\n",
    "            break\n",
    "        m_encript = power_mod(m,SOL[0],n)\n",
    "        C1 = descodifica2(m_encript,alfb)\n",
    "        L.append(len(C1))\n",
    "        if len(C1)<N:\n",
    "            L1.append((C,m,C1,m_encript))\n",
    "    return L,L1"
   ]
  },
  {
   "cell_type": "code",
   "execution_count": 26,
   "metadata": {
    "collapsed": false
   },
   "outputs": [
    {
     "name": "stdout",
     "output_type": "stream",
     "text": [
      "21\n",
      "20\n",
      "1000\n",
      "0\n"
     ]
    }
   ],
   "source": [
    "L,L1 = comprobador2(20,1000);print max(L);print min(L); print len(L) ;print len(L1)"
   ]
  },
  {
   "cell_type": "code",
   "execution_count": 27,
   "metadata": {
    "collapsed": false
   },
   "outputs": [
    {
     "name": "stdout",
     "output_type": "stream",
     "text": [
      "21\n",
      "20\n",
      "10000\n",
      "0\n"
     ]
    }
   ],
   "source": [
    "L,L1 = comprobador2(20,10000);print max(L);print min(L); print len(L) ;print len(L1)"
   ]
  },
  {
   "cell_type": "markdown",
   "metadata": {},
   "source": [
    "Este experimento parece 'probar' que si descodificamos como en *descodifica2* no vamos a obtener mensajes encriptados de longitud menor que la del mensaje original. Lo hemos comprobado para las cadenas aleatorias producidas por *generador*, en las que todos los caracteres tienen la misma probabilidad $1/20$, y es fácil ver que también se cumple para cadenas que tienen Aes al final, que son los dos casos extremos. Debemos esperar que también se cumpla para los casos intermedios en los que la probabilidad de que los caracteres aparezcan en el mensage generado no sea la misma para todos. "
   ]
  },
  {
   "cell_type": "code",
   "execution_count": 28,
   "metadata": {
    "collapsed": true
   },
   "outputs": [],
   "source": [
    "def comprobador3(C):\n",
    "    m = codifica(C,alfb)\n",
    "    if gcd(m,n) != 1:\n",
    "        return \"ERROR\"\n",
    "    else:\n",
    "        m_encript = power_mod(m,SOL[0],n)\n",
    "        C1 = descodifica2(m_encript,alfb)\n",
    "        return C,m,C1,len(C1),m_encript"
   ]
  },
  {
   "cell_type": "code",
   "execution_count": 29,
   "metadata": {
    "collapsed": false
   },
   "outputs": [
    {
     "data": {
      "text/plain": [
       "('BAAAAAAAAAAAAAAAAAAA', 1, 'BAAAAAAAAAAAAAAAAAAA', 20, 1)"
      ]
     },
     "execution_count": 29,
     "metadata": {},
     "output_type": "execute_result"
    }
   ],
   "source": [
    "comprobador3('BAAAAAAAAAAAAAAAAAAA')"
   ]
  },
  {
   "cell_type": "code",
   "execution_count": 30,
   "metadata": {
    "collapsed": false
   },
   "outputs": [
    {
     "name": "stdout",
     "output_type": "stream",
     "text": [
      "('BCDAAAAAAAAAAAAAAAAA', 2081, 'GERGADZKLPSYLJTBKLIE', 20, 3314616256719458993158500962)\n"
     ]
    }
   ],
   "source": [
    "T3 = comprobador3('BCDAAAAAAAAAAAAAAAAA'); print T3"
   ]
  },
  {
   "cell_type": "code",
   "execution_count": 31,
   "metadata": {
    "collapsed": false
   },
   "outputs": [
    {
     "data": {
      "text/plain": [
       "2081"
      ]
     },
     "execution_count": 31,
     "metadata": {},
     "output_type": "execute_result"
    }
   ],
   "source": [
    "power_mod(T3[4],clave_pr,n)"
   ]
  },
  {
   "cell_type": "markdown",
   "metadata": {},
   "source": [
    "Llegados a este punto nos debemos preguntar si podemos demostrar que partiendo de una cadena de caracteres de longitud $20$ la cadena obtenida mediante RSA, con *descodifica2*,  es siempre de longitud $20$ o $21$, y la respuesta es (trivialmente)  que sí: dado un entero menor que $n$ cualquiera la función *descodifica2* siempre le asocia una cadena que tiene al menos $20$ caracteres, porque al rellenar la lista de dígitos con ceros estamos rellenando la lista de caracteres con Aes. "
   ]
  },
  {
   "cell_type": "code",
   "execution_count": null,
   "metadata": {
    "collapsed": true
   },
   "outputs": [],
   "source": []
  },
  {
   "cell_type": "code",
   "execution_count": null,
   "metadata": {
    "collapsed": true
   },
   "outputs": [],
   "source": []
  }
 ],
 "metadata": {
  "kernelspec": {
   "display_name": "SageMath 7.3",
   "language": "",
   "name": "sagemath"
  },
  "language_info": {
   "codemirror_mode": {
    "name": "ipython",
    "version": 2
   },
   "file_extension": ".py",
   "mimetype": "text/x-python",
   "name": "python",
   "nbconvert_exporter": "python",
   "pygments_lexer": "ipython2",
   "version": "2.7.10"
  }
 },
 "nbformat": 4,
 "nbformat_minor": 0
}
