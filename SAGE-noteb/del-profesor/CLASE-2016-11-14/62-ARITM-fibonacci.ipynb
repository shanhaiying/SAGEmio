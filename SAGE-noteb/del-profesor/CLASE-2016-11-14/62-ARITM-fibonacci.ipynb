{
 "cells": [
  {
   "cell_type": "markdown",
   "metadata": {},
   "source": [
    "<h4>Ejercicio 1</h4>\n",
    "<p>C&aacute;lculo de los n&uacute;meros de Fibonacci usando matrices:</p>"
   ]
  },
  {
   "cell_type": "code",
   "execution_count": 1,
   "metadata": {
    "collapsed": false
   },
   "outputs": [],
   "source": [
    "A = matrix(ZZ,[[1,1],[1,0]])"
   ]
  },
  {
   "cell_type": "code",
   "execution_count": 2,
   "metadata": {
    "collapsed": false
   },
   "outputs": [],
   "source": [
    "def potencia(A,n):\n",
    "  k = A.ncols()\n",
    "  if n == 0:\n",
    "      return identity_matrix(k)\n",
    "  elif n%2 == 0:\n",
    "      B = potencia(A,n//2)\n",
    "      return (B*B)\n",
    "  else:\n",
    "      B = potencia(A,(n-1)//2)\n",
    "      return (A*B*B)"
   ]
  },
  {
   "cell_type": "code",
   "execution_count": 3,
   "metadata": {
    "collapsed": false
   },
   "outputs": [],
   "source": [
    "AA = potencia(A,157)"
   ]
  },
  {
   "cell_type": "code",
   "execution_count": 4,
   "metadata": {
    "collapsed": false
   },
   "outputs": [
    {
     "data": {
      "text/plain": [
       "468340976726457153752543329995929"
      ]
     },
     "execution_count": 4,
     "metadata": {},
     "output_type": "execute_result"
    }
   ],
   "source": [
    "AA[0,0]"
   ]
  },
  {
   "cell_type": "code",
   "execution_count": 5,
   "metadata": {
    "collapsed": false
   },
   "outputs": [
    {
     "data": {
      "text/plain": [
       "True"
      ]
     },
     "execution_count": 5,
     "metadata": {},
     "output_type": "execute_result"
    }
   ],
   "source": [
    "AA[0,0] == fibonacci(158)"
   ]
  },
  {
   "cell_type": "markdown",
   "metadata": {},
   "source": [
    "<h4>Ejercicio 2</h4>\n",
    "<p>Hay f&oacute;rmulas que permiten calcular el $n$-&eacute;simo n&uacute;mero de Fibonacci $F_n$ sin haber calculado los anteriores. Una tal f&oacute;rmula afirma que</p>\n",
    "<p>$$F_n:=\\frac{\\phi^n-(1-\\phi)^n}{\\sqrt{5}},$$</p>\n",
    "<p>con $\\phi$ el n&uacute;mero &aacute;ureo $\\frac{1+\\sqrt{5}}{2}$. OBSERVA que, aunque la parte derecha de la f&oacute;rmula es una expresi&oacute;n complicada que involucra ra&iacute;ces cuadradas de $5$, la f&oacute;rmula est&aacute; afirmando que el resultado es un n&uacute;mero entero para todo valor de $n$, es decir, que las ra&iacute;ces se van a cancelar al operar.</p>\n",
    "<ol>\n",
    "<li>En SAGE podemos operar de manera exacta (es decir, de forma \"simb&oacute;lica\" como opuesta a \"num&eacute;rica\") con expresiones como $\\phi$. Basta definir la ra&iacute;z cuadrada de $5$ como $sqrt(5)$ y usar las operaciones aritm&eacute;ticas habituales. <span style=\"color: #ff0000;\">Se puede forzar a SAGE a desarrollar (\"quitar los exponentes\")&nbsp; una expresi&oacute;n como $F_n$ usando la funci&oacute;n $expand$. Comprueba que $F_n$ es el n&uacute;mero de Fibonacci $n$-&eacute;simo para $20$ valores de $n$ mayores que $10000$. Estudia la eficiencia de esta f&oacute;rmula como medio para calcular el n&uacute;mero de Fibonacci $n$-&eacute;simo.</span></li>\n",
    "<li><span style=\"color: #ff0000;\">Define una funci&oacute;n $fibonacci\\_num(n,d)$ que devuelva el n&uacute;mero $F_n$ calculado, aproximadamente,&nbsp; como n&uacute;mero real con $d$ d&iacute;gitos de precisi&oacute;n. Estudia la eficiencia de este m&eacute;todo, comparando con el m&eacute;todo del apartado $1$ (siempre para valores de $n$ mayores que $10000$), y los errores que pueden aparecer al usar n&uacute;meros reales con $d$ d&iacute;gitos de precisi&oacute;n. <br /></span></li>\n",
    "</ol>"
   ]
  },
  {
   "cell_type": "code",
   "execution_count": 4,
   "metadata": {
    "collapsed": false
   },
   "outputs": [],
   "source": [
    "phi = (1+sqrt(5))/2"
   ]
  },
  {
   "cell_type": "code",
   "execution_count": 7,
   "metadata": {
    "collapsed": false
   },
   "outputs": [],
   "source": [
    "def F(n):\n",
    "    return expand(((phi^n)-(1-phi)^n)/sqrt(5))"
   ]
  },
  {
   "cell_type": "code",
   "execution_count": 10,
   "metadata": {
    "collapsed": false
   },
   "outputs": [
    {
     "name": "stdout",
     "output_type": "stream",
     "text": [
      "CPU times: user 6.48 s, sys: 42.5 ms, total: 6.52 s\n",
      "Wall time: 6.32 s\n"
     ]
    }
   ],
   "source": [
    "%time f = F(10000); "
   ]
  },
  {
   "cell_type": "code",
   "execution_count": null,
   "metadata": {
    "collapsed": true
   },
   "outputs": [],
   "source": [
    "del f"
   ]
  },
  {
   "cell_type": "code",
   "execution_count": 11,
   "metadata": {
    "collapsed": false
   },
   "outputs": [
    {
     "name": "stdout",
     "output_type": "stream",
     "text": [
      "CPU times: user 16.3 s, sys: 160 ms, total: 16.4 s\n",
      "Wall time: 16 s\n"
     ]
    }
   ],
   "source": [
    "%time ff = F(20000)"
   ]
  },
  {
   "cell_type": "code",
   "execution_count": 13,
   "metadata": {
    "collapsed": false
   },
   "outputs": [],
   "source": [
    "del ff"
   ]
  },
  {
   "cell_type": "code",
   "execution_count": 14,
   "metadata": {
    "collapsed": false
   },
   "outputs": [
    {
     "data": {
      "text/plain": [
       "True"
      ]
     },
     "execution_count": 14,
     "metadata": {},
     "output_type": "execute_result"
    }
   ],
   "source": [
    "all([F(n) == fibonacci(n) for n in xrange(10000,10020)])"
   ]
  },
  {
   "cell_type": "code",
   "execution_count": 4,
   "metadata": {
    "collapsed": false
   },
   "outputs": [],
   "source": [
    "def fibonacci_num(n,d):\n",
    "    phi2 = ((1+sqrt(5))/2).n(digits=d)\n",
    "    return ((phi2^n-(1-phi2)^n)/(sqrt(5)).n(digits=d)).ceil()"
   ]
  },
  {
   "cell_type": "code",
   "execution_count": 36,
   "metadata": {
    "collapsed": false
   },
   "outputs": [
    {
     "name": "stdout",
     "output_type": "stream",
     "text": [
      "[31497821971, 51081002696, 82780151259, 134129589411, 216909740670, 352113071905, 568485941663, 922746497216, 1494453664351, 2417200161567, 3915948793214, 6358918758557, 10283457486363, 16659556114104, 26977373338835, 43705648929675, 70820461221982, 114663549105129, 185209132420167, 300697315246128, 486456203480183, 788802786167975, 1274159478020382, 2069559333955013, 3352514904997603, 5413278145930408, 8792181329994635, 14240643848013875, 23032825178008510]\n"
     ]
    }
   ],
   "source": [
    "print [fibonacci_num(1000+k,200)-fibonacci(1000+k) for k in srange(1,30)]"
   ]
  },
  {
   "cell_type": "code",
   "execution_count": 37,
   "metadata": {
    "collapsed": false
   },
   "outputs": [
    {
     "name": "stdout",
     "output_type": "stream",
     "text": [
      "[0, 0, 0, 0, 0, 0, 0, 0, 0, 0, 0, 0, 0, 0, 0, 0, 0, 0, 0, 0, 0, 0, 0, 0, 0, 0, 0, 0, 0, 0, 0, 0, 0, 0, 0, 0, 0, 0, 0, 0, 0, 0, 0, 0, 0, 0, 0, 0, 0, 0, 0, 0, 0, 0, 0, 0, 0, 0, 0, 0, 0, 0, 0, 0, 0, 0, 0, 0, 0, 0, 0, 0, 0, 0, 0, 0, 0, 0, 0, 0, 0, 0, 0, 0, 0, 0, 0, 0, 0, 0, 0, 0, 0, 0, 0, 0, 0, 0, 0]\n"
     ]
    }
   ],
   "source": [
    "print [fibonacci_num(1000+k,300)-fibonacci(1000+k) for k in srange(1,100)]"
   ]
  },
  {
   "cell_type": "code",
   "execution_count": 50,
   "metadata": {
    "collapsed": false
   },
   "outputs": [
    {
     "name": "stdout",
     "output_type": "stream",
     "text": [
      "[-31348260365014917045045270404907938796072844462510306987135351860490222303931811493604497883, 1, 1, 1, 1, 1, 1, 0, 1, 0, 1, 1, 1, 1, 0, 0, 1, 1, 1, 0, 0, 0, 1, 1, 0, 0, 0, 1, 0, 0, 0, 0, 1, 1, 1, 0, 0, 1, 0, 1, 1, 1, 1, 1, 0, 1, 1, 1, 1, 0, 1, 0, 1, 0, 1, 1, 0, 0, 0, 0, 1, 0, 0, 0, 1, 1, 1, 1, 0, 1, 0, 0, 1, 1, 0, 1, 1, 1, 0, 1]\n"
     ]
    }
   ],
   "source": [
    "print [fibonacci_num(10000,100*k)-fibonacci(10000) for k in srange(20,100)]"
   ]
  },
  {
   "cell_type": "code",
   "execution_count": 55,
   "metadata": {
    "collapsed": false
   },
   "outputs": [
    {
     "name": "stdout",
     "output_type": "stream",
     "text": [
      "[-31348260365014917045045270404907938796072844462510306987135351860490222303931811493604497883, 1, 1, 1, 1, 1, 1, 0, 1, 0, 1, 1, 1, 1, 0, 0, 1, 1, 1, 0, 0, 0, 1, 1, 0, 0, 0, 1, 0, 0, 0, 0, 1, 1, 1, 0, 0, 1, 0, 1, 1, 1, 1, 1, 0, 1, 1, 1, 1, 0, 1, 0, 1, 0, 1, 1, 0, 0, 0, 0, 1, 0, 0, 0, 1, 1, 1, 1, 0, 1, 0, 0, 1, 1, 0, 1, 1, 1, 0, 1, 1, 0, 0, 0, 1, 0, 1, 1, 0, 1, 0, 1, 0, 0, 1, 0, 1, 1, 0, 0, 0, 0, 0, 1, 0, 0, 1, 1, 1, 0, 1, 1, 1, 0, 0, 0, 1, 1, 0, 1, 1, 0, 0, 1, 0, 1, 1, 1, 1, 0, 1, 0, 0, 1, 0, 0, 1, 0, 0, 1, 1, 1, 0, 0, 1, 0, 1, 1, 0, 0, 1, 0, 1, 1, 1, 0, 1, 0, 0, 0, 0, 1, 1, 1, 0, 0, 1, 0, 1, 1, 1, 0, 1, 1, 0, 0, 1, 0, 0, 1, 0, 1, 0, 1, 1, 0, 0, 0, 1, 1, 0, 1, 1, 1, 1, 1, 1, 1, 1, 0, 0, 0, 0, 1, 1, 0, 0, 0, 0, 0, 1, 1, 1, 1, 1, 0, 0, 0, 1, 1, 1, 1, 0, 1, 0, 0, 1, 0, 0, 1, 1, 1, 1, 0, 0, 1, 1, 0, 1, 0, 0, 1, 0, 1, 1, 1, 1, 0, 1, 1, 0, 1, 0, 0, 0, 0, 1, 1, 1, 1, 0, 0, 1, 1, 1, 0, 1, 0, 1, 1, 1, 1, 1, 0, 1, 1, 1, 0, 0, 1, 1, 0, 0, 0, 0, 0, 1, 1, 1, 0, 0, 0, 1, 1, 1, 1, 1, 1, 1, 0, 1, 0, 1, 0, 0, 0, 1, 0, 1, 0, 0, 1, 1, 1, 0, 0, 1, 1, 0, 0, 0, 0, 1, 0, 1, 0, 0, 0, 1, 1, 1, 0, 1, 1, 0, 1, 1, 1, 1, 1, 1, 0, 0, 1, 0, 1, 1, 0, 0, 1, 1, 1, 0, 0, 0, 1, 1, 1, 1, 0, 0, 0, 1, 1, 0, 0, 1, 1, 0, 1, 1, 1, 1, 0, 0, 1, 1, 1, 1, 1, 0, 1, 1, 0, 0, 1, 1, 1, 1, 0, 1, 1, 0, 0, 1, 0, 0, 0, 1, 1, 1, 0, 0, 1, 1, 0, 0, 0, 1, 1, 1, 1, 0, 1, 1, 1, 0, 1, 1, 0, 1, 0, 1, 1, 0, 0, 0, 0, 1, 1, 1, 1, 0, 1, 1, 1, 1, 1, 0, 1, 1, 1, 0, 1, 1, 1, 0, 0, 0, 1, 1, 0, 0, 0, 1, 0, 0, 1, 1, 1, 1, 1, 1, 1, 1, 1, 0, 1, 0, 1, 0, 1, 0, 0, 0, 1, 0, 1, 1, 1]\n"
     ]
    }
   ],
   "source": [
    "print [fibonacci_num(10000,100*k)-fibonacci(10000) for k in srange(20,500)]"
   ]
  },
  {
   "cell_type": "code",
   "execution_count": 1,
   "metadata": {
    "collapsed": true
   },
   "outputs": [],
   "source": [
    "def fibonacci_num2(n,d):\n",
    "    phi2 = ((1+sqrt(5))/2).n(digits=d)\n",
    "    return (phi2^n/sqrt(5).n(digits=d)).floor()"
   ]
  },
  {
   "cell_type": "code",
   "execution_count": 53,
   "metadata": {
    "collapsed": false
   },
   "outputs": [
    {
     "name": "stdout",
     "output_type": "stream",
     "text": [
      "[-31348260365014917045045270404907938796072844462510306987135351860490222303931811493604497883, 0, 0, 0, 0, 0, 0, -1, 0, -1, 0, 0, 0, 0, -1, -1, 0, 0, 0, -1, -1, -1, 0, 0, 0, 0, 0, 0, 0, 0, 0, 0, 0, 0, 0, 0, 0, 0, 0, 0, 0, 0, 0, 0, 0, 0, 0, 0, 0, 0, 0, 0, 0, 0, 0, 0, 0, 0, 0, 0, 0, 0, 0, 0, 0, 0, 0, 0, 0, 0, 0, 0, 0, 0, 0, 0, 0, 0, 0, 0]\n"
     ]
    }
   ],
   "source": [
    "print [fibonacci_num2(10000,100*k)-fibonacci(10000) for k in srange(20,100)]"
   ]
  },
  {
   "cell_type": "code",
   "execution_count": 54,
   "metadata": {
    "collapsed": false
   },
   "outputs": [
    {
     "name": "stdout",
     "output_type": "stream",
     "text": [
      "[-31348260365014917045045270404907938796072844462510306987135351860490222303931811493604497883, 0, 0, 0, 0, 0, 0, -1, 0, -1, 0, 0, 0, 0, -1, -1, 0, 0, 0, -1, -1, -1, 0, 0, 0, 0, 0, 0, 0, 0, 0, 0, 0, 0, 0, 0, 0, 0, 0, 0, 0, 0, 0, 0, 0, 0, 0, 0, 0, 0, 0, 0, 0, 0, 0, 0, 0, 0, 0, 0, 0, 0, 0, 0, 0, 0, 0, 0, 0, 0, 0, 0, 0, 0, 0, 0, 0, 0, 0, 0, 0, 0, 0, 0, 0, 0, 0, 0, 0, 0, 0, 0, 0, 0, 0, 0, 0, 0, 0, 0, 0, 0, 0, 0, 0, 0, 0, 0, 0, 0, 0, 0, 0, 0, 0, 0, 0, 0, 0, 0, 0, 0, 0, 0, 0, 0, 0, 0, 0, 0, 0, 0, 0, 0, 0, 0, 0, 0, 0, 0, 0, 0, 0, 0, 0, 0, 0, 0, 0, 0, 0, 0, 0, 0, 0, 0, 0, 0, 0, 0, 0, 0, 0, 0, 0, 0, 0, 0, 0, 0, 0, 0, 0, 0, 0, 0, 0, 0, 0, 0, 0, 0, 0, 0, 0, 0, 0, 0, 0, 0, 0, 0, 0, 0, 0, 0, 0, 0, 0, 0, 0, 0, 0, 0, 0, 0, 0, 0, 0, 0, 0, 0, 0, 0, 0, 0, 0, 0, 0, 0, 0, 0, 0, 0, 0, 0, 0, 0, 0, 0, 0, 0, 0, 0, 0, 0, 0, 0, 0, 0, 0, 0, 0, 0, 0, 0, 0, 0, 0, 0, 0, 0, 0, 0, 0, 0, 0, 0, 0, 0, 0, 0, 0, 0, 0, 0, 0, 0, 0, 0, 0, 0, 0, 0, 0, 0, 0, 0, 0, 0, 0, 0, 0, 0, 0, 0, 0, 0, 0, 0, 0, 0, 0, 0, 0, 0, 0, 0, 0, 0, 0, 0, 0, 0, 0, 0, 0, 0, 0, 0, 0, 0, 0, 0, 0, 0, 0, 0, 0, 0, 0, 0, 0, 0, 0, 0, 0, 0, 0, 0, 0, 0, 0, 0, 0, 0, 0, 0, 0, 0, 0, 0, 0, 0, 0, 0, 0, 0, 0, 0, 0, 0, 0, 0, 0, 0, 0, 0, 0, 0, 0, 0, 0, 0, 0, 0, 0, 0, 0, 0, 0, 0, 0, 0, 0, 0, 0, 0, 0, 0, 0, 0, 0, 0, 0, 0, 0, 0, 0, 0, 0, 0, 0, 0, 0, 0, 0, 0, 0, 0, 0, 0, 0, 0, 0, 0, 0, 0, 0, 0, 0, 0, 0, 0, 0, 0, 0, 0, 0, 0, 0, 0, 0, 0, 0, 0, 0, 0, 0, 0, 0, 0, 0, 0, 0, 0, 0, 0, 0, 0, 0, 0, 0, 0, 0, 0, 0, 0, 0, 0, 0, 0, 0, 0, 0, 0, 0, 0, 0, 0, 0, 0, 0, 0, 0, 0, 0, 0, 0, 0, 0, 0, 0, 0, 0, 0, 0, 0, 0, 0]\n"
     ]
    }
   ],
   "source": [
    "print [fibonacci_num2(10000,100*k)-fibonacci(10000) for k in srange(20,500)]"
   ]
  },
  {
   "cell_type": "code",
   "execution_count": 6,
   "metadata": {
    "collapsed": false
   },
   "outputs": [
    {
     "name": "stdout",
     "output_type": "stream",
     "text": [
      "CPU times: user 412 ms, sys: 127 µs, total: 412 ms\n",
      "Wall time: 413 ms\n"
     ]
    },
    {
     "data": {
      "text/plain": [
       "True"
      ]
     },
     "execution_count": 6,
     "metadata": {},
     "output_type": "execute_result"
    }
   ],
   "source": [
    "%time fibonacci_num2(100000,50000) == fibonacci(100000)"
   ]
  },
  {
   "cell_type": "markdown",
   "metadata": {},
   "source": [
    "<p>El c&aacute;lculo simb&oacute;lico es ciertamente muy lento, y \"parece\" que al aumentar el tama&ntilde;o de los datos crece mucho el tiempo que tarda. En este tipo de problemas de c&aacute;lculo algebraico exacto no es raro que el tiempo que tarda sea exponencial (o incluso doblemente exponencial $e^{e^n}$) como funci&oacute;n del tama&ntilde;o de los datos. NO hay motivo suficiente en los c&aacute;lculos que he hecho para afirmarlo.</p>\n",
    "<p>El m&eacute;todo num&eacute;rico es mucho m&aacute;s eficiente, pero hay que incrementar mucho el n&uacute;mero de decimales en el c&aacute;lculo para obtener una respuesta correcta.&nbsp; El problema es que no sabemos 'a priori' cu&aacute;l es el $d$ que debemos elegir como funci&oacute;n de $n$, y aunque el m&eacute;todo es bastante r&aacute;pido, en cuanto incrementemos mucho el n&uacute;mero de decimales inevitablemente se ralentiza.</p>"
   ]
  },
  {
   "cell_type": "code",
   "execution_count": 21,
   "metadata": {
    "collapsed": false
   },
   "outputs": [
    {
     "name": "stdout",
     "output_type": "stream",
     "text": [
      "5 loops, best of 3: 245 ms per loop\n"
     ]
    }
   ],
   "source": [
    "timeit('fibonacci_num(100000,40000)')"
   ]
  },
  {
   "cell_type": "code",
   "execution_count": 22,
   "metadata": {
    "collapsed": false
   },
   "outputs": [
    {
     "name": "stdout",
     "output_type": "stream",
     "text": [
      "5 loops, best of 3: 945 ms per loop\n"
     ]
    }
   ],
   "source": [
    "timeit('fibonacci_num(100000,100000)')"
   ]
  },
  {
   "cell_type": "markdown",
   "metadata": {},
   "source": [
    "<h3>Ejercicio 3</h3>\n",
    "<p>Dado un n&uacute;mero de Fibonacci bastante grande $F_n$ queremos calcular el lugar que ocupa en la sucesi&oacute;n, es decir, <span style=\"color: #ff0000;\">dado un $F_n$ queremos obtener el $n$</span>.</p>\n",
    "<ol>\n",
    "<li><span style=\"color: #ff0000;\">Define, usando la construcci&oacute;n iterativa de la sucesi&oacute;n de Fibonacci,&nbsp; una funci&oacute;n que reciba como argumento&nbsp; $F_n$ y devuelva $n$. </span></li>\n",
    "<li>Cuando $n$ crece, el segundo sumando (de hecho es un \"restando\") en el numerador del $F_n$ del ejercicio anterior tiende a cero.<span style=\"color: #ff0000;\"> Explica el motivo</span>. Entonces, $F_n$ es aproximadamente igual a $\\phi^n/ \\sqrt{5}$,&nbsp; y esto podr&iacute;a servir para calcular $n$ dado un $F_n$ suficientemente grande. <span style=\"color: #ff0000;\">Implementa un tal m&eacute;todo, y estudia su grado de validez comparando los valores de $n$ que produce para variados $F_n$&nbsp; calculados a partir de enes dados.</span></li>\n",
    "</ol>"
   ]
  },
  {
   "cell_type": "code",
   "execution_count": 5,
   "metadata": {
    "collapsed": false
   },
   "outputs": [],
   "source": [
    "def subindice0(F):\n",
    "    p,q=0,1\n",
    "    cont = 0\n",
    "    while p < F:\n",
    "        p,q=q,p+q\n",
    "        cont += 1\n",
    "    return cont"
   ]
  },
  {
   "cell_type": "code",
   "execution_count": 6,
   "metadata": {
    "collapsed": false
   },
   "outputs": [
    {
     "data": {
      "text/plain": [
       "True"
      ]
     },
     "execution_count": 6,
     "metadata": {},
     "output_type": "execute_result"
    }
   ],
   "source": [
    "fibonacci(subindice0(fibonacci(10000))) == fibonacci(10000)"
   ]
  },
  {
   "cell_type": "code",
   "execution_count": 7,
   "metadata": {
    "collapsed": false
   },
   "outputs": [
    {
     "data": {
      "text/plain": [
       "-0.618033988749895"
      ]
     },
     "execution_count": 7,
     "metadata": {},
     "output_type": "execute_result"
    }
   ],
   "source": [
    "(1-phi).n()"
   ]
  },
  {
   "cell_type": "code",
   "execution_count": 8,
   "metadata": {
    "collapsed": false
   },
   "outputs": [
    {
     "data": {
      "text/plain": [
       "0"
      ]
     },
     "execution_count": 8,
     "metadata": {},
     "output_type": "execute_result"
    }
   ],
   "source": [
    "var('n');limit(((1-phi).n())^n,n=oo)"
   ]
  },
  {
   "cell_type": "code",
   "execution_count": 9,
   "metadata": {
    "collapsed": false
   },
   "outputs": [],
   "source": [
    "def subindice(F):\n",
    "    return ((log(F*sqrt(5))/log(phi))).n().ceil()"
   ]
  },
  {
   "cell_type": "code",
   "execution_count": 10,
   "metadata": {
    "collapsed": false
   },
   "outputs": [
    {
     "data": {
      "text/plain": [
       "10000"
      ]
     },
     "execution_count": 10,
     "metadata": {},
     "output_type": "execute_result"
    }
   ],
   "source": [
    "subindice(fibonacci(10000))"
   ]
  },
  {
   "cell_type": "code",
   "execution_count": 11,
   "metadata": {
    "collapsed": false
   },
   "outputs": [
    {
     "data": {
      "text/plain": [
       "[True, True, True, True, True, True, True]"
      ]
     },
     "execution_count": 11,
     "metadata": {},
     "output_type": "execute_result"
    }
   ],
   "source": [
    "[subindice(fibonacci(10^k))==10^k for k in srange(2,9)]"
   ]
  },
  {
   "cell_type": "markdown",
   "metadata": {},
   "source": [
    "<p>No parece que haya que aumentar la precisi&oacute;n para obtener resultados correctos para n&uacute;meros de Fibonacci muy grandes. &iquest;Qu&eacute; m&eacute;todo es mejor?</p>"
   ]
  },
  {
   "cell_type": "code",
   "execution_count": 13,
   "metadata": {
    "collapsed": false
   },
   "outputs": [
    {
     "name": "stdout",
     "output_type": "stream",
     "text": [
      "CPU times: user 4.87 s, sys: 54.6 ms, total: 4.93 s\n",
      "Wall time: 4.85 s\n",
      "CPU times: user 7.26 ms, sys: 0 ns, total: 7.26 ms\n",
      "Wall time: 7.15 ms\n"
     ]
    }
   ],
   "source": [
    "%time sub1 = subindice0(fibonacci(10^6))\n",
    "%time sub2 = subindice(fibonacci(10^6))"
   ]
  },
  {
   "cell_type": "code",
   "execution_count": 14,
   "metadata": {
    "collapsed": false
   },
   "outputs": [
    {
     "name": "stdout",
     "output_type": "stream",
     "text": [
      "CPU times: user 1.27 s, sys: 12 ms, total: 1.28 s\n",
      "Wall time: 1.29 s\n"
     ]
    }
   ],
   "source": [
    "time sub2 = subindice(fibonacci(10^8))"
   ]
  },
  {
   "cell_type": "markdown",
   "metadata": {
    "collapsed": true
   },
   "source": [
    "## ¿Qué precisión nos conviene usar?"
   ]
  },
  {
   "cell_type": "code",
   "execution_count": 18,
   "metadata": {
    "collapsed": false
   },
   "outputs": [],
   "source": [
    "def precision(N1,N2,d):\n",
    "    cont = 0\n",
    "    L = []\n",
    "    for n in xsrange(N1,N2,7):\n",
    "        while cont < 100:\n",
    "            cont += 1\n",
    "            if fibonacci_num2(n,d) - fibonacci(n) != 0:\n",
    "                cont = 0\n",
    "                d += 100\n",
    "        L.append((n,d))\n",
    "    return L"
   ]
  },
  {
   "cell_type": "code",
   "execution_count": 19,
   "metadata": {
    "collapsed": false
   },
   "outputs": [
    {
     "name": "stdout",
     "output_type": "stream",
     "text": [
      "CPU times: user 365 ms, sys: 4.06 ms, total: 369 ms\n",
      "Wall time: 377 ms\n"
     ]
    },
    {
     "data": {
      "text/plain": [
       "[(10000, 2100),\n",
       " (10007, 2100),\n",
       " (10014, 2100),\n",
       " (10021, 2100),\n",
       " (10028, 2100),\n",
       " (10035, 2100),\n",
       " (10042, 2100),\n",
       " (10049, 2100),\n",
       " (10056, 2100),\n",
       " (10063, 2100),\n",
       " (10070, 2100),\n",
       " (10077, 2100),\n",
       " (10084, 2100),\n",
       " (10091, 2100),\n",
       " (10098, 2100)]"
      ]
     },
     "execution_count": 19,
     "metadata": {},
     "output_type": "execute_result"
    }
   ],
   "source": [
    "%time precision(10000,10100,1000)"
   ]
  },
  {
   "cell_type": "code",
   "execution_count": 20,
   "metadata": {
    "collapsed": false
   },
   "outputs": [
    {
     "name": "stdout",
     "output_type": "stream",
     "text": [
      "CPU times: user 15.9 s, sys: 28 ms, total: 15.9 s\n",
      "Wall time: 15.9 s\n"
     ]
    },
    {
     "data": {
      "text/plain": [
       "[(100000, 21100),\n",
       " (100007, 21100),\n",
       " (100014, 21100),\n",
       " (100021, 21100),\n",
       " (100028, 21100),\n",
       " (100035, 21100),\n",
       " (100042, 21100),\n",
       " (100049, 21100),\n",
       " (100056, 21100),\n",
       " (100063, 21100),\n",
       " (100070, 21100),\n",
       " (100077, 21100),\n",
       " (100084, 21100),\n",
       " (100091, 21100),\n",
       " (100098, 21100),\n",
       " (100105, 21100),\n",
       " (100112, 21100),\n",
       " (100119, 21100),\n",
       " (100126, 21100),\n",
       " (100133, 21100),\n",
       " (100140, 21100),\n",
       " (100147, 21100),\n",
       " (100154, 21100),\n",
       " (100161, 21100),\n",
       " (100168, 21100),\n",
       " (100175, 21100),\n",
       " (100182, 21100),\n",
       " (100189, 21100),\n",
       " (100196, 21100)]"
      ]
     },
     "execution_count": 20,
     "metadata": {},
     "output_type": "execute_result"
    }
   ],
   "source": [
    "%time precision(100000,100200,1000)"
   ]
  },
  {
   "cell_type": "markdown",
   "metadata": {},
   "source": [
    "Parece posible encontrar cómo depende la precisión necesaria del tamaño de los enteros que usamos como índices (el $n$ tal que calculamos $F_n$). Con estas dos catas parece que la dependencia puede ser del orden $d=n/5$. Para terminar el ejercicio hay que plantear un experimento con un rango más significativo de valores de $n$, y usar gráficas y la función de Sage $find\\_fit$ para obtener conclusiones. Observa que la función $precision$ tiene parámetros  fijos dentro del código que pueden no ser óptimos, y, por tanto, quizá conviene convertirlos en parámetros de la función y experimentar también con ellos.  "
   ]
  },
  {
   "cell_type": "code",
   "execution_count": null,
   "metadata": {
    "collapsed": true
   },
   "outputs": [],
   "source": []
  }
 ],
 "metadata": {
  "kernelspec": {
   "display_name": "SageMath 7.3",
   "language": "",
   "name": "sagemath"
  },
  "language_info": {
   "codemirror_mode": {
    "name": "ipython",
    "version": 2
   },
   "file_extension": ".py",
   "mimetype": "text/x-python",
   "name": "python",
   "nbconvert_exporter": "python",
   "pygments_lexer": "ipython2",
   "version": "2.7.10"
  }
 },
 "nbformat": 4,
 "nbformat_minor": 0
}
