{
 "cells": [
  {
   "cell_type": "markdown",
   "metadata": {},
   "source": [
    "## Ejercicio 1\n",
    "\n",
    "En primer lugar buscamos los $n$ tales que NO se cumple lo que queremos. Estoy usando \n",
    "$$1+2+3+\\dots+n=n(n+1)/2.$$"
   ]
  },
  {
   "cell_type": "code",
   "execution_count": 1,
   "metadata": {
    "collapsed": false
   },
   "outputs": [
    {
     "name": "stdout",
     "output_type": "stream",
     "text": [
      "[2, 4, 6, 10, 12, 16, 18, 22, 28, 30, 36, 40, 42, 46, 52, 58, 60, 66, 70, 72, 78, 82, 88, 96]\n"
     ]
    }
   ],
   "source": [
    "print [n for n in srange(1,100) if factorial(n)%(n*(n+1)//2)!=0] "
   ]
  },
  {
   "cell_type": "markdown",
   "metadata": {},
   "source": [
    "Son todos pares, pero no pares cualesquiera. ¿Qué distingue al $4$, o al $6$, del $8$ que no aparece? La diferencia es que $8+1=9$ no es primo, mientras que $5$ y $7$ lo son."
   ]
  },
  {
   "cell_type": "code",
   "execution_count": 2,
   "metadata": {
    "collapsed": false
   },
   "outputs": [
    {
     "name": "stdout",
     "output_type": "stream",
     "text": [
      "[1, 2, 4, 6, 10, 12, 16, 18, 22, 28, 30, 36, 40, 42, 46, 52, 58, 60, 66, 70, 72, 78, 82, 88, 96]\n"
     ]
    }
   ],
   "source": [
    "print  [n for n in srange(1,100) if is_prime(n+1)]"
   ]
  },
  {
   "cell_type": "markdown",
   "metadata": {},
   "source": [
    "El $1$ verifica que su siguiente es primo, pero también se cumple la condición que queremos ($1$ divide a factorial de $1$).\n",
    "\n",
    "El enunciado que debemos demostrar sería:\n",
    "\n",
    "\"Se verifica que $1+2+3+\\dots+n$ divide a factorial de $n$ si y sólo si $n=1$ ó $n+1$ es compuesto.\""
   ]
  },
  {
   "cell_type": "markdown",
   "metadata": {},
   "source": [
    "## Ejercicio 2"
   ]
  },
  {
   "cell_type": "code",
   "execution_count": 3,
   "metadata": {
    "collapsed": false
   },
   "outputs": [
    {
     "name": "stdout",
     "output_type": "stream",
     "text": [
      "[6, 12, 18, 24, 30, 36, 42, 48, 54, 60, 66, 72, 78, 84, 90, 96, 102, 108, 114, 120, 126, 132, 138, 144, 150, 156, 162, 168, 174, 180, 186, 192, 198, 204, 210, 216, 222, 228, 234, 240, 246, 252, 258, 264, 270, 276, 282, 288, 294, 300, 306, 312, 318, 324, 330, 336, 342, 348, 354, 360, 366, 372, 378, 384, 390, 396, 402, 408, 414, 420, 426, 432, 438, 444, 450, 456, 462, 468, 474, 480, 486, 492, 498, 504, 510, 516, 522, 528, 534, 540, 546, 552, 558, 564, 570, 576, 582, 588, 594, 600, 606, 612, 618, 624, 630, 636, 642, 648, 654, 660, 666, 672, 678, 684, 690, 696, 702, 708, 714, 720, 726, 732, 738, 744, 750, 756, 762, 768, 774, 780, 786, 792, 798, 804, 810, 816, 822, 828, 834, 840, 846, 852, 858, 864, 870, 876, 882, 888, 894, 900, 906, 912, 918, 924, 930, 936, 942, 948, 954, 960, 966, 972, 978, 984, 990, 996]\n"
     ]
    }
   ],
   "source": [
    "def buscador(k,N):\n",
    "    '''Buscamos multiplos de k que se escriban en decimal con menos de N unos''' \n",
    "    L = []\n",
    "    for int in xsrange(1,N):\n",
    "        n = ZZ([1]*int,base=10)\n",
    "        if n%k == 0:\n",
    "            L.append(int)\n",
    "    return L\n",
    "print buscador(7,10**3)\n",
    "    "
   ]
  },
  {
   "cell_type": "markdown",
   "metadata": {},
   "source": [
    "Vemos que hay muchos y, de hecho, debería haber infinitos porque el número de unos crece de $6$ en $6$."
   ]
  },
  {
   "cell_type": "code",
   "execution_count": 4,
   "metadata": {
    "collapsed": false
   },
   "outputs": [
    {
     "name": "stdout",
     "output_type": "stream",
     "text": [
      "[2, 4, 5, 6, 8, 10, 12, 14, 15, 16, 18, 20, 22, 24, 25, 26, 28, 30, 32, 34, 35, 36, 38, 40, 42, 44, 45, 46, 48, 50, 52, 54, 55, 56, 58, 60, 62, 64, 65, 66, 68, 70, 72, 74, 75, 76, 78, 80, 82, 84, 85, 86, 88, 90, 92, 94, 95, 96, 98]\n"
     ]
    }
   ],
   "source": [
    "print [k for k in srange(2,100) if buscador(k,10**3) == [] ]"
   ]
  },
  {
   "cell_type": "markdown",
   "metadata": {},
   "source": [
    "Es claro que no hay múltiplos de $k$ que se escriban sólo con unos si $k$ es par o múltiplo de $5$. "
   ]
  },
  {
   "cell_type": "code",
   "execution_count": 5,
   "metadata": {
    "collapsed": false
   },
   "outputs": [
    {
     "name": "stdout",
     "output_type": "stream",
     "text": [
      "[(3, 333), (7, 166), (9, 111), (11, 499), (13, 166), (17, 62), (19, 55), (21, 166), (23, 45), (27, 37), (29, 35), (31, 66), (33, 166), (37, 333), (39, 166), (41, 199), (43, 47), (47, 21), (49, 23), (51, 20), (53, 76), (57, 55), (59, 17), (61, 16), (63, 55), (67, 30), (69, 15), (71, 28), (73, 124), (77, 166), (79, 76), (81, 12), (83, 24), (87, 11), (89, 22), (91, 166), (93, 66), (97, 10), (99, 55)]\n"
     ]
    }
   ],
   "source": [
    "print [(k,len(buscador(k,10**3))) for k in srange(2,100) if buscador(k,10**3) != []]"
   ]
  },
  {
   "cell_type": "markdown",
   "metadata": {},
   "source": [
    "Para los enteros primos con $10$ vemos que el número que se escriben con unos es en promedio bastante grande. Debemos averiguar el motivo. \n",
    "\n",
    "1) Un número $N$ que se escribe sólo con unos es de la forma\n",
    "$$N=1+10+10^2+10^3+\\dots+10^n.$$\n",
    "\n",
    "2) Para un número $k$ que es primo con $10$ se verifica que $10$ es invertible módulo $k$.\n",
    "\n",
    "3) Si determinamos las potencias de $10$ módulo $k$, podemos calcular $N$ módulo $k$ sumando los valores obtenidos para las potencias de $10$ adecuadas. \n",
    "\n",
    "El enunciado a demostrar sería:\n",
    "\n",
    "'Existen infinitos múltiplos de $k$ que se escriben únicamente con unos si y sólo si $10$ es primo con $k$.'\n"
   ]
  },
  {
   "cell_type": "code",
   "execution_count": 6,
   "metadata": {
    "collapsed": false
   },
   "outputs": [
    {
     "name": "stdout",
     "output_type": "stream",
     "text": [
      "[3, 2, 6, 4, 5, 1, 3, 2, 6, 4, 5, 1, 3, 2, 6, 4, 5, 1, 3]\n"
     ]
    }
   ],
   "source": [
    "print [power_mod(10,n,7) for n in srange(1,20)]"
   ]
  },
  {
   "cell_type": "code",
   "execution_count": 7,
   "metadata": {
    "collapsed": false
   },
   "outputs": [
    {
     "name": "stdout",
     "output_type": "stream",
     "text": [
      "[1, 1, 1, 1, 1, 1, 1, 1, 1, 1, 1, 1, 1, 1, 1, 1, 1, 1, 1]\n"
     ]
    }
   ],
   "source": [
    "print [power_mod(10,n,9) for n in srange(1,20)]"
   ]
  },
  {
   "cell_type": "markdown",
   "metadata": {},
   "source": [
    "Cuando el módulo es primo con $10$, las potencias de $10$ son todas elementos en "
   ]
  },
  {
   "cell_type": "code",
   "execution_count": 8,
   "metadata": {
    "collapsed": false
   },
   "outputs": [
    {
     "name": "stdout",
     "output_type": "stream",
     "text": [
      "[10, 10, 10, 10, 10, 10, 10, 10, 10, 10, 10, 10, 10, 10, 10, 10, 10, 10, 10, 10, 10, 10, 10, 10, 10, 10, 10, 10, 10, 10, 10, 10, 10, 10, 10, 10, 10, 10, 10, 10, 10, 10, 10, 10, 10, 10, 10, 10, 10]\n"
     ]
    }
   ],
   "source": [
    "print [power_mod(10,n,15) for n in srange(1,50)]"
   ]
  },
  {
   "cell_type": "code",
   "execution_count": 9,
   "metadata": {
    "collapsed": false
   },
   "outputs": [
    {
     "name": "stdout",
     "output_type": "stream",
     "text": [
      "[10, 0, 0, 0, 0, 0, 0, 0, 0, 0, 0, 0, 0, 0, 0, 0, 0, 0, 0, 0, 0, 0, 0, 0, 0, 0, 0, 0, 0, 0, 0, 0, 0, 0, 0, 0, 0, 0, 0, 0, 0, 0, 0, 0, 0, 0, 0, 0, 0]\n"
     ]
    }
   ],
   "source": [
    "print [power_mod(10,n,25) for n in srange(1,50)]"
   ]
  },
  {
   "cell_type": "code",
   "execution_count": 10,
   "metadata": {
    "collapsed": false
   },
   "outputs": [
    {
     "name": "stdout",
     "output_type": "stream",
     "text": [
      "[10, 100, 20, 60, 40, 120, 80, 100, 20, 60, 40, 120, 80, 100, 20, 60, 40, 120, 80, 100, 20, 60, 40, 120, 80, 100, 20, 60, 40, 120, 80, 100, 20, 60, 40, 120, 80, 100, 20, 60, 40, 120, 80, 100, 20, 60, 40, 120, 80]\n"
     ]
    }
   ],
   "source": [
    "print [power_mod(10,n,5*4*7) for n in srange(1,50)]"
   ]
  },
  {
   "cell_type": "code",
   "execution_count": 11,
   "metadata": {
    "collapsed": false
   },
   "outputs": [
    {
     "name": "stdout",
     "output_type": "stream",
     "text": [
      "[10, 30, 20, 25, 5, 15, 10, 30, 20, 25, 5, 15, 10, 30, 20, 25, 5, 15, 10, 30, 20, 25, 5, 15, 10, 30, 20, 25, 5, 15, 10, 30, 20, 25, 5, 15, 10, 30, 20, 25, 5, 15, 10, 30, 20, 25, 5, 15, 10]\n"
     ]
    }
   ],
   "source": [
    "print [power_mod(10,n,5*7) for n in srange(1,50)]"
   ]
  },
  {
   "cell_type": "markdown",
   "metadata": {},
   "source": [
    "Si $k$ es primo con $10$, $10$ es invertible en $\\mathbb{Z}_k$ y genera un subgrupo del grupo multiplicativo de unidades, es decir, hay una potencia de $10$ que es congruente con $1$. Cuando no es primo con $10$ ninguna potencia de $10$ puede valer $1$, porque entonces $10$ sería invertible. Estas observaciones son suficientes paraterminar una demostración."
   ]
  },
  {
   "cell_type": "markdown",
   "metadata": {},
   "source": [
    "## Ejercicio 3"
   ]
  },
  {
   "cell_type": "code",
   "execution_count": 12,
   "metadata": {
    "collapsed": false
   },
   "outputs": [
    {
     "name": "stdout",
     "output_type": "stream",
     "text": [
      "94143178827\n",
      "9\n"
     ]
    }
   ],
   "source": [
    "def cifra(k,n):\n",
    "    return (k^n).digits(base=10)[-1]\n",
    "\n",
    "print 3^23; print cifra(3,23)"
   ]
  },
  {
   "cell_type": "code",
   "execution_count": 13,
   "metadata": {
    "collapsed": false
   },
   "outputs": [
    {
     "data": {
      "text/plain": [
       "[(5, 3, 3),\n",
       " (15, 3, 3),\n",
       " (78, 3, 3),\n",
       " (88, 3, 3),\n",
       " (98, 3, 3),\n",
       " (108, 3, 3),\n",
       " (118, 3, 3),\n",
       " (181, 3, 3),\n",
       " (191, 3, 3),\n",
       " (201, 3, 3),\n",
       " (211, 3, 3),\n",
       " (274, 3, 3),\n",
       " (284, 3, 3),\n",
       " (294, 3, 3),\n",
       " (304, 3, 3),\n",
       " (367, 3, 3),\n",
       " (377, 3, 3),\n",
       " (387, 3, 3),\n",
       " (397, 3, 3),\n",
       " (407, 3, 3),\n",
       " (470, 3, 3),\n",
       " (480, 3, 3),\n",
       " (490, 3, 3),\n",
       " (500, 3, 3),\n",
       " (563, 3, 3),\n",
       " (573, 3, 3),\n",
       " (583, 3, 3),\n",
       " (593, 3, 3),\n",
       " (603, 3, 3),\n",
       " (666, 3, 3),\n",
       " (676, 3, 3),\n",
       " (686, 3, 3),\n",
       " (696, 3, 3),\n",
       " (759, 3, 3),\n",
       " (769, 3, 3),\n",
       " (779, 3, 3),\n",
       " (789, 3, 3),\n",
       " (852, 3, 3),\n",
       " (862, 3, 3),\n",
       " (872, 3, 3),\n",
       " (882, 3, 3),\n",
       " (892, 3, 3),\n",
       " (955, 3, 3),\n",
       " (965, 3, 3),\n",
       " (975, 3, 3),\n",
       " (985, 3, 3)]"
      ]
     },
     "execution_count": 13,
     "metadata": {},
     "output_type": "execute_result"
    }
   ],
   "source": [
    "[(n,cifra(2,n),cifra(5,n)) for n in srange(1,1000) if cifra(2,n)==cifra(5,n)]"
   ]
  },
  {
   "cell_type": "markdown",
   "metadata": {},
   "source": [
    "Parece claro que cuando la cifra dominante coincide es igual a $3$. Pero esto no ayuda mucho a demostrar que es cierto. "
   ]
  },
  {
   "cell_type": "markdown",
   "metadata": {},
   "source": [
    "## Ejercicio 4"
   ]
  },
  {
   "cell_type": "code",
   "execution_count": 14,
   "metadata": {
    "collapsed": false
   },
   "outputs": [
    {
     "name": "stdout",
     "output_type": "stream",
     "text": [
      "1 5\n",
      "2 2^2 * 5\n",
      "3 5 * 17\n",
      "4 2^2 * 5 * 13\n",
      "5 17 * 37\n",
      "6 2^2 * 5^2 * 13\n",
      "7 5 * 13 * 37\n",
      "8 2^2 * 5^2 * 41\n",
      "9 5 * 13 * 101\n",
      "10 2^2 * 41 * 61\n",
      "11 5 * 29 * 101\n",
      "12 2^2 * 5 * 17 * 61\n",
      "13 5 * 29 * 197\n",
      "14 2^2 * 5 * 17 * 113\n",
      "15 197 * 257\n",
      "16 2^2 * 5 * 29 * 113\n",
      "17 5^2 * 13 * 257\n",
      "18 2^2 * 5 * 29 * 181\n",
      "19 5^2 * 13 * 401\n",
      "20 2^2 * 13 * 17 * 181\n"
     ]
    }
   ],
   "source": [
    "for n in srange(1,21):\n",
    "    print n,factor(n^4+4)"
   ]
  },
  {
   "cell_type": "markdown",
   "metadata": {},
   "source": [
    "Vemos que  los $n$ que no son múltiplos de $5$ todos tienen el $5$ como factor, y cuando $n$ es múltiplo de $5$ el $5$ no aparece como factor aunque sigue siendo compuesto. \n",
    "\n",
    "Además, el polinomio $x^4+4$ siempre se puede factorizar, y esto  ayuda mucho a  que los enteros $n^4+4$ siempre se puedan factorizar. "
   ]
  },
  {
   "cell_type": "code",
   "execution_count": 15,
   "metadata": {
    "collapsed": false
   },
   "outputs": [
    {
     "data": {
      "text/plain": [
       "(x^2 + 2*x + 2)*(x^2 - 2*x + 2)"
      ]
     },
     "execution_count": 15,
     "metadata": {},
     "output_type": "execute_result"
    }
   ],
   "source": [
    "factor(x^4+4)"
   ]
  },
  {
   "cell_type": "markdown",
   "metadata": {
    "collapsed": true
   },
   "source": []
  }
 ],
 "metadata": {
  "kernelspec": {
   "display_name": "SageMath 7.3",
   "language": "",
   "name": "sagemath"
  },
  "language_info": {
   "codemirror_mode": {
    "name": "ipython",
    "version": 2
   },
   "file_extension": ".py",
   "mimetype": "text/x-python",
   "name": "python",
   "nbconvert_exporter": "python",
   "pygments_lexer": "ipython2",
   "version": "2.7.10"
  }
 },
 "nbformat": 4,
 "nbformat_minor": 0
}
