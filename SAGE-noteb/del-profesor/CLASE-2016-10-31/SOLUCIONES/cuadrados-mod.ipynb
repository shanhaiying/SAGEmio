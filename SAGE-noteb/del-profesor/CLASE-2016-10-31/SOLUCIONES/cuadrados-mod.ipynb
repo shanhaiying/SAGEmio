{
 "cells": [
  {
   "cell_type": "markdown",
   "metadata": {},
   "source": [
    "<p>Queremos estudiar las &oacute;rbitas de la funci&oacute;n $f(n):=n^2$ en el conjunto finito de&nbsp;clases de restos m&oacute;dulo $m$. En particular, queremos determinar las &oacute;rbitas cerradas (tambi&eacute;n llamadas $ciclos$), &nbsp;es decir, &oacute;rbitas de elementos $n$ tales que aplicando repetidas veces $f$ volvemos a obtener el mismo &nbsp;$n$. Puede haber ciclos que consistan en un &uacute;nico elemento $n$ tal que $f(n)=n,$ y decimos en este caso que $n$ es un punto fijo de $f$.</p>\n",
    "<ol>\n",
    "<li><span style=\"color: #ff0000;\">Define una funci&oacute;n de SAGE $ciclos(f,m)$</span> que devuelva una lista de todos los ciclos de $f$ en &nbsp;el conjunto &nbsp;de&nbsp;clases de restos m&oacute;dulo $m$, cada ciclo una lista de los enteros que forman parte del ciclo. En principio, <span style=\"color: #ff0000;\">no hay problema</span> en que haya ciclos repetidos en la lista que devuelve tu funci&oacute;n.&nbsp;</li>\n",
    "<li><span style=\"color: #ff0000;\">Experimenta con los resultados de tu funci&oacute;n</span>, para diversos valores de $m$ primos y compuestos, &nbsp;y trata de obtener conjeturas razonables sobre los ciclos de $f$.</li>\n",
    "</ol>\n",
    "\n",
    "<h4>Apartado 1</h4>"
   ]
  },
  {
   "cell_type": "code",
   "execution_count": 27,
   "metadata": {
    "collapsed": false
   },
   "outputs": [],
   "source": [
    "def f(n,m):\n",
    "    return n^2%m"
   ]
  },
  {
   "cell_type": "code",
   "execution_count": 28,
   "metadata": {
    "collapsed": false
   },
   "outputs": [],
   "source": [
    "def orbita_c(f,n,m):\n",
    "    L = []\n",
    "    while not n in L:\n",
    "        L.append(n)\n",
    "        n = f(n,m)\n",
    "    k = L.index(n)    \n",
    "    return L[k:]"
   ]
  },
  {
   "cell_type": "code",
   "execution_count": 29,
   "metadata": {
    "collapsed": false
   },
   "outputs": [],
   "source": [
    "def ciclos(f,m):\n",
    "    L = []\n",
    "    for n in srange(m):\n",
    "        L.append(orbita_c(f,n,m))\n",
    "    return L"
   ]
  },
  {
   "cell_type": "markdown",
   "metadata": {},
   "source": [
    "<h4>Apartado 2</h4>"
   ]
  },
  {
   "cell_type": "code",
   "execution_count": 30,
   "metadata": {
    "collapsed": false
   },
   "outputs": [
    {
     "data": {
      "text/plain": [
       "[[0], [1], [2, 4], [2, 4], [4, 2], [4, 2], [1]]"
      ]
     },
     "execution_count": 30,
     "metadata": {},
     "output_type": "execute_result"
    }
   ],
   "source": [
    "ciclos(f,7)"
   ]
  },
  {
   "cell_type": "code",
   "execution_count": 31,
   "metadata": {
    "collapsed": false
   },
   "outputs": [
    {
     "data": {
      "text/plain": [
       "[[0], [1], [4, 5, 3, 9], [3, 9, 4, 5], [4, 5, 3, 9], [5, 3, 9, 4], [3, 9, 4, 5], [5, 3, 9,\n",
       "4], [9, 4, 5, 3], [9, 4, 5, 3], [1]]"
      ]
     },
     "execution_count": 31,
     "metadata": {},
     "output_type": "execute_result"
    }
   ],
   "source": [
    "ciclos(f,11)"
   ]
  },
  {
   "cell_type": "code",
   "execution_count": 32,
   "metadata": {
    "collapsed": false
   },
   "outputs": [
    {
     "data": {
      "text/plain": [
       "[[0], [1], [3, 9], [3, 9], [3, 9], [1], [9, 3], [9, 3], [1], [9, 3], [9, 3], [3, 9], [1]]"
      ]
     },
     "execution_count": 32,
     "metadata": {},
     "output_type": "execute_result"
    }
   ],
   "source": [
    "ciclos(f,13)"
   ]
  },
  {
   "cell_type": "code",
   "execution_count": 33,
   "metadata": {
    "collapsed": false
   },
   "outputs": [
    {
     "data": {
      "text/plain": [
       "[[0], [1], [2, 4], [9, 11], [4, 2], [11, 9], [8], [7], [8], [9, 11], [2, 4], [11, 9], [4,\n",
       "2], [1]]"
      ]
     },
     "execution_count": 33,
     "metadata": {},
     "output_type": "execute_result"
    }
   ],
   "source": [
    "ciclos(f,14)"
   ]
  },
  {
   "cell_type": "markdown",
   "metadata": {},
   "source": [
    "<p>&iquest;Qu&eacute; observamos con estos pocos ejemplos?&nbsp;</p>\n",
    "<ol>\n",
    "<li>Parece que para $m$ primo los &uacute;nicos puntos fijos son $0$ y $1$, mientras que para $m$ compuesto hay m&aacute;s.</li>\n",
    "<li>Parece que para $m$ primo &nbsp;hay un &uacute;nico ciclo de longitud mayor que $1$, mientras que para $m$ compuesto hay m&aacute;s de uno.&nbsp;</li>\n",
    "</ol>\n",
    "<p>Usando estos pocos ejemplos, parece claro que debemos fijarnos el n&uacute;mero de puntos fijos y en el n&uacute;mero de ciclos, y en que el comportamiento de estos n&uacute;meros difiere claramente entre el caso $m$ primo o $m$ compuesto. &nbsp;&nbsp;</p>\n",
    "\n",
    "<h4>COMPLEMENTO</h4>\n",
    "<p>Tratemos de comprobar sistem&aacute;ticamente nuestras conjeturas.</p>\n",
    "\n",
    "<h4>Puntos fijos:</h4>"
   ]
  },
  {
   "cell_type": "code",
   "execution_count": 34,
   "metadata": {
    "collapsed": false
   },
   "outputs": [],
   "source": [
    "def puntos_fijos(f,m):\n",
    "    L = ciclos(f,m)\n",
    "    A = set([])\n",
    "    for item in L:\n",
    "        if len(item) == 1:\n",
    "            item.sort()\n",
    "            A.add(tuple(item))\n",
    "    return A"
   ]
  },
  {
   "cell_type": "code",
   "execution_count": 35,
   "metadata": {
    "collapsed": false
   },
   "outputs": [
    {
     "data": {
      "text/plain": [
       "[(7, 2), (11, 2), (13, 2), (17, 2), (19, 2), (23, 2), (29, 2), (31, 2), (37, 2), (41, 2),\n",
       "(43, 2), (47, 2), (53, 2), (59, 2), (61, 2), (67, 2), (71, 2), (73, 2), (79, 2), (83, 2),\n",
       "(89, 2), (97, 2)]"
      ]
     },
     "execution_count": 35,
     "metadata": {},
     "output_type": "execute_result"
    }
   ],
   "source": [
    "[(m,len(puntos_fijos(f,m))) for m in prime_range(7,100)]"
   ]
  },
  {
   "cell_type": "code",
   "execution_count": 36,
   "metadata": {
    "collapsed": false
   },
   "outputs": [
    {
     "data": {
      "text/plain": [
       "[]"
      ]
     },
     "execution_count": 36,
     "metadata": {},
     "output_type": "execute_result"
    }
   ],
   "source": [
    "[(m,len(puntos_fijos(f,m))) for m in prime_range(7,1000) if len(puntos_fijos(f,m)) != 2]"
   ]
  },
  {
   "cell_type": "code",
   "execution_count": 37,
   "metadata": {
    "collapsed": false
   },
   "outputs": [
    {
     "data": {
      "text/plain": [
       "[(8, 2), (9, 2), (16, 2), (25, 2), (27, 2), (32, 2), (49, 2), (64, 2), (81, 2), (121, 2),\n",
       "(125, 2), (128, 2), (169, 2), (243, 2), (256, 2), (289, 2), (343, 2), (361, 2), (512, 2),\n",
       "(529, 2), (625, 2), (729, 2), (841, 2), (961, 2)]"
      ]
     },
     "execution_count": 37,
     "metadata": {},
     "output_type": "execute_result"
    }
   ],
   "source": [
    "[(m,len(puntos_fijos(f,m))) for m in srange(7,1000) if not is_prime(m) and len(puntos_fijos(f,m)) == 2]"
   ]
  },
  {
   "cell_type": "markdown",
   "metadata": {},
   "source": [
    "<p>&iquest;Qu&eacute; tienen en com&uacute;n todos estos $m$?</p>"
   ]
  },
  {
   "cell_type": "code",
   "execution_count": 38,
   "metadata": {
    "collapsed": false
   },
   "outputs": [
    {
     "data": {
      "text/plain": [
       "[(2^3, 2), (3^2, 2), (2^4, 2), (5^2, 2), (3^3, 2), (2^5, 2), (7^2, 2), (2^6, 2), (3^4, 2),\n",
       "(11^2, 2), (5^3, 2), (2^7, 2), (13^2, 2), (3^5, 2), (2^8, 2), (17^2, 2), (7^3, 2), (19^2,\n",
       "2), (2^9, 2), (23^2, 2), (5^4, 2), (3^6, 2), (29^2, 2), (31^2, 2)]"
      ]
     },
     "execution_count": 38,
     "metadata": {},
     "output_type": "execute_result"
    }
   ],
   "source": [
    "[(factor(m),len(puntos_fijos(f,m))) for m in srange(7,1000) if not is_prime(m) and len(puntos_fijos(f,m)) == 2]"
   ]
  },
  {
   "cell_type": "markdown",
   "metadata": {},
   "source": [
    "<p>Parece claro que todos son de la forma $p^k$ con $p$ primo. Debemos refinar nuestra conjetura:</p>\n",
    "<p>\"El n&uacute;mero de puntos fijos es exactamente $2$, que son entonces $0$ y $1$, si y s&oacute;lo si $m$ es de la forma $p^k$ con $p$ primo.\"</p>\n",
    "\n",
    "<h4>Ciclos:</h4>"
   ]
  },
  {
   "cell_type": "code",
   "execution_count": 39,
   "metadata": {
    "collapsed": false
   },
   "outputs": [],
   "source": [
    "def ciclos_distintos(f,m):\n",
    "    L = ciclos(f,m)\n",
    "    A = set([])\n",
    "    for item in L:\n",
    "        if len(item)>1:\n",
    "            item.sort()\n",
    "            A.add(tuple(item))\n",
    "    return A"
   ]
  },
  {
   "cell_type": "code",
   "execution_count": 40,
   "metadata": {
    "collapsed": false
   },
   "outputs": [
    {
     "data": {
      "text/plain": [
       "set([(3, 4, 5, 7, 9, 12, 15, 16, 17, 19, 20, 21, 22, 25, 26, 27, 28, 29, 35, 36, 41, 45,\n",
       "46, 48, 49, 51, 53, 57)])"
      ]
     },
     "execution_count": 40,
     "metadata": {},
     "output_type": "execute_result"
    }
   ],
   "source": [
    "ciclos_distintos(f,nth_prime(17))"
   ]
  },
  {
   "cell_type": "code",
   "execution_count": 41,
   "metadata": {
    "collapsed": false
   },
   "outputs": [
    {
     "data": {
      "text/plain": [
       "[(7, 1), (11, 1), (13, 1), (17, 0), (19, 2), (23, 1), (29, 2), (31, 4), (37, 2), (41, 1),\n",
       "(43, 5), (47, 2), (53, 1), (59, 1), (61, 4), (67, 4), (71, 5), (73, 2), (79, 4), (83, 2),\n",
       "(89, 1), (97, 1)]"
      ]
     },
     "execution_count": 41,
     "metadata": {},
     "output_type": "execute_result"
    }
   ],
   "source": [
    "[(m,len(ciclos_distintos(f,m))) for m in prime_range(7,100)]"
   ]
  },
  {
   "cell_type": "markdown",
   "metadata": {},
   "source": [
    "<p>Vemos entonces que la cosa es m&aacute;s complicada de los que esper&aacute;bamos. En particular, hay primos para los que los &uacute;nicos ciclos son los puntos fijos:</p>"
   ]
  },
  {
   "cell_type": "code",
   "execution_count": 42,
   "metadata": {
    "collapsed": false
   },
   "outputs": [
    {
     "data": {
      "text/plain": [
       "[[0], [1], [1], [1], [1], [1], [1], [1], [1], [1], [1], [1], [1], [1], [1], [1], [1]]"
      ]
     },
     "execution_count": 42,
     "metadata": {},
     "output_type": "execute_result"
    }
   ],
   "source": [
    "ciclos(f,17)"
   ]
  },
  {
   "cell_type": "code",
   "execution_count": 43,
   "metadata": {
    "collapsed": false
   },
   "outputs": [
    {
     "data": {
      "text/plain": [
       "[(17, 0), (257, 0)]"
      ]
     },
     "execution_count": 43,
     "metadata": {},
     "output_type": "execute_result"
    }
   ],
   "source": [
    "[(m,len(ciclos_distintos(f,m))) for m in prime_range(7,1000) if len(ciclos_distintos(f,m)) == 0]"
   ]
  },
  {
   "cell_type": "code",
   "execution_count": 44,
   "metadata": {
    "collapsed": false
   },
   "outputs": [
    {
     "data": {
      "text/plain": [
       "[(5, 0), (17, 0), (257, 0), (65537, 0)]"
      ]
     },
     "execution_count": 44,
     "metadata": {},
     "output_type": "execute_result"
    }
   ],
   "source": [
    "[(2^n+1,len(ciclos_distintos(f,2^n+1))) for n in srange(2,100) if is_prime(2^n+1)]"
   ]
  },
  {
   "cell_type": "markdown",
   "metadata": {},
   "source": [
    "<p>Parece que esto ocurre para primos que son el siguiente entero a una potencia de $2$. Vemos que no hay muchos de esos. Estudiemos el caso en que el n&uacute;mero de ciclos es $2$:&nbsp;</p>"
   ]
  },
  {
   "cell_type": "code",
   "execution_count": 45,
   "metadata": {
    "collapsed": false
   },
   "outputs": [
    {
     "data": {
      "text/plain": [
       "[(19, 2), (29, 2), (37, 2), (47, 2), (73, 2), (83, 2), (101, 2), (113, 2), (137, 2), (317,\n",
       "2), (383, 2), (389, 2), (401, 2), (449, 2), (479, 2), (569, 2), (577, 2), (677, 2), (719,\n",
       "2), (773, 2), (797, 2)]"
      ]
     },
     "execution_count": 45,
     "metadata": {},
     "output_type": "execute_result"
    }
   ],
   "source": [
    "[(m,len(ciclos_distintos(f,m))) for m in prime_range(7,1000) if len(ciclos_distintos(f,m)) == 2]"
   ]
  },
  {
   "cell_type": "markdown",
   "metadata": {},
   "source": [
    "<p>Los $m$ que estamos estudiando son primos, pero es posible que &nbsp; debamos tener en cuanta la factorizaci&oacute;n de $m-1$. &iquest;Por qu&eacute; $m-1$? Debe ser relevante porque elevar al cuadrado es un homomorfismo de grupos del grupo de elementos no nulos, que tiene $m-1$, &nbsp;elementos de $\\mathbb{Z}_p$, con la operaci&oacute;n producto en s&iacute; mismo.&nbsp;</p>"
   ]
  },
  {
   "cell_type": "code",
   "execution_count": 46,
   "metadata": {
    "collapsed": false
   },
   "outputs": [
    {
     "data": {
      "text/plain": [
       "[(2 * 3^2, 2), (2^2 * 7, 2), (2^2 * 3^2, 2), (2 * 23, 2), (2^3 * 3^2, 2), (2 * 41, 2),\n",
       "(2^2 * 5^2, 2), (2^4 * 7, 2), (2^3 * 17, 2), (2^2 * 79, 2), (2 * 191, 2), (2^2 * 97, 2),\n",
       "(2^4 * 5^2, 2), (2^6 * 7, 2), (2 * 239, 2), (2^3 * 71, 2), (2^6 * 3^2, 2), (2^2 * 13^2,\n",
       "2), (2 * 359, 2), (2^2 * 193, 2), (2^2 * 199, 2)]"
      ]
     },
     "execution_count": 46,
     "metadata": {},
     "output_type": "execute_result"
    }
   ],
   "source": [
    "[(factor(m-1),len(ciclos_distintos(f,m))) for m in prime_range(7,1000) if len(ciclos_distintos(f,m)) == 2]"
   ]
  },
  {
   "cell_type": "code",
   "execution_count": 47,
   "metadata": {
    "collapsed": false
   },
   "outputs": [
    {
     "data": {
      "text/plain": [
       "[(2^2 * 3^3, 3), (2^2 * 43, 3), (2 * 5^3, 3), (2^4 * 3^3, 3)]"
      ]
     },
     "execution_count": 47,
     "metadata": {},
     "output_type": "execute_result"
    }
   ],
   "source": [
    "[(factor(m-1),len(ciclos_distintos(f,m))) for m in prime_range(7,1000) if len(ciclos_distintos(f,m)) == 3]"
   ]
  },
  {
   "cell_type": "code",
   "execution_count": 48,
   "metadata": {
    "collapsed": false
   },
   "outputs": [
    {
     "data": {
      "text/plain": [
       "[(2 * 3 * 5, 4), (2^2 * 3 * 5, 4), (2 * 3 * 11, 4), (2 * 3 * 13, 4), (2^2 * 3 * 13, 4), (2\n",
       "* 3^4, 4), (2 * 5 * 19, 4), (2^2 * 7^2, 4), (2 * 3 * 37, 4), (2 * 113, 4), (2^2 * 3 * 19,\n",
       "4), (2^4 * 3 * 5, 4), (2^3 * 3 * 13, 4), (2^2 * 3 * 29, 4), (2 * 3 * 61, 4), (2 * 11 * 19,\n",
       "4), (2^3 * 3 * 19, 4), (2 * 3 * 83, 4), (2 * 281, 4), (2 * 3 * 101, 4), (2 * 3 * 107, 4),\n",
       "(2^2 * 3 * 59, 4), (2^2 * 3 * 61, 4), (2^3 * 5 * 19, 4), (2 * 3 * 131, 4), (2^4 * 5 * 11,\n",
       "4), (2^2 * 3 * 83, 4)]"
      ]
     },
     "execution_count": 48,
     "metadata": {},
     "output_type": "execute_result"
    }
   ],
   "source": [
    "[(factor(m-1),len(ciclos_distintos(f,m))) for m in prime_range(7,1000) if len(ciclos_distintos(f,m)) == 4]"
   ]
  },
  {
   "cell_type": "code",
   "execution_count": 49,
   "metadata": {
    "collapsed": false
   },
   "outputs": [
    {
     "data": {
      "text/plain": [
       "[(2 * 3 * 7, 5), (2 * 5 * 7, 5), (2 * 3 * 23, 5), (2^2 * 3 * 23, 5), (2^3 * 5 * 7, 5), (2\n",
       "* 3 * 47, 5), (2^4 * 3 * 7, 5), (2^2 * 5 * 23, 5), (2 * 3^5, 5), (2 * 251, 5), (2 * 13 *\n",
       "23, 5), (2^3 * 7 * 11, 5), (2 * 3 * 103, 5), (2^5 * 3 * 7, 5), (2 * 7 * 53, 5), (2 * 7 *\n",
       "59, 5), (2^2 * 3 * 71, 5), (2^2 * 5 * 47, 5)]"
      ]
     },
     "execution_count": 49,
     "metadata": {},
     "output_type": "execute_result"
    }
   ],
   "source": [
    "[(factor(m-1),len(ciclos_distintos(f,m))) for m in prime_range(7,1000) if len(ciclos_distintos(f,m)) == 5]"
   ]
  },
  {
   "cell_type": "code",
   "execution_count": 50,
   "metadata": {
    "collapsed": false
   },
   "outputs": [
    {
     "data": {
      "text/plain": [
       "[(2 * 3, 1), (2 * 5, 1), (2^2 * 3, 1), (2 * 11, 1), (2^3 * 5, 1), (2^2 * 13, 1), (2 * 29,\n",
       "1), (2^3 * 11, 1), (2^5 * 3, 1), (2 * 53, 1), (2^2 * 37, 1), (2 * 83, 1), (2^6 * 3, 1),\n",
       "(2^3 * 29, 1), (2 * 131, 1), (2^2 * 67, 1), (2 * 173, 1), (2^5 * 11, 1), (2 * 179, 1),\n",
       "(2^2 * 139, 1), (2 * 293, 1), (2^4 * 37, 1), (2^7 * 5, 1), (2^2 * 163, 1), (2^8 * 3, 1),\n",
       "(2^3 * 101, 1), (2 * 419, 1), (2^3 * 107, 1), (2 * 443, 1), (2^5 * 29, 1), (2^4 * 61, 1),\n",
       "(2 * 491, 1)]"
      ]
     },
     "execution_count": 50,
     "metadata": {},
     "output_type": "execute_result"
    }
   ],
   "source": [
    "[(factor(m-1),len(ciclos_distintos(f,m))) for m in prime_range(7,1000) if len(ciclos_distintos(f,m)) == 1]"
   ]
  },
  {
   "cell_type": "markdown",
   "metadata": {},
   "source": [
    "<p><span style=\"color: #ff0000;\">Analiza estos resultados y trata de enunciar conjeturas razonables y de comprobarlas hasta donde la m&aacute;quina lo permita.&nbsp;</span></p>"
   ]
  }
 ],
 "metadata": {
  "kernelspec": {
   "display_name": "Python [Root]",
   "language": "python",
   "name": "Python [Root]"
  },
  "language_info": {
   "codemirror_mode": {
    "name": "ipython",
    "version": 2
   },
   "file_extension": ".py",
   "mimetype": "text/x-python",
   "name": "python",
   "nbconvert_exporter": "python",
   "pygments_lexer": "ipython2",
   "version": "2.7.12"
  }
 },
 "nbformat": 4,
 "nbformat_minor": 0
}
