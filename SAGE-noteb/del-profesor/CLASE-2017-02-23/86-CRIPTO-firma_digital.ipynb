{
 "cells": [
  {
   "cell_type": "markdown",
   "metadata": {},
   "source": [
    "## 1 Generamos claves"
   ]
  },
  {
   "cell_type": "code",
   "execution_count": 1,
   "metadata": {
    "collapsed": false
   },
   "outputs": [],
   "source": [
    "p = random_prime(floor(sqrt(16^65)),lbound=16^16)"
   ]
  },
  {
   "cell_type": "code",
   "execution_count": 2,
   "metadata": {
    "collapsed": false
   },
   "outputs": [],
   "source": [
    "q= random_prime(floor(sqrt(16^65)),lbound=16^16)"
   ]
  },
  {
   "cell_type": "code",
   "execution_count": 3,
   "metadata": {
    "collapsed": false
   },
   "outputs": [
    {
     "name": "stdout",
     "output_type": "stream",
     "text": [
      "491738350766241989631627904127274123936049658144240342996382696574165712559223\n"
     ]
    }
   ],
   "source": [
    "n = p*q;print n"
   ]
  },
  {
   "cell_type": "code",
   "execution_count": 4,
   "metadata": {
    "collapsed": false
   },
   "outputs": [
    {
     "name": "stdout",
     "output_type": "stream",
     "text": [
      "211580279671875664539064970465275192182\n"
     ]
    }
   ],
   "source": [
    "print p-q"
   ]
  },
  {
   "cell_type": "code",
   "execution_count": 5,
   "metadata": {
    "collapsed": false
   },
   "outputs": [],
   "source": [
    "Phi = (p-1)*(q-1)"
   ]
  },
  {
   "cell_type": "code",
   "execution_count": 6,
   "metadata": {
    "collapsed": false
   },
   "outputs": [],
   "source": [
    "def invertible(Phi):\n",
    "    for int in xsrange(16^7,16^10):\n",
    "        if gcd(int,Phi)==1:\n",
    "            return int,xgcd(int,Phi)\n",
    "            break"
   ]
  },
  {
   "cell_type": "code",
   "execution_count": 7,
   "metadata": {
    "collapsed": false
   },
   "outputs": [
    {
     "data": {
      "text/plain": [
       "(268435457,\n",
       " (1,\n",
       "  42259892792297766894874241703280187087936385385371412252120396833930747587073,\n",
       "  -23069288))"
      ]
     },
     "execution_count": 7,
     "metadata": {},
     "output_type": "execute_result"
    }
   ],
   "source": [
    "SOL = invertible(Phi);SOL"
   ]
  },
  {
   "cell_type": "code",
   "execution_count": 8,
   "metadata": {
    "collapsed": false
   },
   "outputs": [
    {
     "data": {
      "text/plain": [
       "1"
      ]
     },
     "execution_count": 8,
     "metadata": {},
     "output_type": "execute_result"
    }
   ],
   "source": [
    "SOL[0]*SOL[1][1]+Phi*SOL[1][2]"
   ]
  },
  {
   "cell_type": "code",
   "execution_count": 9,
   "metadata": {
    "collapsed": false
   },
   "outputs": [
    {
     "name": "stdout",
     "output_type": "stream",
     "text": [
      "42259892792297766894874241703280187087936385385371412252120396833930747587073\n"
     ]
    }
   ],
   "source": [
    "clave_pr=SOL[1][1]%Phi;print clave_pr"
   ]
  },
  {
   "cell_type": "code",
   "execution_count": 10,
   "metadata": {
    "collapsed": false
   },
   "outputs": [
    {
     "data": {
      "text/plain": [
       "True"
      ]
     },
     "execution_count": 10,
     "metadata": {},
     "output_type": "execute_result"
    }
   ],
   "source": [
    "16^65 > n > 16^64 #Deben cumplirse"
   ]
  },
  {
   "cell_type": "markdown",
   "metadata": {},
   "source": [
    "Ahora usamos las claves de este usuario (llamémosle $B$), y las del profesor si $B$ quiere encriptar el mensaje, para enviar al  profesor un mensaje firmado.\n",
    "La clave pública de $B$ es (n,SOL[0]) y su clave privada es *clave_pr*."
   ]
  },
  {
   "cell_type": "markdown",
   "metadata": {},
   "source": [
    "## 2 Preparamos la firma\n",
    "\n",
    "$C1$ es la cadena indicada en las instrucciones, que contiene los dos enteros que forman la clave pública de $B$."
   ]
  },
  {
   "cell_type": "code",
   "execution_count": 11,
   "metadata": {
    "collapsed": false
   },
   "outputs": [
    {
     "name": "stdout",
     "output_type": "stream",
     "text": [
      "491738350766241989631627904127274123936049658144240342996382696574165712559223G268435457G\n"
     ]
    }
   ],
   "source": [
    "C1 = str(n)+'G'+str(SOL[0])+'G';print C1"
   ]
  },
  {
   "cell_type": "code",
   "execution_count": 12,
   "metadata": {
    "collapsed": false
   },
   "outputs": [
    {
     "name": "stdout",
     "output_type": "stream",
     "text": [
      "945bf0a2885ad60cde8bf656cfa0c51f\n"
     ]
    }
   ],
   "source": [
    "from hashlib import *\n",
    "HH =md5(C1).hexdigest()\n",
    "print HH"
   ]
  },
  {
   "cell_type": "markdown",
   "metadata": {},
   "source": [
    "Ahora $B$ debe encriptar el hash usando su clave privada, es decir, el $d$ que es el inverso de $e$ módulo $Phi$. "
   ]
  },
  {
   "cell_type": "code",
   "execution_count": 13,
   "metadata": {
    "collapsed": false
   },
   "outputs": [
    {
     "data": {
      "text/plain": [
       "17"
      ]
     },
     "execution_count": 13,
     "metadata": {},
     "output_type": "execute_result"
    }
   ],
   "source": [
    "alfb = '0123456789abcdefg';len(alfb)"
   ]
  },
  {
   "cell_type": "code",
   "execution_count": 14,
   "metadata": {
    "collapsed": true
   },
   "outputs": [],
   "source": [
    "L_alfb = list(alfb)\n",
    "\n",
    "def ord2(c):\n",
    "    return L_alfb.index(c)\n",
    "\n",
    "def chr2(n):\n",
    "    return L_alfb[n]\n"
   ]
  },
  {
   "cell_type": "code",
   "execution_count": 15,
   "metadata": {
    "collapsed": true
   },
   "outputs": [],
   "source": [
    "def codifica(text,alfb):\n",
    "    L = list(text)\n",
    "    L1 = map(ord2,L)\n",
    "    m,i,base = 0,0,len(alfb)\n",
    "    for j in L1:\n",
    "        m += j*base^i\n",
    "        i += 1\n",
    "    return m"
   ]
  },
  {
   "cell_type": "code",
   "execution_count": 16,
   "metadata": {
    "collapsed": false
   },
   "outputs": [
    {
     "name": "stdout",
     "output_type": "stream",
     "text": [
      "2100278353544447987105901440401821045370\n"
     ]
    }
   ],
   "source": [
    "m = codifica(HH,alfb); print m"
   ]
  },
  {
   "cell_type": "code",
   "execution_count": 17,
   "metadata": {
    "collapsed": false
   },
   "outputs": [
    {
     "data": {
      "text/plain": [
       "1"
      ]
     },
     "execution_count": 17,
     "metadata": {},
     "output_type": "execute_result"
    }
   ],
   "source": [
    "gcd(m,n) #Debe ser 1 para que valga el teorema de Fermat-Euler"
   ]
  },
  {
   "cell_type": "code",
   "execution_count": 18,
   "metadata": {
    "collapsed": false
   },
   "outputs": [
    {
     "name": "stdout",
     "output_type": "stream",
     "text": [
      "67642548254899099830753979428027889711827939094974048801594618484045694924787\n"
     ]
    }
   ],
   "source": [
    "m_encript = power_mod(m,clave_pr,n); print m_encript"
   ]
  },
  {
   "cell_type": "markdown",
   "metadata": {},
   "source": [
    "El mensaje que $B$ envía al profesor contiene dos líneas: la primera es $C1$ y la segunda es *m_encript*. \n",
    "\n",
    "## 3 Comprobación de la firma\n",
    "\n",
    "Cuando recibo el mensaje, en primer lugar debería desencriptarlo con mi clave privada si estuviera encriptado. Una vez hecho ésto,   para comprobar la identidad de $B$ debo desencriptar la segunda línea del mensaje usando el $e$ de la clave pública de $B$ como exponente. En esta parte estamos usando que $e$, que forma parte de la clave pública de $B$, y $d$, que es su clave privada, juegan un papel simétrico en el punto 12 de la explicación del método RSA. \n"
   ]
  },
  {
   "cell_type": "code",
   "execution_count": 19,
   "metadata": {
    "collapsed": false
   },
   "outputs": [
    {
     "name": "stdout",
     "output_type": "stream",
     "text": [
      "2100278353544447987105901440401821045370\n"
     ]
    }
   ],
   "source": [
    "m2 = power_mod(m_encript,SOL[0],n); print m2"
   ]
  },
  {
   "cell_type": "code",
   "execution_count": 20,
   "metadata": {
    "collapsed": true
   },
   "outputs": [],
   "source": [
    "from string import join\n",
    "def descodifica(m,alfb):\n",
    "    L = m.digits(base=len(alfb))\n",
    "    L.reverse\n",
    "    L1 = map(chr2,L)\n",
    "    return  join(L1,sep = '')\n",
    "    "
   ]
  },
  {
   "cell_type": "code",
   "execution_count": 21,
   "metadata": {
    "collapsed": false
   },
   "outputs": [
    {
     "name": "stdout",
     "output_type": "stream",
     "text": [
      "True\n",
      "945bf0a2885ad60cde8bf656cfa0c51f\n",
      "945bf0a2885ad60cde8bf656cfa0c51f\n"
     ]
    }
   ],
   "source": [
    "print descodifica(m2,alfb)== HH ; print descodifica(m2,alfb);print HH"
   ]
  },
  {
   "cell_type": "markdown",
   "metadata": {},
   "source": [
    "Si ahora calculo el *hash* md5 de la primera línea del mensaje, es decir de $C1$, obtengo  $HH$, que es igual al resultado de desencriptar la segunda línea. He comprobado entonces que quién me envió el mensaje conoce la clave privada de $B$ y debo suponer que es $B$. \n",
    "Además, dado que el *hash* de la primera línea del mensaje coincide con el hash que he obtenido al desencriptar la segunda tengo la *casi seguridad* de que el mensaje no ha sido alterado al ser trasmitido por la red."
   ]
  },
  {
   "cell_type": "code",
   "execution_count": null,
   "metadata": {
    "collapsed": true
   },
   "outputs": [],
   "source": []
  }
 ],
 "metadata": {
  "kernelspec": {
   "display_name": "SageMath 7.3",
   "language": "",
   "name": "sagemath"
  },
  "language_info": {
   "codemirror_mode": {
    "name": "ipython",
    "version": 2
   },
   "file_extension": ".py",
   "mimetype": "text/x-python",
   "name": "python",
   "nbconvert_exporter": "python",
   "pygments_lexer": "ipython2",
   "version": "2.7.10"
  }
 },
 "nbformat": 4,
 "nbformat_minor": 0
}
