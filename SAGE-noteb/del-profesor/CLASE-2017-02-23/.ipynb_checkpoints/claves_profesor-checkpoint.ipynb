{
 "cells": [
  {
   "cell_type": "code",
   "execution_count": 1,
   "metadata": {
    "collapsed": false
   },
   "outputs": [
    {
     "data": {
      "text/plain": [
       "^C"
      ]
     },
     "execution_count": 1,
     "metadata": {},
     "output_type": "execute_result"
    },
    {
     "name": "stderr",
     "output_type": "stream",
     "text": [
      "Traceback (most recent call last):\n",
      "  File \"<stdin>\", line 1, in <module>\n",
      "  File \"_sage_input_3.py\", line 10, in <module>\n",
      "    exec compile(u'open(\"___code___.py\",\"w\").write(\"# -*- coding: utf-8 -*-\\\\n\" + _support\n",
      "_.preparse_worksheet_cell(base64.b64decode(\"ZmFjdG9yKDcxMzYzMTQyMzYzNjI1MDc1OTgwMjgyMjY2Mj\n",
      "UyNDg4MjAxMDE0MjIxMjQ5OTQ2Njg1NTMzMzI0Nzg2NDEyODUyODM4MzUyNDg1MzE4Myk=\"),globals())+\"\\\\n\")\n",
      "; execfile(os.path.abspath(\"___code___.py\"))' + '\\n', '', 'single')\n",
      "  File \"\", line 1, in <module>\n",
      "\n",
      "  File \"/tmp/tmpY3J39C/___code___.py\", line 3, in <module>\n",
      "    exec compile(u'factor(_sage_const_7136314236362507598028226625248820101422124994668553\n",
      "33247864128528383524853183 )' + '\\n', '', 'single')\n",
      "  File \"\", line 1, in <module>\n",
      "\n",
      "  File \"/home/sageserver/sage/local/lib/python2.7/site-packages/sage/rings/arith.py\", line\n",
      "2467, in factor\n",
      "    int_ = int_, verbose=verbose)\n",
      "  File \"integer.pyx\", line 3558, in sage.rings.integer.Integer.factor\n",
      "(sage/rings/integer.c:22544)\n",
      "  File \"factorint.pyx\", line 301, in sage.rings.factorint.factor_using_pari\n",
      "(sage/rings/factorint.c:7211)\n",
      "  File \"factorint.pyx\", line 342, in sage.rings.factorint.factor_using_pari\n",
      "(sage/rings/factorint.c:6878)\n",
      "  File \"gen.pyx\", line 8726, in sage.libs.pari.gen.gen.factor (sage/libs/pari/gen.c:46851)\n",
      "  File \"c_lib.pyx\", line 73, in sage.ext.c_lib.sig_raise_exception (sage/ext/c_lib.c:872)\n",
      "KeyboardInterrupt\n",
      "__SAGE__"
     ]
    }
   ],
   "source": [
    "factor(713631423636250759802822662524882010142212499466855333247864128528383524853183)"
   ]
  },
  {
   "cell_type": "code",
   "execution_count": 2,
   "metadata": {
    "collapsed": false
   },
   "outputs": [],
   "source": [
    "p = random_prime(floor(sqrt(16^33)),lbound=16^16)"
   ]
  },
  {
   "cell_type": "code",
   "execution_count": 3,
   "metadata": {
    "collapsed": false
   },
   "outputs": [],
   "source": [
    "q= random_prime(floor(sqrt(16^33)),lbound=16^16)"
   ]
  },
  {
   "cell_type": "code",
   "execution_count": 4,
   "metadata": {
    "collapsed": false
   },
   "outputs": [
    {
     "data": {
      "text/plain": [
       "2140233991045723068605354672665262544469"
      ]
     },
     "execution_count": 4,
     "metadata": {},
     "output_type": "execute_result"
    }
   ],
   "source": [
    "n = p*q;n"
   ]
  },
  {
   "cell_type": "code",
   "execution_count": 5,
   "metadata": {
    "collapsed": false
   },
   "outputs": [
    {
     "data": {
      "text/plain": [
       "33887478956502769709 * 63157073259798429641\n",
       "Time: CPU 0.12 s, Wall: 0.12 s"
      ]
     },
     "execution_count": 5,
     "metadata": {},
     "output_type": "execute_result"
    }
   ],
   "source": [
    "time factor(n)"
   ]
  },
  {
   "cell_type": "code",
   "execution_count": 6,
   "metadata": {
    "collapsed": false
   },
   "outputs": [],
   "source": [
    "Phi = (p-1)*(q-1)"
   ]
  },
  {
   "cell_type": "code",
   "execution_count": 7,
   "metadata": {
    "collapsed": false
   },
   "outputs": [],
   "source": [
    "def invertible(Phi):\n",
    "    for int in xsrange(16^7,16^10):\n",
    "        if gcd(int,Phi)==1:\n",
    "            return int,xgcd(int,Phi)\n",
    "            break"
   ]
  },
  {
   "cell_type": "code",
   "execution_count": 8,
   "metadata": {
    "collapsed": false
   },
   "outputs": [
    {
     "data": {
      "text/plain": [
       "(268435457, (1,\n",
       "-8862493102932070009392675008813564675448367629689409236987018474436151543807, 3333664))"
      ]
     },
     "execution_count": 8,
     "metadata": {},
     "output_type": "execute_result"
    }
   ],
   "source": [
    "SOL = invertible(Phi);SOL"
   ]
  },
  {
   "cell_type": "code",
   "execution_count": 9,
   "metadata": {
    "collapsed": false
   },
   "outputs": [
    {
     "data": {
      "text/plain": [
       "1"
      ]
     },
     "execution_count": 9,
     "metadata": {},
     "output_type": "execute_result"
    }
   ],
   "source": [
    "SOL[0]*SOL[1][1]+Phi*SOL[1][2]"
   ]
  },
  {
   "cell_type": "code",
   "execution_count": 10,
   "metadata": {
    "collapsed": false
   },
   "outputs": [
    {
     "data": {
      "text/plain": [
       "True"
      ]
     },
     "execution_count": 10,
     "metadata": {},
     "output_type": "execute_result"
    }
   ],
   "source": [
    "16^65 > n > 16^64"
   ]
  }
 ],
 "metadata": {
  "kernelspec": {
   "display_name": "Python [Root]",
   "language": "python",
   "name": "Python [Root]"
  },
  "language_info": {
   "codemirror_mode": {
    "name": "ipython",
    "version": 2
   },
   "file_extension": ".py",
   "mimetype": "text/x-python",
   "name": "python",
   "nbconvert_exporter": "python",
   "pygments_lexer": "ipython2",
   "version": "2.7.12"
  }
 },
 "nbformat": 4,
 "nbformat_minor": 0
}
