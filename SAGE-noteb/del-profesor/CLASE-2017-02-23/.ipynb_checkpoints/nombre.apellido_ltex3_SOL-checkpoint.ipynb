{
 "cells": [
  {
   "cell_type": "markdown",
   "metadata": {},
   "source": [
    "<h3><span style=\"color: #ff0000;\">Por favor, renombra la hoja cambiando nombre.apellido por los tuyos tal como aparecen en tu direcci&oacute;n de correo electr&oacute;nico de la UAM.</span></h3>\n",
    "<h4>Ejercicio1</h4>\n",
    "<ol>\n",
    "<li><span style=\"color: #ff0000;\">Define (5 puntos)</span> una funci&oacute;n de SAGE $frecuencia\\_fib(N)$ que tenga como argumento un entero $N$ y devuelva la lista de frecuencias de cada uno de los d&iacute;gitos (1,2,3,4,5,6,7,8,9) como d&iacute;gito dominante (i.e. el primero por la izquierda) de los n&uacute;meros en la sucesi&oacute;n de Fibonacci que empezando en $1$&nbsp; tiene&nbsp; longitud $N$. <span style=\"color: #ff0000;\">Representa (1 punto) gr&aacute;ficamente</span> las frecuencias obtenidas. Trata de programar esta funci&oacute;n de la forma m&aacute;s eficiente posible. </li>\n",
    "<li>Denotemos por $F$ la lista que devuelve $frecuencia\\_fib(20000)$. <span style=\"color: #ff0000;\">Compara (1 punto)</span>, usando una funci&oacute;n de SAGE, los valores $F[i]$ con los n&uacute;meros&nbsp; $B[i]:=log_{10}(1+\\frac{1}{i+1})$.&nbsp; Decimos que una sucesi&oacute;n cumple la \"Ley de Benford\" si la frecuencia del d&iacute;gito $i$ como d&iacute;gito dominante en los t&eacute;rminos de la sucesi&oacute;n es, con \"muy buena aproximaci&oacute;n\",&nbsp; $B[i].$</li>\n",
    "<li><span style=\"color: #ff0000;\">Modifica (2 puntos)</span> la funci&oacute;n del apartado $1$ para calcular las mismas frecuencias pero para la sucesi&oacute;n de potencias $2^j$ con $j$ recorriendo los enteros en el intervalo $[1,N]$. &iquest;Qu&eacute; observas al calcular las frecuencias con $N=20000$?</li>\n",
    "<li><span style=\"color: #ff0000;\">Modifica (1 punto)</span> la funci&oacute;n del apartado $2$ para calcular las mismas frecuencias pero para  la sucesi&oacute;n de enteros en el  intervalo $[1,N]$, y tambi&eacute;n para la sucesi&oacute;n de&nbsp; cuadrados&nbsp; $j^2$ con $j$ recorriendo los enteros en el  intervalo $[1,N]$. &iquest;Qu&eacute;&nbsp; observas al calcular las frecuencias con $N=20000$?</li>\n",
    "</ol>\n",
    "<p>La \"Ley de Benford\" se cumple para muchas sucesiones generadas mediante una expresi&oacute;n matem&aacute;tica (NO para todas), y para muchas sucesiones de datos num&eacute;ricos obtenidos del mundo real, por ejemplo, mediante estad&iacute;sticas. &iquest;Cu&aacute;l puede ser la &nbsp; diferencia fundamental entre sucesiones que cumplen bien la Ley de Benford y las que la cumplen medio bien o no la cumplen?</p>\n",
    "\n",
    "<h4>Apartado 1</h4>\n",
    "\n",
    "<p><span style=\"color: #ff0000;\">En esta primera celda comprobamos una l&iacute;nea que produce los d&iacute;gitos dominantes de los primeros nueve n&uacute;meros de fibonacci.</span></p>"
   ]
  },
  {
   "cell_type": "code",
   "execution_count": 1,
   "metadata": {
    "collapsed": false
   },
   "outputs": [
    {
     "data": {
      "text/plain": [
       "[1, 1, 2, 3, 5, 8, 1, 2, 3]"
      ]
     },
     "execution_count": 1,
     "metadata": {},
     "output_type": "execute_result"
    }
   ],
   "source": [
    "L = [(fibonacci(j)).digits()[-1:][0] for j in srange(1,10)];L"
   ]
  },
  {
   "cell_type": "markdown",
   "metadata": {},
   "source": [
    "<p><span style=\"color: #ff0000;\">Empezamos con la lista $L$ de longitud nueve que va a almacenar las frecuencias como una lista de ceros, y para cada $j$ entero en el intervalo $[1,N]$ calculamos el d&iacute;gito dominante del n&uacute;mero de Fibonacci $j$-&eacute;simo e incrementamos la frecuencia del d&iacute;gito resultante en $1/N$. As&iacute; la frecuencia del uno es el primer elemento ($L[0]$) en la lista $L$, una vez que ha terminado el bucle, la frecuencia del dos el segundo ($L[1]$), etc.</span></p>"
   ]
  },
  {
   "cell_type": "code",
   "execution_count": 2,
   "metadata": {
    "collapsed": false
   },
   "outputs": [],
   "source": [
    "def frecuencia_fibon(N):\n",
    "    L = [0]*9\n",
    "    for j in xrange(1,N):\n",
    "        k = ((fibonacci(j)).digits())[-1:][0]\n",
    "        L[k-1] += (1/N).n()\n",
    "    return L"
   ]
  },
  {
   "cell_type": "code",
   "execution_count": 3,
   "metadata": {
    "collapsed": false
   },
   "outputs": [
    {
     "data": {
      "text/plain": [
       "Time: CPU 5.30 s, Wall: 5.32 s\n",
       "[0.300999999999975, 0.176099999999989, 0.124949999999994, 0.0968499999999975,\n",
       "0.0791999999999994, 0.0669000000000008, 0.0579500000000011, 0.0512500000000010,\n",
       "0.0457500000000008]"
      ]
     },
     "execution_count": 3,
     "metadata": {},
     "output_type": "execute_result"
    }
   ],
   "source": [
    "time L = frecuencia_fibon(20000);L"
   ]
  },
  {
   "cell_type": "code",
   "execution_count": 4,
   "metadata": {
    "collapsed": false
   },
   "outputs": [],
   "source": [
    "bar_chart(L)"
   ]
  },
  {
   "cell_type": "markdown",
   "metadata": {},
   "source": [
    "<h4>Apartado 2</h4>"
   ]
  },
  {
   "cell_type": "code",
   "execution_count": 5,
   "metadata": {
    "collapsed": false
   },
   "outputs": [
    {
     "data": {
      "text/plain": [
       "[0.301029995663981, 0.176091259055681, 0.124938736608300, 0.0969100130080564,\n",
       "0.0791812460476248, 0.0669467896306132, 0.0579919469776867, 0.0511525224473813,\n",
       "0.0457574905606751]"
      ]
     },
     "execution_count": 5,
     "metadata": {},
     "output_type": "execute_result"
    }
   ],
   "source": [
    "B = [log((1+1/(i+1)),base=10).n() for i in srange(9)];B"
   ]
  },
  {
   "cell_type": "code",
   "execution_count": 6,
   "metadata": {
    "collapsed": false
   },
   "outputs": [
    {
     "data": {
      "text/plain": [
       "[-0.0000299956640061327, 8.74094430755590e-6, 0.0000112633916944938,\n",
       "-0.0000600130080589123, 0.0000187539523746338, -0.0000467896306124149,\n",
       "-0.0000419469776855794, 0.0000974775526196708, -7.49056067434611e-6]"
      ]
     },
     "execution_count": 6,
     "metadata": {},
     "output_type": "execute_result"
    }
   ],
   "source": [
    "DIF = [L[j]-B[j] for j in srange(9)];DIF"
   ]
  },
  {
   "cell_type": "markdown",
   "metadata": {},
   "source": [
    "<p><span style=\"color: #ff0000;\">La aproximaci&oacute;n es bastante buena: en todos los casos al menos $4$ cifras decimales iguales. Incluso, podr&iacute;a ocurrir que con $N$ mayores la aproximaci&oacute;n mejorara.</span></p>\n",
    "\n",
    "<h4>Apartado 3</h4>"
   ]
  },
  {
   "cell_type": "code",
   "execution_count": 7,
   "metadata": {
    "collapsed": false
   },
   "outputs": [],
   "source": [
    "def frecuencia_pot(N):\n",
    "    L = [0]*9\n",
    "    for j in xrange(1,N):\n",
    "        k = (Integer(2^j).digits())[-1:][0]\n",
    "        L[k-1] += (1/N).n()\n",
    "    return L"
   ]
  },
  {
   "cell_type": "code",
   "execution_count": 8,
   "metadata": {
    "collapsed": false
   },
   "outputs": [
    {
     "data": {
      "text/plain": [
       "Time: CPU 6.79 s, Wall: 6.81 s\n",
       "[0.300999999999975, 0.176149999999989, 0.124849999999994, 0.0969499999999975,\n",
       "0.0791999999999994, 0.0669500000000008, 0.0579000000000011, 0.0512000000000010,\n",
       "0.0457500000000008]"
      ]
     },
     "execution_count": 8,
     "metadata": {},
     "output_type": "execute_result"
    }
   ],
   "source": [
    "time L2 = frecuencia_pot(20000);L2"
   ]
  },
  {
   "cell_type": "markdown",
   "metadata": {},
   "source": [
    "<p><span style=\"color: #ff0000;\">Las frecuencias son muy similares a las producidas para la sucesi&oacute;n de Fibonacci y cumplen muy bien la Ley de Benford:</span></p>"
   ]
  },
  {
   "cell_type": "code",
   "execution_count": 9,
   "metadata": {
    "collapsed": false
   },
   "outputs": [
    {
     "data": {
      "text/plain": [
       "[-0.0000299956640061327, 0.0000587409443075504, -0.0000887366083054952,\n",
       "0.0000399869919410767, 0.0000187539523746338, 3.21036938757957e-6, -0.0000919469776855808,\n",
       "0.0000474775526196694, -7.49056067434611e-6]"
      ]
     },
     "execution_count": 9,
     "metadata": {},
     "output_type": "execute_result"
    }
   ],
   "source": [
    "DIF2 = [L2[j]-B[j] for j in srange(9)];DIF2"
   ]
  },
  {
   "cell_type": "markdown",
   "metadata": {},
   "source": [
    "<h4>Apartado 4</h4>"
   ]
  },
  {
   "cell_type": "code",
   "execution_count": 10,
   "metadata": {
    "collapsed": false
   },
   "outputs": [],
   "source": [
    "def frecuencia_cuadr(N):\n",
    "    L = [0]*9\n",
    "    for j in xrange(1,N):\n",
    "        k = (Integer(j^2).digits())[-1:][0]\n",
    "        L[k-1] += (1/N).n()\n",
    "    return L"
   ]
  },
  {
   "cell_type": "code",
   "execution_count": 11,
   "metadata": {
    "collapsed": false
   },
   "outputs": [
    {
     "data": {
      "text/plain": [
       "Time: CPU 0.63 s, Wall: 0.63 s\n",
       "[0.303049999999975, 0.232349999999983, 0.195799999999987, 0.0547500000000011,\n",
       "0.0492000000000009, 0.0454000000000008, 0.0422500000000007, 0.0395500000000006,\n",
       "0.0376000000000006]"
      ]
     },
     "execution_count": 11,
     "metadata": {},
     "output_type": "execute_result"
    }
   ],
   "source": [
    "time L3 = frecuencia_cuadr(20000);L3"
   ]
  },
  {
   "cell_type": "code",
   "execution_count": 12,
   "metadata": {
    "collapsed": false
   },
   "outputs": [],
   "source": [
    "bar_chart(L3)"
   ]
  },
  {
   "cell_type": "code",
   "execution_count": 13,
   "metadata": {
    "collapsed": false
   },
   "outputs": [
    {
     "data": {
      "text/plain": [
       "[0.00202000433599364, 0.0562587409443014, 0.0708612633916867, -0.0421600130080554,\n",
       "-0.0299812460476239, -0.0215467896306124, -0.0157419469776860, -0.0116025224473807,\n",
       "-0.00815749056067458]"
      ]
     },
     "execution_count": 13,
     "metadata": {},
     "output_type": "execute_result"
    }
   ],
   "source": [
    "DIF3 = [L3[j]-B[j] for j in srange(9)];DIF3"
   ]
  },
  {
   "cell_type": "code",
   "execution_count": 14,
   "metadata": {
    "collapsed": false
   },
   "outputs": [],
   "source": [
    "def frecuencia_enteros(N):\n",
    "    L = [0]*9\n",
    "    for j in xrange(1,N):\n",
    "        k = (Integer(j).digits())[-1:][0]\n",
    "        L[k-1] += (1/N).n()\n",
    "    return L"
   ]
  },
  {
   "cell_type": "code",
   "execution_count": 15,
   "metadata": {
    "collapsed": false
   },
   "outputs": [
    {
     "data": {
      "text/plain": [
       "Time: CPU 0.61 s, Wall: 0.61 s\n",
       "[0.555549999999947, 0.0555500000000011, 0.0555500000000011, 0.0555500000000011,\n",
       "0.0555500000000011, 0.0555500000000011, 0.0555500000000011, 0.0555500000000011,\n",
       "0.0555500000000011]"
      ]
     },
     "execution_count": 15,
     "metadata": {},
     "output_type": "execute_result"
    }
   ],
   "source": [
    "time L4 = frecuencia_enteros(20000);L4"
   ]
  },
  {
   "cell_type": "markdown",
   "metadata": {},
   "source": [
    "<p><span style=\"color: #ff0000;\">En este &uacute;ltimo caso las frecuencias son todas iguales, como era previsible, y no se cumple la Ley de Benford ni de lejos, mientras que para los cuadrados se produce un decrecimiento en las frecuencias pero se produce un salto muy fuerte entre la frecuencia del $3$ y la del $4$ que no se da para las primeras dos sucesiones.&nbsp; &iquest;Qu&eacute; diferencia las primeras dos sucesiones (Fibonacci y potencias) de estas dos &uacute;ltimas? Una posible respuesta es que las dos primeras crecen mucho m&aacute;s deprisa, y, de hecho, las dos primeras son muy similares porque la de Fibonacci crece, como ya hemos visto,&nbsp; esencialmente como $\\varphi^j/\\sqrt{5}$ con $\\varphi=(1+\\sqrt{5})/2$ , es decir las dos crecen como las potencias de un n&uacute;mero mayor que $1$ con exponentes crecientes.</span></p>\n",
    "\n",
    "<h4>Ejercicio 2</h4>\n",
    "<p>En este ejercicio vamos a estudiar una familia de aut&oacute;matas celulares de dimensi&oacute;n uno. El \"juego de la vida\", que hemos visto en clase, es un aut&oacute;mata celular de dimensi&oacute;n dos y, por tanto, algo m&aacute;s complicado que los que veremos en este ejercicio. El dato principal es una lista de ceros y unos que representar&aacute; el estado inicial del aut&oacute;mata. En el juego de la vida, en lugar de una lista como estado inicial us&aacute;bamos una matriz.</p>\n",
    "<ol>\n",
    "<li><span style=\"color: #ff0000;\">Define (1 punto)</span> una funci&oacute;n de SAGE $vecinos(k,L)$ que para cada entero $k$ entre $0$ y $len(L)-1$ devuelva la $3$-upla&nbsp; formada por el elemento de $L$ anterior a $L[k]$, el elemento $L[k]$ y el siguiente a $L[k]$, teniendo en cuenta que el siguiente al &uacute;ltimo debe ser el primero y el anterior al primero debe ser el &uacute;ltimo.&nbsp; </li>\n",
    "<li>Genera la lista de todas las $3$-uplas de ceros y unos.&nbsp; Debes usar una variante de la funci&oacute;n que&nbsp; aparec&iacute;a en el examen anterior,&nbsp; ya que el orden en que aparecen es importante. Hay ocho $3$-uplas en la lista.</li>\n",
    "<li>Cada entero&nbsp; $\\ge 0$ y $\\le 255$ se puede escribir en binario con $8$ bits (rellenando con ceros cuando haga falta). Dado un tal entero le podemos hacer corresponder, de esta manera,&nbsp; una lista de $8$ ceros o unos.</li>\n",
    "<li><span style=\"color: #ff0000;\">Define (2 puntos)</span>&nbsp; una funci&oacute;n de SAGE que reciba como argumento un entero $0\\le k\\le 255$ y devuelva un diccionario con claves las $3$-uplas del apartado $2$ y, para cada $3$-upla tome valor el cero o uno que ocupa el mismo lugar en la lista del apartado $3$. </li>\n",
    "<li><span style=\"color: #ff0000;\">Define (3 puntos) </span>una funci&oacute;n de SAGE $siguiente(L,k)$ que reciba como argumentos una lista $L$ de ceros o unos y un entero $0\\le k\\le 255$ y devuelva otra lista de la misma longitud que $L$&nbsp; que en el lugar $i$ tenga el valor que el diccionario del apartado $4$ asigna a la $3$-upla de vecinos de $L[i].$ Esta funci&oacute;n es la que determina la evoluci&oacute;n en el tiempo del aut&oacute;mata.</li>\n",
    "<li><span style=\"color: #ff0000;\">Define (2 puntos)</span> una funci&oacute;n $evolucion(L,k,N)$ que devuelva la lista de listas, de longitud $N+1$,&nbsp; que se obtiene al iterar, $N$ veces,&nbsp; la funci&oacute;n $siguiente$ partiendo del valor dado de $L$, es decir, debe devolver la lista $$[L,siguiente(L),siguiente(siguiente(L)),\\dots,siguiente^{N}(L)].$$</li>\n",
    "<li>Podemos transformar la lista devuelta por $evolucion(L,k,N)$ en una matriz con $N+1$ filas y $len(L)$ columnas, y representar gr&aacute;ficamente la matriz usando $matrix\\_plot$. <span style=\"color: #ff0000;\">Obtener esas representaciones gr&aacute;ficas (2 puntos)</span> para valores de $k=18,30,50,110$, $N=256$ y la lista $L$ inicial formada por $128$ ceros, un uno y otros $128$ ceros. Observa las diferencias en las caracter&iacute;sticas de los gr&aacute;ficos obtenidos.</li>\n",
    "</ol>\n",
    "\n",
    "<h4>Apartado 1</h4>"
   ]
  },
  {
   "cell_type": "code",
   "execution_count": 16,
   "metadata": {
    "collapsed": false
   },
   "outputs": [],
   "source": [
    "def vecinos(j,L):\n",
    "    return tuple([L[j-1%len(L)],L[j],L[(j+1)%len(L)]])"
   ]
  },
  {
   "cell_type": "markdown",
   "metadata": {},
   "source": [
    "<h4>Apartado 2</h4>"
   ]
  },
  {
   "cell_type": "code",
   "execution_count": 17,
   "metadata": {
    "collapsed": false
   },
   "outputs": [],
   "source": [
    "def listas(K):\n",
    "    L = []\n",
    "    for p in srange(2^K):\n",
    "       L.append(tuple(p.digits(base=2,padto=K)))\n",
    "    return L"
   ]
  },
  {
   "cell_type": "code",
   "execution_count": 18,
   "metadata": {
    "collapsed": false
   },
   "outputs": [
    {
     "data": {
      "text/plain": [
       "[(0, 0, 0),\n",
       " (1, 0, 0),\n",
       " (0, 1, 0),\n",
       " (1, 1, 0),\n",
       " (0, 0, 1),\n",
       " (1, 0, 1),\n",
       " (0, 1, 1),\n",
       " (1, 1, 1)]"
      ]
     },
     "execution_count": 18,
     "metadata": {},
     "output_type": "execute_result"
    }
   ],
   "source": [
    "listas(3)"
   ]
  },
  {
   "cell_type": "markdown",
   "metadata": {},
   "source": [
    "<h4>Apartado 4</h4>"
   ]
  },
  {
   "cell_type": "code",
   "execution_count": 19,
   "metadata": {
    "collapsed": false
   },
   "outputs": [],
   "source": [
    "def diccionario(k):\n",
    "    C = zip(listas(3),(k).digits(base=2,padto=8))\n",
    "    return dict(C)"
   ]
  },
  {
   "cell_type": "code",
   "execution_count": 20,
   "metadata": {
    "collapsed": false
   },
   "outputs": [
    {
     "data": {
      "text/plain": [
       "[1, 1, 1, 0, 0, 0, 0, 0]\n",
       "{(0, 0, 0): 1,\n",
       " (0, 0, 1): 0,\n",
       " (0, 1, 0): 1,\n",
       " (0, 1, 1): 0,\n",
       " (1, 0, 0): 1,\n",
       " (1, 0, 1): 0,\n",
       " (1, 1, 0): 0,\n",
       " (1, 1, 1): 0}"
      ]
     },
     "execution_count": 20,
     "metadata": {},
     "output_type": "execute_result"
    }
   ],
   "source": [
    "7.digits(base=2,padto=8);diccionario(7)"
   ]
  },
  {
   "cell_type": "markdown",
   "metadata": {},
   "source": [
    "<h4>Apartado 5</h4>"
   ]
  },
  {
   "cell_type": "code",
   "execution_count": 21,
   "metadata": {
    "collapsed": false
   },
   "outputs": [],
   "source": [
    "def siguiente(L,k):\n",
    "    LL = []\n",
    "    n = len(L)\n",
    "    dic = diccionario(k)\n",
    "    for j in srange(n):\n",
    "        V = vecinos(j,L)\n",
    "        LL.append(dic[V])\n",
    "    return LL"
   ]
  },
  {
   "cell_type": "code",
   "execution_count": 22,
   "metadata": {
    "collapsed": false
   },
   "outputs": [
    {
     "data": {
      "text/plain": [
       "[0, 1, 1, 0, 0, 0, 0, 0]"
      ]
     },
     "execution_count": 22,
     "metadata": {},
     "output_type": "execute_result"
    }
   ],
   "source": [
    "siguiente([0,0,1,0,1,1,1,0],20)"
   ]
  },
  {
   "cell_type": "markdown",
   "metadata": {},
   "source": [
    "<h4>Apartado 6</h4>"
   ]
  },
  {
   "cell_type": "code",
   "execution_count": 23,
   "metadata": {
    "collapsed": false
   },
   "outputs": [],
   "source": [
    "def evolucion(L,k,N):\n",
    "    LL = [L]\n",
    "    for int in srange(N):\n",
    "        LL.append(siguiente(LL[-1:][0],k))\n",
    "    return LL"
   ]
  },
  {
   "cell_type": "code",
   "execution_count": 24,
   "metadata": {
    "collapsed": false
   },
   "outputs": [
    {
     "data": {
      "text/plain": [
       "[[0, 0, 1, 0, 1, 1, 1, 0], [1, 0, 1, 0, 0, 0, 0, 1], [0, 0, 1, 1, 1, 1, 0, 0], [1, 0, 0,\n",
       "0, 0, 0, 1, 1], [0, 1, 1, 1, 1, 0, 0, 0], [0, 0, 0, 0, 0, 1, 1, 1]]"
      ]
     },
     "execution_count": 24,
     "metadata": {},
     "output_type": "execute_result"
    }
   ],
   "source": [
    "evolucion([0,0,1,0,1,1,1,0],7,5)"
   ]
  },
  {
   "cell_type": "markdown",
   "metadata": {},
   "source": [
    "<h4>Apartado 7</h4>"
   ]
  },
  {
   "cell_type": "code",
   "execution_count": 25,
   "metadata": {
    "collapsed": false
   },
   "outputs": [
    {
     "name": "stderr",
     "output_type": "stream",
     "text": [
      "Traceback (most recent call last):\n",
      "  File \"<stdin>\", line 1, in <module>\n",
      "  File \"_sage_input_10.py\", line 10, in <module>\n",
      "    exec compile(u'open(\"___code___.py\",\"w\").write(\"# -*- coding: utf-8 -*-\\\\n\" + _support\n",
      "_.preparse_worksheet_cell(base64.b64decode(\"bWF0cml4X3Bsb3QobWF0cml4KFpaLGV2b2x1Y2lvbihbMF\n",
      "0qMTI4K1sxXStbMF0qMTI4LDE4LDI1NikpKS5zYXZlKCcvaG9tZS9yaGcvRGVza3RvcC9hdXRvbWF0YTE4LUMucG5n\n",
      "Jyk=\"),globals())+\"\\\\n\"); execfile(os.path.abspath(\"___code___.py\"))' + '\\n', '',\n",
      "'single')\n",
      "  File \"\", line 1, in <module>\n",
      "\n",
      "  File \"/tmp/tmphtrarD/___code___.py\", line 3, in <module>\n",
      "    exec compile(u\"matrix_plot(matrix(ZZ,evolucion([_sage_const_0 ]*_sage_const_128\n",
      "+[_sage_const_1 ]+[_sage_const_0 ]*_sage_const_128 ,_sage_const_18 ,_sage_const_256\n",
      "))).save('/home/rhg/Desktop/automata18-C.png')\" + '\\n', '', 'single')\n",
      "  File \"\", line 1, in <module>\n",
      "\n",
      "  File \"/home/sageserver/sage/local/lib/python2.7/site-packages/sage/misc/decorators.py\",\n",
      "line 471, in wrapper\n",
      "    return func(*args, **kwds)\n",
      "  File \"/home/sageserver/sage/local/lib/python2.7/site-packages/sage/plot/graphics.py\",\n",
      "line 3195, in save\n",
      "    figure.savefig(filename, **opts)\n",
      "  File \"/home/sageserver/sage/local/lib/python2.7/site-packages/matplotlib-1.4.3-py2.7\n",
      "-linux-x86_64.egg/matplotlib/figure.py\", line 1476, in savefig\n",
      "    self.canvas.print_figure(*args, **kwargs)\n",
      "  File \"/home/sageserver/sage/local/lib/python2.7/site-packages/matplotlib-1.4.3-py2.7\n",
      "-linux-x86_64.egg/matplotlib/backend_bases.py\", line 2211, in print_figure\n",
      "    **kwargs)\n",
      "  File \"/home/sageserver/sage/local/lib/python2.7/site-packages/matplotlib-1.4.3-py2.7\n",
      "-linux-x86_64.egg/matplotlib/backends/backend_agg.py\", line 526, in print_png\n",
      "    filename_or_obj = open(filename_or_obj, 'wb')\n",
      "IOError: [Errno 2] No such file or directory: '/home/rhg/Desktop/automata18-C.png'"
     ]
    }
   ],
   "source": [
    "matrix_plot(matrix(ZZ,evolucion([0]*128+[1]+[0]*128,18,256))).save('/tmp/automata18-C.png')"
   ]
  },
  {
   "cell_type": "code",
   "execution_count": 26,
   "metadata": {
    "collapsed": false
   },
   "outputs": [
    {
     "data": {
      "text/plain": [
       "El valor de k es 18"
      ]
     },
     "execution_count": 26,
     "metadata": {},
     "output_type": "execute_result"
    },
    {
     "data": {
      "text/plain": [
       "El valor de k es 30"
      ]
     },
     "execution_count": 26,
     "metadata": {},
     "output_type": "execute_result"
    },
    {
     "data": {
      "text/plain": [
       "El valor de k es 50"
      ]
     },
     "execution_count": 26,
     "metadata": {},
     "output_type": "execute_result"
    },
    {
     "data": {
      "text/plain": [
       "El valor de k es 110"
      ]
     },
     "execution_count": 26,
     "metadata": {},
     "output_type": "execute_result"
    }
   ],
   "source": [
    "for k in [18,30,50,110]:\n",
    "    print \"El valor de k es\",k\n",
    "    matrix_plot(matrix(ZZ,evolucion([0]*128+[1]+[0]*128,k,256)))"
   ]
  },
  {
   "cell_type": "markdown",
   "metadata": {},
   "source": [
    "<p><span style=\"color: #ff0000;\">El valor de $k=50$ no es muy interesante, aunque es regular, en cambio, $k=18$ produce un resultado muy regular pero complejo y semejante al llamado tri&aacute;ngulo de Sierpinski. Los otros dos valores son m&aacute;s interesantes todav&iacute;a: el valor $k=30$ produce un resultado de apariencia bastante aleatoria en la posici&oacute;n y tama&ntilde;o de los triangulitos negros, y de hecho se puede usar para generar n&uacute;meros (pseudo)-aleatorios mientras que el caso $k=110$ tiene el aspecto de una estructura muy organizada, nada aleatoria, pero bastante complicada. Se ha demostrado que este &uacute;ltimo caso es capaz de simular una m&aacute;quina universal de Turing y, por tanto, es como un ordenador capaz de ejecutar cualquier programa finito.</span></p>"
   ]
  },
  {
   "cell_type": "markdown",
   "metadata": {},
   "source": [
    "<h4></h4>"
   ]
  }
 ],
 "metadata": {
  "kernelspec": {
   "display_name": "Python [Root]",
   "language": "python",
   "name": "Python [Root]"
  },
  "language_info": {
   "codemirror_mode": {
    "name": "ipython",
    "version": 2
   },
   "file_extension": ".py",
   "mimetype": "text/x-python",
   "name": "python",
   "nbconvert_exporter": "python",
   "pygments_lexer": "ipython2",
   "version": "2.7.12"
  }
 },
 "nbformat": 4,
 "nbformat_minor": 0
}
