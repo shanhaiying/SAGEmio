{
 "cells": [
  {
   "cell_type": "markdown",
   "metadata": {},
   "source": [
    "<h3>Ejercicios 2 y 3</h3>"
   ]
  },
  {
   "cell_type": "code",
   "execution_count": 1,
   "metadata": {
    "collapsed": false
   },
   "outputs": [],
   "source": [
    "def is_superincreasing(L):\n",
    "    if len(L) == 1 and L[0] <= 0:\n",
    "        return False\n",
    "    elif len(L) == 1:\n",
    "        return True\n",
    "    elif L[-1:][0] <= sum(L[:-1]):\n",
    "            return False\n",
    "    is_superincreasing(L[:-1])\n",
    "    return True"
   ]
  },
  {
   "cell_type": "code",
   "execution_count": 2,
   "metadata": {
    "collapsed": false
   },
   "outputs": [
    {
     "data": {
      "text/plain": [
       "False"
      ]
     },
     "execution_count": 2,
     "metadata": {},
     "output_type": "execute_result"
    }
   ],
   "source": [
    "is_superincreasing([1,2,2])"
   ]
  },
  {
   "cell_type": "code",
   "execution_count": 3,
   "metadata": {
    "collapsed": false
   },
   "outputs": [
    {
     "data": {
      "text/plain": [
       "True"
      ]
     },
     "execution_count": 3,
     "metadata": {},
     "output_type": "execute_result"
    }
   ],
   "source": [
    "is_superincreasing([1,2,5])"
   ]
  },
  {
   "cell_type": "code",
   "execution_count": 4,
   "metadata": {
    "collapsed": false
   },
   "outputs": [],
   "source": [
    "def superincreasing(n,N):\n",
    "    L = [randint(1,N)]\n",
    "    for cont in srange(n-1):\n",
    "        L.append(randint(sum(L)+1,sum(L)+N))\n",
    "    return L"
   ]
  },
  {
   "cell_type": "code",
   "execution_count": 5,
   "metadata": {
    "collapsed": false
   },
   "outputs": [
    {
     "data": {
      "text/plain": [
       "True"
      ]
     },
     "execution_count": 5,
     "metadata": {},
     "output_type": "execute_result"
    }
   ],
   "source": [
    "is_superincreasing(superincreasing(5,3))"
   ]
  },
  {
   "cell_type": "code",
   "execution_count": 6,
   "metadata": {
    "collapsed": false
   },
   "outputs": [
    {
     "data": {
      "text/plain": [
       "True"
      ]
     },
     "execution_count": 6,
     "metadata": {},
     "output_type": "execute_result"
    }
   ],
   "source": [
    "all([is_superincreasing(superincreasing(7,12)) for int in srange(100)])"
   ]
  },
  {
   "cell_type": "markdown",
   "metadata": {},
   "source": [
    "<h3>Ejercicio 5</h3>"
   ]
  },
  {
   "cell_type": "code",
   "execution_count": 7,
   "metadata": {
    "collapsed": false
   },
   "outputs": [],
   "source": [
    "def listas (K):\n",
    "    L = []\n",
    "    for k in srange(2^K):\n",
    "        L.append(k.digits(base=2,padto=K))\n",
    "    return L"
   ]
  },
  {
   "cell_type": "code",
   "execution_count": 8,
   "metadata": {
    "collapsed": false
   },
   "outputs": [],
   "source": [
    "def resolver_fb(L,A):\n",
    "    K = len(L)\n",
    "    LL = listas(K)\n",
    "    for lista in LL:\n",
    "        if sum([L[i]*lista[i] for i in srange(K)])==A:\n",
    "            return lista\n",
    "        else:\n",
    "            continue"
   ]
  },
  {
   "cell_type": "code",
   "execution_count": 9,
   "metadata": {
    "collapsed": false
   },
   "outputs": [
    {
     "data": {
      "text/plain": [
       "[1, 2, 5, 12, 23, 45, 95, 193, 379, 764]\n",
       "[1, 1, 1, 0, 1, 0, 1, 1, 1, 1]\n",
       "Time: CPU 0.06 s, Wall: 0.06 s"
      ]
     },
     "execution_count": 9,
     "metadata": {},
     "output_type": "execute_result"
    }
   ],
   "source": [
    "L = superincreasing(10,12)\n",
    "print L\n",
    "time resolver_fb(L,sum(L)-L[5]-L[3])"
   ]
  },
  {
   "cell_type": "code",
   "execution_count": 10,
   "metadata": {
    "collapsed": false
   },
   "outputs": [
    {
     "data": {
      "text/plain": [
       "[1, 1, 1, 0, 1, 0, 1, 1, 1, 1, 1, 1, 1, 1, 1]\n",
       "Time: CPU 2.06 s, Wall: 2.06 s"
      ]
     },
     "execution_count": 10,
     "metadata": {},
     "output_type": "execute_result"
    }
   ],
   "source": [
    "L = superincreasing(15,12)\n",
    "time resolver_fb(L,sum(L)-L[5]-L[3])"
   ]
  },
  {
   "cell_type": "code",
   "execution_count": 11,
   "metadata": {
    "collapsed": false
   },
   "outputs": [],
   "source": [
    "L = superincreasing(20,12)\n",
    "# time resolver_fb(L,sum(L)-L[5]-L[3])"
   ]
  },
  {
   "cell_type": "markdown",
   "metadata": {},
   "source": [
    "<h3>Ejercicio 6</h3>"
   ]
  },
  {
   "cell_type": "code",
   "execution_count": 12,
   "metadata": {
    "collapsed": false
   },
   "outputs": [],
   "source": [
    "def resolver_r(L,A):\n",
    "    SOL = []\n",
    "    if len(L) == 0:\n",
    "        return SOL\n",
    "    elif A > sum(L):\n",
    "        return []\n",
    "    else:\n",
    "        if A >= L[-1]:\n",
    "            L1 = resolver_r(L[:-1],A-L[-1])\n",
    "            SOL= L1+[1]\n",
    "        else:\n",
    "            L1 = resolver_r(L[:-1],A)\n",
    "            SOL=L1+[0]\n",
    "    return SOL"
   ]
  },
  {
   "cell_type": "code",
   "execution_count": 13,
   "metadata": {
    "collapsed": false
   },
   "outputs": [
    {
     "data": {
      "text/plain": [
       "[4, 10, 21, 47, 85, 170, 349]\n",
       "[1, 1, 1, 0, 1, 0, 1]\n",
       "Time: CPU 0.00 s, Wall: 0.00 s"
      ]
     },
     "execution_count": 13,
     "metadata": {},
     "output_type": "execute_result"
    }
   ],
   "source": [
    "L = superincreasing(7,12)\n",
    "print L\n",
    "time resolver_r(L,sum(L)-L[5]-L[3])"
   ]
  },
  {
   "cell_type": "code",
   "execution_count": 14,
   "metadata": {
    "collapsed": false
   },
   "outputs": [
    {
     "data": {
      "text/plain": [
       "[8, 18, 34, 64, 129, 258, 522]\n",
       "[1, 1, 1, 0, 1, 0, 1]\n",
       "Time: CPU 0.00 s, Wall: 0.00 s"
      ]
     },
     "execution_count": 14,
     "metadata": {},
     "output_type": "execute_result"
    }
   ],
   "source": [
    "L = superincreasing(7,12)\n",
    "print L\n",
    "time resolver_r(L,sum(L)-L[5]-L[3])"
   ]
  },
  {
   "cell_type": "code",
   "execution_count": 15,
   "metadata": {
    "collapsed": false
   },
   "outputs": [
    {
     "data": {
      "text/plain": [
       "[1, 1, 1, 0, 1, 0, 1, 1, 1, 1, 1, 1, 1, 1, 1]\n",
       "Time: CPU 0.00 s, Wall: 0.00 s"
      ]
     },
     "execution_count": 15,
     "metadata": {},
     "output_type": "execute_result"
    }
   ],
   "source": [
    "L = superincreasing(15,12)\n",
    "time resolver_r(L,sum(L)-L[5]-L[3])"
   ]
  },
  {
   "cell_type": "markdown",
   "metadata": {},
   "source": [
    "<h3>Merkle-Hellman</h3>"
   ]
  },
  {
   "cell_type": "code",
   "execution_count": 16,
   "metadata": {
    "collapsed": false
   },
   "outputs": [],
   "source": [
    "def generar_clave_privada(N):\n",
    "    L = superincreasing(N,10^3)\n",
    "    m = randint(2*L[-1],2*L[-1]+10^4)\n",
    "    w = next_prime(m^3)\n",
    "    return L,m,w"
   ]
  },
  {
   "cell_type": "code",
   "execution_count": 17,
   "metadata": {
    "collapsed": false
   },
   "outputs": [],
   "source": [
    "def generar_clave_publica(t):\n",
    "    L = []\n",
    "    for item in t[0]:\n",
    "        L.append(t[2]*item%t[1])\n",
    "    return L"
   ]
  },
  {
   "cell_type": "code",
   "execution_count": 18,
   "metadata": {
    "collapsed": false
   },
   "outputs": [],
   "source": [
    "def generar_claves(N):\n",
    "    Cpr = generar_clave_privada(N)\n",
    "    return Cpr,generar_clave_publica(Cpr)"
   ]
  },
  {
   "cell_type": "code",
   "execution_count": 19,
   "metadata": {
    "collapsed": false
   },
   "outputs": [],
   "source": [
    "CL = generar_claves(10)"
   ]
  },
  {
   "cell_type": "code",
   "execution_count": 20,
   "metadata": {
    "collapsed": false
   },
   "outputs": [],
   "source": [
    "alfb = \"ABCDEFGHIJKLMNOPQRSTUVWXYZ\""
   ]
  },
  {
   "cell_type": "code",
   "execution_count": 21,
   "metadata": {
    "collapsed": false
   },
   "outputs": [],
   "source": [
    "L_alfb = list(alfb)"
   ]
  },
  {
   "cell_type": "code",
   "execution_count": 22,
   "metadata": {
    "collapsed": false
   },
   "outputs": [],
   "source": [
    "texto = \"Through the use of abstraction and logical reasoning, mathematics developed from counting, calculation, measurement, and the systematic study of the shapes and motions of physical objects. Practical mathematics has been a human activity for as far back as written records exist. Rigorous arguments first appeared in Greek mathematics, most notably in Euclid's Elements. Mathematics developed at a relatively slow pace until the Renaissance, when mathematical innovations interacting with new scientific discoveries led to a rapid increase in the rate of mathematical discovery that continues to the present day.\""
   ]
  },
  {
   "cell_type": "code",
   "execution_count": 23,
   "metadata": {
    "collapsed": false
   },
   "outputs": [],
   "source": [
    "def ord2(c):\n",
    "    return L_alfb.index(c)"
   ]
  },
  {
   "cell_type": "code",
   "execution_count": 24,
   "metadata": {
    "collapsed": false
   },
   "outputs": [],
   "source": [
    "def chr2(n):\n",
    "    return L_alfb[n]"
   ]
  },
  {
   "cell_type": "code",
   "execution_count": 25,
   "metadata": {
    "collapsed": false
   },
   "outputs": [
    {
     "data": {
      "text/plain": [
       "[0, 1, 2, 3, 4, 5, 6, 7, 8, 9, 10, 11, 12, 13, 14, 15, 16, 17, 18, 19, 20, 21, 22, 23, 24,\n",
       "25]"
      ]
     },
     "execution_count": 25,
     "metadata": {},
     "output_type": "execute_result"
    }
   ],
   "source": [
    "map(ord2,[x for x in alfb])"
   ]
  },
  {
   "cell_type": "code",
   "execution_count": 26,
   "metadata": {
    "collapsed": false
   },
   "outputs": [
    {
     "data": {
      "text/plain": [
       "[1, 1, 1, 0, 0]"
      ]
     },
     "execution_count": 26,
     "metadata": {},
     "output_type": "execute_result"
    }
   ],
   "source": [
    "(7).digits(base=2,padto=5)"
   ]
  },
  {
   "cell_type": "code",
   "execution_count": 27,
   "metadata": {
    "collapsed": false
   },
   "outputs": [],
   "source": [
    "def cadena(L):\n",
    "    C = ''\n",
    "    L.reverse()\n",
    "    for item in L:\n",
    "        C = C+str(item)\n",
    "    return C"
   ]
  },
  {
   "cell_type": "code",
   "execution_count": 28,
   "metadata": {
    "collapsed": false
   },
   "outputs": [],
   "source": [
    "def bin_2(n):\n",
    "    return cadena(ZZ(n).digits(base=2,padto=5))"
   ]
  },
  {
   "cell_type": "code",
   "execution_count": 29,
   "metadata": {
    "collapsed": false
   },
   "outputs": [
    {
     "data": {
      "text/plain": [
       "'00111'"
      ]
     },
     "execution_count": 29,
     "metadata": {},
     "output_type": "execute_result"
    }
   ],
   "source": [
    "bin_2(7)"
   ]
  },
  {
   "cell_type": "code",
   "execution_count": 30,
   "metadata": {
    "collapsed": false
   },
   "outputs": [
    {
     "data": {
      "text/plain": [
       "['A', 'B', 'C', 'D', 'E', 'F', 'G', 'H', 'I', 'J', 'K', 'L', 'M', 'N', 'O', 'P', 'Q', 'R',\n",
       "'S', 'T', 'U', 'V', 'W', 'X', 'Y', 'Z']"
      ]
     },
     "execution_count": 30,
     "metadata": {},
     "output_type": "execute_result"
    }
   ],
   "source": [
    "map(chr2,map(ord2,[x for x in alfb]))"
   ]
  },
  {
   "cell_type": "code",
   "execution_count": 31,
   "metadata": {
    "collapsed": false
   },
   "outputs": [],
   "source": [
    "def limpiar(texto,alfb):\n",
    "    L = map(ord,[x.capitalize() for x in list(texto)])\n",
    "    L1 = [item for item in L if item in map(ord,[x for x in alfb])]\n",
    "    C1 = join(map(chr,L1),sep = \"\")\n",
    "    return C1"
   ]
  },
  {
   "cell_type": "code",
   "execution_count": 32,
   "metadata": {
    "collapsed": false
   },
   "outputs": [
    {
     "data": {
      "text/plain": [
       "'THROUGHTHEUSEOFABSTRACTIONANDLOGICALREASONINGMATHEMATICSDEVELOPEDFROMCOUNTINGCALCULATIONM\n",
       "EASUREMENTANDTHESYSTEMATICSTUDYOFTHESHAPESANDMOTIONSOFPHYSICALOBJECTSPRACTICALMATHEMATICSH\n",
       "ASBEENAHUMANACTIVITYFORASFARBACKASWRITTENRECORDSEXISTRIGOROUSARGUMENTSFIRSTAPPEAREDINGREEK\n",
       "MATHEMATICSMOSTNOTABLYINEUCLIDSELEMENTSMATHEMATICSDEVELOPEDATARELATIVELYSLOWPACEUNTILTHERE\n",
       "NAISSANCEWHENMATHEMATICALINNOVATIONSINTERACTINGWITHNEWSCIENTIFICDISCOVERIESLEDTOARAPIDINCR\n",
       "EASEINTHERATEOFMATHEMATICALDISCOVERYTHATCONTINUESTOTHEPRESENTDAY'"
      ]
     },
     "execution_count": 32,
     "metadata": {},
     "output_type": "execute_result"
    }
   ],
   "source": [
    "texto2 = limpiar(texto,alfb);texto2"
   ]
  },
  {
   "cell_type": "code",
   "execution_count": 33,
   "metadata": {
    "collapsed": false
   },
   "outputs": [
    {
     "data": {
      "text/plain": [
       "[19, 7, 17, 14, 20, 6, 7, 19, 7, 4, 20, 18, 4, 14, 5, 0, 1, 18, 19, 17, 0, 2, 19, 8, 14,\n",
       "13, 0, 13, 3, 11, 14, 6, 8, 2, 0, 11, 17, 4, 0, 18, 14, 13, 8, 13, 6, 12, 0, 19, 7, 4, 12,\n",
       "0, 19, 8, 2, 18, 3, 4, 21, 4, 11, 14, 15, 4, 3, 5, 17, 14, 12, 2, 14, 20, 13, 19, 8, 13,\n",
       "6, 2, 0, 11, 2, 20, 11, 0, 19, 8, 14, 13, 12, 4, 0, 18, 20, 17, 4, 12, 4, 13, 19, 0, 13,\n",
       "3, 19, 7, 4, 18, 24, 18, 19, 4, 12, 0, 19, 8, 2, 18, 19, 20, 3, 24, 14, 5, 19, 7, 4, 18,\n",
       "7, 0, 15, 4, 18, 0, 13, 3, 12, 14, 19, 8, 14, 13, 18, 14, 5, 15, 7, 24, 18, 8, 2, 0, 11,\n",
       "14, 1, 9, 4, 2, 19, 18, 15, 17, 0, 2, 19, 8, 2, 0, 11, 12, 0, 19, 7, 4, 12, 0, 19, 8, 2,\n",
       "18, 7, 0, 18, 1, 4, 4, 13, 0, 7, 20, 12, 0, 13, 0, 2, 19, 8, 21, 8, 19, 24, 5, 14, 17, 0,\n",
       "18, 5, 0, 17, 1, 0, 2, 10, 0, 18, 22, 17, 8, 19, 19, 4, 13, 17, 4, 2, 14, 17, 3, 18, 4,\n",
       "23, 8, 18, 19, 17, 8, 6, 14, 17, 14, 20, 18, 0, 17, 6, 20, 12, 4, 13, 19, 18, 5, 8, 17,\n",
       "18, 19, 0, 15, 15, 4, 0, 17, 4, 3, 8, 13, 6, 17, 4, 4, 10, 12, 0, 19, 7, 4, 12, 0, 19, 8,\n",
       "2, 18, 12, 14, 18, 19, 13, 14, 19, 0, 1, 11, 24, 8, 13, 4, 20, 2, 11, 8, 3, 18, 4, 11, 4,\n",
       "12, 4, 13, 19, 18, 12, 0, 19, 7, 4, 12, 0, 19, 8, 2, 18, 3, 4, 21, 4, 11, 14, 15, 4, 3, 0,\n",
       "19, 0, 17, 4, 11, 0, 19, 8, 21, 4, 11, 24, 18, 11, 14, 22, 15, 0, 2, 4, 20, 13, 19, 8, 11,\n",
       "19, 7, 4, 17, 4, 13, 0, 8, 18, 18, 0, 13, 2, 4, 22, 7, 4, 13, 12, 0, 19, 7, 4, 12, 0, 19,\n",
       "8, 2, 0, 11, 8, 13, 13, 14, 21, 0, 19, 8, 14, 13, 18, 8, 13, 19, 4, 17, 0, 2, 19, 8, 13,\n",
       "6, 22, 8, 19, 7, 13, 4, 22, 18, 2, 8, 4, 13, 19, 8, 5, 8, 2, 3, 8, 18, 2, 14, 21, 4, 17,\n",
       "8, 4, 18, 11, 4, 3, 19, 14, 0, 17, 0, 15, 8, 3, 8, 13, 2, 17, 4, 0, 18, 4, 8, 13, 19, 7,\n",
       "4, 17, 0, 19, 4, 14, 5, 12, 0, 19, 7, 4, 12, 0, 19, 8, 2, 0, 11, 3, 8, 18, 2, 14, 21, 4,\n",
       "17, 24, 19, 7, 0, 19, 2, 14, 13, 19, 8, 13, 20, 4, 18, 19, 14, 19, 7, 4, 15, 17, 4, 18, 4,\n",
       "13, 19, 3, 0, 24]"
      ]
     },
     "execution_count": 33,
     "metadata": {},
     "output_type": "execute_result"
    }
   ],
   "source": [
    "texto_cod0 = map(ord2,list(texto2));texto_cod0"
   ]
  },
  {
   "cell_type": "code",
   "execution_count": 34,
   "metadata": {
    "collapsed": false
   },
   "outputs": [
    {
     "data": {
      "text/plain": [
       "['10011', '00111', '10001', '01110', '10100', '00110', '00111', '10011', '00111', '00100',\n",
       "'10100', '10010', '00100', '01110', '00101', '00000', '00001', '10010', '10011', '10001',\n",
       "'00000', '00010', '10011', '01000', '01110', '01101', '00000', '01101', '00011', '01011',\n",
       "'01110', '00110', '01000', '00010', '00000', '01011', '10001', '00100', '00000', '10010',\n",
       "'01110', '01101', '01000', '01101', '00110', '01100', '00000', '10011', '00111', '00100',\n",
       "'01100', '00000', '10011', '01000', '00010', '10010', '00011', '00100', '10101', '00100',\n",
       "'01011', '01110', '01111', '00100', '00011', '00101', '10001', '01110', '01100', '00010',\n",
       "'01110', '10100', '01101', '10011', '01000', '01101', '00110', '00010', '00000', '01011',\n",
       "'00010', '10100', '01011', '00000', '10011', '01000', '01110', '01101', '01100', '00100',\n",
       "'00000', '10010', '10100', '10001', '00100', '01100', '00100', '01101', '10011', '00000',\n",
       "'01101', '00011', '10011', '00111', '00100', '10010', '11000', '10010', '10011', '00100',\n",
       "'01100', '00000', '10011', '01000', '00010', '10010', '10011', '10100', '00011', '11000',\n",
       "'01110', '00101', '10011', '00111', '00100', '10010', '00111', '00000', '01111', '00100',\n",
       "'10010', '00000', '01101', '00011', '01100', '01110', '10011', '01000', '01110', '01101',\n",
       "'10010', '01110', '00101', '01111', '00111', '11000', '10010', '01000', '00010', '00000',\n",
       "'01011', '01110', '00001', '01001', '00100', '00010', '10011', '10010', '01111', '10001',\n",
       "'00000', '00010', '10011', '01000', '00010', '00000', '01011', '01100', '00000', '10011',\n",
       "'00111', '00100', '01100', '00000', '10011', '01000', '00010', '10010', '00111', '00000',\n",
       "'10010', '00001', '00100', '00100', '01101', '00000', '00111', '10100', '01100', '00000',\n",
       "'01101', '00000', '00010', '10011', '01000', '10101', '01000', '10011', '11000', '00101',\n",
       "'01110', '10001', '00000', '10010', '00101', '00000', '10001', '00001', '00000', '00010',\n",
       "'01010', '00000', '10010', '10110', '10001', '01000', '10011', '10011', '00100', '01101',\n",
       "'10001', '00100', '00010', '01110', '10001', '00011', '10010', '00100', '10111', '01000',\n",
       "'10010', '10011', '10001', '01000', '00110', '01110', '10001', '01110', '10100', '10010',\n",
       "'00000', '10001', '00110', '10100', '01100', '00100', '01101', '10011', '10010', '00101',\n",
       "'01000', '10001', '10010', '10011', '00000', '01111', '01111', '00100', '00000', '10001',\n",
       "'00100', '00011', '01000', '01101', '00110', '10001', '00100', '00100', '01010', '01100',\n",
       "'00000', '10011', '00111', '00100', '01100', '00000', '10011', '01000', '00010', '10010',\n",
       "'01100', '01110', '10010', '10011', '01101', '01110', '10011', '00000', '00001', '01011',\n",
       "'11000', '01000', '01101', '00100', '10100', '00010', '01011', '01000', '00011', '10010',\n",
       "'00100', '01011', '00100', '01100', '00100', '01101', '10011', '10010', '01100', '00000',\n",
       "'10011', '00111', '00100', '01100', '00000', '10011', '01000', '00010', '10010', '00011',\n",
       "'00100', '10101', '00100', '01011', '01110', '01111', '00100', '00011', '00000', '10011',\n",
       "'00000', '10001', '00100', '01011', '00000', '10011', '01000', '10101', '00100', '01011',\n",
       "'11000', '10010', '01011', '01110', '10110', '01111', '00000', '00010', '00100', '10100',\n",
       "'01101', '10011', '01000', '01011', '10011', '00111', '00100', '10001', '00100', '01101',\n",
       "'00000', '01000', '10010', '10010', '00000', '01101', '00010', '00100', '10110', '00111',\n",
       "'00100', '01101', '01100', '00000', '10011', '00111', '00100', '01100', '00000', '10011',\n",
       "'01000', '00010', '00000', '01011', '01000', '01101', '01101', '01110', '10101', '00000',\n",
       "'10011', '01000', '01110', '01101', '10010', '01000', '01101', '10011', '00100', '10001',\n",
       "'00000', '00010', '10011', '01000', '01101', '00110', '10110', '01000', '10011', '00111',\n",
       "'01101', '00100', '10110', '10010', '00010', '01000', '00100', '01101', '10011', '01000',\n",
       "'00101', '01000', '00010', '00011', '01000', '10010', '00010', '01110', '10101', '00100',\n",
       "'10001', '01000', '00100', '10010', '01011', '00100', '00011', '10011', '01110', '00000',\n",
       "'10001', '00000', '01111', '01000', '00011', '01000', '01101', '00010', '10001', '00100',\n",
       "'00000', '10010', '00100', '01000', '01101', '10011', '00111', '00100', '10001', '00000',\n",
       "'10011', '00100', '01110', '00101', '01100', '00000', '10011', '00111', '00100', '01100',\n",
       "'00000', '10011', '01000', '00010', '00000', '01011', '00011', '01000', '10010', '00010',\n",
       "'01110', '10101', '00100', '10001', '11000', '10011', '00111', '00000', '10011', '00010',\n",
       "'01110', '01101', '10011', '01000', '01101', '10100', '00100', '10010', '10011', '01110',\n",
       "'10011', '00111', '00100', '01111', '10001', '00100', '10010', '00100', '01101', '10011',\n",
       "'00011', '00000', '11000']"
      ]
     },
     "execution_count": 34,
     "metadata": {},
     "output_type": "execute_result"
    }
   ],
   "source": [
    "texto_cod1 = map(bin_2,texto_cod0);texto_cod1"
   ]
  },
  {
   "cell_type": "code",
   "execution_count": 35,
   "metadata": {
    "collapsed": false
   },
   "outputs": [
    {
     "data": {
      "text/plain": [
       "'10011001111000101110101000011000111100110011100100101001001000100011100010100000000011001\n",
       "010011100010000000010100110100001110011010000001101000110101101110001100100000010000000101\n",
       "110001001000000010010011100110101000011010011001100000001001100111001000110000000100110100\n",
       "000010100100001100100101010010001011011100111100100000110010110001011100110000010011101010\n",
       "001101100110100001101001100001000000010110001010100010110000010011010000111001101011000010\n",
       "000000100101010010001001000110000100011011001100000011010001110011001110010010010110001001\n",
       "010011001000110000000100110100000010100101001110100000111100001110001011001100111001001001\n",
       "000111000000111100100100100000001101000110110001110100110100001110011011001001110001010111\n",
       "100111110001001001000000100000001011011100000101001001000001010011100100111110001000000001\n",
       "010011010000001000000010110110000000100110011100100011000000010011010000001010010001110000\n",
       "010010000010010000100011010000000111101000110000000011010000000010100110100010101010001001\n",
       "111000001010111010001000001001000101000001000100001000000001001010000001001010110100010100\n",
       "010011100110010001101100010010000010011101000100011100100010010111010001001010011100010100\n",
       "000110011101000101110101001001000000100010011010100011000010001101100111001000101010001000\n",
       "110010100110000001111011110010000000100010010000011010000110100110100010010000100010100110\n",
       "000000100110011100100011000000010011010000001010010011000111010010100110110101110100110000\n",
       "000001010111100001000011010010010100000100101101000000111001000100010110010001100001000110\n",
       "110011100100110000000100110011100100011000000010011010000001010010000110010010101001000101\n",
       "101110011110010000011000001001100000100010010001011000001001101000101010010001011110001001\n",
       "001011011101011001111000000001000100101000110110011010000101110011001110010010001001000110\n",
       "100000010001001010010000000110100010001001011000111001000110101100000001001100111001000110\n",
       "000000100110100000010000000101101000011010110101110101010000010011010000111001101100100100\n",
       "001101100110010010001000000001010011010000110100110101100100010011001110110100100101101001\n",
       "000010010000010001101100110100000101010000001000011010001001000010011101010100100100010100\n",
       "000100100100101100100000111001101110000001000100000011110100000011010000110100010100010010\n",
       "000000100100010001000011011001100111001001000100000100110010001110001010110000000100110011\n",
       "100100011000000010011010000001000000010110001101000100100001001110101010010010001110001001\n",
       "100111000001001100010011100110110011010000110110100001001001010011011101001100111001000111\n",
       "1100010010010010001000110110011000110000011000'"
      ]
     },
     "execution_count": 35,
     "metadata": {},
     "output_type": "execute_result"
    }
   ],
   "source": [
    "texto_cod3 = join(texto_cod1,sep='');texto_cod3"
   ]
  },
  {
   "cell_type": "code",
   "execution_count": 36,
   "metadata": {
    "collapsed": false
   },
   "outputs": [
    {
     "data": {
      "text/plain": [
       "(([984, 1527, 3442, 6188, 12267, 25212, 49855, 99511, 199960, 399715], 800442,\n",
       "512849108959950911), [22632, 35121, 79166, 142324, 282141, 579876, 346223, 687869, 596870,\n",
       "388583])"
      ]
     },
     "execution_count": 36,
     "metadata": {},
     "output_type": "execute_result"
    }
   ],
   "source": [
    "CL"
   ]
  },
  {
   "cell_type": "code",
   "execution_count": 37,
   "metadata": {
    "collapsed": false
   },
   "outputs": [],
   "source": [
    "def encriptar(C,Cpu):\n",
    "    EN = []\n",
    "    r = len(C)%10\n",
    "    C1 = C + '0'*(10-r)\n",
    "    while len(C1) > 0:\n",
    "        C2 = C1[:10]\n",
    "        sum = 0\n",
    "        for i in srange(10):\n",
    "            sum += ZZ(C2[i])*Cpu[i]\n",
    "        EN.append(sum)\n",
    "        C1 = C1[10:]\n",
    "    return EN"
   ]
  },
  {
   "cell_type": "code",
   "execution_count": 38,
   "metadata": {
    "collapsed": false
   },
   "outputs": [
    {
     "data": {
      "text/plain": [
       "[22632, 35121, 79166, 142324, 282141, 579876, 346223, 687869, 596870, 388583]"
      ]
     },
     "execution_count": 38,
     "metadata": {},
     "output_type": "execute_result"
    }
   ],
   "source": [
    "CL[1]"
   ]
  },
  {
   "cell_type": "code",
   "execution_count": 39,
   "metadata": {
    "collapsed": false
   },
   "outputs": [
    {
     "data": {
      "text/plain": [
       "[2120419, 1935735, 1386537, 2068960, 1191500, 1278544, 1710128, 361307, 1458887, 1415556,\n",
       "596870, 793320, 1679286, 1422675, 1756141, 1541350, 631991, 1331676, 992642, 1176746,\n",
       "1679286, 1457796, 1255582, 1565329, 1191500, 114287, 793320, 1319070, 1112334, 1071808,\n",
       "2090548, 1226621, 1500917, 1935735, 711157, 1524356, 1961757, 1457796, 818360, 1331676,\n",
       "1410069, 459586, 793320, 1679286, 802156, 1176746, 1070257, 1113258, 1501841, 447097,\n",
       "1381881, 2120419, 1255912, 1234499, 1134966, 114287, 793320, 1319070, 1714842, 1350564,\n",
       "1333063, 2120419, 1255912, 503631, 1226621, 164956, 1381881, 1745249, 793320, 1679286,\n",
       "1795918, 2380852, 1429730, 511179, 142324, 2090548, 1016947, 676036, 1623843, 1507211,\n",
       "596870, 793320, 142324, 1493678, 1565329, 1191500, 114287, 793320, 1319070, 503631,\n",
       "553539, 767035, 396428, 1771376, 114287, 396428, 1707653, 1691449, 1600450, 1134205,\n",
       "1225070, 1176746, 361307, 693356, 596870, 177445, 2029571, 650996, 2012426, 1501841,\n",
       "992642, 1773286, 1290226, 852825, 872486, 1730285, 650996, 1852452, 1935735, 1278544,\n",
       "968459, 1489235, 802156, 1961757, 1241408, 1003580, 1730285, 2019545, 1226621, 968459,\n",
       "1064619, 1457796, 1189949, 767035, 1211537, 1565329, 1191500, 114287, 793320, 1319070,\n",
       "1745249, 1730285, 2027390, 447097, 1613817, 403976, 1084297, 698668, 805809, 1601211,\n",
       "1410842, 1113258, 1501841, 1623843, 114287, 2120419, 1113258, 1565329, 631991, 1150409,\n",
       "1735494, 1410842, 2276156, 1064619, 1565329, 968459, 1410842, 1565329, 1691449, 1410842,\n",
       "1234499, 2090548, 2263667, 596870, 1346911, 1961757, 1366797, 2120419, 1047625, 1501841,\n",
       "346223, 1341702, 1422675, 830193, 1917444, 1501841, 114287, 2120419, 1113258, 1565329,\n",
       "631991, 1331676, 1457796, 2027390, 383939, 793320, 1679286, 511179, 1961757, 1047625,\n",
       "596870, 793320, 1681167, 590345, 2120419, 1084297, 1420868, 488547, 1501841, 793320,\n",
       "707530, 1127777, 1211867, 1773286, 1071808, 650996, 1255912, 1147455, 1989794, 256611,\n",
       "304773, 884975, 770688, 993298, 992642, 1176746, 425389, 1961757, 1191500, 304773,\n",
       "1134966, 1333063, 114287, 2120419, 1113258, 1565329, 631991, 1331676, 770688, 761826,\n",
       "1912939, 1047625, 1623082, 503631, 1043967, 1679286, 793320, 1664173, 1255912, 2078059,\n",
       "2120419, 2098711, 992642, 852825, 1961757, 424465, 57753]"
      ]
     },
     "execution_count": 39,
     "metadata": {},
     "output_type": "execute_result"
    }
   ],
   "source": [
    "texto_encr = encriptar(texto_cod3,CL[1]);texto_encr"
   ]
  },
  {
   "cell_type": "code",
   "execution_count": 40,
   "metadata": {
    "collapsed": false
   },
   "outputs": [
    {
     "data": {
      "text/plain": [
       "([984, 1527, 3442, 6188, 12267, 25212, 49855, 99511, 199960, 399715], 800442,\n",
       "512849108959950911)"
      ]
     },
     "execution_count": 40,
     "metadata": {},
     "output_type": "execute_result"
    }
   ],
   "source": [
    "CL[0]"
   ]
  },
  {
   "cell_type": "code",
   "execution_count": 41,
   "metadata": {
    "collapsed": false
   },
   "outputs": [],
   "source": [
    "def cadena(L):\n",
    "    C = ''\n",
    "    for item in L:\n",
    "        C = C+str(item)\n",
    "    return C"
   ]
  },
  {
   "cell_type": "code",
   "execution_count": 42,
   "metadata": {
    "collapsed": false
   },
   "outputs": [
    {
     "data": {
      "text/plain": [
       "'1001111110'"
      ]
     },
     "execution_count": 42,
     "metadata": {},
     "output_type": "execute_result"
    }
   ],
   "source": [
    "cadena([1, 0, 0, 1, 1, 1, 1, 1, 1, 0])"
   ]
  },
  {
   "cell_type": "code",
   "execution_count": 43,
   "metadata": {
    "collapsed": false
   },
   "outputs": [],
   "source": [
    "def desencriptar(texto_encr,Cpr):\n",
    "    R = Integers(Cpr[1])\n",
    "    w1 = R(1/Cpr[2])\n",
    "    #print w1\n",
    "    C = ''\n",
    "    for item in texto_encr:\n",
    "        C += join(cadena(resolver_r(Cpr[0],R(w1*item))),sep='')\n",
    "    return C"
   ]
  },
  {
   "cell_type": "code",
   "execution_count": 44,
   "metadata": {
    "collapsed": false
   },
   "outputs": [
    {
     "data": {
      "text/plain": [
       "True"
      ]
     },
     "execution_count": 44,
     "metadata": {},
     "output_type": "execute_result"
    }
   ],
   "source": [
    "texto_cod3 in desencriptar(texto_encr,CL[0])"
   ]
  },
  {
   "cell_type": "code",
   "execution_count": 45,
   "metadata": {
    "collapsed": false
   },
   "outputs": [
    {
     "data": {
      "text/plain": [
       "True"
      ]
     },
     "execution_count": 45,
     "metadata": {},
     "output_type": "execute_result"
    }
   ],
   "source": [
    "desencriptar(texto_encr,CL[0])[:-5]==texto_cod3"
   ]
  },
  {
   "cell_type": "code",
   "execution_count": 46,
   "metadata": {
    "collapsed": false
   },
   "outputs": [
    {
     "data": {
      "text/plain": [
       "19"
      ]
     },
     "execution_count": 46,
     "metadata": {},
     "output_type": "execute_result"
    }
   ],
   "source": [
    "ZZ('10011',base=2)"
   ]
  },
  {
   "cell_type": "code",
   "execution_count": 47,
   "metadata": {
    "collapsed": false
   },
   "outputs": [],
   "source": [
    "def descod(C):\n",
    "    C1 = ''\n",
    "    while C != '':\n",
    "        C1 = C1+chr2(ZZ(C[:5],base=2))\n",
    "        C = C[5:]\n",
    "    return C1"
   ]
  },
  {
   "cell_type": "code",
   "execution_count": 48,
   "metadata": {
    "collapsed": false
   },
   "outputs": [
    {
     "data": {
      "text/plain": [
       "'THROUGHTHEUSEOFABSTRACTIONANDLOGICALREASONINGMATHEMATICSDEVELOPEDFROMCOUNTINGCALCULATIONM\n",
       "EASUREMENTANDTHESYSTEMATICSTUDYOFTHESHAPESANDMOTIONSOFPHYSICALOBJECTSPRACTICALMATHEMATICSH\n",
       "ASBEENAHUMANACTIVITYFORASFARBACKASWRITTENRECORDSEXISTRIGOROUSARGUMENTSFIRSTAPPEAREDINGREEK\n",
       "MATHEMATICSMOSTNOTABLYINEUCLIDSELEMENTSMATHEMATICSDEVELOPEDATARELATIVELYSLOWPACEUNTILTHERE\n",
       "NAISSANCEWHENMATHEMATICALINNOVATIONSINTERACTINGWITHNEWSCIENTIFICDISCOVERIESLEDTOARAPIDINCR\n",
       "EASEINTHERATEOFMATHEMATICALDISCOVERYTHATCONTINUESTOTHEPRESENTDAY'"
      ]
     },
     "execution_count": 48,
     "metadata": {},
     "output_type": "execute_result"
    }
   ],
   "source": [
    "descod(desencriptar(texto_encr,CL[0])[:-5])"
   ]
  }
 ],
 "metadata": {
  "kernelspec": {
   "display_name": "Python 2",
   "language": "python",
   "name": "python2"
  },
  "language_info": {
   "codemirror_mode": {
    "name": "ipython",
    "version": 2
   },
   "file_extension": ".py",
   "mimetype": "text/x-python",
   "name": "python",
   "nbconvert_exporter": "python",
   "pygments_lexer": "ipython2",
   "version": "2.7.10"
  }
 },
 "nbformat": 4,
 "nbformat_minor": 0
}
