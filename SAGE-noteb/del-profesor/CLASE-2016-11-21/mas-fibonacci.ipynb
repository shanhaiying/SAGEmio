{
 "cells": [
  {
   "cell_type": "markdown",
   "metadata": {},
   "source": [
    "\n",
    "En primer lugar, una corrección en el código para calcular números de Fibonacci elevando a potencias el número áureo: el resultado  que se obtiene usando $ceil$ o $floor$ puede tener un desfase de una unidad respecto al valor exacto. Se obtiene un resultado mejor usando $round$, que trunca el número decimal al entero más próximo. Como se ve en los ejemplos todavía hay que incrementar la precisión para obtener el resultado correcto. "
   ]
  },
  {
   "cell_type": "code",
   "execution_count": 1,
   "metadata": {
    "collapsed": true
   },
   "outputs": [],
   "source": [
    "def fibonacci_num(n,d):\n",
    "    phi2 = ((1+sqrt(5))/2).n(digits=d)\n",
    "    return ((phi2^n-(1-phi2)^n)/(sqrt(5)).n(digits=d)).ceil()"
   ]
  },
  {
   "cell_type": "code",
   "execution_count": 2,
   "metadata": {
    "collapsed": false
   },
   "outputs": [
    {
     "name": "stdout",
     "output_type": "stream",
     "text": [
      "[-31348260365014917045045270404907938796072844462510306987135351860490222303931811493604497883, 1, 1, 1, 1, 1, 1, 0, 1, 0, 1, 1, 1, 1, 0, 0, 1, 1, 1, 0, 0, 0, 1, 1, 0, 0, 0, 1, 0, 0, 0, 0, 1, 1, 1, 0, 0, 1, 0, 1, 1, 1, 1, 1, 0, 1, 1, 1, 1, 0, 1, 0, 1, 0, 1, 1, 0, 0, 0, 0, 1, 0, 0, 0, 1, 1, 1, 1, 0, 1, 0, 0, 1, 1, 0, 1, 1, 1, 0, 1]\n"
     ]
    }
   ],
   "source": [
    "print [fibonacci_num(10000,100*k)-fibonacci(10000) for k in srange(20,100)]"
   ]
  },
  {
   "cell_type": "code",
   "execution_count": 3,
   "metadata": {
    "collapsed": true
   },
   "outputs": [],
   "source": [
    "def fibonacci_num2(n,d):\n",
    "    phi2 = ((1+sqrt(5))/2).n(digits=d)\n",
    "    return ((phi2^n-(1-phi2)^n)/(sqrt(5)).n(digits=d)).round()"
   ]
  },
  {
   "cell_type": "code",
   "execution_count": 4,
   "metadata": {
    "collapsed": false
   },
   "outputs": [
    {
     "name": "stdout",
     "output_type": "stream",
     "text": [
      "[-31348260365014917045045270404907938796072844462510306987135351860490222303931811493604497883, 0, 0, 0, 0, 0, 0, 0, 0, 0, 0, 0, 0, 0, 0, 0, 0, 0, 0, 0, 0, 0, 0, 0, 0, 0, 0, 0, 0, 0, 0, 0, 0, 0, 0, 0, 0, 0, 0, 0, 0, 0, 0, 0, 0, 0, 0, 0, 0, 0, 0, 0, 0, 0, 0, 0, 0, 0, 0, 0, 0, 0, 0, 0, 0, 0, 0, 0, 0, 0, 0, 0, 0, 0, 0, 0, 0, 0, 0, 0]\n"
     ]
    }
   ],
   "source": [
    "print [fibonacci_num2(10000,100*k)-fibonacci(10000) for k in srange(20,100)]"
   ]
  },
  {
   "cell_type": "code",
   "execution_count": 5,
   "metadata": {
    "collapsed": false
   },
   "outputs": [
    {
     "name": "stdout",
     "output_type": "stream",
     "text": [
      "[(2001, False), (2002, False), (2003, False), (2004, False), (2005, False), (2006, False), (2007, False), (2008, False), (2009, False), (2010, False), (2011, False), (2012, False), (2013, False), (2014, False), (2015, False), (2016, False), (2017, False), (2018, False), (2019, False), (2020, False), (2021, False), (2022, False), (2023, False), (2024, False), (2025, False), (2026, False), (2027, False), (2028, False), (2029, False), (2030, False), (2031, False), (2032, False), (2033, False), (2034, False), (2035, False), (2036, False), (2037, False), (2038, False), (2039, False), (2040, False), (2041, False), (2042, False), (2043, False), (2044, False), (2045, False), (2046, False), (2047, False), (2048, False), (2049, False), (2050, False), (2051, False), (2052, False), (2053, False), (2054, False), (2055, False), (2056, False), (2057, False), (2058, False), (2059, False), (2060, False), (2061, False), (2062, False), (2063, False), (2064, False), (2065, False), (2066, False), (2067, False), (2068, False), (2069, False), (2070, False), (2071, False), (2072, False), (2073, False), (2074, False), (2075, False), (2076, False), (2077, False), (2078, False), (2079, False), (2080, False), (2081, False), (2082, False), (2083, False), (2084, False), (2085, False), (2086, False), (2087, False), (2088, False), (2089, False), (2090, False), (2091, False), (2092, False), (2093, True), (2094, True), (2095, True), (2096, True), (2097, True), (2098, True), (2099, True), (2100, True), (2101, True), (2102, True), (2103, True), (2104, True), (2105, True), (2106, True), (2107, True), (2108, True), (2109, True), (2110, True), (2111, True), (2112, True), (2113, True), (2114, True), (2115, True), (2116, True), (2117, True), (2118, True), (2119, True), (2120, True), (2121, True), (2122, True), (2123, True), (2124, True), (2125, True), (2126, True), (2127, True), (2128, True), (2129, True), (2130, True), (2131, True), (2132, True), (2133, True), (2134, True), (2135, True), (2136, True), (2137, True), (2138, True), (2139, True), (2140, True), (2141, True), (2142, True), (2143, True), (2144, True), (2145, True), (2146, True), (2147, True), (2148, True), (2149, True), (2150, True), (2151, True), (2152, True), (2153, True), (2154, True), (2155, True), (2156, True), (2157, True), (2158, True), (2159, True), (2160, True), (2161, True), (2162, True), (2163, True), (2164, True), (2165, True), (2166, True), (2167, True), (2168, True), (2169, True), (2170, True), (2171, True), (2172, True), (2173, True), (2174, True), (2175, True), (2176, True), (2177, True), (2178, True), (2179, True), (2180, True), (2181, True), (2182, True), (2183, True), (2184, True), (2185, True), (2186, True), (2187, True), (2188, True), (2189, True), (2190, True), (2191, True), (2192, True), (2193, True), (2194, True), (2195, True), (2196, True), (2197, True), (2198, True), (2199, True)]\n"
     ]
    }
   ],
   "source": [
    "print [(2000+k,fibonacci_num2(10000,2000+k)==fibonacci(10000)) for k in srange(1,200)]"
   ]
  },
  {
   "cell_type": "markdown",
   "metadata": {},
   "source": [
    "Al incrementar el número de dígitos de precisión de uno en uno, empezando en $2000$, vemos  que parece haber un límite claro, para el número de Fibonacci de subíndice $10000$ situado en $2093$ dígitos de precisión, entre los resultados correctos y los incorrectos. Cuando la precisión es insuficiente  el valor aproximado obtenido puede tener, como en el caso calculado arriba con $2000$ dígitos de precisión,  pocas cifras correctas. \n",
    "\n",
    "El resultado de la celda 5 parece indicar que una vez que se alcanza una precisión que permite obtener el valor correcto del número de Fibonacci, se sigue obteniendo para precisiones mayores, lo que no deja de ser razonable pero no era cierto si se utilizaba $floor$ o $ceil$ en lugar de $round$. \n",
    "## Precisión óptima\n",
    "\n",
    "Incrementamos el número de cifras de precisión $d$ de $100$ en $100$ y, para mayor seguridad, paramos cuando encontramos   $100$ valores consecutivos de $d$ para los que el valor aproximado es igual al valor exacto. Ésto es un bastante arbitrario, pero produce un resultado sistemático, en los rangos en los que podemos calcular,  en el que el valor óptimo de $d$ para calcular $F_n$ es del orden de $n/5.$ \n",
    "\n",
    "Este cálculo está hecho en una máquina con dos procesadores de diez núcleos cada uno. "
   ]
  },
  {
   "cell_type": "code",
   "execution_count": 73,
   "metadata": {
    "collapsed": false
   },
   "outputs": [
    {
     "name": "stdout",
     "output_type": "stream",
     "text": [
      "CPU times: user 8 ms, sys: 196 ms, total: 204 ms\n",
      "Wall time: 43.4 s\n"
     ]
    }
   ],
   "source": [
    "nucl = 20\n",
    "\n",
    "def fibonacci_num2(n,d):\n",
    "    phi2 = ((1+sqrt(5))/2).n(digits=d)\n",
    "    return ((phi2^n-(1-phi2)^n)/(sqrt(5)).n(digits=d)).round()\n",
    "\n",
    "\n",
    "\n",
    "def generar_lista(N1,N2,k,nucl):\n",
    "    L = [[] for muda in range(nucl)]\n",
    "    for n in xsrange(N1,N2,k):\n",
    "        r = n%nucl\n",
    "        if L[r] == []:\n",
    "            L[r]=[n]\n",
    "        else:\n",
    "            L[r] += [n]\n",
    "    return L\n",
    "\n",
    "\n",
    "@parallel(nucl)\n",
    "def precision(L):\n",
    "    L1 = []\n",
    "    d = 100\n",
    "    for n in L:\n",
    "        cont = 0\n",
    "        while cont < 100:\n",
    "            d1 = 0\n",
    "            cont += 1\n",
    "            fibn = fibonacci(n)\n",
    "            if fibonacci_num2(n,d+d1) - fibn != 0:\n",
    "                cont = 0\n",
    "                d += 100\n",
    "            d1 += 1\n",
    "        L1.append((n,d))\n",
    "    return L1\n",
    "\n",
    "\n",
    "\n",
    "\n",
    "L = generar_lista(10**4,10**5,next_prime(1000),nucl)\n",
    "\n",
    "%time LL = list(precision([L[j] for j in srange(nucl)]))\n"
   ]
  },
  {
   "cell_type": "code",
   "execution_count": 74,
   "metadata": {
    "collapsed": false
   },
   "outputs": [
    {
     "name": "stdout",
     "output_type": "stream",
     "text": [
      "[(10000, 2100), (11009, 2400), (12018, 2600), (13027, 2800), (14036, 3000), (15045, 3200), (16054, 3400), (17063, 3600), (18072, 3800), (19081, 4000), (20090, 4300), (21099, 4500), (22108, 4700), (23117, 4900), (24126, 5100), (25135, 5300), (26144, 5500), (27153, 5700), (28162, 5900), (29171, 6100), (30180, 6400), (31189, 6600), (32198, 6800), (33207, 7000), (34216, 7200), (35225, 7400), (36234, 7600), (37243, 7800), (38252, 8000), (39261, 8300), (40270, 8500), (41279, 8700), (42288, 8900), (43297, 9100), (44306, 9300), (45315, 9500), (46324, 9700), (47333, 9900), (48342, 10200), (49351, 10400), (50360, 10600), (51369, 10800), (52378, 11000), (53387, 11200), (54396, 11400), (55405, 11600), (56414, 11800), (57423, 12100), (58432, 12300), (59441, 12500), (60450, 12700), (61459, 12900), (62468, 13100), (63477, 13300), (64486, 13500), (65495, 13700), (66504, 14000), (67513, 14200), (68522, 14400), (69531, 14600), (70540, 14800), (71549, 15000), (72558, 15200), (73567, 15400), (74576, 15600), (75585, 15800), (76594, 16100), (77603, 16300), (78612, 16500), (79621, 16700), (80630, 16900), (81639, 17100), (82648, 17300), (83657, 17500), (84666, 17700), (85675, 18000), (86684, 18200), (87693, 18400), (88702, 18600), (89711, 18800), (90720, 19000), (91729, 19200), (92738, 19400), (93747, 19600), (94756, 19900), (95765, 20100), (96774, 20300), (97783, 20500), (98792, 20700), (99801, 20900)]\n"
     ]
    }
   ],
   "source": [
    "L3 = LL[0][1]\n",
    "for j in srange(1,20):\n",
    "    L3 += LL[j][1]\n",
    "L3.sort()\n",
    "print L3"
   ]
  },
  {
   "cell_type": "code",
   "execution_count": 75,
   "metadata": {
    "collapsed": false
   },
   "outputs": [
    {
     "data": {
      "image/png": "[encoded data removed]",
      "text/plain": [
       "Graphics object consisting of 1 graphics primitive"
      ]
     },
     "execution_count": 75,
     "metadata": {},
     "output_type": "execute_result"
    }
   ],
   "source": [
    "point(L3)"
   ]
  },
  {
   "cell_type": "code",
   "execution_count": 76,
   "metadata": {
    "collapsed": true
   },
   "outputs": [],
   "source": [
    "var('a b');model(x)=a*x+b"
   ]
  },
  {
   "cell_type": "code",
   "execution_count": 77,
   "metadata": {
    "collapsed": false
   },
   "outputs": [
    {
     "data": {
      "text/plain": [
       "[a == 0.2089618343317644, b == 54.55748084105385]"
      ]
     },
     "execution_count": 77,
     "metadata": {},
     "output_type": "execute_result"
    }
   ],
   "source": [
    "find_fit(L3,model)"
   ]
  },
  {
   "cell_type": "markdown",
   "metadata": {},
   "source": [
    "## ¿Qué fórmula debemos usar?\n",
    "\n",
    "Según la fórmula de Binet para $n$ impar el número de Fibonacci $F_n$ es mayor que $\\phi^n/\\sqrt{5}$,  mientras que para $n$ par el número de Fibonacci es menor. En los dos casos la contribución de $(1-\\phi)^n/\\sqrt{5}$ es tan pequeña que que el número de Fibonacci se obtiene aplicando $round$ a $(\\phi^n/\\sqrt{5})-((1-\\phi)^n/\\sqrt{5})$ o bien a $\\phi^n/\\sqrt{5}$."
   ]
  },
  {
   "cell_type": "code",
   "execution_count": 2,
   "metadata": {
    "collapsed": false
   },
   "outputs": [
    {
     "name": "stdout",
     "output_type": "stream",
     "text": [
      "6.068591685456718035619403147339630104651512141126052211865767041716176764765589018242408055263274897168757374437409165067391936729910678855287801079012110917505446648742635934189331740086682420893261372556059274639160771733685436367593704592786892159702128543801780254147028948977222245473272069263261751053396109232711911047523273838675901114235077296035088997457312498028790662624526510269386278092071548751317013665454589650007201726185728530242283779229097261989029828756801017183011295338999833916729589312805063001237365807513694958742781732695816988968962639452882938862224287302082275555291837216209910835096157815398287200994225799294267360540953990564956042743835115953129722287171001936670480984555598096837608005844679113400742789683478414967142237839395120220694707422125236546781663761178350906867233311605207524790670004201081966955322596184023452177276345063815828582545736704866229600192796604635013533899036201133319731641770447114708243158557738223181309307977952995423239607471615048372967866407516021541193075748058461598522683588301227369851409165139717492432007045436316363019178188610124485814948208476573390660318881003972996201617059421395295121122119041659142454465611985191701052920078050695627231313944753395469255107539265756031195867108292023730140176818380815111973831001258629466844007301068313096014424584257315006812370528411251607160401868318479988891659131180052124327564025767912624161388527783781659470033083441681350752917450349930346340323665015072391615728882986937540744072953283186892386808390490324000862549009407249159738825299026317370300905590934265062384369083403395725207806654942421704657944706801148463502860303475480732280503102994105524727778514309473978110507175372713554760736940823573212213365726321125878032339302745276873318650425347991893580692985378549753093987959888324018441416277554040463806957817930409661660818457481474534635654159952952875799324190205695613164451786051058180108280327637207405245458147388907837178939899380378040080558845380758519506612388937526855197617642142934842228856900356697816466331318817888400484313601290297737028223681615193406163193636071439972185567812354327093469312759611511039550632969121111198930881521167768336099231539237785244567950299677045570651321954181585993132066484706122707883279047732713813153220429653569118447641677811834128785189833605010095632709346841812829161137117998575047466229062130359059869581810662868334863495794723931006185197759835420349541865717191811393981286907595267287101531701526899761311230198451376068762960973316979446306363067495350168334321640386897010695970552875661363105709619947001552822508616048331608966463239267657962703699416462735057452795834706644801602039034560782970863471186217378779414622835920144423005219029631934443806022505396730988222556995267143982316725349289171934329385560386024134260532531896065758436318983170579656103173362821085365741848863581927751816890505388854762518585904133966677246187079108252046317685965830485833811101385462759691260675533556983375881342205317246398396800472957076962789355306631550081277694826277507465589939489436236594080905855861571519018017142227910041781263918013582365960620371919870161611192243058543471114710452385857310366055589218704186864611162879107717602152141546081615013576334107490272470062341964320869294606431394520173043718679871900325814975579105743122820971019334558264038060439047411271713956823966471396247319666625891545447074523094561544369596293367243129769734505377407894740640102023273572624052106407719120961854063890630133469613421497529423142264574332577686493451967525687224368267814325838440673841540979403487166468138979953869880846826810838924876219879859785333324825390408074594491612196121756983024419969764613747129777142955811934952985992755122780421648930352951883762790356678054272593743551699188477473920302372708563900665394259178348956731129375887017940473269776899149643187001112814511089011033030817911944470866032230017586234880802717718704245467927306597542534806768386542638447260233198824801211428362050813151306085163061744219448661272860989076465073980511447636488037625218369503959425526387783513395386796758702976352058383679349106523745136127666835398570372250467620344880083853582561383999212321187603687820538795853199527633641511783386674185453429417305636227286070432529982854581985227985584809163551472379052917256299446923192578707861353207159414520946276060682513447693292474698331629368024514084097008009816971507134659296781853370832627228706300588875367336291342503059036957665085212948403280700148925113078127607790078010775564370556458751819854856734529081250324210858994035142064107373425786048226786829983406503826295571417602639807724678828536647078777931058422372662363174049924412554843243950027555978944452363580261983233791284610525690034421939668668934835938768298530594217383603366237118029389679821240703356217603088765405526320296447494159087996368700533710161360722713859191302543272982613041820021622932494466727515767803414385151741081099276853638185467723298632116075387471648567873573861428446560688442476294423011884171633795288672412957914569651067260182453776592406185071943840243530044625263302514068547859429666719784685724822253187719620976479271311842877969285689063353719154524697738223330448129041192899262377165093494190677014841496323310265218228391418846011929995633428127049701115297273845476193022975528663473991211586379103092333698525540732600378915119055248849790638632069931092956659035549296981124840511888139641525270767912327866723154850432903032964392924040424546756210499828878578012442741533625756866476197063416645053526000769317136328166324258655854950854623769666839812772182848037688973770461671518471544062834093409535428455577944795885509344686601444039868878555423608405878449798753776418884406909737876733195211120899380635941874162871084598293676219392286444472384397732947663461090926441605058414598188631685219562017622259742503294397454422631582654069718149687181921696245098836710057311704728899411963210718407421730605223471733982593545666806665759072837888170216452533550601956174863577952000474368194283168777134858975160824608140125394445968605785126727834662768681718700045986870224698962684243309705560686429145126933465504664831201255743697572976980041315135412822126595762619331287412022337857874761980710247679930998804009536545714454011457075710257669597294371529088826567753896009800773668147064749206877534753991031631702859036828447735087635362838461443542108288760577511601787918790221038003765066220012831511305202300910849834668944727541652617346634686187013311795748248149392414743512061869042501806230999954096502593938617354454365123915855919768724507860829024789068584377431561735125299661044749619654017616182575842223963476781180078409567237873363597442861137719660372474606633573874185787002153447053009962867230076938601543520045163135954208302764270566388478094750125697125236487163321124635339460419037197782623146421800696345819324842826419380231397074858716543539971898489652615475751064503582056591409117725794472275117774815896650450676544792411592024876589366235543155806132636818369710990547301806315939873581691695439338384379116872925439175557508543831272387450758335411998568872580345300610788684348126008925932840282759290321864880638486627857109679450041153891450187046246740715847486281532643280782178609855255061591923541547120843964427768663335002875254315459076192047180564801692937613552005840560033186303485798789599646382454693181137095684886452569084326004613814541785260805108559996529501923539723582166223311291167994902436748561510488875124177387663873873843001908177509265661521766023624674558860268944110633178980234509330013942539283295499509193613060570400526618834499413465567159400638534982925646913082354768112700536203654419419489989750974304771054816808574896580154377252440773199099637667832450686458026644554844400254545881316998636474365476790331923353561917045178250755542355459017651614084556456374004310536454035436574007078839026544782295039398669053171188184813969633993084400846569794866513203559300466139014097815254994917039055883967178691392982839538017619299462060496279863927902160398488954106338314618366833325652772327402908428534151485033288445692117699195134418698040152414531520244561967212451349617778632947868826679813127764292174890713884776095929159085611283182698187700000000000000000000000000000000000000000000000000000000000000000000000000000000000000000000000000000000000000000000000000000000000000000000000000000000000000000000000000000000000000000000000000000000000000000000000000000000000000000000000000000000000000000000000000000000000000000000000000000000000000000000000000000000000000000000000000000000000000000000000000000000000000000000000000000000000000000000000000000000000000000000000000000000000000000000000000000000000000000000000000000000000000000000000000000000000000000000000000000000000000000000000000000000000000000000000000000000000000000000000000000000000000000000000000000000000000000000000000000000000000000000000000000000000000000000000000000000000000000000000000000000000000000000000000000000000000000000000000000000000000000000000000000000000000000000000000000000000000000000000000000000000000000000000000000000000000000000000000000000000000000000000000000000000000000000000000000000000000000000000000000000000000000000000000000000000000000000000000000000000000000000000000000000000000000000000000000000000000000000000000000000000000000000000000000000000000000000000000000000000000000000000000000000000000000000000000000000000000000000000000000000000000000000000000000000000000000000000000000000000000000000000000000000000000000000000000000000000000000000000000000000000000000000000000000000000000000000000000000000000000000000000000000000000000000000000000000000000000000000000000000000000000000000000000000000000000000000000000000000000000000000000000000000000000000000000000000000000000000000000000000000000000000000000000000000000000000000000000000000000000000000000000000122e8359\n"
     ]
    }
   ],
   "source": [
    "phi2 = ((1+sqrt(5))/2).n(digits=10000)\n",
    "print (phi2^40003)/(sqrt(5)).n(digits=10000)"
   ]
  },
  {
   "cell_type": "code",
   "execution_count": 3,
   "metadata": {
    "collapsed": false
   },
   "outputs": [
    {
     "name": "stdout",
     "output_type": "stream",
     "text": [
      "-3.295657549004273428579585079580051012274413441784427353610181777371233757997954854514168537461775082990763249031018864990914869590363071340191167147418909188966006575230352181443605929592559772774102233007703500117595023383382141508878205998986058325106182346839041246818335934524689869676756243176833482903235873123106667064303227315326739364093379378218502001930931950583624488128999869066907316591440433258554318641388610537879692449978917601472622202257105081514481580465648731013061359625512021352057810222761773443078676800906916475469888756237184187843552371969646599184950535921227555064425259885364542189074598467746071312357891296460684391204491332994352052394903140561694837117728061684376164936769215091071078178985266650270571888812945963345875295472348775989730265956948665860972766076909253384757294154039681487108857764374673332644244114863425394778916897683014908080427099991786256656076858563462709798628249803508905603606992084455122488140812513035062684080061024669904698594173208498942760642275652071782556114474189630336604382608924219431512721143209600357915590735855338885785714786857455518630093220658607521905359555807203309354595086263665286301759529941196586306616707239264238220459490542052510055580135822694312288731231666245064186160314315254541476480976513753680756477892578899713784552009197213679121476086083857508300696489545544566687618000932519583205331514664476966404470816105317436188017477319454922404983818953168063246632148494529827184055544721195684847509065072924160273368753210207809243874467371867917261006235008711598949882862536443207227683534217703703130202669315313041765298953655442720494355488699132294323816760985881448310126935467408295940578218982066226143241469130119770526555575954804307000809127791224268879985005314230032131678155279978073745239879506955085596943382489480542356450969303036640020374190017026280385207278477169439567693261203815264115579391420556760425143981628576550460688250020109494043543753171973017125967799652286404781897606244324296531430288578800258196597284835910439736609398467833336849295460896274556662080071299878077243778419114126017705030023968359889448331073496427247673748227034503770900907171195606728139672956486577923101971232763066353273946993799802149823381847457648142987691046928020197367454891172348403645275621122436112783590261037696993124225625447321913731712803679541469950199954994792562178266455347385535661007227330934714148944564045702586172764149046443606137753904108741658294934279830755070274304444419239850338346628867463658517270459170351763402061680831139814785768801527277151424917492664846324005604280311336676270972861834174421617866129557571223053591691705367329575266217030862531744024959065329860316016425545955474535006412335810828019373772352702697570916719128636534036626211975032869079343601718018486812391540637121768251342616639179060816351575572642135181230974267567085333489983768499716367453305379337080677216171065021637548731020691620916335331535526076242103936965376353768827130140087920499423413586790883644775859965109030242634621134407400731845747358847465997748892318765229357500282412288010639328925691248331750802572862011212711922306252696706248659335160712663759583776724978353092985785976058599261893519501410919229463969401111894709585196570118597493029688206371728339888332136554921850118993538713725652367648323525853382283392500057777586088878962210560347251082716187587112547833311322750796839543100247005744827578982746279023887055613499714391228973498571883592568952326295718799989558926318532888573207830823844508444595288122772559032766220890087631873533366928411306981573602862919617188251748297848214512756888605545961051934858795577357954262836249615565662731404064521117165940604745532792199835298954830180592389996884078224671555862372314810463821361796276461683044399318093276965605594417140440809419060147502335692443544768669840360126220800691709847598069194552173315931080610588174631861311739618206606081603598369713875150130763935293684893339716569119117333475267483190229767115385590712105259714195955157593637888029353223370921022374515198349021672885795705941945639914556833636208579754375431374851315519840880418108818695847731317652844295277783736052901095575062808580059455427777912438774753285714744010988228629938378078672908651834248501352867328607064658653186807237505908602132630331603437302843235098964910299755202927412401007720025996143425921453785391701253589471972873487885696495549114780670529068610210458616147828490513592396749809106916700159735773514838518897013108538572540156363279623216808005974336183600209655826032580691842851650393963345415733590943587266909252280674291450072751067213755474949332644442007925176140444529092483498833207103893204997484469554511488581049888912442783962726606358001359666822192071285554311898386301300917973053714638113965677728438408495051891327606794206699466485527256806719776123719264140486744155948704787724991600936622608810463017527105099286764975044894059123914638830221546073710686690014527831920172910724626353387934365181382048383086701912725875899006400364123944399745911532748785856930042837372112450758653387191560879585961759296531952598509315589299399375255930427947043298176854557355514904760117480572476662150937565987815075645261302499653261852339984914585593663669184251652630772642367735774068197774559162790120794906984126106630080049269644199282926701273861191228259092491150447625503688947208349283885213699672822853142451694940202008035164866981583759665022298750530006047393023981751905755644414177920275669125668586333122328656177419047994915584389275445810202432266346136887418457046766399377193104838938245787861638341037932797091526510451176637807073224294663104136505768290452556353959219428252733798563957123558342355199422243899956686588543209314123763850208715959388374435245301668874050857408149265074981815640941079600250129404791968414397244995608083403802905858802746596415997790084213022615327144671609977103147346342214726438987069822937077831493702456238778344806489628960263768849595210346340034053794217982990121304093275387505460013418777214268594314907159028443324196647306438917600145542451838565560239193300763102085953885455884614719578991912020328725765200207134635080076441218375576825085619494255278382876772826266652766876914366123239183684879823567207698413697425925924518903245285911221646892963513241431399700918721491394020874720252666261369550570949629867479028553755159955034224733334347676303136459543464172733681260365182946118882235184849829686433929304280519896657566129408341335125488534890007206695208453541104868300526899833910986846073796615070557835654219085154587172143721434678281620772523618507737329760998167453313961468647097947138552715044412080656436132120867094290496056851334373626457807541438079327168069041733502123815005888150365713755443680961916364224850975202495452908184529543089727780493593628311847198666237634864248335622578971361724749591216070402494029832144625664673955998760427068917676117567409694969050116266886368482622934042731134666496063285750546930346418196413930363033857290503941467444765455761610271863214352734767572010252481663377364790563920703065853586577947400224282752858953841319217251976735771754185139866090575413268639637686253746527214688311248941431157549030771585977920017536880412937379024052870672142962360281576586100622617925564624800209406564422834853397706235437332351680186500046202847661052188484867384098391844296494974369373190391767509904825307813204170538490249114671976703289795604898257165407026364582268805028894826575007910439579996844021852536774965096184206675843219333703864587040531785483671026341479301083455105419134454690749102858183715401612779458095956209814637375338402361472093651036053854001970325957835582069686324714853752545428206354209264038007391938706628012932814664326650294828166568090944149016058954071051589845068868854227804020303790136146066836488063650210505266162877128645835722485496317793793939345412243725206831721858925019804696782207509900295135659951616965698129738026892239739431016563936287075125115794960762912980504773615961200970371513451969167789928972480336838824298012523745105114735866020677139891018117050166931846312717150651706870910283753161943167076468346219107314861290084929264584211744788570740009827653853681455097950577692356213294850168221101935534570114249245058569026651481493099127179826856054020935135561053978451294601161672203730051742107368309339281881202693104380361497453790334168027519444616228925498583458833796324642952852322209048023788300697215013868690438858501986636261281369533774425064705173161259063070406618409942553148263611983608836668086400917919177378104021985922063373289517408072968747020735768022809192668846380552201752691235382372364889960759421828928804749989061090579815915422234848528273840227748001538584817044256286967797071022609072319728952340444439915127953229963389282160216608868476796858564935315243661689725395073329600365241825312416719628675008043726574416711348257581917720016571351600740894158810250085000833074414805948576853702017297995605018507033552656776358326628352070274124893753412926746196362480141873669286236653339391494354815565803538917343051578403141264382641167746029408596129352846168348298802358302373480442229289045388857019378792279407251365289051224670942829239069656606862917586009501762864090163770873230465913848657576503961567942544232811761836665172429917187556777920050981245067320091106247038813190715278425685869415692437334038091364133161597463578426124743503230783238500609014317952805976427541865201981369605605764606002141251898449329945256929556237762281591234818284154379092038216016334756426956892120850706239375802003432822545675854601341250619223264645188640216827985244010908914080913601169900039789867615826058912043382280425105520508927647779241341668803616028021388776700186522412832880348803355338423165603436657192579863206124945391055498796591824946823359416062243474096613981847358870276744802630578878207882036e-8361\n"
     ]
    }
   ],
   "source": [
    "phi2 = ((1+sqrt(5))/2).n(digits=10000)\n",
    "print ((1-phi2)^40003)/(sqrt(5)).n(digits=10000)"
   ]
  },
  {
   "cell_type": "code",
   "execution_count": 4,
   "metadata": {
    "collapsed": false
   },
   "outputs": [
    {
     "data": {
      "text/plain": [
       "60685916854567180356194031473396301046515121411260522118657670417161767647655890182424080552632748971687573744374091650673919367299106788552878010790121109175054466487426359341893317400866824208932613725560592746391607717336854363675937045927868921597021285438017802541470289489772222454732720692632617510533961092327119110475232738386759011142350772960350889974573124980287906626245265102693862780920715487513170136654545896500072017261857285302422837792290972619890298287568010171830112953389998339167295893128050630012373658075136949587427817326958169889689626394528829388622242873020822755552918372162099108350961578153982872009942257992942673605409539905649560427438351159531297222871710019366704809845555980968376080058446791134007427896834784149671422378393951202206947074221252365467816637611783509068672333116052075247906700042010819669553225961840234521772763450638158285825457367048662296001927966046350135338990362011333197316417704471147082431585577382231813093079779529954232396074716150483729678664075160215411930757480584615985226835883012273698514091651397174924320070454363163630191781886101244858149482084765733906603188810039729962016170594213952951211221190416591424544656119851917010529200780506956272313139447533954692551075392657560311958671082920237301401768183808151119738310012586294668440073010683130960144245842573150068123705284112516071604018683184799888916591311800521243275640257679126241613885277837816594700330834416813507529174503499303463403236650150723916157288829869375407440729532831868923868083904903240008625490094072491597388252990263173703009055909342650623843690834033957252078066549424217046579447068011484635028603034754807322805031029941055247277785143094739781105071753727135547607369408235732122133657263211258780323393027452768733186504253479918935806929853785497530939879598883240184414162775540404638069578179304096616608184574814745346356541599529528757993241902056956131644517860510581801082803276372074052454581473889078371789398993803780400805588453807585195066123889375268551976176421429348422288569003566978164663313188178884004843136012902977370282236816151934061631936360714399721855678123543270934693127596115110395506329691211111989308815211677683360992315392377852445679502996770455706513219541815859931320664847061227078832790477327138131532204296535691184476416778118341287851898336050100956327093468418128291611371179985750474662290621303590598695818106628683348634957947239310061851977598354203495418657171918113939812869075952672871015317015268997613112301984513760687629609733169794463063630674953501683343216403868970106959705528756613631057096199470015528225086160483316089664632392676579627036994164627350574527958347066448016020390345607829708634711862173787794146228359201444230052190296319344438060225053967309882225569952671439823167253492891719343293855603860241342605325318960657584363189831705796561031733628210853657418488635819277518168905053888547625185859041339666772461870791082520463176859658304858338111013854627596912606755335569833758813422053172463983968004729570769627893553066315500812776948262775074655899394894362365940809058558615715190180171422279100417812639180135823659606203719198701616111922430585434711147104523858573103660555892187041868646111628791077176021521415460816150135763341074902724700623419643208692946064313945201730437186798719003258149755791057431228209710193345582640380604390474112717139568239664713962473196666258915454470745230945615443695962933672431297697345053774078947406401020232735726240521064077191209618540638906301334696134214975294231422645743325776864934519675256872243682678143258384406738415409794034871664681389799538698808468268108389248762198798597853333248253904080745944916121961217569830244199697646137471297771429558119349529859927551227804216489303529518837627903566780542725937435516991884774739203023727085639006653942591783489567311293758870179404732697768991496431870011128145110890110330308179119444708660322300175862348808027177187042454679273065975425348067683865426384472602331988248012114283620508131513060851630617442194486612728609890764650739805114476364880376252183695039594255263877835133953867967587029763520583836793491065237451361276668353985703722504676203448800838535825613839992123211876036878205387958531995276336415117833866741854534294173056362272860704325299828545819852279855848091635514723790529172562994469231925787078613532071594145209462760606825134476932924746983316293680245140840970080098169715071346592967818533708326272287063005888753673362913425030590369576650852129484032807001489251130781276077900780107755643705564587518198548567345290812503242108589940351420641073734257860482267868299834065038262955714176026398077246788285366470787779310584223726623631740499244125548432439500275559789444523635802619832337912846105256900344219396686689348359387682985305942173836033662371180293896798212407033562176030887654055263202964474941590879963687005337101613607227138591913025432729826130418200216229324944667275157678034143851517410810992768536381854677232986321160753874716485678735738614284465606884424762944230118841716337952886724129579145696510672601824537765924061850719438402435300446252633025140685478594296667197846857248222531877196209764792713118428779692856890633537191545246977382233304481290411928992623771650934941906770148414963233102652182283914188460119299956334281270497011152972738454761930229755286634739912115863791030923336985255407326003789151190552488497906386320699310929566590355492969811248405118881396415252707679123278667231548504329030329643929240404245467562104998288785780124427415336257568664761970634166450535260007693171363281663242586558549508546237696668398127721828480376889737704616715184715440628340934095354284555779447958855093446866014440398688785554236084058784497987537764188844069097378767331952111208993806359418741628710845982936762193922864444723843977329476634610909264416050584145981886316852195620176222597425032943974544226315826540697181496871819216962450988367100573117047288994119632107184074217306052234717339825935456668066657590728378881702164525335506019561748635779520004743681942831687771348589751608246081401253944459686057851267278346627686817187000459868702246989626842433097055606864291451269334655046648312012557436975729769800413151354128221265957626193312874120223378578747619807102476799309988040095365457144540114570757102576695972943715290888265677538960098007736681470647492068775347539910316317028590368284477350876353628384614435421082887605775116017879187902210380037650662200128315113052023009108498346689447275416526173466346861870133117957482481493924147435120618690425018062309999540965025939386173544543651239158559197687245078608290247890685843774315617351252996610447496196540176161825758422239634767811800784095672378733635974428611377196603724746066335738741857870021534470530099628672300769386015435200451631359542083027642705663884780947501256971252364871633211246353394604190371977826231464218006963458193248428264193802313970748587165435399718984896526154757510645035820565914091177257944722751177748158966504506765447924115920248765893662355431558061326368183697109905473018063159398735816916954393383843791168729254391755575085438312723874507583354119985688725803453006107886843481260089259328402827592903218648806384866278571096794500411538914501870462467407158474862815326432807821786098552550615919235415471208439644277686633350028752543154590761920471805648016929376135520058405600331863034857987895996463824546931811370956848864525690843260046138145417852608051085599965295019235397235821662233112911679949024367485615104888751241773876638738738430019081775092656615217660236246745588602689441106331789802345093300139425392832954995091936130605704005266188344994134655671594006385349829256469130823547681127005362036544194194899897509743047710548168085748965801543772524407731990996376678324506864580266445548444002545458813169986364743654767903319233535619170451782507555423554590176516140845564563740043105364540354365740070788390265447822950393986690531711881848139696339930844008465697948665132035593004661390140978152549949170390558839671786913929828395380176192994620604962798639279021603984889541063383146183668333256527723274029084285341514850332884456921176991951344186980401524145315202445619672124513496177786329478688266798131277642921748907138847760959291590856112831826981877"
      ]
     },
     "execution_count": 4,
     "metadata": {},
     "output_type": "execute_result"
    }
   ],
   "source": [
    "fibonacci(40003)"
   ]
  },
  {
   "cell_type": "markdown",
   "metadata": {},
   "source": [
    "Vemos bastante bien en este cálculo lo que está pasando: la parte entera del resultado de la primera celda de este bloque es el número de Fibonacci $F_{40003}$ y después del punto decimal hay un montón de ceros y $3$ cifras distintas de cero ($122$). Este resultado \"contradice ligeramente\" la fórmula de Binet, ya que debería ser menor que el número de Fibonacci. \n",
    "\n",
    "Sin embargo, la contribución, negativa, de la segunda celda únicamente afecta a las tres últimas cifras $122$ en el cálculo de la primera celda. Podemos atribuir la contradicción mencionada a los errores de redondeo, y el resultado correcto de la primera celda debería ser $....87699999999999999........$, y por tanto más pequeño que el valor verdadero del número de Fibonacci $....877$. Esto explica que en ocasiones podemos calcular un $F_n$ con $n$ impar usando $floor$, que según la fórmula de Binet no debería ser posible. \n",
    "\n",
    "## ¿Es realmente óptima la cota $n/5$?\n",
    "\n",
    "Observando los ejemplos anteriores parece claro que como mínimo necesitamos $8359$ dígitos de precisión, y resulta que este número es el logaritmo en base $10$ de $40003$. "
   ]
  },
  {
   "cell_type": "code",
   "execution_count": 1,
   "metadata": {
    "collapsed": false
   },
   "outputs": [
    {
     "data": {
      "text/plain": [
       "8359.783087917731277569798255217291585662221069388923828702775532311175199537670089154360986133343765"
      ]
     },
     "execution_count": 1,
     "metadata": {},
     "output_type": "execute_result"
    }
   ],
   "source": [
    "log(fibonacci(40003),base=10).n(digits=100)"
   ]
  },
  {
   "cell_type": "markdown",
   "metadata": {},
   "source": [
    "Sin embargo, para esta cota inferior necesitamos conocer el valor de $fibonacci(40003)$, luego no es muy útil. "
   ]
  },
  {
   "cell_type": "code",
   "execution_count": null,
   "metadata": {
    "collapsed": true
   },
   "outputs": [],
   "source": []
  }
 ],
 "metadata": {
  "kernelspec": {
   "display_name": "SageMath 7.3",
   "language": "",
   "name": "sagemath"
  },
  "language_info": {
   "codemirror_mode": {
    "name": "ipython",
    "version": 2
   },
   "file_extension": ".py",
   "mimetype": "text/x-python",
   "name": "python",
   "nbconvert_exporter": "python",
   "pygments_lexer": "ipython2",
   "version": "2.7.10"
  }
 },
 "nbformat": 4,
 "nbformat_minor": 0
}
