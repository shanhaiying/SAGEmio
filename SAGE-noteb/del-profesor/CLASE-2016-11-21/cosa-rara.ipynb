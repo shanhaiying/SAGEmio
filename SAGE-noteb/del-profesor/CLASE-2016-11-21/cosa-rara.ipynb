{
 "cells": [
  {
   "cell_type": "code",
   "execution_count": 3,
   "metadata": {
    "collapsed": true
   },
   "outputs": [],
   "source": [
    "def generar_lista(N1,N2,k,nucl):\n",
    "    L = [[]]*nucl\n",
    "    print L[1]\n",
    "    for n in range(N1,N2,k):\n",
    "        r = n%nucl\n",
    "        print n,r\n",
    "        (L[r]).append(n)\n",
    "        print L[r]\n",
    "    return L"
   ]
  },
  {
   "cell_type": "code",
   "execution_count": 4,
   "metadata": {
    "collapsed": false
   },
   "outputs": [
    {
     "name": "stdout",
     "output_type": "stream",
     "text": [
      "[]\n",
      "1 1\n",
      "[1]\n",
      "3 3\n",
      "[1, 3]\n",
      "5 1\n",
      "[1, 3, 5]\n",
      "7 3\n",
      "[1, 3, 5, 7]\n",
      "9 1\n",
      "[1, 3, 5, 7, 9]\n",
      "11 3\n",
      "[1, 3, 5, 7, 9, 11]\n",
      "13 1\n",
      "[1, 3, 5, 7, 9, 11, 13]\n",
      "15 3\n",
      "[1, 3, 5, 7, 9, 11, 13, 15]\n",
      "17 1\n",
      "[1, 3, 5, 7, 9, 11, 13, 15, 17]\n",
      "19 3\n",
      "[1, 3, 5, 7, 9, 11, 13, 15, 17, 19]\n"
     ]
    },
    {
     "data": {
      "text/plain": [
       "[[1, 3, 5, 7, 9, 11, 13, 15, 17, 19],\n",
       " [1, 3, 5, 7, 9, 11, 13, 15, 17, 19],\n",
       " [1, 3, 5, 7, 9, 11, 13, 15, 17, 19],\n",
       " [1, 3, 5, 7, 9, 11, 13, 15, 17, 19]]"
      ]
     },
     "execution_count": 4,
     "metadata": {},
     "output_type": "execute_result"
    }
   ],
   "source": [
    "generar_lista(1,20,2,4)"
   ]
  },
  {
   "cell_type": "code",
   "execution_count": 5,
   "metadata": {
    "collapsed": true
   },
   "outputs": [],
   "source": [
    "def generar_lista2(N1,N2,k,nucl):\n",
    "    L = [[] for muda in range(nucl)]\n",
    "    for n in range(N1,N2,k):\n",
    "        r = n%nucl\n",
    "        (L[r]).append(n)\n",
    "    return L"
   ]
  },
  {
   "cell_type": "code",
   "execution_count": 9,
   "metadata": {
    "collapsed": false
   },
   "outputs": [
    {
     "name": "stdout",
     "output_type": "stream",
     "text": [
      "[[4, 8, 12, 16, 20, 24, 28, 32, 36, 40, 44, 48, 52, 56, 60, 64, 68, 72, 76, 80, 84, 88, 92, 96, 100, 104, 108, 112, 116, 120, 124, 128, 132, 136, 140, 144, 148, 152, 156, 160, 164, 168, 172, 176, 180, 184, 188, 192, 196], [1, 5, 9, 13, 17, 21, 25, 29, 33, 37, 41, 45, 49, 53, 57, 61, 65, 69, 73, 77, 81, 85, 89, 93, 97, 101, 105, 109, 113, 117, 121, 125, 129, 133, 137, 141, 145, 149, 153, 157, 161, 165, 169, 173, 177, 181, 185, 189, 193, 197], [2, 6, 10, 14, 18, 22, 26, 30, 34, 38, 42, 46, 50, 54, 58, 62, 66, 70, 74, 78, 82, 86, 90, 94, 98, 102, 106, 110, 114, 118, 122, 126, 130, 134, 138, 142, 146, 150, 154, 158, 162, 166, 170, 174, 178, 182, 186, 190, 194, 198], [3, 7, 11, 15, 19, 23, 27, 31, 35, 39, 43, 47, 51, 55, 59, 63, 67, 71, 75, 79, 83, 87, 91, 95, 99, 103, 107, 111, 115, 119, 123, 127, 131, 135, 139, 143, 147, 151, 155, 159, 163, 167, 171, 175, 179, 183, 187, 191, 195, 199]]\n"
     ]
    }
   ],
   "source": [
    "print generar_lista2(1,200,1,4)"
   ]
  },
  {
   "cell_type": "code",
   "execution_count": null,
   "metadata": {
    "collapsed": true
   },
   "outputs": [],
   "source": []
  }
 ],
 "metadata": {
  "kernelspec": {
   "display_name": "Python [Root]",
   "language": "python",
   "name": "Python [Root]"
  },
  "language_info": {
   "codemirror_mode": {
    "name": "ipython",
    "version": 2
   },
   "file_extension": ".py",
   "mimetype": "text/x-python",
   "name": "python",
   "nbconvert_exporter": "python",
   "pygments_lexer": "ipython2",
   "version": "2.7.12"
  }
 },
 "nbformat": 4,
 "nbformat_minor": 0
}
