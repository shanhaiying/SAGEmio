{
 "nbformat": 4, 
 "cells": [
  {
   "source": [
    "<p>El objeto de esta hoja es mostrar las mejoras en eficiencia , enormes, que se obtienen al utilizar listas y matrices de numpy en lugar de las habituales de Sage.&nbsp; Esto se debe a que el c&oacute;digo de numpy est&aacute; muy optimizado.</p>\n<p>Comenzamos generando dos listas de cien millones de n&uacute;meros aleatorios entre cero y uno, calculando el cuadrado de cada&nbsp;&nbsp; elemento&nbsp; y sumando&nbsp; los resultados, primero en la forma normal en Sage y luego usando numpy:</p>"
   ], 
   "cell_type": "markdown", 
   "metadata": {}
  }, 
  {
   "execution_count": 1, 
   "cell_type": "code", 
   "source": [
    "def cuad(x):\n", 
    "    return x*x\n", 
    "def suma_cuadrados():\n", 
    "    L = [random() for muda in xsrange(10^7)]\n", 
    "    return sum(map(cuad,L))"
   ], 
   "outputs": [], 
   "metadata": {
    "collapsed": false
   }
  }, 
  {
   "execution_count": 2, 
   "cell_type": "code", 
   "source": [
    "time suma_cuadrados()"
   ], 
   "outputs": [
    {
     "output_type": "execute_result", 
     "data": {
      "text/plain": [
       "3333258.0607009917\n", 
       "Time: CPU 7.80 s, Wall: 7.80 s"
      ]
     }, 
     "execution_count": 2, 
     "metadata": {}
    }
   ], 
   "metadata": {
    "collapsed": false
   }
  }, 
  {
   "execution_count": 3, 
   "cell_type": "code", 
   "source": [
    "import numpy as np\n", 
    "np.random.seed([763829])\n", 
    "time A = np.random.rand(10000000)\n", 
    "time sum(A*A)"
   ], 
   "outputs": [
    {
     "output_type": "execute_result", 
     "data": {
      "text/plain": [
       "Time: CPU 0.18 s, Wall: 0.18 s\n", 
       "3332849.8862028224\n", 
       "Time: CPU 0.07 s, Wall: 0.07 s"
      ]
     }, 
     "execution_count": 3, 
     "metadata": {}
    }
   ], 
   "metadata": {
    "collapsed": false
   }
  }, 
  {
   "source": [
    "<p>Tomamos ahora $10^8$ n&uacute;meros aleatorios todav&iacute;a con tiempos muy bajos:</p>"
   ], 
   "cell_type": "markdown", 
   "metadata": {}
  }, 
  {
   "execution_count": 4, 
   "cell_type": "code", 
   "source": [
    "import numpy as np\n", 
    "np.random.seed([763829])\n", 
    "time A = np.random.rand(100000000)\n", 
    "time sum(A*A)"
   ], 
   "outputs": [
    {
     "output_type": "execute_result", 
     "data": {
      "text/plain": [
       "Time: CPU 1.52 s, Wall: 1.53 s\n", 
       "33331946.820564572\n", 
       "Time: CPU 0.48 s, Wall: 0.49 s"
      ]
     }, 
     "execution_count": 4, 
     "metadata": {}
    }
   ], 
   "metadata": {
    "collapsed": false
   }
  }, 
  {
   "source": [
    "<p>Una vez generada la lista del tipo numpy $C$, podemos aplicar una funci&oacute;n, como el logaritmo,&nbsp; a todos los elementos de la lista mediante $log(C)$:</p>"
   ], 
   "cell_type": "markdown", 
   "metadata": {}
  }, 
  {
   "execution_count": 5, 
   "cell_type": "code", 
   "source": [
    "import numpy as np\n", 
    "np.random.seed([763829]) \n", 
    "C = np.random.rand(100000000)\n", 
    "print sum(log(C))\n", 
    "print prod(log(C))"
   ], 
   "outputs": [
    {
     "output_type": "execute_result", 
     "data": {
      "text/plain": [
       "-100009700.132\n", 
       "0.0"
      ]
     }, 
     "execution_count": 5, 
     "metadata": {}
    }
   ], 
   "metadata": {
    "collapsed": false
   }
  }, 
  {
   "source": [
    "<p>Pasamos ahora de listas de numpy a matrices de numpy:</p>"
   ], 
   "cell_type": "markdown", 
   "metadata": {}
  }, 
  {
   "execution_count": 6, 
   "cell_type": "code", 
   "source": [
    "A = np.random.rand(2,2) #Una matriz 2x2 con entradas numeros aleatorios\n", 
    "print A\n", 
    "B = A.dot(A) #B es su cuadrado. El producto de A por B es A.dot(B)\n", 
    "print B"
   ], 
   "outputs": [
    {
     "output_type": "execute_result", 
     "data": {
      "text/plain": [
       "[[ 0.79881494  0.96851941]\n", 
       " [ 0.90952275  0.89096117]]\n", 
       "[[ 1.51899576  1.63658096]\n", 
       " [ 1.53688982  1.67470224]]"
      ]
     }, 
     "execution_count": 6, 
     "metadata": {}
    }
   ], 
   "metadata": {
    "collapsed": false
   }
  }, 
  {
   "source": [
    "<p>Queremos elevar una matriz de numpy a un exponente, y para eso usamos la funci&oacute;n recursiva general para elevar a exponentes en anillos:</p>"
   ], 
   "cell_type": "markdown", 
   "metadata": {}
  }, 
  {
   "execution_count": 7, 
   "cell_type": "code", 
   "source": [
    "def potencia(A,n):\n", 
    "    m = A.shape[0]\n", 
    "    if n==0:\n", 
    "        return np.identity(m)\n", 
    "    elif n%2 == 0:\n", 
    "        B = potencia(A,n/2)\n", 
    "        return B.dot(B)\n", 
    "    else:\n", 
    "        B = potencia(A,(n-1)/2)\n", 
    "        return A.dot(B.dot(B))"
   ], 
   "outputs": [], 
   "metadata": {
    "collapsed": false
   }
  }, 
  {
   "execution_count": 8, 
   "cell_type": "code", 
   "source": [
    "potencia(A,100)"
   ], 
   "outputs": [
    {
     "output_type": "execute_result", 
     "data": {
      "text/plain": [
       "array([[  6.77077080e+24,   7.33831143e+24],\n", 
       "       [  6.89130354e+24,   7.46894748e+24]])"
      ]
     }, 
     "execution_count": 8, 
     "metadata": {}
    }
   ], 
   "metadata": {
    "collapsed": false
   }
  }, 
  {
   "source": [
    "<p>La notaci&oacute;n $A^n$ no sirve para matrices de numpy, porque para ellas $A*A$ es el producto elemento a elemento, que no es igual al producto de matrices. Es por eso que definimos la funci&oacute;n potencia usando como producro de matrices&nbsp; $A.dot(A)$.</p>"
   ], 
   "cell_type": "markdown", 
   "metadata": {}
  }, 
  {
   "execution_count": 9, 
   "cell_type": "code", 
   "source": [
    "A^(100)"
   ], 
   "outputs": [
    {
     "output_type": "execute_result", 
     "data": {
      "text/plain": [
       "array([[  1.75637856e-10,   4.08162191e-02],\n", 
       "       [  7.60951334e-05,   9.68004685e-06]])"
      ]
     }, 
     "execution_count": 9, 
     "metadata": {}
    }
   ], 
   "metadata": {
    "collapsed": false
   }
  }, 
  {
   "execution_count": 10, 
   "cell_type": "code", 
   "source": [
    "C = matrix(RR,[[ 0.79881494,0.96851941],[0.90952275,0.89096117]])"
   ], 
   "outputs": [], 
   "metadata": {
    "collapsed": false
   }
  }, 
  {
   "execution_count": 11, 
   "cell_type": "code", 
   "source": [
    "C^(100)"
   ], 
   "outputs": [
    {
     "output_type": "execute_result", 
     "data": {
      "text/plain": [
       "[6.77077042398315e24 7.33831108240865e24]\n", 
       "[6.89130316554811e24 7.46894713973031e24]"
      ]
     }, 
     "execution_count": 11, 
     "metadata": {}
    }
   ], 
   "metadata": {
    "collapsed": false
   }
  }, 
  {
   "execution_count": 12, 
   "cell_type": "code", 
   "source": [
    "import numpy as np\n", 
    "D = np.random.rand(500,500)"
   ], 
   "outputs": [], 
   "metadata": {
    "collapsed": false
   }
  }, 
  {
   "execution_count": 13, 
   "cell_type": "code", 
   "source": [
    "time E = D.dot(D)"
   ], 
   "outputs": [
    {
     "output_type": "execute_result", 
     "data": {
      "text/plain": [
       "Time: CPU 0.03 s, Wall: 0.05 s"
      ]
     }, 
     "execution_count": 13, 
     "metadata": {}
    }
   ], 
   "metadata": {
    "collapsed": false
   }
  }, 
  {
   "execution_count": 14, 
   "cell_type": "code", 
   "source": [
    "time E_inv = np.linalg.inv(E)"
   ], 
   "outputs": [
    {
     "output_type": "execute_result", 
     "data": {
      "text/plain": [
       "Time: CPU 0.05 s, Wall: 0.05 s"
      ]
     }, 
     "execution_count": 14, 
     "metadata": {}
    }
   ], 
   "metadata": {
    "collapsed": false
   }
  }, 
  {
   "source": [
    "<p>Repetimos ahora los c&aacute;lculos usando una matriz similar pero de Sage, con las operaciones habituales de Sage. Obs&eacute;rvese la diferencia espectacular en los tiempos, debido a que los c&oacute;digos que utiliza numpy est&aacute;n muy optimizados.&nbsp; </p>"
   ], 
   "cell_type": "markdown", 
   "metadata": {}
  }, 
  {
   "execution_count": 15, 
   "cell_type": "code", 
   "source": [
    "F = matrix(RR,500,500,[random() for muda in srange(250000)])"
   ], 
   "outputs": [], 
   "metadata": {
    "collapsed": false
   }
  }, 
  {
   "source": [
    "<p>Su cuadrado:</p>"
   ], 
   "cell_type": "markdown", 
   "metadata": {}
  }, 
  {
   "execution_count": 16, 
   "cell_type": "code", 
   "source": [
    "time G = F*F"
   ], 
   "outputs": [
    {
     "output_type": "execute_result", 
     "data": {
      "text/plain": [
       "Time: CPU 64.42 s, Wall: 64.42 s"
      ]
     }, 
     "execution_count": 16, 
     "metadata": {}
    }
   ], 
   "metadata": {
    "collapsed": false
   }
  }, 
  {
   "source": [
    "<p>La inversa del cuadrado de $F$:</p>"
   ], 
   "cell_type": "markdown", 
   "metadata": {}
  }, 
  {
   "execution_count": 17, 
   "cell_type": "code", 
   "source": [
    "time G_inv=G.inverse()"
   ], 
   "outputs": [
    {
     "output_type": "execute_result", 
     "data": {
      "text/plain": [
       "Time: CPU 80.20 s, Wall: 80.24 s"
      ]
     }, 
     "execution_count": 17, 
     "metadata": {}
    }
   ], 
   "metadata": {
    "collapsed": false
   }
  }
 ], 
 "metadata": {
  "kernelspec": {
   "display_name": "Sage 6.6", 
   "name": "sage_6_6", 
   "language": "python"
  }
 }, 
 "nbformat_minor": 0
}