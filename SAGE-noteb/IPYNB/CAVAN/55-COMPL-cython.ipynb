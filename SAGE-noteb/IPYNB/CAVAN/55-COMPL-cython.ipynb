{
 "nbformat": 4, 
 "cells": [
  {
   "source": [
    "<h3>Sin Cython</h3>\n<p>Este programa genera $N$ enteros aleatorios entre $1$ y $M$, y una vez obtenidos los&nbsp; eleva al cuadrado y devuelve la suma de los cuadrados. Por tanto, calcula el cuadrado de la longitud&nbsp; de un vector aleatorio con coordenadas enteros en el intervalo $[1,M]$.</p>"
   ], 
   "cell_type": "markdown", 
   "metadata": {}
  }, 
  {
   "execution_count": 1, 
   "cell_type": "code", 
   "source": [
    "def cuadrados(N,M):\n", 
    "    res = 0\n", 
    "    for muda in xrange(N):\n", 
    "        x = randint(1,M)\n", 
    "        res += x*x\n", 
    "    return res"
   ], 
   "outputs": [], 
   "metadata": {
    "collapsed": false
   }
  }, 
  {
   "execution_count": 2, 
   "cell_type": "code", 
   "source": [
    "for n in srange(3,8):\n", 
    "    time A = cuadrados(10^n,10^6)"
   ], 
   "outputs": [
    {
     "output_type": "execute_result", 
     "data": {
      "text/plain": [
       "Time: CPU 0.01 s, Wall: 0.01 s\n", 
       "Time: CPU 0.05 s, Wall: 0.05 s\n", 
       "Time: CPU 0.48 s, Wall: 0.48 s\n", 
       "Time: CPU 4.83 s, Wall: 4.83 s\n", 
       "Time: CPU 48.22 s, Wall: 48.23 s"
      ]
     }, 
     "execution_count": 2, 
     "metadata": {}
    }
   ], 
   "metadata": {
    "collapsed": false
   }
  }, 
  {
   "source": [
    "<h3>Con Cython</h3>\n<p>Mismo c&aacute;lculo:</p>"
   ], 
   "cell_type": "markdown", 
   "metadata": {}
  }, 
  {
   "execution_count": 3, 
   "cell_type": "code", 
   "source": [
    "%cython\n", 
    "import math\n", 
    "import random\n", 
    "def cuadrados_cy(long long N, long long M):\n", 
    "    cdef long long res = 0\n", 
    "    cdef long long muda\n", 
    "    cdef long long x\n", 
    "    for muda in xrange(N):\n", 
    "        x = random.randint(1,M)\n", 
    "        res += math.pow(x,2)\n", 
    "    return res"
   ], 
   "outputs": [], 
   "metadata": {
    "collapsed": false
   }
  }, 
  {
   "execution_count": 4, 
   "cell_type": "code", 
   "source": [
    "for n in srange(3,8):\n", 
    "    time A = cuadrados_cy(10^n,10^6)"
   ], 
   "outputs": [
    {
     "output_type": "execute_result", 
     "data": {
      "text/plain": [
       "Time: CPU 0.00 s, Wall: 0.00 s\n", 
       "Time: CPU 0.02 s, Wall: 0.02 s\n", 
       "Time: CPU 0.23 s, Wall: 0.23 s\n", 
       "Time: CPU 2.28 s, Wall: 2.29 s\n", 
       "Time: CPU 22.99 s, Wall: 22.99 s"
      ]
     }, 
     "execution_count": 4, 
     "metadata": {}
    }
   ], 
   "metadata": {
    "collapsed": false
   }
  }, 
  {
   "source": [
    "<h3>Optimizando el c&aacute;lculo de n&uacute;meros aleatorios:</h3>"
   ], 
   "cell_type": "markdown", 
   "metadata": {}
  }, 
  {
   "execution_count": 5, 
   "cell_type": "code", 
   "source": [
    "%cython\n", 
    "##############################################################\n", 
    "##Este primer trozo genera enteros aleatorios entre 1$ y $10^6$ usando \n", 
    "#librer\u00edas externas compilables en C--Este trozo se puede reutilizar\n", 
    "##################################################################\n", 
    "cdef extern from \"gsl/gsl_rng.h\":\n", 
    "   ctypedef struct gsl_rng_type:\n", 
    "      pass\n", 
    "   ctypedef struct gsl_rng:\n", 
    "       pass\n", 
    "   gsl_rng_type *gsl_rng_mt19937\n", 
    "   gsl_rng *gsl_rng_alloc(gsl_rng_type * T)\n", 
    "  \n", 
    "cdef gsl_rng *r = gsl_rng_alloc(gsl_rng_mt19937)\n", 
    "\n", 
    "cdef extern from \"gsl/gsl_randist.h\":\n", 
    "     long int uniform \"gsl_rng_uniform_int\"(gsl_rng * r, unsigned long int n)\n", 
    "\n", 
    "def main():\n", 
    "    cdef int n\n", 
    "    n = uniform(r,1000000)\n", 
    "    return n\n", 
    "#########################################################################\n", 
    "#########################################################################\n", 
    "cdef long f(long x):\n", 
    "    return x**2\n", 
    "       \n", 
    "import random\n", 
    "def cuadrados_cy2(int N):\n", 
    "    cdef long res = 0\n", 
    "    cdef int muda\n", 
    "    for muda in range(N):\n", 
    "        res += f(main())\n", 
    "    return res"
   ], 
   "outputs": [], 
   "metadata": {
    "collapsed": false
   }
  }, 
  {
   "execution_count": 6, 
   "cell_type": "code", 
   "source": [
    "for n in srange(3,8):\n", 
    "    time A = cuadrados_cy2(10^n)"
   ], 
   "outputs": [
    {
     "output_type": "execute_result", 
     "data": {
      "text/plain": [
       "Time: CPU 0.00 s, Wall: 0.00 s\n", 
       "Time: CPU 0.00 s, Wall: 0.00 s\n", 
       "Time: CPU 0.00 s, Wall: 0.01 s\n", 
       "Time: CPU 0.05 s, Wall: 0.05 s\n", 
       "Time: CPU 0.52 s, Wall: 0.52 s"
      ]
     }, 
     "execution_count": 6, 
     "metadata": {}
    }
   ], 
   "metadata": {
    "collapsed": false
   }
  }, 
  {
   "source": [
    "<h3>Problema similar sin n&uacute;meros aleatorios:</h3>"
   ], 
   "cell_type": "markdown", 
   "metadata": {}
  }, 
  {
   "execution_count": 7, 
   "cell_type": "code", 
   "source": [
    "%cython\n", 
    "def cuadrados_cy3(long long int N):\n", 
    "    cdef long long int res = 0\n", 
    "    cdef long long int k\n", 
    "    for k in range(N):\n", 
    "        res += k**2\n", 
    "    return res"
   ], 
   "outputs": [], 
   "metadata": {
    "collapsed": false
   }
  }, 
  {
   "execution_count": 8, 
   "cell_type": "code", 
   "source": [
    "for n in srange(3,8):\n", 
    "    time A = cuadrados_cy3(10^n)"
   ], 
   "outputs": [
    {
     "output_type": "execute_result", 
     "data": {
      "text/plain": [
       "Time: CPU 0.00 s, Wall: 0.00 s\n", 
       "Time: CPU 0.00 s, Wall: 0.00 s\n", 
       "Time: CPU 0.00 s, Wall: 0.00 s\n", 
       "Time: CPU 0.00 s, Wall: 0.00 s\n", 
       "Time: CPU 0.01 s, Wall: 0.01 s"
      ]
     }, 
     "execution_count": 8, 
     "metadata": {}
    }
   ], 
   "metadata": {
    "collapsed": false
   }
  }, 
  {
   "execution_count": 9, 
   "cell_type": "code", 
   "source": [
    "def cuadrados5(N):\n", 
    "    res = 0\n", 
    "    for k in range(N):\n", 
    "        res += k**2\n", 
    "    return res"
   ], 
   "outputs": [], 
   "metadata": {
    "collapsed": false
   }
  }, 
  {
   "execution_count": 10, 
   "cell_type": "code", 
   "source": [
    "for n in srange(3,8):\n", 
    "    time A = cuadrados5(10^n)"
   ], 
   "outputs": [
    {
     "output_type": "execute_result", 
     "data": {
      "text/plain": [
       "Time: CPU 0.00 s, Wall: 0.00 s\n", 
       "Time: CPU 0.00 s, Wall: 0.00 s\n", 
       "Time: CPU 0.03 s, Wall: 0.03 s\n", 
       "Time: CPU 0.32 s, Wall: 0.32 s\n", 
       "Time: CPU 3.27 s, Wall: 3.27 s"
      ]
     }, 
     "execution_count": 10, 
     "metadata": {}
    }
   ], 
   "metadata": {
    "collapsed": false
   }
  }, 
  {
   "source": [
    "<p>Hemos comprobado, de dos maneras, que es en la generaci&oacute;n&nbsp; de los n&uacute;meros&nbsp; aleatorios donde Python pasa la mayor parte del tiempo en este c&aacute;lculo. Si optimizamos esa parte, usando una librer&iacute;a en C, o simplemente la suprimimos, el c&aacute;lculo es mucho m&aacute;s r&aacute;pido.&nbsp; Cython pierde much&iacute;sima eficiencia cuando debe ejecutar funciones de Python que son mucho m&aacute;s lentas que las correspondientes funciones en C.</p>"
   ], 
   "cell_type": "markdown", 
   "metadata": {}
  }
 ], 
 "metadata": {
  "kernelspec": {
   "display_name": "Sage 6.6", 
   "name": "sage_6_6", 
   "language": "python"
  }
 }, 
 "nbformat_minor": 0
}