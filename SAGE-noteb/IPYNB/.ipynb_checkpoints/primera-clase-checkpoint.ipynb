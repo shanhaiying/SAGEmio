{
 "cells": [
  {
   "cell_type": "markdown",
   "metadata": {},
   "source": [
    "<h3>FACTORES</h3>"
   ]
  },
  {
   "cell_type": "code",
   "execution_count": 95,
   "metadata": {
    "collapsed": false
   },
   "outputs": [
    {
     "data": {
      "text/plain": [
       "3 * 56713727820156410577229101238628035243"
      ]
     },
     "execution_count": 95,
     "metadata": {},
     "output_type": "execute_result"
    }
   ],
   "source": [
    "factor(2^127+1)"
   ]
  },
  {
   "cell_type": "code",
   "execution_count": 96,
   "metadata": {
    "collapsed": false
   },
   "outputs": [
    {
     "data": {
      "text/plain": [
       "log(170141183460469231731687303715884105729)/log(10) + 1"
      ]
     },
     "execution_count": 96,
     "metadata": {},
     "output_type": "execute_result"
    }
   ],
   "source": [
    "log(2^127+1,base=10)+1"
   ]
  },
  {
   "cell_type": "code",
   "execution_count": 97,
   "metadata": {
    "collapsed": false
   },
   "outputs": [
    {
     "data": {
      "text/plain": [
       "39.2308094493256"
      ]
     },
     "execution_count": 97,
     "metadata": {},
     "output_type": "execute_result"
    }
   ],
   "source": [
    "(log(2^127+1,base=10)+1).n()"
   ]
  },
  {
   "cell_type": "code",
   "execution_count": 98,
   "metadata": {
    "collapsed": false
   },
   "outputs": [
    {
     "data": {
      "text/plain": [
       "39"
      ]
     },
     "execution_count": 98,
     "metadata": {},
     "output_type": "execute_result"
    }
   ],
   "source": [
    "floor((log(2^127+1,base=10)+1).n())"
   ]
  },
  {
   "cell_type": "code",
   "execution_count": 99,
   "metadata": {
    "collapsed": false
   },
   "outputs": [],
   "source": [
    "def factorizar(N1,N2):\n",
    "    for k in srange(N1,N2):\n",
    "        print k,2^(10*k)+1,floor(log(2^(10*k)+1,base=10).n())+1,factor(2^(10*k)+1)"
   ]
  },
  {
   "cell_type": "code",
   "execution_count": 100,
   "metadata": {
    "collapsed": false
   },
   "outputs": [
    {
     "name": "stdout",
     "output_type": "stream",
     "text": [
      "1 1025 4 5^2 * 41\n",
      "2 1048577 7 17 * 61681\n",
      "3 1073741825 10 5^2 * 13 * 41 * 61 * 1321\n",
      "4 1099511627777 13 257 * 4278255361\n"
     ]
    }
   ],
   "source": [
    "factorizar(1,5)"
   ]
  },
  {
   "cell_type": "code",
   "execution_count": 101,
   "metadata": {
    "collapsed": false
   },
   "outputs": [
    {
     "name": "stdout",
     "output_type": "stream",
     "text": [
      "1 1025 4 5^2 * 41\n",
      "2 1048577 7 17 * 61681\n",
      "3 1073741825 10 5^2 * 13 * 41 * 61 * 1321\n",
      "4 1099511627777 13 257 * 4278255361\n",
      "5 1125899906842625 16 5^3 * 41 * 101 * 8101 * 268501\n",
      "6 1152921504606846977 19 17 * 241 * 61681 * 4562284561\n",
      "7 1180591620717411303425 22 5^2 * 29 * 41 * 113 * 7416361 * 47392381\n",
      "8 1208925819614629174706177 25 65537 * 414721 * 44479210368001\n",
      "9 1237940039285380274899124225 28 5^2 * 13 * 37 * 41 * 61 * 109 * 181 * 1321 * 54001 * 29247661\n",
      "10 1267650600228229401496703205377 31 17 * 401 * 61681 * 340801 * 2787601 * 3173389601\n",
      "11 1298074214633706907132624082305025 34 5^2 * 41 * 397 * 2113 * 415878438361 * 3630105520141\n",
      "12 1329227995784915872903807060280344577 37 97 * 257 * 673 * 394783681 * 4278255361 * 46908728641\n",
      "13 1361129467683753853853498429727072845825 40 5^2 * 41 * 53 * 157 * 521 * 1613 * 51481 * 34110701 * 108140989558681\n",
      "14 1393796574908163946345982392040522594123777 43 17 * 61681 * 15790321 * 84179842077657862011867889681\n",
      "15 1427247692705959881058285969449495136382746625 46 5^3 * 13 * 41 * 61 * 101 * 1201 * 1321 * 8101 * 63901 * 268501 * 13334701 * 1182468601\n",
      "16 1461501637330902918203684832716283019655932542977 49 641 * 3602561 * 6700417 * 94455684953484563055991838558081\n",
      "17 1496577676626844588240573268701473812127674924007425 52 5^2 * 41 * 137 * 953 * 1021 * 4421 * 26317 * 550801 * 23650061 * 7226904352843746841\n",
      "18 1532495540865888858358347027150309183618739122183602177 55 17 * 241 * 433 * 38737 * 61681 * 4562284561 * 168692292721 * 469775495062434961\n",
      "19 1569275433846670190958947355801916604025588861116008628225 58 5^2 * 41 * 229 * 457 * 761 * 54721 * 525313 * 276696631250953741 * 2416923620660807201\n",
      "CPU times: user 124 ms, sys: 8 ms, total: 132 ms\n",
      "Wall time: 186 ms\n"
     ]
    }
   ],
   "source": [
    "time factorizar(1,20)"
   ]
  },
  {
   "cell_type": "code",
   "execution_count": 102,
   "metadata": {
    "collapsed": false
   },
   "outputs": [
    {
     "name": "stdout",
     "output_type": "stream",
     "text": [
      "1 1025 4 5^2 * 41\n",
      "2 1048577 7 17 * 61681\n",
      "3 1073741825 10 5^2 * 13 * 41 * 61 * 1321\n",
      "4 1099511627777 13 257 * 4278255361\n",
      "5 1125899906842625 16 5^3 * 41 * 101 * 8101 * 268501\n",
      "6 1152921504606846977 19 17 * 241 * 61681 * 4562284561\n",
      "7 1180591620717411303425 22 5^2 * 29 * 41 * 113 * 7416361 * 47392381\n",
      "8 1208925819614629174706177 25 65537 * 414721 * 44479210368001\n",
      "9 1237940039285380274899124225 28 5^2 * 13 * 37 * 41 * 61 * 109 * 181 * 1321 * 54001 * 29247661\n",
      "10 1267650600228229401496703205377 31 17 * 401 * 61681 * 340801 * 2787601 * 3173389601\n",
      "11 1298074214633706907132624082305025 34 5^2 * 41 * 397 * 2113 * 415878438361 * 3630105520141\n",
      "12 1329227995784915872903807060280344577 37 97 * 257 * 673 * 394783681 * 4278255361 * 46908728641\n",
      "13 1361129467683753853853498429727072845825 40 5^2 * 41 * 53 * 157 * 521 * 1613 * 51481 * 34110701 * 108140989558681\n",
      "14 1393796574908163946345982392040522594123777 43 17 * 61681 * 15790321 * 84179842077657862011867889681\n",
      "15 1427247692705959881058285969449495136382746625 46 5^3 * 13 * 41 * 61 * 101 * 1201 * 1321 * 8101 * 63901 * 268501 * 13334701 * 1182468601\n",
      "16 1461501637330902918203684832716283019655932542977 49 641 * 3602561 * 6700417 * 94455684953484563055991838558081\n",
      "17 1496577676626844588240573268701473812127674924007425 52 5^2 * 41 * 137 * 953 * 1021 * 4421 * 26317 * 550801 * 23650061 * 7226904352843746841\n",
      "18 1532495540865888858358347027150309183618739122183602177 55 17 * 241 * 433 * 38737 * 61681 * 4562284561 * 168692292721 * 469775495062434961\n",
      "19 1569275433846670190958947355801916604025588861116008628225 58 5^2 * 41 * 229 * 457 * 761 * 54721 * 525313 * 276696631250953741 * 2416923620660807201\n",
      "20 1606938044258990275541962092341162602522202993782792835301377 61 257 * 1601 * 25601 * 82471201 * 4278255361 * 432363203127002885506543172618401\n",
      "21 1645504557321206042154969182557350504982735865633579863348609025 64 5^2 * 13 * 29 * 41 * 61 * 113 * 421 * 1321 * 1429 * 14449 * 7416361 * 47392381 * 146919792181 * 1041815865690181\n",
      "22 1684996666696914987166688442938726917102321526408785780068975640577 67 17 * 353 * 61681 * 109121 * 148721 * 2931542417 * 3404676001 * 11035465708081 * 2546717317681681\n",
      "23 1725436586697640946858688965569256363112777243042596638790631055949825 70 5^2 * 41 * 277 * 461 * 1013 * 1657 * 5981 * 30269 * 15096281 * 1021622741 * 7834788541 * 359006912765190408181\n",
      "24 1766847064778384329583297500742918515827483896875618958121606201292619777 73 193 * 23041 * 65537 * 414721 * 22253377 * 44479210368001 * 14768784307009061644318236958041601\n",
      "25 1809251394333065553493296640760748560207343510400633813116524750123642650625 76 5^4 * 41 * 101 * 7001 * 8101 * 28001 * 96001 * 268501 * 3775501 * 47970133603445383501 * 94291866932171243501\n",
      "26 1852673427797059126777135760139006525652319754650249024631321344126610074238977 79 17 * 42641 * 61681 * 858001 * 5746001 * 308761441 * 2400573761 * 65427463921 * 173308343918874810521923841\n",
      "27 1897137590064188545819787018382342682267975428761855001222473056385648716020711425 82 5^2 * 13 * 37 * 41 * 61 * 109 * 181 * 541 * 1321 * 30241 * 49681 * 54001 * 246241 * 279073 * 29247661 * 165041853060421 * 166242935471754241\n",
      "28 1942668892225729070919461906823518906642406839052139521251812409738904285205208498177 85 257 * 4481 * 5153 * 557761 * 736961 * 4278255361 * 54410972897 * 3421249381705368039830334190046211225116161\n",
      "29 1989292945639146568621528992587283360401824603189390869761855907572637988050133502132225 88 5^2 * 41 * 17401 * 168781 * 107367629 * 536903681 * 244716883381 * 3902095192430070721 * 12004541501954811085302214141\n",
      "CPU times: user 1.74 s, sys: 44 ms, total: 1.78 s\n",
      "Wall time: 1.89 s\n"
     ]
    }
   ],
   "source": [
    "time factorizar(1,30)"
   ]
  },
  {
   "cell_type": "markdown",
   "metadata": {},
   "source": [
    "Tarda bastante en ejecutar $factorizar(1,40)$, y cuando se interrumpe el cálculo se ve que está parado en $2^{35}+1$. Calculamos ese caso concreto: "
   ]
  },
  {
   "cell_type": "code",
   "execution_count": 105,
   "metadata": {
    "collapsed": false
   },
   "outputs": [
    {
     "name": "stdout",
     "output_type": "stream",
     "text": [
      "35 2293498615990071511610820895302086940796564989168281123737588839386922876088484808070018553110125686554625 106"
     ]
    },
    {
     "ename": "KeyboardInterrupt",
     "evalue": "",
     "output_type": "error",
     "traceback": [
      "\u001b[1;31m---------------------------------------------------------------------------\u001b[0m",
      "\u001b[1;31mKeyboardInterrupt\u001b[0m                         Traceback (most recent call last)",
      "\u001b[1;32m<ipython-input-105-070837a9ecfd>\u001b[0m in \u001b[0;36m<module>\u001b[1;34m()\u001b[0m\n\u001b[1;32m----> 1\u001b[1;33m \u001b[0mget_ipython\u001b[0m\u001b[1;33m(\u001b[0m\u001b[1;33m)\u001b[0m\u001b[1;33m.\u001b[0m\u001b[0mmagic\u001b[0m\u001b[1;33m(\u001b[0m\u001b[1;34mu'time factorizar(Integer(35),Integer(36))'\u001b[0m\u001b[1;33m)\u001b[0m\u001b[1;33m\u001b[0m\u001b[0m\n\u001b[0m",
      "\u001b[1;32m/usr/local/SageMath/local/lib/python2.7/site-packages/IPython/core/interactiveshell.pyc\u001b[0m in \u001b[0;36mmagic\u001b[1;34m(self, arg_s)\u001b[0m\n\u001b[0;32m   2161\u001b[0m         \u001b[0mmagic_name\u001b[0m\u001b[1;33m,\u001b[0m \u001b[0m_\u001b[0m\u001b[1;33m,\u001b[0m \u001b[0mmagic_arg_s\u001b[0m \u001b[1;33m=\u001b[0m \u001b[0marg_s\u001b[0m\u001b[1;33m.\u001b[0m\u001b[0mpartition\u001b[0m\u001b[1;33m(\u001b[0m\u001b[1;34m' '\u001b[0m\u001b[1;33m)\u001b[0m\u001b[1;33m\u001b[0m\u001b[0m\n\u001b[0;32m   2162\u001b[0m         \u001b[0mmagic_name\u001b[0m \u001b[1;33m=\u001b[0m \u001b[0mmagic_name\u001b[0m\u001b[1;33m.\u001b[0m\u001b[0mlstrip\u001b[0m\u001b[1;33m(\u001b[0m\u001b[0mprefilter\u001b[0m\u001b[1;33m.\u001b[0m\u001b[0mESC_MAGIC\u001b[0m\u001b[1;33m)\u001b[0m\u001b[1;33m\u001b[0m\u001b[0m\n\u001b[1;32m-> 2163\u001b[1;33m         \u001b[1;32mreturn\u001b[0m \u001b[0mself\u001b[0m\u001b[1;33m.\u001b[0m\u001b[0mrun_line_magic\u001b[0m\u001b[1;33m(\u001b[0m\u001b[0mmagic_name\u001b[0m\u001b[1;33m,\u001b[0m \u001b[0mmagic_arg_s\u001b[0m\u001b[1;33m)\u001b[0m\u001b[1;33m\u001b[0m\u001b[0m\n\u001b[0m\u001b[0;32m   2164\u001b[0m \u001b[1;33m\u001b[0m\u001b[0m\n\u001b[0;32m   2165\u001b[0m     \u001b[1;31m#-------------------------------------------------------------------------\u001b[0m\u001b[1;33m\u001b[0m\u001b[1;33m\u001b[0m\u001b[0m\n",
      "\u001b[1;32m/usr/local/SageMath/local/lib/python2.7/site-packages/IPython/core/interactiveshell.pyc\u001b[0m in \u001b[0;36mrun_line_magic\u001b[1;34m(self, magic_name, line)\u001b[0m\n\u001b[0;32m   2082\u001b[0m                 \u001b[0mkwargs\u001b[0m\u001b[1;33m[\u001b[0m\u001b[1;34m'local_ns'\u001b[0m\u001b[1;33m]\u001b[0m \u001b[1;33m=\u001b[0m \u001b[0msys\u001b[0m\u001b[1;33m.\u001b[0m\u001b[0m_getframe\u001b[0m\u001b[1;33m(\u001b[0m\u001b[0mstack_depth\u001b[0m\u001b[1;33m)\u001b[0m\u001b[1;33m.\u001b[0m\u001b[0mf_locals\u001b[0m\u001b[1;33m\u001b[0m\u001b[0m\n\u001b[0;32m   2083\u001b[0m             \u001b[1;32mwith\u001b[0m \u001b[0mself\u001b[0m\u001b[1;33m.\u001b[0m\u001b[0mbuiltin_trap\u001b[0m\u001b[1;33m:\u001b[0m\u001b[1;33m\u001b[0m\u001b[0m\n\u001b[1;32m-> 2084\u001b[1;33m                 \u001b[0mresult\u001b[0m \u001b[1;33m=\u001b[0m \u001b[0mfn\u001b[0m\u001b[1;33m(\u001b[0m\u001b[1;33m*\u001b[0m\u001b[0margs\u001b[0m\u001b[1;33m,\u001b[0m\u001b[1;33m**\u001b[0m\u001b[0mkwargs\u001b[0m\u001b[1;33m)\u001b[0m\u001b[1;33m\u001b[0m\u001b[0m\n\u001b[0m\u001b[0;32m   2085\u001b[0m             \u001b[1;32mreturn\u001b[0m \u001b[0mresult\u001b[0m\u001b[1;33m\u001b[0m\u001b[0m\n\u001b[0;32m   2086\u001b[0m \u001b[1;33m\u001b[0m\u001b[0m\n",
      "\u001b[1;32m<decorator-gen-60>\u001b[0m in \u001b[0;36mtime\u001b[1;34m(self, line, cell, local_ns)\u001b[0m\n",
      "\u001b[1;32m/usr/local/SageMath/local/lib/python2.7/site-packages/IPython/core/magic.pyc\u001b[0m in \u001b[0;36m<lambda>\u001b[1;34m(f, *a, **k)\u001b[0m\n\u001b[0;32m    191\u001b[0m     \u001b[1;31m# but it's overkill for just that one bit of state.\u001b[0m\u001b[1;33m\u001b[0m\u001b[1;33m\u001b[0m\u001b[0m\n\u001b[0;32m    192\u001b[0m     \u001b[1;32mdef\u001b[0m \u001b[0mmagic_deco\u001b[0m\u001b[1;33m(\u001b[0m\u001b[0marg\u001b[0m\u001b[1;33m)\u001b[0m\u001b[1;33m:\u001b[0m\u001b[1;33m\u001b[0m\u001b[0m\n\u001b[1;32m--> 193\u001b[1;33m         \u001b[0mcall\u001b[0m \u001b[1;33m=\u001b[0m \u001b[1;32mlambda\u001b[0m \u001b[0mf\u001b[0m\u001b[1;33m,\u001b[0m \u001b[1;33m*\u001b[0m\u001b[0ma\u001b[0m\u001b[1;33m,\u001b[0m \u001b[1;33m**\u001b[0m\u001b[0mk\u001b[0m\u001b[1;33m:\u001b[0m \u001b[0mf\u001b[0m\u001b[1;33m(\u001b[0m\u001b[1;33m*\u001b[0m\u001b[0ma\u001b[0m\u001b[1;33m,\u001b[0m \u001b[1;33m**\u001b[0m\u001b[0mk\u001b[0m\u001b[1;33m)\u001b[0m\u001b[1;33m\u001b[0m\u001b[0m\n\u001b[0m\u001b[0;32m    194\u001b[0m \u001b[1;33m\u001b[0m\u001b[0m\n\u001b[0;32m    195\u001b[0m         \u001b[1;32mif\u001b[0m \u001b[0mcallable\u001b[0m\u001b[1;33m(\u001b[0m\u001b[0marg\u001b[0m\u001b[1;33m)\u001b[0m\u001b[1;33m:\u001b[0m\u001b[1;33m\u001b[0m\u001b[0m\n",
      "\u001b[1;32m/usr/local/SageMath/local/lib/python2.7/site-packages/IPython/core/magics/execution.pyc\u001b[0m in \u001b[0;36mtime\u001b[1;34m(self, line, cell, local_ns)\u001b[0m\n\u001b[0;32m   1171\u001b[0m         \u001b[1;32mif\u001b[0m \u001b[0mmode\u001b[0m\u001b[1;33m==\u001b[0m\u001b[1;34m'eval'\u001b[0m\u001b[1;33m:\u001b[0m\u001b[1;33m\u001b[0m\u001b[0m\n\u001b[0;32m   1172\u001b[0m             \u001b[0mst\u001b[0m \u001b[1;33m=\u001b[0m \u001b[0mclock2\u001b[0m\u001b[1;33m(\u001b[0m\u001b[1;33m)\u001b[0m\u001b[1;33m\u001b[0m\u001b[0m\n\u001b[1;32m-> 1173\u001b[1;33m             \u001b[0mout\u001b[0m \u001b[1;33m=\u001b[0m \u001b[0meval\u001b[0m\u001b[1;33m(\u001b[0m\u001b[0mcode\u001b[0m\u001b[1;33m,\u001b[0m \u001b[0mglob\u001b[0m\u001b[1;33m,\u001b[0m \u001b[0mlocal_ns\u001b[0m\u001b[1;33m)\u001b[0m\u001b[1;33m\u001b[0m\u001b[0m\n\u001b[0m\u001b[0;32m   1174\u001b[0m             \u001b[0mend\u001b[0m \u001b[1;33m=\u001b[0m \u001b[0mclock2\u001b[0m\u001b[1;33m(\u001b[0m\u001b[1;33m)\u001b[0m\u001b[1;33m\u001b[0m\u001b[0m\n\u001b[0;32m   1175\u001b[0m         \u001b[1;32melse\u001b[0m\u001b[1;33m:\u001b[0m\u001b[1;33m\u001b[0m\u001b[0m\n",
      "\u001b[1;32m<timed eval>\u001b[0m in \u001b[0;36m<module>\u001b[1;34m()\u001b[0m\n",
      "\u001b[1;32m<ipython-input-99-61b35004c2c1>\u001b[0m in \u001b[0;36mfactorizar\u001b[1;34m(N1, N2)\u001b[0m\n\u001b[0;32m      1\u001b[0m \u001b[1;32mdef\u001b[0m \u001b[0mfactorizar\u001b[0m\u001b[1;33m(\u001b[0m\u001b[0mN1\u001b[0m\u001b[1;33m,\u001b[0m\u001b[0mN2\u001b[0m\u001b[1;33m)\u001b[0m\u001b[1;33m:\u001b[0m\u001b[1;33m\u001b[0m\u001b[0m\n\u001b[0;32m      2\u001b[0m     \u001b[1;32mfor\u001b[0m \u001b[0mk\u001b[0m \u001b[1;32min\u001b[0m \u001b[0msrange\u001b[0m\u001b[1;33m(\u001b[0m\u001b[0mN1\u001b[0m\u001b[1;33m,\u001b[0m\u001b[0mN2\u001b[0m\u001b[1;33m)\u001b[0m\u001b[1;33m:\u001b[0m\u001b[1;33m\u001b[0m\u001b[0m\n\u001b[1;32m----> 3\u001b[1;33m         \u001b[1;32mprint\u001b[0m \u001b[0mk\u001b[0m\u001b[1;33m,\u001b[0m\u001b[0mInteger\u001b[0m\u001b[1;33m(\u001b[0m\u001b[1;36m2\u001b[0m\u001b[1;33m)\u001b[0m\u001b[1;33m**\u001b[0m\u001b[1;33m(\u001b[0m\u001b[0mInteger\u001b[0m\u001b[1;33m(\u001b[0m\u001b[1;36m10\u001b[0m\u001b[1;33m)\u001b[0m\u001b[1;33m*\u001b[0m\u001b[0mk\u001b[0m\u001b[1;33m)\u001b[0m\u001b[1;33m+\u001b[0m\u001b[0mInteger\u001b[0m\u001b[1;33m(\u001b[0m\u001b[1;36m1\u001b[0m\u001b[1;33m)\u001b[0m\u001b[1;33m,\u001b[0m\u001b[0mfloor\u001b[0m\u001b[1;33m(\u001b[0m\u001b[0mlog\u001b[0m\u001b[1;33m(\u001b[0m\u001b[0mInteger\u001b[0m\u001b[1;33m(\u001b[0m\u001b[1;36m2\u001b[0m\u001b[1;33m)\u001b[0m\u001b[1;33m**\u001b[0m\u001b[1;33m(\u001b[0m\u001b[0mInteger\u001b[0m\u001b[1;33m(\u001b[0m\u001b[1;36m10\u001b[0m\u001b[1;33m)\u001b[0m\u001b[1;33m*\u001b[0m\u001b[0mk\u001b[0m\u001b[1;33m)\u001b[0m\u001b[1;33m+\u001b[0m\u001b[0mInteger\u001b[0m\u001b[1;33m(\u001b[0m\u001b[1;36m1\u001b[0m\u001b[1;33m)\u001b[0m\u001b[1;33m,\u001b[0m\u001b[0mbase\u001b[0m\u001b[1;33m=\u001b[0m\u001b[0mInteger\u001b[0m\u001b[1;33m(\u001b[0m\u001b[1;36m10\u001b[0m\u001b[1;33m)\u001b[0m\u001b[1;33m)\u001b[0m\u001b[1;33m.\u001b[0m\u001b[0mn\u001b[0m\u001b[1;33m(\u001b[0m\u001b[1;33m)\u001b[0m\u001b[1;33m)\u001b[0m\u001b[1;33m+\u001b[0m\u001b[0mInteger\u001b[0m\u001b[1;33m(\u001b[0m\u001b[1;36m1\u001b[0m\u001b[1;33m)\u001b[0m\u001b[1;33m,\u001b[0m\u001b[0mfactor\u001b[0m\u001b[1;33m(\u001b[0m\u001b[0mInteger\u001b[0m\u001b[1;33m(\u001b[0m\u001b[1;36m2\u001b[0m\u001b[1;33m)\u001b[0m\u001b[1;33m**\u001b[0m\u001b[1;33m(\u001b[0m\u001b[0mInteger\u001b[0m\u001b[1;33m(\u001b[0m\u001b[1;36m10\u001b[0m\u001b[1;33m)\u001b[0m\u001b[1;33m*\u001b[0m\u001b[0mk\u001b[0m\u001b[1;33m)\u001b[0m\u001b[1;33m+\u001b[0m\u001b[0mInteger\u001b[0m\u001b[1;33m(\u001b[0m\u001b[1;36m1\u001b[0m\u001b[1;33m)\u001b[0m\u001b[1;33m)\u001b[0m\u001b[1;33m\u001b[0m\u001b[0m\n\u001b[0m",
      "\u001b[1;32m/usr/local/SageMath/local/lib/python2.7/site-packages/sage/arith/misc.pyc\u001b[0m in \u001b[0;36mfactor\u001b[1;34m(n, proof, int_, algorithm, verbose, **kwds)\u001b[0m\n\u001b[0;32m   2466\u001b[0m     \u001b[1;32mif\u001b[0m \u001b[0misinstance\u001b[0m\u001b[1;33m(\u001b[0m\u001b[0mn\u001b[0m\u001b[1;33m,\u001b[0m \u001b[0mInteger\u001b[0m\u001b[1;33m)\u001b[0m\u001b[1;33m:\u001b[0m\u001b[1;33m\u001b[0m\u001b[0m\n\u001b[0;32m   2467\u001b[0m         return n.factor(proof=proof, algorithm=algorithm,\n\u001b[1;32m-> 2468\u001b[1;33m                         int_ = int_, verbose=verbose)\n\u001b[0m\u001b[0;32m   2469\u001b[0m     \u001b[1;32melse\u001b[0m\u001b[1;33m:\u001b[0m\u001b[1;33m\u001b[0m\u001b[0m\n\u001b[0;32m   2470\u001b[0m         \u001b[1;31m# e.g. n = x**2 + y**2 + 2*x*y\u001b[0m\u001b[1;33m\u001b[0m\u001b[1;33m\u001b[0m\u001b[0m\n",
      "\u001b[1;32m/usr/local/SageMath/src/sage/rings/integer.pyx\u001b[0m in \u001b[0;36msage.rings.integer.Integer.factor (/usr/local/SageMath/src/build/cythonized/sage/rings/integer.c:23682)\u001b[1;34m()\u001b[0m\n\u001b[0;32m   3696\u001b[0m         \u001b[1;32mif\u001b[0m \u001b[0malgorithm\u001b[0m \u001b[1;33m==\u001b[0m \u001b[1;34m'pari'\u001b[0m\u001b[1;33m:\u001b[0m\u001b[1;33m\u001b[0m\u001b[0m\n\u001b[0;32m   3697\u001b[0m             \u001b[1;32mfrom\u001b[0m \u001b[0msage\u001b[0m\u001b[1;33m.\u001b[0m\u001b[0mrings\u001b[0m\u001b[1;33m.\u001b[0m\u001b[0mfactorint\u001b[0m \u001b[1;32mimport\u001b[0m \u001b[0mfactor_using_pari\u001b[0m\u001b[1;33m\u001b[0m\u001b[0m\n\u001b[1;32m-> 3698\u001b[1;33m             \u001b[0mF\u001b[0m \u001b[1;33m=\u001b[0m \u001b[0mfactor_using_pari\u001b[0m\u001b[1;33m(\u001b[0m\u001b[0mn\u001b[0m\u001b[1;33m,\u001b[0m \u001b[0mint_\u001b[0m\u001b[1;33m=\u001b[0m\u001b[0mint_\u001b[0m\u001b[1;33m,\u001b[0m \u001b[0mdebug_level\u001b[0m\u001b[1;33m=\u001b[0m\u001b[0mverbose\u001b[0m\u001b[1;33m,\u001b[0m \u001b[0mproof\u001b[0m\u001b[1;33m=\u001b[0m\u001b[0mproof\u001b[0m\u001b[1;33m)\u001b[0m\u001b[1;33m\u001b[0m\u001b[0m\n\u001b[0m\u001b[0;32m   3699\u001b[0m             \u001b[0mF\u001b[0m\u001b[1;33m.\u001b[0m\u001b[0msort\u001b[0m\u001b[1;33m(\u001b[0m\u001b[1;33m)\u001b[0m\u001b[1;33m\u001b[0m\u001b[0m\n\u001b[0;32m   3700\u001b[0m             return IntegerFactorization(F, unit=unit, unsafe=True,\n",
      "\u001b[1;32m/usr/local/SageMath/src/sage/rings/factorint.pyx\u001b[0m in \u001b[0;36msage.rings.factorint.factor_using_pari (/usr/local/SageMath/src/build/cythonized/sage/rings/factorint.c:6384)\u001b[1;34m()\u001b[0m\n\u001b[0;32m    350\u001b[0m             \u001b[0mpari\u001b[0m\u001b[1;33m.\u001b[0m\u001b[0mset_debug_level\u001b[0m\u001b[1;33m(\u001b[0m\u001b[0mdebug_level\u001b[0m\u001b[1;33m)\u001b[0m\u001b[1;33m\u001b[0m\u001b[0m\n\u001b[0;32m    351\u001b[0m \u001b[1;33m\u001b[0m\u001b[0m\n\u001b[1;32m--> 352\u001b[1;33m         \u001b[0mp\u001b[0m\u001b[1;33m,\u001b[0m \u001b[0me\u001b[0m \u001b[1;33m=\u001b[0m \u001b[0mn\u001b[0m\u001b[1;33m.\u001b[0m\u001b[0m_pari_\u001b[0m\u001b[1;33m(\u001b[0m\u001b[1;33m)\u001b[0m\u001b[1;33m.\u001b[0m\u001b[0mfactor\u001b[0m\u001b[1;33m(\u001b[0m\u001b[0mproof\u001b[0m\u001b[1;33m=\u001b[0m\u001b[0mproof\u001b[0m\u001b[1;33m)\u001b[0m\u001b[1;33m\u001b[0m\u001b[0m\n\u001b[0m\u001b[0;32m    353\u001b[0m         \u001b[1;32mif\u001b[0m \u001b[0mint_\u001b[0m\u001b[1;33m:\u001b[0m\u001b[1;33m\u001b[0m\u001b[0m\n\u001b[0;32m    354\u001b[0m             \u001b[1;32mreturn\u001b[0m \u001b[1;33m[\u001b[0m\u001b[1;33m(\u001b[0m\u001b[0mint\u001b[0m\u001b[1;33m(\u001b[0m\u001b[0mp\u001b[0m\u001b[1;33m[\u001b[0m\u001b[0mi\u001b[0m\u001b[1;33m]\u001b[0m\u001b[1;33m)\u001b[0m\u001b[1;33m,\u001b[0m \u001b[0mint\u001b[0m\u001b[1;33m(\u001b[0m\u001b[0me\u001b[0m\u001b[1;33m[\u001b[0m\u001b[0mi\u001b[0m\u001b[1;33m]\u001b[0m\u001b[1;33m)\u001b[0m\u001b[1;33m)\u001b[0m \u001b[1;32mfor\u001b[0m \u001b[0mi\u001b[0m \u001b[1;32min\u001b[0m \u001b[0mrange\u001b[0m\u001b[1;33m(\u001b[0m\u001b[0mlen\u001b[0m\u001b[1;33m(\u001b[0m\u001b[0mp\u001b[0m\u001b[1;33m)\u001b[0m\u001b[1;33m)\u001b[0m\u001b[1;33m]\u001b[0m\u001b[1;33m\u001b[0m\u001b[0m\n",
      "\u001b[1;32m/usr/local/SageMath/src/sage/libs/pari/gen.pyx\u001b[0m in \u001b[0;36msage.libs.pari.gen.gen.factor (/usr/local/SageMath/src/build/cythonized/sage/libs/pari/gen.c:125248)\u001b[1;34m()\u001b[0m\n\u001b[0;32m   4115\u001b[0m             \u001b[1;32mif\u001b[0m \u001b[0mproof\u001b[0m \u001b[1;32mis\u001b[0m \u001b[1;32mnot\u001b[0m \u001b[0mNone\u001b[0m\u001b[1;33m:\u001b[0m\u001b[1;33m\u001b[0m\u001b[0m\n\u001b[0;32m   4116\u001b[0m                 \u001b[0mfactor_proven\u001b[0m \u001b[1;33m=\u001b[0m \u001b[1;36m1\u001b[0m \u001b[1;32mif\u001b[0m \u001b[0mproof\u001b[0m \u001b[1;32melse\u001b[0m \u001b[1;36m0\u001b[0m\u001b[1;33m\u001b[0m\u001b[0m\n\u001b[1;32m-> 4117\u001b[1;33m             \u001b[0msig_on\u001b[0m\u001b[1;33m(\u001b[0m\u001b[1;33m)\u001b[0m\u001b[1;33m\u001b[0m\u001b[0m\n\u001b[0m\u001b[0;32m   4118\u001b[0m             \u001b[1;32mif\u001b[0m \u001b[0mlimit\u001b[0m \u001b[1;33m>=\u001b[0m \u001b[1;36m0\u001b[0m\u001b[1;33m:\u001b[0m\u001b[1;33m\u001b[0m\u001b[0m\n\u001b[0;32m   4119\u001b[0m                 \u001b[0mg\u001b[0m \u001b[1;33m=\u001b[0m \u001b[0mboundfact\u001b[0m\u001b[1;33m(\u001b[0m\u001b[0mself\u001b[0m\u001b[1;33m.\u001b[0m\u001b[0mg\u001b[0m\u001b[1;33m,\u001b[0m \u001b[0mlimit\u001b[0m\u001b[1;33m)\u001b[0m\u001b[1;33m\u001b[0m\u001b[0m\n",
      "\u001b[1;32msrc/cysignals/signals.pyx\u001b[0m in \u001b[0;36mcysignals.signals.sig_raise_exception (build/src/cysignals/signals.c:1125)\u001b[1;34m()\u001b[0m\n",
      "\u001b[1;31mKeyboardInterrupt\u001b[0m: "
     ]
    }
   ],
   "source": [
    "time factorizar(35,36)"
   ]
  },
  {
   "cell_type": "code",
   "execution_count": null,
   "metadata": {
    "collapsed": true
   },
   "outputs": [],
   "source": [
    "n = 268501*7416361*47392381*2430065924693517198550322751963101*1038213793447841940908293355871461401"
   ]
  },
  {
   "cell_type": "code",
   "execution_count": null,
   "metadata": {
    "collapsed": false
   },
   "outputs": [],
   "source": [
    "time factor(n)"
   ]
  },
  {
   "cell_type": "code",
   "execution_count": null,
   "metadata": {
    "collapsed": true
   },
   "outputs": [],
   "source": [
    "n2 = 2430065924693517198550322751963101*1038213793447841940908293355871461401"
   ]
  },
  {
   "cell_type": "code",
   "execution_count": null,
   "metadata": {
    "collapsed": false
   },
   "outputs": [],
   "source": [
    "time factor(n2)"
   ]
  },
  {
   "cell_type": "markdown",
   "metadata": {},
   "source": [
    "Vemos que tarda lo mismo en factorizar $2^{35}+1$ que en factorizar el producto $n$ de sus factores mayores que $10000$, o el producto $n2$ de sus dos factores más grandes. "
   ]
  },
  {
   "cell_type": "markdown",
   "metadata": {},
   "source": [
    "<h3>POTENCIAS</h3>\n",
    "<p>&iquest;Es mayor $n^{n+1}$ o $(n+1)^n$?</p>"
   ]
  },
  {
   "cell_type": "code",
   "execution_count": 1,
   "metadata": {
    "collapsed": false
   },
   "outputs": [
    {
     "data": {
      "text/plain": [
       "True"
      ]
     },
     "execution_count": 1,
     "metadata": {},
     "output_type": "execute_result"
    }
   ],
   "source": [
    "50^(51)>51^(50)"
   ]
  },
  {
   "cell_type": "code",
   "execution_count": 2,
   "metadata": {
    "collapsed": false
   },
   "outputs": [
    {
     "data": {
      "text/plain": [
       "[False,\n",
       " True,\n",
       " True,\n",
       " True,\n",
       " True,\n",
       " True,\n",
       " True,\n",
       " True,\n",
       " True,\n",
       " True,\n",
       " True,\n",
       " True,\n",
       " True,\n",
       " True,\n",
       " True,\n",
       " True,\n",
       " True,\n",
       " True,\n",
       " True,\n",
       " True,\n",
       " True,\n",
       " True,\n",
       " True,\n",
       " True,\n",
       " True,\n",
       " True,\n",
       " True,\n",
       " True,\n",
       " True,\n",
       " True,\n",
       " True,\n",
       " True,\n",
       " True,\n",
       " True,\n",
       " True,\n",
       " True,\n",
       " True,\n",
       " True,\n",
       " True,\n",
       " True,\n",
       " True,\n",
       " True,\n",
       " True,\n",
       " True,\n",
       " True,\n",
       " True,\n",
       " True,\n",
       " True,\n",
       " True,\n",
       " True,\n",
       " True,\n",
       " True,\n",
       " True,\n",
       " True,\n",
       " True,\n",
       " True,\n",
       " True,\n",
       " True,\n",
       " True,\n",
       " True,\n",
       " True,\n",
       " True,\n",
       " True,\n",
       " True,\n",
       " True,\n",
       " True,\n",
       " True,\n",
       " True,\n",
       " True,\n",
       " True,\n",
       " True,\n",
       " True,\n",
       " True,\n",
       " True,\n",
       " True,\n",
       " True,\n",
       " True,\n",
       " True,\n",
       " True,\n",
       " True,\n",
       " True,\n",
       " True,\n",
       " True,\n",
       " True,\n",
       " True,\n",
       " True,\n",
       " True,\n",
       " True,\n",
       " True,\n",
       " True,\n",
       " True,\n",
       " True,\n",
       " True,\n",
       " True,\n",
       " True,\n",
       " True,\n",
       " True,\n",
       " True]"
      ]
     },
     "execution_count": 2,
     "metadata": {},
     "output_type": "execute_result"
    }
   ],
   "source": [
    "[n^(n+1)>(n+1)^n for n in srange(2,100)]"
   ]
  },
  {
   "cell_type": "code",
   "execution_count": 3,
   "metadata": {
    "collapsed": false
   },
   "outputs": [
    {
     "name": "stdout",
     "output_type": "stream",
     "text": [
      "CPU times: user 4 ms, sys: 0 ns, total: 4 ms\n",
      "Wall time: 5.77 ms\n"
     ]
    }
   ],
   "source": [
    "time L = [n^(n+1)>(n+1)^n for n in srange(3,1000)]"
   ]
  },
  {
   "cell_type": "code",
   "execution_count": 4,
   "metadata": {
    "collapsed": false
   },
   "outputs": [
    {
     "data": {
      "text/plain": [
       "True"
      ]
     },
     "execution_count": 4,
     "metadata": {},
     "output_type": "execute_result"
    }
   ],
   "source": [
    "all(L)"
   ]
  },
  {
   "cell_type": "code",
   "execution_count": 5,
   "metadata": {
    "collapsed": false
   },
   "outputs": [],
   "source": [
    "L2 = [n^(n+1)-(n+1)^n>(n-3)*n^n for n in srange(3,10)]"
   ]
  },
  {
   "cell_type": "code",
   "execution_count": 6,
   "metadata": {
    "collapsed": false
   },
   "outputs": [
    {
     "data": {
      "text/plain": [
       "[True, True, True, True, True, True, True]"
      ]
     },
     "execution_count": 6,
     "metadata": {},
     "output_type": "execute_result"
    }
   ],
   "source": [
    "L2"
   ]
  },
  {
   "cell_type": "code",
   "execution_count": 7,
   "metadata": {
    "collapsed": false
   },
   "outputs": [
    {
     "name": "stdout",
     "output_type": "stream",
     "text": [
      "CPU times: user 8 ms, sys: 0 ns, total: 8 ms\n",
      "Wall time: 9.05 ms\n"
     ]
    }
   ],
   "source": [
    "time L3 = [n^(n+1)-(n+1)^n>(n-3)*n^n for n in srange(3,1000)]"
   ]
  },
  {
   "cell_type": "code",
   "execution_count": 8,
   "metadata": {
    "collapsed": false
   },
   "outputs": [
    {
     "data": {
      "text/plain": [
       "True"
      ]
     },
     "execution_count": 8,
     "metadata": {},
     "output_type": "execute_result"
    }
   ],
   "source": [
    "all(L3)"
   ]
  },
  {
   "cell_type": "markdown",
   "metadata": {},
   "source": [
    "<h3>CUADRADOS</h3>\n",
    "<p>&iquest;Es cierto que si tenemos $3$ enteros, $x,y,z$, tales que $x^2+y^2=z^2$ NO es posible que ambos $x$ e $y$ sean impares?&iquest;Es cierto que siempre el producto $x\\cdot y\\cdot z$ de tales enteros es m&uacute;ltiplo de $60$?</p>"
   ]
  },
  {
   "cell_type": "code",
   "execution_count": 1,
   "metadata": {
    "collapsed": false
   },
   "outputs": [
    {
     "data": {
      "text/plain": [
       "[]"
      ]
     },
     "execution_count": 1,
     "metadata": {},
     "output_type": "execute_result"
    }
   ],
   "source": [
    "[(x,y) for x in srange(1,100) for y in srange(1,100) if is_square(x^2+y^2) and (x%2==1 and y%2==1)]"
   ]
  },
  {
   "cell_type": "code",
   "execution_count": 2,
   "metadata": {
    "collapsed": false
   },
   "outputs": [
    {
     "data": {
      "text/plain": [
       "[]"
      ]
     },
     "execution_count": 2,
     "metadata": {},
     "output_type": "execute_result"
    }
   ],
   "source": [
    "[(x,y) for x in srange(1,1000) for y in srange(1,1000) if is_square(x^2+y^2) and (x%2==1 and y%2==1)]"
   ]
  },
  {
   "cell_type": "markdown",
   "metadata": {},
   "source": [
    "<h3>Otros ejercicios</h3>\n",
    "\n",
    "<h3>OTROS EJERCICIOS</h3>\n",
    "<ol>\n",
    "<li>&iquest;Qu&eacute; enteros primos $p$ se pueden representar como la suma de dos cuadrados de enteros?&nbsp;</li>\n",
    "<li>&iquest;Cu&aacute;ntos ceros hay al final, por la derecha, en $100!$ (factorial de cien)?&iquest;Y en $365!$?</li>\n",
    "<li>&nbsp;&iquest;Es cierto que la suma $$1!+2!+3!+\\dots+n!$$ no puede ser un cuadrado si $n\\ge 4$?</li>\n",
    "<li>&iquest;Existen grupos de $k$ enteros positivos consecutivos cuya suma sea una potencia de $2$?&iquest;Y si permitimos que sean enteros positivos o negativos?</li>\n",
    "</ol>"
   ]
  },
  {
   "cell_type": "markdown",
   "metadata": {},
   "source": [
    "EJERCICIO 1"
   ]
  },
  {
   "cell_type": "code",
   "execution_count": 118,
   "metadata": {
    "collapsed": false
   },
   "outputs": [
    {
     "data": {
      "text/html": [
       "<html><script type=\"math/tex; mode=display\">\\newcommand{\\Bold}[1]{\\mathbf{#1}}2</script></html>"
      ],
      "text/plain": [
       "2"
      ]
     },
     "metadata": {},
     "output_type": "display_data"
    },
    {
     "data": {
      "text/html": [
       "<html><script type=\"math/tex; mode=display\">\\newcommand{\\Bold}[1]{\\mathbf{#1}}5</script></html>"
      ],
      "text/plain": [
       "5"
      ]
     },
     "metadata": {},
     "output_type": "display_data"
    },
    {
     "data": {
      "text/html": [
       "<html><script type=\"math/tex; mode=display\">\\newcommand{\\Bold}[1]{\\mathbf{#1}}17</script></html>"
      ],
      "text/plain": [
       "17"
      ]
     },
     "metadata": {},
     "output_type": "display_data"
    },
    {
     "data": {
      "text/html": [
       "<html><script type=\"math/tex; mode=display\">\\newcommand{\\Bold}[1]{\\mathbf{#1}}37</script></html>"
      ],
      "text/plain": [
       "37"
      ]
     },
     "metadata": {},
     "output_type": "display_data"
    },
    {
     "data": {
      "text/html": [
       "<html><script type=\"math/tex; mode=display\">\\newcommand{\\Bold}[1]{\\mathbf{#1}}13</script></html>"
      ],
      "text/plain": [
       "13"
      ]
     },
     "metadata": {},
     "output_type": "display_data"
    },
    {
     "data": {
      "text/html": [
       "<html><script type=\"math/tex; mode=display\">\\newcommand{\\Bold}[1]{\\mathbf{#1}}29</script></html>"
      ],
      "text/plain": [
       "29"
      ]
     },
     "metadata": {},
     "output_type": "display_data"
    },
    {
     "data": {
      "text/html": [
       "<html><script type=\"math/tex; mode=display\">\\newcommand{\\Bold}[1]{\\mathbf{#1}}53</script></html>"
      ],
      "text/plain": [
       "53"
      ]
     },
     "metadata": {},
     "output_type": "display_data"
    },
    {
     "data": {
      "text/html": [
       "<html><script type=\"math/tex; mode=display\">\\newcommand{\\Bold}[1]{\\mathbf{#1}}73</script></html>"
      ],
      "text/plain": [
       "73"
      ]
     },
     "metadata": {},
     "output_type": "display_data"
    },
    {
     "data": {
      "text/html": [
       "<html><script type=\"math/tex; mode=display\">\\newcommand{\\Bold}[1]{\\mathbf{#1}}41</script></html>"
      ],
      "text/plain": [
       "41"
      ]
     },
     "metadata": {},
     "output_type": "display_data"
    },
    {
     "data": {
      "text/html": [
       "<html><script type=\"math/tex; mode=display\">\\newcommand{\\Bold}[1]{\\mathbf{#1}}97</script></html>"
      ],
      "text/plain": [
       "97"
      ]
     },
     "metadata": {},
     "output_type": "display_data"
    },
    {
     "data": {
      "text/html": [
       "<html><script type=\"math/tex; mode=display\">\\newcommand{\\Bold}[1]{\\mathbf{#1}}61</script></html>"
      ],
      "text/plain": [
       "61"
      ]
     },
     "metadata": {},
     "output_type": "display_data"
    },
    {
     "data": {
      "text/html": [
       "<html><script type=\"math/tex; mode=display\">\\newcommand{\\Bold}[1]{\\mathbf{#1}}89</script></html>"
      ],
      "text/plain": [
       "89"
      ]
     },
     "metadata": {},
     "output_type": "display_data"
    },
    {
     "data": {
      "text/html": [
       "<html><script type=\"math/tex; mode=display\">\\newcommand{\\Bold}[1]{\\mathbf{#1}}113</script></html>"
      ],
      "text/plain": [
       "113"
      ]
     },
     "metadata": {},
     "output_type": "display_data"
    }
   ],
   "source": [
    "'''Mi manera, poco eficiente'''\n",
    "\n",
    "var ('j')\n",
    "for x in srange(0,10):\n",
    "    for y in srange(x,10):\n",
    "        j=x^2+y^2\n",
    "        if(is_prime(j)):\n",
    "            print(j)"
   ]
  },
  {
   "cell_type": "code",
   "execution_count": 123,
   "metadata": {
    "collapsed": false
   },
   "outputs": [
    {
     "data": {
      "text/html": [
       "<html><script type=\"math/tex; mode=display\">\\newcommand{\\Bold}[1]{\\mathbf{#1}}\\left[2, 3, 5, 7, 11, 13, 17, 19, 23, 29, 31, 37, 41, 43, 47, 53, 59, 61, 67, 71, 73, 79, 83, 89, 97\\right]</script></html>"
      ],
      "text/plain": [
       "[2,\n",
       " 3,\n",
       " 5,\n",
       " 7,\n",
       " 11,\n",
       " 13,\n",
       " 17,\n",
       " 19,\n",
       " 23,\n",
       " 29,\n",
       " 31,\n",
       " 37,\n",
       " 41,\n",
       " 43,\n",
       " 47,\n",
       " 53,\n",
       " 59,\n",
       " 61,\n",
       " 67,\n",
       " 71,\n",
       " 73,\n",
       " 79,\n",
       " 83,\n",
       " 89,\n",
       " 97]"
      ]
     },
     "metadata": {},
     "output_type": "display_data"
    },
    {
     "name": "stdout",
     "output_type": "stream",
     "text": [
      "25\n"
     ]
    }
   ],
   "source": [
    "'''Manera del profe'''\n",
    "L = prime_range(2,100)\n"
   ]
  },
  {
   "cell_type": "markdown",
   "metadata": {},
   "source": [
    "EJERCICIO 3"
   ]
  },
  {
   "cell_type": "code",
   "execution_count": null,
   "metadata": {
    "collapsed": false
   },
   "outputs": [],
   "source": [
    "var ('suma i n')"
   ]
  },
  {
   "cell_type": "code",
   "execution_count": 124,
   "metadata": {
    "collapsed": false
   },
   "outputs": [
    {
     "name": "stdout",
     "output_type": "stream",
     "text": [
      "True\n",
      "True\n"
     ]
    },
    {
     "data": {
      "text/plain": [
       "'Si no definimos la funcion, despues del bucle no podriamos poner un return, pondriamos un print, por ejemplo.'"
      ]
     },
     "execution_count": 124,
     "metadata": {},
     "output_type": "execute_result"
    }
   ],
   "source": [
    "def sumafact(n):\n",
    "    suma = 0\n",
    "    for i in srange(1,n+1):\n",
    "        suma += factorial (i)\n",
    "    return((suma))\n",
    "    \n",
    "for n in srange(0,2):\n",
    "    print(is_square(sumafact(n)))\n",
    "    \n",
    "'''También se puede hacer poniendo en la line 5 print(is_square(suma)) y luego en vez de print(sumafact(n)), \n",
    "(sumafact(n)) asecas'''\n",
    "\n",
    "'''Si no definimos la funcion, despues del bucle no podriamos poner un return, pondriamos un print, por ejemplo.'''"
   ]
  },
  {
   "cell_type": "code",
   "execution_count": 129,
   "metadata": {
    "collapsed": false
   },
   "outputs": [
    {
     "name": "stdout",
     "output_type": "stream",
     "text": [
      "1\n",
      "3\n",
      "3^2\n",
      "3 * 11\n",
      "3^2 * 17\n",
      "3^2 * 97\n",
      "3^4 * 73\n",
      "3^2 * 11 * 467\n",
      "3^2 * 131 * 347\n",
      "3^2 * 11 * 40787\n",
      "3^2 * 11 * 443987\n",
      "3^2 * 11^2 * 23 * 20879\n",
      "3^2 * 11 * 821 * 83047\n",
      "3^2 * 11 * 2789 * 340183\n",
      "3^2 * 11 * 107 * 509 * 259949\n",
      "3^2 * 11 * 225498914387\n",
      "3^2 * 11 * 163 * 20143 * 1162943\n",
      "3^2 * 11 * 19727 * 3471827581\n",
      "3^2 * 11 * 29 * 43 * 1621 * 641751001\n",
      "3^2 * 11^2 * 53 * 67 * 662348503367\n",
      "3^2 * 11 * 877 * 3203 * 41051 * 4699727\n",
      "3^2 * 11 * 11895484822660898387\n",
      "3^2 * 11 * 139 * 2129333 * 922459185301\n",
      "3^2 * 11 * 37^2 * 29131483 * 163992440081\n",
      "3^2 * 11 * 454823 * 519472957 * 690821017\n",
      "3^2 * 11 * 107 * 173 * 7823 * 12227 * 1281439 * 1867343\n",
      "3^2 * 11 * 431363 * 2882477797 * 91865833117\n",
      "3^2 * 11 * 191 * 47793258077 * 349882390108241\n",
      "3^2 * 11 * 37 * 283 * 5087 * 1736655143086866180331\n"
     ]
    }
   ],
   "source": [
    "'''Ahora hay que demostrar la proposición'''\n",
    "'''Cuando n<10 está claro el False, pero, para n muy grande??', 1! + 2! + ... + 10! (=mult de 11) + 11 -> el 11 siempre\n",
    "se repite con exponente 1...'''\n",
    "for n in srange(1,30):\n",
    "    print sumafact(n).factor()"
   ]
  },
  {
   "cell_type": "code",
   "execution_count": 106,
   "metadata": {
    "collapsed": false
   },
   "outputs": [
    {
     "data": {
      "text/html": [
       "<html><script type=\"math/tex; mode=display\">\\newcommand{\\Bold}[1]{\\mathbf{#1}}\\mathrm{True}</script></html>"
      ],
      "text/plain": [
       "True"
      ]
     },
     "metadata": {},
     "output_type": "display_data"
    },
    {
     "data": {
      "text/html": [
       "<html><script type=\"math/tex; mode=display\">\\newcommand{\\Bold}[1]{\\mathbf{#1}}\\mathrm{True}</script></html>"
      ],
      "text/plain": [
       "True"
      ]
     },
     "metadata": {},
     "output_type": "display_data"
    },
    {
     "name": "stdout",
     "output_type": "stream",
     "text": [
      "\n"
     ]
    }
   ],
   "source": [
    "for n in srange(0,2):\n",
    "    show(is_square(sum([factorial(k) for k in srange(1,n+1)])))"
   ]
  },
  {
   "cell_type": "code",
   "execution_count": null,
   "metadata": {
    "collapsed": false
   },
   "outputs": [],
   "source": []
  },
  {
   "cell_type": "markdown",
   "metadata": {},
   "source": [
    "ENCONTRAR EL MENOR N TAL QUE MI DNI ESTÁ EN FACTORIAL(N)"
   ]
  },
  {
   "cell_type": "code",
   "execution_count": 137,
   "metadata": {
    "collapsed": false
   },
   "outputs": [
    {
     "name": "stdout",
     "output_type": "stream",
     "text": [
      "5451\n"
     ]
    },
    {
     "data": {
      "text/plain": [
       "'53855724'"
      ]
     },
     "execution_count": 137,
     "metadata": {},
     "output_type": "execute_result"
    }
   ],
   "source": [
    "var('dni n n1')\n",
    "n=0\n",
    "dni = 53855724\n",
    "while not str(dni) in str(factorial(n)):\n",
    "    n+=1\n",
    "print n\n",
    "'''cogemos la posición en donde empieza nuestro dni'''\n",
    "n1=str(factorial(n)).index(str(dni))  \n",
    "str(factorial(n))[n1:n1+8]"
   ]
  },
  {
   "cell_type": "code",
   "execution_count": 133,
   "metadata": {
    "collapsed": false
   },
   "outputs": [
    {
     "data": {
      "text/plain": [
       "288258447254038514915713172426951751969249210349271373692211742610460745945674643150903200631569137032617253437406142951757770310400235325049274071900469090691902888452714077763961082441960511232382657616747261059135493540856085944428506357784369673138785262868390286724456926705336220095769777330937024280211954716382394568029051026336108737602032976039577478257711198079734637316176873868240211848770259049811688974326750018302237750321982111421000773130030132059187022415618227019530433967627266855740885093812843377861310775951405360460305104789428272241136747693776704590967776099864586637748983299455615849283238756268544329662245685723393640563851847826406975127357451719075929458511683892887673854779965616315667446933835754139479139235345142454624674228456137414677703600138942285616938366035478296255737192106488953628596257371754278511206287399706651022638530753582059359080378876599214346127355745960666374414097895884479060148088678725408913737835675019295295858836405748547510161874105412539024068162610925450169540437932405525770304916681265036211252427702750747184468801071770041988890225453015561966452604665847957794911171463419041674849730312557723462736876038019891037697274876922993996391790071526073408526489693077482713151137206177259529995223939986504489045302144152169962595420202409372640969486587385412999973656448865851630438167637264139470035383986249415198050955422122257830964193254322240303317156880072218617856905332616616291526417371654961639612634581321002077973407816254348631371204099108691441753981951185661790048048521532958747729621704084067334984526614979154031575491456190389806751129097726415738602304829715076291161276225998945314426401931012730779947559930255689071128355769423147397251737629127253657255983120544808628022346432725311170749662987115084164711819657031337715642742433165000312669521346263862866993704427048609700325765200878339119035714527741193928054288197495740979592463908136241737160131650892688646025061215352020491278038679780984287664277484946222927957364147727137224338102934973962259381127386666712903198550511266118912836854546212844743549254444298839383944553995291231532770690568709174962277054173631732937940073011331896288284543465903384180544785429039362641754838735909893257379244727205639410291428733712582901391312674729475200084878707791227787469588636769212901217765018143394060236733284436433449427576982154049626492691894560686908473203823408256767052898750736876451903566102084306975764874525341142525355125632941552812759220895807291793865220343871673584711564114401897912981596606753565172147591366209531784075509792020416391981893884832120334850212964606987519376280612052063159680112512319846737910975572124703016829667059040150203094241725287017376860553110477531005883064008527643025576582738168377840741430404719831888138462943486293785957357213148715877481338380491837008732178822171657506613616313847172403125782100083933683965759614834735346075662471411910974051885275009653056088401533927128540483816174641308461585707832241980895588779959017944420040142750451845124773006676448663789886907153335022461854562805544722967313978220868522411506980193379985806202449171773987826920064027513993792029502311656269114960076652150204963746225196888617120907028343453155933111497092174843368227868852996124004022672371003141579991237452672808393607279446956225057556219008894890192292669763444927676695118686400555515772351577710905044466343335806176657681052622998092667795766559440456197241985076819156909818756115706167309851072858996701333306769507188041176621572685089816568538688164870068747333360573404503485931826628031722121165130509911601476054358522792623282348755960156717077206478114895820946146105987056960655773505314767115782476586529410935073300810849908893780130633722912113927926590083375543373536266844003201067102237854756022147942444017521002208853774882572136144610940417327397537532846938902423305209754145792829708819122656052759648103202280390978148647289429791955530193634023159566931537623974818596023771567749308121552198338998601503645659141981885957645469770025296115357696667821133621736046323694279016174859107152871883014455508086367107958036768846014583588845080520603568013716193534555184411762632011008065979077429361050124775660484461663584548245518130990562074811913533596700404585764776722464243431075856849540124694268173504412086153848600935019092276854270590825364503723622954097123056405591456215953367232541953217990621375165204603112490932688324340691781412002982228837522648040547794219724437884441883384852915832519343492198514032109503984645933888565182968004417291603390972339553324467506393496607123226453266180035160534975860621795218310839124718523474922476539986530350747172235891146431720481174098915402313843777410175945469135204564091071682805387185842258638580389033301762283599867688932271659186960290204582784541927606268557396201582734852681727676001800131418798854668714672473721148727302582436166756273484173951956576814642890899722857039042482283854674917720429719362635236646392672677625893087579534576305988832618416731299538578153967206562053399891851789669435310750849397817281237275895539918471090403623698090952508042875617165933659872355282537093525097085750619507376692398108421941978404215080665930937372430595759116058908066705887507922610807600227880300957736383186346861805125312936992852860333018058753272529002691220049203343942451604154292150694923167353795055894587190402416919907189798013944593504596638680712938770499808672594582879662321554109005364631836051701231445484284668363493482891335546516779359746129379035679614647777092691859786707688813049509123232622680846436895176100357141701486137272875272222164857276292040217272775455418004431287724815266122434555504801768052471120224455446561355485609807299679926985245337694727927893455444561617593227441992109994050612913425770828430708048448249172586302661557300404530290920003159082460296737630820716290396209256174854731133143648023975606895292506923399612444842864894848334796749694646979650783526685017691333793402363755986617244898765943169746724276359819178208454626626293796618675489327734528447112747429278793513269927355542981045926077813666946222298508716667953100447855266232935782695104194781381264734859020860922357869728985292692666839131237418126113767042001944353496728702425605032138860125126864558542396116139710104054034401174370663987103058077601701317281791145717279119863161296957669301529739269468675125176160283674160229529875469319788363086093089682486246258463543572785726672172223654889808622063308777647381838180133096601581777583099298918212499339658026588774482100643793666517344796664899222084661444176207645594152356397783073264877942321398154186358474114403130512926493295909903180598015979747773328520706452942190271190412383717959004004452333991691638063471156216110637960773812964976270912629838100170135558317038591493884173942301499438872414413513060794672806233977549617358648937614036763288736900415932410001087772915353342242995298361457239232448521715914066904508552509741093773187614261649162122226027527988218839999453310568079359975737162853553177362768297363879647556188232992385380026184340932479019502591610016360527240076433292701112491360517670444296738286502630366015948063599026887140514519741209387307807166644169632182270307033520055451639380134085779610507765104791552244919604432253398625534841469292907881763200210371940582259502749855846571087240775829320886362675759248229434539321858618029956730539642189635731866826211504338760852069425379065333738702699980056870897496214191375545511177353112479722425739942757335790378155474773219675328471099867517884510258172368501187754318379952502610786885246124584442566876735538233872182000560459507757055518194277624223774054536408192043097353141217205657299293226528144555732497434663072485268020110533607611699997160323633602838786340670007708632216768745838131828478050007725598271169650654100385862958080627124368450776879855085294267191656463360972476421621006544400817787009807554195383301166428671251566238975513258852038991047987254756779874080459591753285394101717259234407443347882799384048825464567691140464616251084432026621112398299617154681874281428272385779646897333859401297937468346037026895137471823875443682961960689810422863324602977110678602541355950132419191994781034347464882480374432728253979899301980846939377105951493158457274713714005522279014186077346264475081922013670275381336344688805212362889395786221841183348980796833794375682996418074196669938464581068145583017839709176054401873710804445302368958109295488432452277002217150376265739712268500864980579969513825693239659862204292310143517945764090601104145654784824603127880467016235490583703110769091147037334118710893851950184559546074881352960467398135019722263478506239204158549542791738049660200639955655830943032875962978913348095364840722321587824568951587969451577467251281523923576094272020128934442102334131597943545241640190661776511196836159514401104944049194980295043179654630608283046911240928332928371451369506962689460192611320971289722755686103269987562047468812542271625191837041660830710825274887787638803358437487695918446834625349811540059036516335557547528196723593308738887253123803537587641205402323074840881231562445698467041745715059651070857425104949831377552091504459882488764757212135903438248877467950376622089670453212255374223640595732395291526301682610409291378390026011166590195926339895136823921267328567279315807948174457193819129540516688446502980229652091277349790121290552066514069850130233192033115462643594203378246451328817696614076656660687125726441187480481411409435438578331065167762134409626088139434466114492421132382506226681603453679740152660489201473821237842164085402461108713378359106160405461176495984078731805526684160661959531507622047956719142325360887854439863394967668907328694101779071907714970829336931158053393599390503717625036521440762644163939828108648202628483535910312384178660166310673877604662778100603395349575952614269217268365094371287207532293306240698602297729930422926344470670350426435317862794877575373913783198584834344656856185538485962530676390016777558121008384049681860681142190396280139932597569295224601362751254541496364899876660639976603217161354198862586137410303844670906141214745702534790183492616883050933529231254061957594084853604760000027598929887210496800030597219931535772217273909876842747885573125328261228975726535122390013253212417894120121331504078572077054460571218641974715939503647757969260975241696599743442800656400541645633016718758217952088719819354605501234826748979216436232309754502866572481135861547527945316773293815386975559879437951058837996329220090410824097116524791797514557749558717112612362289737674963173922054178609126642814586661562422281324897015670009442006959262131151321584370434347638988317122719566302374851280613821446258932765770592970241992818715222348495728530399890382586468060557770797361889308875049454817439758353677248654172093802997748481197299052006608992852336463928354421412822239105066675591716368734582078623397922646985199711132320930257128768256559642016839999472267898846467957697841326772637827705222215106507626403630224122603270266799325384114007165700948973592517277418685295863673804099799493346953007362310459104764359381662554727960889391672631161495882567865899307334199481660904094036519805414034826291680144341088110288177663091072078980906776273727947158880139539445096309993463594151809979193913580941396773284583751314651897004648326413714213301686233537113662210840926194564560861881692270722947160422975548135491586995979755084962447638186186286742086766952743452285709173389297293473526362820824379911010089896626123014073655856486505477620079690853214048291346169697001633324217088014272460620709265270490244538041945472988222579066458878348613459500014238801354527444293570827879275568397810587424381334151096287623748285421723143070693814818556766843575525332933220769659975596352897731081942026888713203231043963354884233765445404523184057606656410878635271408905278056845002051161080638700685633825620825755475396470385339733733656522294393037741164940569613429131573142680039657403112239894700896561169629575774351198623102075582459707804923811376138076259154041607437281166791665031032224339634541260406093748481043335472283338448446668423183225206115176444111149255678375341832055948157932932512772004803908652029905713986180485418967659475307220655159429153405090335441311545017262660938943719876762895824279897813019553045757139263432304456798570297658102204404350316082399745886995172444207103504280353296721770348917328383349238394808153541311323940797373980136825827879678263873432696294705264585806838799317555153577732199818157884312813462787564109116891524106775459384051622665078843730556199447644375119325003334726169795370469713540295701465647777578023553074019943206523463702773750709055040617017017574098704649195283660520991405427067359156327804305578436181882424058807137765785248214694875487515706116611576182419294679486029297505175234825604121423635844693362336891125258436655153271107828492103879361687973829583243804226600126435821261631554586340113298868727105097954224199268380261744726173767535385572474532353681822547490064526671314095827901865144805951129581602644511810599684174580711614496140204084751454970817969375055576620738232659985489624072083909060233057889881267968895990208532152783505271876151956219378311343114098743752725579441072908511945348326647779428384151730168662721136373996679316965881717201280927948240628686124429876414967603828411331331584096132375821525511520763443097002837798535901993739935251577220423450956651720271369012227778925001526965503528548557525114780548428353668001893588498002182121223414962312059962061855426291195307591769881735175645843915773755727107873845502218022961757503366288736697379328197432687502724345155251183151752981810794567110849096881921969059858392165446360844017452307130958062629467993590497235266635598817200291107225310562036632806846621810299440185200677370037937338789014618417119532228182696447526072775512971602863623242026154562904892607412671940185998330359781470266955112986099700733117454537372173064312618279401527139240373951961791937056275515421984913975958785668628842725675615144335429746372912009349281164403024232771294367109855405749844789519436789422248695300733992302365346362178471687277100952305220482885269585066296301879399104397181559716361439043421934508609018037495913015007135258302747566243602944307909237668830460400970082512717267900771176931458514970487977199728361420001455744009176671942078393842584776612915817636894182181803960495678684288721349856506588083242994685029576875343289669942066209418476258178158030912870224662994248177652417568641309810379383384848745544052013785714999362832039164915145520909037337214201187419346717786200894212674330205425007317500474207137968168198211925267440340375300877128787575797586291935092882805871368553276515112029638079432746996158217761391429508289424632016644999344975367260217885337243139266384239693962081686749808818871899363496226464770969735465901244201826786766934835523240784188322063336522084536699104644841367533823410215089488631162557148177474707049454834602913279645680734511456023755219290537689336824207033535035051987485311019352073430493155463533301064254775098582972016590919832749150787022965740938060590356746797710528697799694243043803842852421590888811375575122397378416073125388530925842980869477735186885990330778328652970237993859591714552189558689974719058708011539629094382589502004689247359648726034423211636025025211091462637293906770544366042263927474668032165859922902033170020464241154904806381948162689092816674192885878751831589521493760440302625397059860345120299160966837273054589387999861983231023533927894401662767913147427628099417138144495409114699198016830923445501980354046548779457165619075267880817767199306744859076867862908740239938355297057252657673602993060750151463722973774963165964148244454306840503881419013649985635743418377126647659834152471350369140349586532653192964646637487975689160986484347101537710426388400547917000096959570823552740702689361969127407672974949931391333854398280512031665478302002296579322156899018833247346333653030533430995625414311562705446272366148975255334236431317763217161618208988256079659517689723080775119008377974183845073556026579615215962164859593536408850975238716909638452524365630258613653673500265238943982165899204023219930522383503652232834003576676038438921826269921358206975885432820479666852603738025315484948384232802526377221010531109044962792390888658633060543748108110094308163190051842293760000000000000000000000000000000000000000000000000000000000000000000000000000000000000000000000000000000000000000000000000000000000000000000000000000000000000000000000000000000000000000000000000000000000000000000000000000000000000000000000000000000000000000000000000000000000000000000000000000000000000000000000000000000000000000000000000000000000000000000000000000000000000000000000000000000000000000000000000000000000000000000000000000000000000000000000000000000000000000000000000000000000000000000000000000000000000000000000000000000000000000000000000000000000000000000000000000000000000000000000000000000000000000000000000000000000000000000000000000000000000000000000000000000000000000000000000000000000000000000000000000000000000000000000000000000000000000000000000000000000000000000000000000000000000000000000000000000000000000000000000000000000000000000000000000000000000000000000000000000000000000000000000000000000000000000000000000000000000000000000000000000000000000000000000000000000000000000000000000000000000000000000000000000000000000000000000000000000000000000000000000000000000000000000000000000000000000000000000000000000000000000000000000000000000000000000000000000000000000000000000000000000000000000000000000000000000000000000000000000000000000000000000000000000000000000000000000000000000000000000000000000000000000000000000000000000000000"
      ]
     },
     "execution_count": 133,
     "metadata": {},
     "output_type": "execute_result"
    }
   ],
   "source": [
    "factorial(5451)"
   ]
  },
  {
   "cell_type": "code",
   "execution_count": null,
   "metadata": {
    "collapsed": true
   },
   "outputs": [],
   "source": []
  }
 ],
 "metadata": {
  "kernelspec": {
   "display_name": "SageMath 7.3",
   "language": "",
   "name": "sagemath"
  },
  "language_info": {
   "codemirror_mode": {
    "name": "ipython",
    "version": 2
   },
   "file_extension": ".py",
   "mimetype": "text/x-python",
   "name": "python",
   "nbconvert_exporter": "python",
   "pygments_lexer": "ipython2",
   "version": "2.7.10"
  }
 },
 "nbformat": 4,
 "nbformat_minor": 0
}
