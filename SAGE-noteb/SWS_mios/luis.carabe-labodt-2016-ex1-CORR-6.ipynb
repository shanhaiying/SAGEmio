{
 "cells": [
  {
   "cell_type": "markdown",
   "metadata": {},
   "source": [
    "1) Antes que nada, lee cuidadosamente estas instrucciones y las que aparecen en la hoja con la contraseña. \n",
    "\n",
    "2) Cambia el nombre de este archivo sustituyendo \"nombre.apellido\" por los tuyos, tal como aparecen en tu dirección de correo electrónico de la UAM.\n",
    "\n",
    "3) Este archivo debe quedar en la carpeta \"ENTREGA...\" que está en el escritorio de tu cuenta de examen. Lo mejor es que lo muevas a esa carpeta desde el comienzo del examen.\n",
    "\n",
    "4) Recuerda que hay que deshabilitar el salvapantallas al comenzar el examen, tal como está indicado en la hoja con la contraseña. \n",
    "\n",
    "\n",
    "CALIFICACIÓN:\n"
   ]
  },
  {
   "cell_type": "code",
   "execution_count": 1,
   "metadata": {
    "collapsed": false
   },
   "outputs": [
    {
     "data": {
      "text/plain": [
       "6"
      ]
     },
     "execution_count": 1,
     "metadata": {},
     "output_type": "execute_result"
    }
   ],
   "source": [
    "3+2+1"
   ]
  },
  {
   "cell_type": "markdown",
   "metadata": {},
   "source": [
    "COMENTARIOS:\n",
    "\n",
    "1) Ejercicio 1  ¿Y los gráficos?\n",
    "\n",
    "2)"
   ]
  },
  {
   "cell_type": "markdown",
   "metadata": {},
   "source": [
    "En este examen los tres ejercicios están relacionados, de una forma u otra,  con el *cálculo de factoriales de enteros*. Debe sorprendernos, al menos un poco,  que sea posible calcular estos enteros enormes en tan poco tiempo, y  el tercer ejercicio empieza a indicar cómo podemos mejorar la simple multiplicación de los enteros entre $1$ y $n$.  "
   ]
  },
  {
   "cell_type": "markdown",
   "metadata": {},
   "source": [
    "## Ejercicio 1 (4 puntos)\n",
    "\n",
    "La congruencia de Wilson afirma que para todo número primo $p$ se verifica que el factorial de $p-1$ es congruente con $-1$ módulo $p$. Es interesante que el recíproco también es cierto: si un entero $n$ verifica la congruencia de Wilson entonces es primo, y por tanto la congruencia de Wilson puede servir como un criterio de primalidad.\n",
    "\n",
    "El método más simple, pero no el más eficiente,  para determinar si un número $n$ es primo es la criba de Eratóstenes, es decir,  $n$ es primo si después de cribar la lista de enteros entre $2$ y $n$, ambos inclusive, $n$ está todavía en la lista cribada. Vimos en clase dos formas de implementar la criba, la segunda,  mucho más eficiente que la primera, se reproduce en la siguiente celda. \n",
    "\n",
    "**En este ejercicio debes comparar, en términos de eficiencia,  la criba con el criterio de Wilson como método para decidir si un entero $n$ es primo, es decir, debes producir  evidencia que demuestre, suficientemente, cuál de los dos métodos es mejor. No olvides discutir las consecuencias que obtienes del experimento.**\n",
    "\n",
    "Para medir tiempos puedes usar la función de SAGE $cputime()$, y con los tiempos obtenidos debes generar gráficas que permitan **ver** la diferencia entre los métodos.\n",
    "\n",
    "El número de enteros $n$ para los que medimos los tiempos  no puede ser muy grande, por ejemplo deberíamos conformarnos con unos $100$ enteros, pero los enteros $n$ habría que seleccionarlos, usando la función de SAGE $randint(N1,N2)$,  en rangos $[N1,N2]$ suficientemente grandes. Por ejemplo, puedes usar $[10^4,10^5]$ y también $[10^5,10^6]$. Los parámetros sugeridos son sólo una indicación, y puede ser necesario modificarlos, pero si se aumenta el rango, por ejemplo hasta $10^7$, sería conveniente disminuir el número de enteros para los que medimos los tiempos. \n",
    "\n",
    "**¿Qué buscamos con este experimento? Es muy posible que en cierto rango $[N1,N2]$ uno de los métodos sea sistemáticamente mejor y en otro rango lo sea el otro. Querríamos identificar aproximadamente dónde se produce, si es que se produce,  el cambio.**\n",
    "\n",
    "\n"
   ]
  },
  {
   "cell_type": "code",
   "execution_count": 32,
   "metadata": {
    "collapsed": false
   },
   "outputs": [],
   "source": [
    "def criba(n):\n",
    "        aux = [True]*int(n)\n",
    "        aux[0] = False\n",
    "        aux[1] = False\n",
    "        for i in xrange(2,floor(sqrt(n))+1):\n",
    "            if aux[i]:\n",
    "                for j in xrange(i*i,n,i):\n",
    "                    aux[j] = False\n",
    "        return [k for k in xrange(n) if aux[k]==True]\n",
    "    \n",
    "'Si algo es congruente con -1 módulo p, significa que será congruente con p-1 módulo p'\n",
    "\n",
    "def wilson(n):\n",
    "    f = factorial(n-1)\n",
    "    if(f%n == (n-1)):\n",
    "        'El elemento es primo'\n",
    "        return true \n",
    "    'El elemento no es primo'\n",
    "    return false \n",
    "\n",
    "'Creo una función que me devuelva TRUE o FALSE si n es primo, según el algoritmo de criba'\n",
    "\n",
    "def compruebaCriba(n):\n",
    "    L = criba(n+1)\n",
    "    if n in L:\n",
    "        return true\n",
    "    return false"
   ]
  },
  {
   "cell_type": "code",
   "execution_count": 58,
   "metadata": {
    "collapsed": false
   },
   "outputs": [
    {
     "name": "stdout",
     "output_type": "stream",
     "text": [
      "Tienen la misma eficiencia\n"
     ]
    }
   ],
   "source": [
    "'Creamos una lista donde meteremos los tiempos de cada función'\n",
    "Lc = []\n",
    "Lw = []\n",
    "\n",
    "N1 = 10^7\n",
    "N2 = 10^8\n",
    "\n",
    "for x in xsrange(0,10):\n",
    "    'Generamos un número aleatorio y medimos el tiempo de los dos procesos, metiéndolo en sus respectivas listas'\n",
    "    n = randint(N1, N2)\n",
    "    a = cputime()\n",
    "    compruebaCriba(n)\n",
    "    b = cputime()\n",
    "    Lc.append(b-a)\n",
    "    a=cputime()\n",
    "    wilson(n)\n",
    "    b=cputime()\n",
    "    Lw.append(b-a)\n",
    "    \n",
    "'Ahora comprobamos quién es la más eficiente'\n",
    "\n",
    "if(sum(Lc) > sum(Lw)):\n",
    "    print('Criba es más eficiente')\n",
    "elif(sum(Lw) < sum(Lc)):\n",
    "    print('Wilson es más eficiente')\n",
    "else:\n",
    "    print('Tienen la misma eficiencia')\n",
    "    "
   ]
  },
  {
   "cell_type": "markdown",
   "metadata": {},
   "source": [
    "    Cuando he valorado (N1 = 10^a, N2 = 10^(a+1)), siendo a <= 6, criba ha sido más eficiente, sin embargo al evaluar 10 enteros entre 10^6 y 10^7; y 10^7 hasta 10^8 tienen la misma eficiencia. \n",
    "    Siendo a <= 6, criba ha sido más eficiente, sin embargo al evaluar 10 enteros entre 10^6 y 10^7, tienen la misma eficiencia.\n",
    "    En wilson, lo que consume más tiempo es realizar el factorial, con el método de la criba, lo que consume más tiempo es el bucle for dentro de otro bucle for, pero con números menores a 10^6, este doble bucle parece ser más rápido que el factorial. Cuanto más grandes son los números, menos ventaja tiene el doble for, hasta que en 10^6 su eficiencia es igual."
   ]
  },
  {
   "cell_type": "markdown",
   "metadata": {},
   "source": [
    "## Ejercicio 2 (3 puntos)\n",
    "\n",
    "En este ejercicio **estudiamos diversos métodos para calcular el número binomial $\\binom{n}{m}$**, que,  por definición,  es el entero $$\\binom{n}{m}:=\\frac{n!}{m!(n-m)!},$$ y cuenta el número de subconjuntos con $m$ elementos de un conjunto de $n$ elementos. \n",
    "\n",
    "1) Un primer método,  que usaremos como base para nuestras comparaciones, consiste en usar la definición anterior\n",
    "directamente, es decir, calculando los factoriales y realizando las operaciones indicadas. Define una función de SAGE de nombre $binomial\\_1(n,m)$ y que devuelva el factorial calculado de esta manera. \n",
    "\n",
    "2) El cálculo anterior se puede organizar mejor: simplificamos $(n-m)!$ con parte de $n!$ y utilizamos que queda el mismo número de factores en el numerador que en el denominador para calcular el binomial más eficientemente. Define una función de SAGE de nombre $binomial\\_2(n,m)$ y que devuelva el factorial calculado de esta manera. \n",
    "\n",
    "3) Otra manera de calcular el binomial es la base del *triángulo de Tartaglia*, es decir, las relaciones \n",
    "$$\\binom{n}{0}=\\binom{n}{n}=1;\\binom{n}{m}=\\binom{n-1}{m-1}+\\binom{n-1}{m},$$\n",
    "que permitirían una definición recursiva del binomial. NO se pide esta solución recursiva, que no sería nada eficiente,  sino una iterativa equivalente. Define una función de SAGE de nombre $binomial\\_3(n,m)$ que utilice bucles y las relaciones anteriores para calcular el binomial. En cierto sentido este programa haría  lo mismo que cuando calculamos el triángulo de Tartaglia a mano. \n",
    "\n",
    "4) **Ejecuta las celdas incluidas al final de este ejercicio para comprobar que las funciones son correctas. ¿Algún comentario acerca de estos resultados?**\n",
    "\n"
   ]
  },
  {
   "cell_type": "code",
   "execution_count": 63,
   "metadata": {
    "collapsed": true
   },
   "outputs": [],
   "source": [
    "forget()\n",
    "\n",
    "def binomial_1(n,m):\n",
    "    a = factorial(n)\n",
    "    b = factorial(m)\n",
    "    c = factorial(n-m)\n",
    "    return (a/(b*c))"
   ]
  },
  {
   "cell_type": "code",
   "execution_count": 102,
   "metadata": {
    "collapsed": true
   },
   "outputs": [],
   "source": [
    "def binomial_2(n,m):\n",
    "    a,b=1,1\n",
    "    for x in xsrange((n-m+1), n+1):\n",
    "        a = a * x\n",
    "    for x in xsrange (1, m+1):\n",
    "        b = b * x\n",
    "    return a/b"
   ]
  },
  {
   "cell_type": "code",
   "execution_count": null,
   "metadata": {
    "collapsed": true
   },
   "outputs": [],
   "source": [
    "def binomial_3(n,m):\n",
    "    a=1\n",
    "    "
   ]
  },
  {
   "cell_type": "code",
   "execution_count": 99,
   "metadata": {
    "collapsed": false
   },
   "outputs": [
    {
     "name": "stdout",
     "output_type": "stream",
     "text": [
      "CPU times: user 388 ms, sys: 0 ns, total: 388 ms\n",
      "Wall time: 387 ms\n"
     ]
    }
   ],
   "source": [
    "%time N = binomial(12456758,65293) ##Binomial de SAGE"
   ]
  },
  {
   "cell_type": "code",
   "execution_count": 100,
   "metadata": {
    "collapsed": false
   },
   "outputs": [
    {
     "name": "stdout",
     "output_type": "stream",
     "text": [
      "CPU times: user 13.2 s, sys: 308 ms, total: 13.5 s\n",
      "Wall time: 13.5 s\n"
     ]
    },
    {
     "data": {
      "text/plain": [
       "True"
      ]
     },
     "execution_count": 100,
     "metadata": {},
     "output_type": "execute_result"
    }
   ],
   "source": [
    "%time N == binomial_1(12456758,65293)"
   ]
  },
  {
   "cell_type": "code",
   "execution_count": 103,
   "metadata": {
    "collapsed": false
   },
   "outputs": [
    {
     "name": "stdout",
     "output_type": "stream",
     "text": [
      "CPU times: user 1.12 s, sys: 484 ms, total: 1.6 s\n",
      "Wall time: 1.57 s\n"
     ]
    },
    {
     "data": {
      "text/plain": [
       "True"
      ]
     },
     "execution_count": 103,
     "metadata": {},
     "output_type": "execute_result"
    }
   ],
   "source": [
    "%time N == binomial_2(12456758,65293)"
   ]
  },
  {
   "cell_type": "code",
   "execution_count": null,
   "metadata": {
    "collapsed": true
   },
   "outputs": [],
   "source": [
    "%time N == binomial_3(12456758,65293)"
   ]
  },
  {
   "cell_type": "markdown",
   "metadata": {},
   "source": [
    "Podemos observar que binomial_2 mejora mucho la eficiencia de binomial_1"
   ]
  },
  {
   "cell_type": "markdown",
   "metadata": {},
   "source": [
    "## Ejercicio 3 (3 puntos)\n",
    "\n",
    "Finalmente, estudiamos un **algoritmo para calcular factoriales** basado en el siguiente teorema:\n",
    "\n",
    "*Dados un entero $n$ y un primo $p\\le n$ el exponente de $p$ en la factorización de $n!$ en producto de primos es el entero $$exponente(p):=\\sum_{i=1}^{i=\\infty} floor(n/p^i).$$*\n",
    "\n",
    "Observa que la suma es en realidad finita, ya que en cuanto $p^i$ supera a $n$ los sumandos son todos cero, y para todos los primos $p\\le n$ el exponente correspondiente es al menos $1$. \n",
    "\n",
    "1) Define una función que reciba el entero $n$ como argumento y devuelva una lista de pares con el primer elemento de cada par uno de los primos $p\\le n$  y el segundo el exponente que corresponde a $p$ de acuerdo al teorema mencionado. \n",
    "Para generar la lista de primos menores o iguales a $n$ puedes usar la función de SAGE $prime\\_range$ o bien la función $criba$ del Ejercicio $1$. \n",
    "\n",
    "2) Define una función de nombre $factorial\\_n(n)$ que en primer lugar llame a la función del apartado anterior, y luego calcule el producto de todos los primos elevado cada uno a su exponente. El resultado debe ser el factorial de $n$. Para elevar cada primo a su exponente debería usarse el algoritmo recursivo, bastante eficiente,  visto en clase. \n",
    "\n",
    "3) **Ejecuta las celdas al final de este ejercicio para comprobar que la función definida es correcta.**\n",
    "\n",
    "4) **¿Se te ocurre alguna manera de mejorar la eficiencia de $factorial\\_n(n)$? Explica.**\n"
   ]
  },
  {
   "cell_type": "code",
   "execution_count": 94,
   "metadata": {
    "collapsed": true
   },
   "outputs": [],
   "source": [
    "var('i')\n",
    "\n",
    "def generador(n):\n",
    "    L = []\n",
    "    Lp = prime_range(1, n)\n",
    "    for x in xsrange(0, len(Lp)):\n",
    "        ex = sum(floor(n/((Lp[x])^i)), i, 1, oo)\n",
    "        L.append((Lp[x], ex))\n",
    "    return L\n",
    "\n",
    "def factorial_n(n):\n",
    "    L = generador(n)\n",
    "    num = 0\n",
    "    for x in xsrange(0, len(L)):\n",
    "        num = num + power(L[x])\n",
    "    return num"
   ]
  },
  {
   "cell_type": "code",
   "execution_count": 95,
   "metadata": {
    "collapsed": false
   },
   "outputs": [
    {
     "name": "stdout",
     "output_type": "stream",
     "text": [
      "CPU times: user 100 ms, sys: 0 ns, total: 100 ms\n",
      "Wall time: 102 ms\n"
     ]
    }
   ],
   "source": [
    "%time N1=factorial(657975) ##Factorial de SAGE"
   ]
  },
  {
   "cell_type": "code",
   "execution_count": null,
   "metadata": {
    "collapsed": true
   },
   "outputs": [],
   "source": [
    "%time N1==factorial_n(657975)"
   ]
  }
 ],
 "metadata": {
  "kernelspec": {
   "display_name": "SageMath 7.3",
   "language": "",
   "name": "sagemath"
  },
  "language_info": {
   "codemirror_mode": {
    "name": "ipython",
    "version": 2
   },
   "file_extension": ".py",
   "mimetype": "text/x-python",
   "name": "python",
   "nbconvert_exporter": "python",
   "pygments_lexer": "ipython2",
   "version": "2.7.10"
  }
 },
 "nbformat": 4,
 "nbformat_minor": 0
}
