{
 "cells": [
  {
   "cell_type": "markdown",
   "metadata": {},
   "source": [
    "1) Antes que nada, lee cuidadosamente estas instrucciones y las que aparecen en la hoja con la contraseña. .\n",
    "\n",
    "2) Cambia el nombre de este archivo sustituyendo \"nombre.apellido\" por los tuyos, tal como aparecen en tu dirección de correo electrónico de la UAM.\n",
    "\n",
    "3) Este archivo debe quedar en la carpeta \"ENTREGA...\" que está en el escritorio de tu cuenta de examen. Lo mejor es que esté en esa carpeta desde el comienzo del examen.\n",
    "\n",
    "4) El examen resuelto debe quedar en este único archivo. No se puede usar un archivo para cada pregunta.\n",
    "\n",
    "5) Recuerda que hay que deshabilitar el salvapantallas al comenzar el examen, tal como está indicado en la hoja con la contraseña. \n",
    "\n",
    "\n",
    "CALIFICACIÓN:\n"
   ]
  },
  {
   "cell_type": "code",
   "execution_count": 2,
   "metadata": {
    "collapsed": false
   },
   "outputs": [
    {
     "data": {
      "text/plain": [
       "7"
      ]
     },
     "execution_count": 2,
     "metadata": {},
     "output_type": "execute_result"
    }
   ],
   "source": [
    "2+1+4"
   ]
  },
  {
   "cell_type": "markdown",
   "metadata": {},
   "source": [
    "COMENTARIOS:\n",
    "\n",
    "1)"
   ]
  },
  {
   "cell_type": "markdown",
   "metadata": {},
   "source": [
    "## Ejercicio 1\n",
    "\n",
    "(3 puntos) Podemos estimar el valor de $\\alpha(x):=\\sqrt{1+x}$ como $\\beta(x):=1+(x/2)$ cuando $x$ es,  en valor absoluto,  suficientement próximo a cero. Consideramos que la estimación *es aceptable* cuando  el error relativo $$E(x):=\\frac{abs(\\alpha(x)-\\beta(x))}{\\alpha(x)}$$ que cometemos es menor que $0.01$. \n",
    "\n",
    "1) Determina, experimentalmente,  una cota $\\vert x\\vert < A$ tal que la estimación es aceptable para los $x$ que la cumplen, y deja de serlo para $\\vert x\\vert \\ge A$. \n",
    "\n",
    "2) ¿Qué podemos hacer para mejorar la estimación? Postula una nueva estimación $\\beta_1(x)$ y demuestra que con ella se obtienen resultados bastante más precisos."
   ]
  },
  {
   "cell_type": "code",
   "execution_count": 7,
   "metadata": {
    "collapsed": false
   },
   "outputs": [
    {
     "name": "stdout",
     "output_type": "stream",
     "text": [
      "0.302490000000162\n"
     ]
    }
   ],
   "source": [
    "'1.)'\n",
    "\n",
    "R = RealField(prec=100)\n",
    "\n",
    "def alfa(x, preci):\n",
    "    return sqrt(1 + x).n(prec = preci)\n",
    "\n",
    "def beta(x, preci):\n",
    "    return 1 + (x/2).n(prec = preci)\n",
    "\n",
    "def error(x, preci):\n",
    "    return abs(alfa(x, preci)-beta(x, preci))/alfa(x, preci)\n",
    "\n",
    "cota = 0\n",
    "preci = 10\n",
    "i = R(0.0)\n",
    "\n",
    "'Voy aumentando i con el incremento que yo diga, y viendo cuándo sale del bucle puedo saber la cota máxima'\n",
    "\n",
    "incr = 0.00001\n",
    "while error(i, preci) < 0.01:\n",
    "    cota = i\n",
    "    i += incr\n",
    "print(cota)"
   ]
  },
  {
   "cell_type": "markdown",
   "metadata": {},
   "source": [
    "Podemos observar que la cota (A) es 0.30249..., si aumentaramos la precisión y el incr, podríamos ser más finos dando este número."
   ]
  },
  {
   "cell_type": "code",
   "execution_count": 117,
   "metadata": {
    "collapsed": false
   },
   "outputs": [
    {
     "name": "stdout",
     "output_type": "stream",
     "text": [
      "0.0370700000000007\n"
     ]
    }
   ],
   "source": [
    "'2.)'\n",
    "'Si queremos resultados más precisos, podemos rediseñar beta'\n",
    "\n",
    "def beta1(x, preci):\n",
    "    return 1 + (x/2).n(prec = preci) + (x/4).n(prec = preci)\n",
    "\n",
    "def error1(x, preci):\n",
    "    return abs(alfa(x, preci)-beta1(x, preci))/alfa(x, preci)\n",
    "\n",
    "cota = 0\n",
    "preci = 10\n",
    "i = R(0.0)\n",
    "\n",
    "'Voy aumentando i con el incremento que yo diga, y viendo cuándo sale del bucle puedo saber la cota máxima'\n",
    "\n",
    "incr = 0.00001\n",
    "while error1(i, preci) < 0.01:\n",
    "    cota = i\n",
    "    i += incr\n",
    "print(cota)"
   ]
  },
  {
   "cell_type": "markdown",
   "metadata": {},
   "source": [
    "## Ejercicio 2\n",
    "\n",
    "(3 puntos) John Napier publicó su invención de los logaritmos en 1614, mucho antes de la invención del cálculo diferencial. El punto esencial para que los logaritmos fueran útiles era la existencia de *tablas de logaritmos* en las que uno encontraba los logaritmos de los factores, que sumaba a mano, y volvía a usar para encontrar el número cuyo logaritmo era la suma obtenida, es decir,  el producto de los números de partida. \n",
    "Henry Briggs colaboró con Napier para producir las primeras tablas de logaritmos mediante el siguiente procedimiento:\n",
    "\n",
    "1) Queremos calcular el logaritmo de un entero $n>1$. Calculamos $n^{1/2^k}$ para $k=1,2,3,\\dots$ hasta que el resultado difiera *muy poco* de $1$. Esto es lo mismo que iterar la extracción de raíces cuadradas hasta llegar casi a $1$. Escribimos \n",
    "$$n^{1/2^k}=1+x.$$\n",
    "\n",
    "2) Ahora tomamos logaritmos para obtener \n",
    "$$log(n)=2^klog(1+x).$$\n",
    "\n",
    "3) Finalmente, Briggs observó que para $x$ suficientemente pequeño en valor absoluto, podía sustituir $log(1+x)$ por $x$, y quedaba $log(n)$ aproximadamente igual a  $2^kx.$ \n",
    "\n",
    "Es claro que lo que necesitamos es saber *cómo de pequeño tiene que ser $x$ para obtener un número prefijado $k$ de cifras decimales exactas del logaritmo de $n$.*\n",
    "\n",
    "A) Define una función $buscar(n,k,precis)$ que debe efectuar el procedimiento de Briggs hasta que la estimación obtenida tenga el número $k$ de cifras correctas de $log(n)$, y en ese momento debe devolver $x$. La precisión arbitraria en los cálculos, determinada por el parámetro *precis* hace falta porque sin ella un cierto bucle $while$ puede hacerse infinito cuando $n$ o $k$ son *grandes*. \n",
    "\n",
    "B) Experimenta con la función del primer apartado y, como consecuencia,  enuncia y comprueba la regla que indica cómo de pequeño tiene que ser $x$ para obtener $k$ cifras correctas del logaritmo de $n$."
   ]
  },
  {
   "cell_type": "code",
   "execution_count": 1,
   "metadata": {
    "collapsed": false
   },
   "outputs": [
    {
     "ename": "KeyboardInterrupt",
     "evalue": "",
     "output_type": "error",
     "traceback": [
      "\u001b[1;31m---------------------------------------------------------------------------\u001b[0m",
      "\u001b[1;31mKeyboardInterrupt\u001b[0m                         Traceback (most recent call last)",
      "\u001b[1;32m<ipython-input-1-3067e5cec6fd>\u001b[0m in \u001b[0;36m<module>\u001b[1;34m()\u001b[0m\n\u001b[0;32m     22\u001b[0m \u001b[1;34m'B)'\u001b[0m\u001b[1;33m\u001b[0m\u001b[0m\n\u001b[0;32m     23\u001b[0m \u001b[1;33m\u001b[0m\u001b[0m\n\u001b[1;32m---> 24\u001b[1;33m \u001b[0mbuscar\u001b[0m\u001b[1;33m(\u001b[0m\u001b[0mInteger\u001b[0m\u001b[1;33m(\u001b[0m\u001b[1;36m3\u001b[0m\u001b[1;33m)\u001b[0m\u001b[1;33m,\u001b[0m \u001b[0mInteger\u001b[0m\u001b[1;33m(\u001b[0m\u001b[1;36m2\u001b[0m\u001b[1;33m)\u001b[0m\u001b[1;33m,\u001b[0m \u001b[0mInteger\u001b[0m\u001b[1;33m(\u001b[0m\u001b[1;36m5\u001b[0m\u001b[1;33m)\u001b[0m\u001b[1;33m)\u001b[0m\u001b[1;33m\u001b[0m\u001b[0m\n\u001b[0m",
      "\u001b[1;32m<ipython-input-1-3067e5cec6fd>\u001b[0m in \u001b[0;36mbuscar\u001b[1;34m(n, k, precis)\u001b[0m\n\u001b[0;32m     16\u001b[0m     \u001b[0mx\u001b[0m \u001b[1;33m=\u001b[0m \u001b[0mR\u001b[0m\u001b[1;33m(\u001b[0m\u001b[0mInteger\u001b[0m\u001b[1;33m(\u001b[0m\u001b[1;36m1\u001b[0m\u001b[1;33m)\u001b[0m\u001b[1;33m)\u001b[0m\u001b[1;33m\u001b[0m\u001b[0m\n\u001b[0;32m     17\u001b[0m     \u001b[1;34m'Imponemos que tenga un número de cifras k correctas en la condición del while'\u001b[0m\u001b[1;33m\u001b[0m\u001b[0m\n\u001b[1;32m---> 18\u001b[1;33m     \u001b[1;32mwhile\u001b[0m \u001b[0mfloor\u001b[0m\u001b[1;33m(\u001b[0m\u001b[1;33m(\u001b[0m\u001b[0mInteger\u001b[0m\u001b[1;33m(\u001b[0m\u001b[1;36m10\u001b[0m\u001b[1;33m)\u001b[0m\u001b[1;33m**\u001b[0m\u001b[0mk\u001b[0m\u001b[1;33m)\u001b[0m\u001b[1;33m*\u001b[0m\u001b[0mabs\u001b[0m\u001b[1;33m(\u001b[0m\u001b[0mR\u001b[0m\u001b[1;33m(\u001b[0m\u001b[0mlog\u001b[0m\u001b[1;33m(\u001b[0m\u001b[0mn\u001b[0m\u001b[1;33m)\u001b[0m\u001b[1;33m)\u001b[0m\u001b[1;33m-\u001b[0m\u001b[0mBriggs\u001b[0m\u001b[1;33m(\u001b[0m\u001b[0mn\u001b[0m\u001b[1;33m,\u001b[0m\u001b[0mx\u001b[0m\u001b[1;33m,\u001b[0m \u001b[0mprecis\u001b[0m\u001b[1;33m)\u001b[0m\u001b[1;33m)\u001b[0m\u001b[1;33m)\u001b[0m \u001b[1;33m!=\u001b[0m \u001b[0mInteger\u001b[0m\u001b[1;33m(\u001b[0m\u001b[1;36m0\u001b[0m\u001b[1;33m)\u001b[0m\u001b[1;33m:\u001b[0m\u001b[1;33m\u001b[0m\u001b[0m\n\u001b[0m\u001b[0;32m     19\u001b[0m         \u001b[0mx\u001b[0m \u001b[1;33m-=\u001b[0m \u001b[0mRealNumber\u001b[0m\u001b[1;33m(\u001b[0m\u001b[1;34m'0.1'\u001b[0m\u001b[1;33m)\u001b[0m\u001b[1;33m\u001b[0m\u001b[0m\n\u001b[0;32m     20\u001b[0m     \u001b[1;32mreturn\u001b[0m \u001b[0mx\u001b[0m\u001b[1;33m\u001b[0m\u001b[0m\n",
      "\u001b[1;32m<ipython-input-1-3067e5cec6fd>\u001b[0m in \u001b[0;36mBriggs\u001b[1;34m(n, x, precis)\u001b[0m\n\u001b[0;32m      4\u001b[0m     \u001b[0mR\u001b[0m \u001b[1;33m=\u001b[0m \u001b[0mRealField\u001b[0m\u001b[1;33m(\u001b[0m\u001b[0mprec\u001b[0m  \u001b[1;33m=\u001b[0m \u001b[0mprecis\u001b[0m\u001b[1;33m)\u001b[0m\u001b[1;33m\u001b[0m\u001b[0m\n\u001b[0;32m      5\u001b[0m     \u001b[0mi\u001b[0m \u001b[1;33m=\u001b[0m \u001b[0mInteger\u001b[0m\u001b[1;33m(\u001b[0m\u001b[1;36m1\u001b[0m\u001b[1;33m)\u001b[0m\u001b[1;33m\u001b[0m\u001b[0m\n\u001b[1;32m----> 6\u001b[1;33m     \u001b[1;32mwhile\u001b[0m \u001b[0mR\u001b[0m\u001b[1;33m(\u001b[0m\u001b[1;33m(\u001b[0m\u001b[0mn\u001b[0m \u001b[1;33m**\u001b[0m \u001b[1;33m(\u001b[0m\u001b[0mInteger\u001b[0m\u001b[1;33m(\u001b[0m\u001b[1;36m1\u001b[0m\u001b[1;33m)\u001b[0m\u001b[1;33m/\u001b[0m\u001b[0mInteger\u001b[0m\u001b[1;33m(\u001b[0m\u001b[1;36m2\u001b[0m\u001b[1;33m)\u001b[0m\u001b[1;33m**\u001b[0m\u001b[0mi\u001b[0m\u001b[1;33m)\u001b[0m\u001b[1;33m)\u001b[0m\u001b[1;33m)\u001b[0m \u001b[1;33m!=\u001b[0m \u001b[0mInteger\u001b[0m\u001b[1;33m(\u001b[0m\u001b[1;36m1\u001b[0m\u001b[1;33m)\u001b[0m\u001b[1;33m:\u001b[0m\u001b[1;33m\u001b[0m\u001b[0m\n\u001b[0m\u001b[0;32m      7\u001b[0m         \u001b[0mi\u001b[0m \u001b[1;33m+=\u001b[0m \u001b[0mInteger\u001b[0m\u001b[1;33m(\u001b[0m\u001b[1;36m1\u001b[0m\u001b[1;33m)\u001b[0m\u001b[1;33m\u001b[0m\u001b[0m\n\u001b[0;32m      8\u001b[0m     \u001b[1;34m'Ya tenemos calculado i (k en la fórmula)'\u001b[0m\u001b[1;33m\u001b[0m\u001b[0m\n",
      "\u001b[1;32msage/rings/integer.pyx\u001b[0m in \u001b[0;36msage.rings.integer.Integer.__pow__ (/usr/lib/sagemath//src/build/cythonized/sage/rings/integer.c:13735)\u001b[1;34m()\u001b[0m\n",
      "\u001b[1;32msage/rings/rational.pyx\u001b[0m in \u001b[0;36msage.rings.rational.Rational.__pow__ (/usr/lib/sagemath//src/build/cythonized/sage/rings/rational.c:21415)\u001b[1;34m()\u001b[0m\n",
      "\u001b[1;32msage/rings/rational.pyx\u001b[0m in \u001b[0;36msage.rings.rational.rational_power_parts (/usr/lib/sagemath//src/build/cythonized/sage/rings/rational.c:4929)\u001b[1;34m()\u001b[0m\n",
      "\u001b[1;32msage/rings/rational.pyx\u001b[0m in \u001b[0;36msage.rings.rational.rational_power_parts (/usr/lib/sagemath//src/build/cythonized/sage/rings/rational.c:5306)\u001b[1;34m()\u001b[0m\n",
      "\u001b[1;32msage/rings/integer.pyx\u001b[0m in \u001b[0;36msage.rings.integer.Integer.factor (/usr/lib/sagemath//src/build/cythonized/sage/rings/integer.c:23393)\u001b[1;34m()\u001b[0m\n",
      "\u001b[1;32m/usr/lib/sagemath/local/lib/python2.7/site-packages/sage/structure/proof/proof.pyc\u001b[0m in \u001b[0;36mget_flag\u001b[1;34m(t, subsystem)\u001b[0m\n\u001b[0;32m    167\u001b[0m \u001b[0m_proof_prefs\u001b[0m \u001b[1;33m=\u001b[0m \u001b[0m_ProofPref\u001b[0m\u001b[1;33m(\u001b[0m\u001b[0mTrue\u001b[0m\u001b[1;33m)\u001b[0m \u001b[1;31m#Creates the global object that stores proof preferences.\u001b[0m\u001b[1;33m\u001b[0m\u001b[0m\n\u001b[0;32m    168\u001b[0m \u001b[1;33m\u001b[0m\u001b[0m\n\u001b[1;32m--> 169\u001b[1;33m \u001b[1;32mdef\u001b[0m \u001b[0mget_flag\u001b[0m\u001b[1;33m(\u001b[0m\u001b[0mt\u001b[0m \u001b[1;33m=\u001b[0m \u001b[0mNone\u001b[0m\u001b[1;33m,\u001b[0m \u001b[0msubsystem\u001b[0m \u001b[1;33m=\u001b[0m \u001b[0mNone\u001b[0m\u001b[1;33m)\u001b[0m\u001b[1;33m:\u001b[0m\u001b[1;33m\u001b[0m\u001b[0m\n\u001b[0m\u001b[0;32m    170\u001b[0m     \"\"\"\n\u001b[0;32m    171\u001b[0m     \u001b[0mUsed\u001b[0m \u001b[1;32mfor\u001b[0m \u001b[0measily\u001b[0m \u001b[0mdetermining\u001b[0m \u001b[0mthe\u001b[0m \u001b[0mcorrect\u001b[0m \u001b[0mproof\u001b[0m \u001b[0mflag\u001b[0m \u001b[0mto\u001b[0m \u001b[0muse\u001b[0m\u001b[1;33m.\u001b[0m\u001b[1;33m\u001b[0m\u001b[0m\n",
      "\u001b[1;32msrc/cysignals/signals.pyx\u001b[0m in \u001b[0;36mcysignals.signals.python_check_interrupt (build/src/cysignals/signals.c:2438)\u001b[1;34m()\u001b[0m\n",
      "\u001b[1;32msrc/cysignals/signals.pyx\u001b[0m in \u001b[0;36mcysignals.signals.sig_raise_exception (build/src/cysignals/signals.c:1125)\u001b[1;34m()\u001b[0m\n",
      "\u001b[1;31mKeyboardInterrupt\u001b[0m: "
     ]
    }
   ],
   "source": [
    "'A)'\n",
    "\n",
    "def Briggs(n, x, precis):\n",
    "    R = RealField(prec  = precis)\n",
    "    i = 1\n",
    "    while R((n ^ (1/2^i))) != 1:\n",
    "        i += 1\n",
    "    'Ya tenemos calculado i (k en la fórmula)'\n",
    "    \n",
    "    return R((2^i)*x)\n",
    "    \n",
    "\n",
    "def buscar(n,k,precis):\n",
    "    R = RealField(prec  = precis)\n",
    "    \n",
    "    x = R(1)\n",
    "    'Imponemos que tenga un número de cifras k correctas en la condición del while'\n",
    "    while floor((10^k)*abs(R(log(n))-Briggs(n,x, precis))) != 0:\n",
    "        x -= 0.1\n",
    "    return x\n",
    "\n",
    "'B)'\n",
    "\n",
    "buscar(3, 2, 5)\n"
   ]
  },
  {
   "cell_type": "markdown",
   "metadata": {},
   "source": [
    "## Ejercicio 3\n",
    "\n",
    "(4 puntos) El método BBP que permite calcular una cifra determinada de $\\pi$, la $n$-ésima, sin calcular las anteriores se puede aplicar a algunas otras constantes. Por ejemplo, para $log(2)$ se puede usar la serie\n",
    "$$log(2)=\\sum_{k=1}^{\\infty}\\frac{1}{2^kk}.$$\n",
    "\n",
    "1) En la primera celda se reproduce el código BPP para $\\pi$, y lo primero que debes hacer es modificarlo para que funcione para $log(2)$ mediante la serie indicada. La última función, la que devuelve cifras binarias de $log(2)$, debe llamarse $cifra\\_log2(n)$. \n",
    "\n",
    "2) Modifica el código del apartado 1) para haga todos los cálculos con una precisión (en bits) arbitraria, es decir, la nueva función debe llamarse $cifra\\_log2(n,precis)$.\n",
    "\n",
    "3) Define una función $compara(C1,C2)$ que, dadas dos cadenas de caracteres,  cuente, hasta la primera discrepancia,  el número de caracteres de $C1$ que ocupan el mismo lugar en $C2$. Es decir, si el primer caracter es diferente debe devolver cero, si el primero es igual pero el segundo es diferente debe devolver uno, etc.\n",
    "\n",
    "4) Jugando con la función  $cifra\\_log2(n,precis)$ se observa que cuanto mayor es la precisión más cifras correctas de $log(2)$, a partir de la $n$-ésima,  devuelve, y que fijada la precisión el número de cifras correctas no depende mucho de $n$ y es del orden de la precisión. \n",
    "La parte final del ejercicio consiste en comprobar sistemáticamente  estas afirmaciones, para lo que debemos comparar  cadenas $C1$ generadas por $cifra\\_log2(n,precis)$ con la parte relevante de  cadenas $C2$  $$(log(2).n(prec=precis)).str(base=2,no\\_sci=2)$$\n",
    "que nos dan las cifras correctas de $log(2).$ El parámetro $no\\_sci=2$ sirve para que no se devuelva el resultado en notación científica estándar (i.e. parte entera de un único dígito, decimales,  y exponente de una potencia de $10$).\n",
    "\n"
   ]
  },
  {
   "cell_type": "code",
   "execution_count": 23,
   "metadata": {
    "collapsed": false
   },
   "outputs": [],
   "source": [
    "def F0(j,n):\n",
    "    S =RR(0.0)\n",
    "    k =0 \n",
    "    while k <= n:\n",
    "        r = 8*k+j\n",
    "        S += RR(power_mod(16,n-k,r)/r)-floor(RR(power_mod(16,n-k,r)/r))\n",
    "        k += 1\n",
    "    return RR(S)\n",
    "\n",
    "def F1(j,n):\n",
    "    S =RR(0.0)\n",
    "    k =n+1\n",
    "    while 1:\n",
    "        r = 8*k+j\n",
    "        nS = S+ RR(16^(n-k)/r)\n",
    "        if S == nS:\n",
    "            break\n",
    "        else:\n",
    "            S = nS\n",
    "        k += 1\n",
    "    return RR(S)\n",
    "\n",
    "def S(j,n):\n",
    "    return RR(F0(j,n)+F1(j,n))\n",
    "\n",
    "def cifra_pi(n):\n",
    "    n -= 1\n",
    "    x = (4*RR(S(1,n))-2*RR(S(4,n))-RR(S(5,n))-RR(S(6,n)))\n",
    "    return (x-floor(x)).str(base=16,no_sci=2)\n",
    "\n"
   ]
  },
  {
   "cell_type": "code",
   "execution_count": 25,
   "metadata": {
    "collapsed": false
   },
   "outputs": [
    {
     "data": {
      "text/plain": [
       "'0.011000101110010000101111111011111010001110011110111011'"
      ]
     },
     "execution_count": 25,
     "metadata": {},
     "output_type": "execute_result"
    }
   ],
   "source": [
    "'1.)'\n",
    "\n",
    "forget()\n",
    "\n",
    "def F01(n):\n",
    "    S =RR(0.0)\n",
    "    k = 1 \n",
    "    while k <= n:\n",
    "        r = k\n",
    "        S += RR(power_mod(2,n-k,r)/r)-floor(RR(power_mod(2,n-k,r)/r))\n",
    "        k += 1\n",
    "    return RR(S)\n",
    "\n",
    "def F11(n):\n",
    "    S =RR(0.0)\n",
    "    k =n+1\n",
    "    while 1:\n",
    "        r = k\n",
    "        nS = S+ RR(2^(n-k)/r)\n",
    "        if S == nS:\n",
    "            break\n",
    "        else:\n",
    "            S = nS\n",
    "        k += 1\n",
    "    return RR(S)\n",
    "\n",
    "def S1(n):\n",
    "    return RR(F01(n)+F11(n))\n",
    "\n",
    "def cifra_log2(n):\n",
    "    n -= 1\n",
    "    x = RR(S1(n))\n",
    "    return (x-floor(x)).str(base=2,no_sci=2)\n",
    "cifra_log2(2)"
   ]
  },
  {
   "cell_type": "code",
   "execution_count": 37,
   "metadata": {
    "collapsed": false
   },
   "outputs": [
    {
     "data": {
      "text/plain": [
       "'0.011000101110010000101111111011111010001110011110111100110101011110010011110001110110011100110000000001111110010111101101010111101000000111100110100001100100110011100101001100010110110001011011000100110'"
      ]
     },
     "execution_count": 37,
     "metadata": {},
     "output_type": "execute_result"
    }
   ],
   "source": [
    "'2.)'\n",
    "\n",
    "forget()\n",
    "\n",
    "def F01(n,precis):\n",
    "    R = RealField(prec=precis)\n",
    "    S =R(0.0)\n",
    "    k = 1 \n",
    "    while k <= n:\n",
    "        r = k\n",
    "        S += R(power_mod(2,n-k,r)/r)-floor(R(power_mod(2,n-k,r)/r))\n",
    "        k += 1\n",
    "    return R(S)\n",
    "\n",
    "def F11(n,precis):\n",
    "    R = RealField(prec=precis)\n",
    "    S =R(0.0)\n",
    "    k =n+1\n",
    "    while 1:\n",
    "        r = k\n",
    "        nS = S+ R(2^(n-k)/r)\n",
    "        if S == nS:\n",
    "            break\n",
    "        else:\n",
    "            S = nS\n",
    "        k += 1\n",
    "    return R(S)\n",
    "\n",
    "def S1(n,precis):\n",
    "    R = RealField(prec=precis)\n",
    "    return R(F01(n,precis)+F11(n,precis))\n",
    "\n",
    "def cifra_log2(n,precis):\n",
    "    n -= 1\n",
    "    R = RealField(prec=precis)\n",
    "    x = R(S1(n, precis))\n",
    "    return (x-floor(x)).str(base=2,no_sci=2)\n",
    "\n",
    "precis = 200\n",
    "cifra_log2(2, precis)"
   ]
  },
  {
   "cell_type": "code",
   "execution_count": 99,
   "metadata": {
    "collapsed": false
   },
   "outputs": [
    {
     "data": {
      "text/plain": [
       "4"
      ]
     },
     "execution_count": 99,
     "metadata": {},
     "output_type": "execute_result"
    }
   ],
   "source": [
    "'3.)'\n",
    "\n",
    "def compara(C1, C2):\n",
    "    len1 = len(C1)\n",
    "    len2 = len(C2)\n",
    "    i = 0\n",
    "    while (C1[i] == C2[i]):\n",
    "        i+=1\n",
    "        'Comprobamos si nos hemos pasado de longitud en alguna de las cadenas'\n",
    "        if i > (len1-1) or i > (len2-1):\n",
    "            break\n",
    "    return i\n",
    "\n",
    "'Comprobamos que funciona'\n",
    "x = compara(\"comi\", \"comilona\")\n",
    "x"
   ]
  },
  {
   "cell_type": "code",
   "execution_count": 112,
   "metadata": {
    "collapsed": false
   },
   "outputs": [
    {
     "data": {
      "image/png": "[encoded data removed]",
      "text/plain": [
       "Graphics object consisting of 2 graphics primitives"
      ]
     },
     "execution_count": 112,
     "metadata": {},
     "output_type": "execute_result"
    }
   ],
   "source": [
    "'4.)'\n",
    "\n",
    "precisMax = 100\n",
    "'Probamos con dos n diferentes'\n",
    "n = 5\n",
    "n1= 10\n",
    "\n",
    "L = []\n",
    "L1 = []\n",
    "\n",
    "for i in xsrange(2, precisMax+1):\n",
    "    C1 = cifra_log2(n,i)\n",
    "    C2 = (log(2).n(prec = i)).str(base = 2, no_sci = 2)\n",
    "    'Cortamos la cadena de log(2) en la cifra que nos interesa y añadimos 0. al principio'\n",
    "    C3 = '0.' + C2[n+1:]\n",
    "    res = compara(C1,C3)\n",
    "    L.append((i,res))\n",
    "    \n",
    "    C1 = cifra_log2(n1,i)\n",
    "    C2 = (log(2).n(prec = i)).str(base = 2, no_sci = 2)\n",
    "    'Cortamos la cadena de log(2) en la cifra que nos interesa y añadimos 0. al principio'\n",
    "    C3 = '0.' + C2[n1+1:]\n",
    "    res = compara(C1,C3)\n",
    "    L1.append((i,res))\n",
    "    \n",
    "line(L)+line(L1)\n",
    "\n"
   ]
  },
  {
   "cell_type": "code",
   "execution_count": 113,
   "metadata": {
    "collapsed": false
   },
   "outputs": [
    {
     "data": {
      "text/plain": [
       "[a == 0.9983055040197861, b == -3.004489795927107]"
      ]
     },
     "execution_count": 113,
     "metadata": {},
     "output_type": "execute_result"
    }
   ],
   "source": [
    "var('a b')\n",
    "model(x) = a*x + b\n",
    "\n",
    "find_fit(L, model)"
   ]
  },
  {
   "cell_type": "markdown",
   "metadata": {},
   "source": [
    "En la gráfica superior podemos comprobar cómo al aumentar la precisión, aumenta el número de cifras correctas, también vemos que n no afecta mucho una vez fijada dicha precisión, las dos gráficas están bastante próximas y tienen la misma tendencia. Podemos apreciar, que el número de cifras correctas es aproximadamente el número de precisión que hayamos incluido, ya que la pendiente de la recta es aproximadamente 1, ('a') en nuestro model (del cual hacemos fit)."
   ]
  },
  {
   "cell_type": "code",
   "execution_count": null,
   "metadata": {
    "collapsed": true
   },
   "outputs": [],
   "source": []
  }
 ],
 "metadata": {
  "kernelspec": {
   "display_name": "SageMath 7.3",
   "language": "",
   "name": "sagemath"
  },
  "language_info": {
   "codemirror_mode": {
    "name": "ipython",
    "version": 2
   },
   "file_extension": ".py",
   "mimetype": "text/x-python",
   "name": "python",
   "nbconvert_exporter": "python",
   "pygments_lexer": "ipython2",
   "version": "2.7.10"
  }
 },
 "nbformat": 4,
 "nbformat_minor": 0
}
