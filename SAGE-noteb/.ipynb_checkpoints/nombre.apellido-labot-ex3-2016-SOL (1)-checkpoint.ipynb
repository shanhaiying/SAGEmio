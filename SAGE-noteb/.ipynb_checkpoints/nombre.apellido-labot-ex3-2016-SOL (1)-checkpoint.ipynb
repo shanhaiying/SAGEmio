{
 "cells": [
  {
   "cell_type": "markdown",
   "metadata": {},
   "source": [
    "<p><span style=\"color: #ff0000;\">Por favor, antes de empezar el examen cambia el nombre de la hoja (File&gt;Rename worksheet) poniendo en lugar de \"nombre.apellido\" los tuyos tal como aparecen en tu direcci&oacute;n de correo electr&oacute;nico de la UAM. El final del nombre de la hoja, -labot-ex3-2016, dej&aacute;lo como est&aacute;.<br /></span></p>\n",
    "<p><span style=\"color: #ff0000;\">Una vez hayas terminado el examen, salva la hoja (File&gt;Save worksheet to a file....) y d&eacute;jala en la carpeta en tu escritorio que tiene&nbsp; nombre \"ENTREGA......\".</span></p>\n",
    "\n",
    "<h4><span style=\"color: #ff0000;\"><span style=\"color: #000000;\">Ejercicio 1</span><br /></span></h4>\n",
    "<p>(4 puntos) En la pesta&ntilde;a \"Data...\" se encuentra el el mismo archivo PALABRAS2 que se us&oacute; en la hoja 84-CRIPT-matricial-fuerzabruta para romper un sistema criptogr&aacute;fico mediante fuerza bruta.&nbsp; El archivo contiene una lista de palabras, una en cada l&iacute;nea, en ingl&eacute;s. Para hacer este ejercicio debes <span style=\"color: #ff0000;\">definir y ejecutar funciones</span> para responder a la siguiente pregunta:<span style=\"color: #ff0000;\"> &iquest;Cu&aacute;ntas tripletas de letras tienen la propiedad de aparecer al principio (es decir,&nbsp; como tripleta inicial) de todas las palabras de la lista PALABRAS2&nbsp; en que aparecen como tripleta de letras consecutivas en cualquier posici&oacute;n?<span id=\"cell_outer_7\"><span style=\"color: #ff0000;\"> No consideramos palabras en la lista de longitud cuatro o menor.&nbsp;</span></span></span></p>\n",
    "<p>Por ejemplo, en la lista aparece la palabra GEOMETRY y la tripleta MET no es una de las que podemos contar, es decir no contribuye a nuestro contador,&nbsp; porque aparece al menos una vez en una situaci&oacute;n que no es inicio de palabra.&nbsp;</p>\n",
    "<p>Para poder <span style=\"color: #ff0000;\">comprobar que el programa funciona bien</span>, modificarlo para que cada vez que se incremente el contador se a&ntilde;ada la clave a una lista, y luego <span style=\"color: #ff0000;\">efectuar varias comprobaciones convincentes (&iquest;A qu&eacute;n hay que convencer? &iquest;A qu&eacute;n va a ser? Pues a m&iacute;)</span>.</p>"
   ]
  },
  {
   "cell_type": "code",
   "execution_count": 2,
   "metadata": {
    "collapsed": false
   },
   "outputs": [],
   "source": [
    "def tripletas(palabra):\n",
    "    L = []\n",
    "    n = len(palabra)\n",
    "    if n<=3:\n",
    "        return [palabra]\n",
    "    else:\n",
    "        for int in srange(n-2):\n",
    "            L.append(palabra[int:int+3])\n",
    "    return L"
   ]
  },
  {
   "cell_type": "code",
   "execution_count": 3,
   "metadata": {
    "collapsed": false
   },
   "outputs": [
    {
     "data": {
      "text/plain": [
       "['pal', 'ala', 'lab', 'abr', 'bra']"
      ]
     },
     "execution_count": 3,
     "metadata": {},
     "output_type": "execute_result"
    }
   ],
   "source": [
    "tripletas('palabra')"
   ]
  },
  {
   "cell_type": "code",
   "execution_count": 4,
   "metadata": {
    "collapsed": false
   },
   "outputs": [],
   "source": [
    "def diccionario():\n",
    "    dicc = {}\n",
    "    infile = open(DATA+\"PALABRAS2\",\"r\")\n",
    "    for palabra in infile.readlines():\n",
    "        L = tripletas(palabra[:-1])\n",
    "        if len(palabra[:-1])<=4:\n",
    "            '''Despreciamos palabras de 3 caracteres.'''\n",
    "            continue\n",
    "        else:\n",
    "           for tripleta in L:\n",
    "               if  dicc.has_key(tripleta):\n",
    "                       dicc[tripleta].append(palabra[:-1])\n",
    "               else:\n",
    "                       dicc[tripleta]=[palabra[:-1]]\n",
    "    infile.close()\n",
    "    return dicc"
   ]
  },
  {
   "cell_type": "code",
   "execution_count": 5,
   "metadata": {
    "collapsed": false
   },
   "outputs": [],
   "source": [
    "dicc = diccionario()"
   ]
  },
  {
   "cell_type": "code",
   "execution_count": 6,
   "metadata": {
    "collapsed": false
   },
   "outputs": [
    {
     "data": {
      "text/plain": [
       "['ADVANTAGEOUS', 'ADVANTAGEOUSLY', 'ADVANTAGEOUSNESS', 'APOGEOTROPISM', 'ASTROGEOLOGY',\n",
       "'BIOGEOCHEMICAL', 'BIOGEOCHEMISTRY', 'BIOGEOGRAPHIC', 'BIOGEOGRAPHICAL', 'BIOGEOGRAPHY',\n",
       "'BLUDGEON', 'BLUDGEONED', 'BLUDGEONING', 'BLUDGEONS', 'BOURGEOIS', 'BOURGEOISE',\n",
       "'BOURGEOISIE', 'BOURGEOISIFY', 'BOURGEON', 'BURGEON', 'BURGEONED', 'BURGEONING',\n",
       "'BURGEONS', 'CHANGEOVER', \"CHANGEOVER'S\", 'CHANGEOVERS', 'CHIRURGEON', 'COURAGEOUS',\n",
       "'COURAGEOUSLY', 'COURAGEOUSNESS', 'CURMUDGEON', 'CURMUDGEONLY', 'DIAGEOTROPISM',\n",
       "'DISADVANTAGEOUS', 'DISADVANTAGEOUSLY', 'DISADVANTAGEOUSNESS', 'DUDGEON', 'DUNGEON',\n",
       "\"DUNGEON'S\", 'DUNGEONS', 'EPIGEOUS', 'FLAGEOLET', 'GEOCENTRIC', 'GEOCENTRICALLY',\n",
       "'GEOCENTRICISM', 'GEOCHEMICAL', 'GEOCHEMICALLY', 'GEOCHEMIST', 'GEOCHEMISTRY',\n",
       "'GEOCHRONOLOGIC', 'GEOCHRONOLOGICAL', 'GEOCHRONOLOGICALLY', 'GEOCHRONOLOGIST',\n",
       "'GEOCHRONOLOGY', 'GEOCHRONOMETRIC', 'GEOCHRONOMETRY', 'GEODE', \"GEODE'S\", 'GEODES',\n",
       "'GEODESIC', 'GEODESICS', 'GEODESIST', 'GEODESY', 'GEODETIC', 'GEODETICAL', 'GEODETICALLY',\n",
       "'GEODUCK', 'GEODYNAMICS', 'GEOFF', \"GEOFF'S\", 'GEOFFREY', \"GEOFFREY'S\", 'GEOGNOSY',\n",
       "'GEOGRAPHER', \"GEOGRAPHER'S\", 'GEOGRAPHERS', 'GEOGRAPHIC', 'GEOGRAPHICAL',\n",
       "'GEOGRAPHICALLY', 'GEOGRAPHIES', 'GEOGRAPHY', 'GEOHYDROLOGIC', 'GEOHYDROLOGY', 'GEOID',\n",
       "'GEOLOGIC', 'GEOLOGICAL', 'GEOLOGIST', \"GEOLOGIST'S\", 'GEOLOGISTS', 'GEOLOGY',\n",
       "'GEOMAGNETIC', 'GEOMAGNETICALLY', 'GEOMAGNETISM', 'GEOMANCY', 'GEOMANTIC', 'GEOMECHANICS',\n",
       "'GEOMETER', \"GEOMETER'S\", 'GEOMETERS', 'GEOMETRIC', 'GEOMETRICAL', 'GEOMETRICALLY',\n",
       "'GEOMETRICIAN', 'GEOMETRID', 'GEOMETRIES', 'GEOMETRY', 'GEOMORPHIC', 'GEOMORPHOLOGICAL',\n",
       "'GEOMORPHOLOGY', 'GEOPHAGY', 'GEOPHYSICAL', 'GEOPHYSICALLY', 'GEOPHYSICIST',\n",
       "'GEOPHYSICISTS', 'GEOPHYSICS', 'GEOPHYTE', 'GEOPOLITIC', 'GEOPOLITICAL', 'GEOPOLITICALLY',\n",
       "'GEOPOLITICIAN', 'GEOPOLITICS', 'GEOPONIC', 'GEOPONICS', 'GEORDIE', 'GEORGE', \"GEORGE'S\",\n",
       "'GEORGES', 'GEORGETOWN', 'GEORGETTE', 'GEORGIA', 'GEORGIAN', 'GEORGIANS', 'GEORGIC',\n",
       "'GEOSCIENCE', 'GEOSPHERE', 'GEOSTATIC', 'GEOSTATICS', 'GEOSTRATEGIC', 'GEOSTRATEGIST',\n",
       "'GEOSTRATEGY', 'GEOSTROPHIC', 'GEOSTROPHICALLY', 'GEOSYNCHRONOUS', 'GEOSYNCLINE',\n",
       "'GEOTAXIS', 'GEOTECTONIC', 'GEOTHERMAL', 'GEOTHERMALLY', 'GEOTHERMIC', 'GEOTROPIC',\n",
       "'GEOTROPICALLY', 'GEOTROPISM', 'GORGEOUS', 'GORGEOUSLY', 'GORGEOUSNESS', 'GUDGEON',\n",
       "'HAUBERGEON', 'HUGEOUS', 'HUGEOUSLY', 'HYPOGEOUS', 'ISOGEOTHERM', 'MELUNGEON',\n",
       "'NEUROSURGEON', 'OGEOGRAPHICALLY', 'OUTRAGEOUS', 'OUTRAGEOUSLY', 'OUTRAGEOUSNESS',\n",
       "'PALEOGEOGRAPHIC', 'PALEOGEOGRAPHICAL', 'PALEOGEOGRAPHICALLY', 'PALEOGEOGRAPHY',\n",
       "'PEUGEOT', 'PHOTOGEOLOGIC', 'PHOTOGEOLOGICAL', 'PHOTOGEOLOGY', 'PHYTOGEOGRAPHIC',\n",
       "'PHYTOGEOGRAPHICAL', 'PHYTOGEOGRAPHICALLY', 'PHYTOGEOGRAPHY', 'PIGEON', \"PIGEON'S\",\n",
       "'PIGEONBERRY', 'PIGEONFOOT', 'PIGEONHEARTED', 'PIGEONHOLE', 'PIGEONHOLED', 'PIGEONHOLES',\n",
       "'PIGEONHOLING', 'PIGEONS', 'PIGEONWING', 'PROTOGEOMETRIC', 'RAMPAGEOUS', 'RAMPAGEOUSLY',\n",
       "'RAMPAGEOUSNESS', 'SMIDGEON', 'STURGEON', 'SURGEON', \"SURGEON'S\", 'SURGEONCY',\n",
       "'SURGEONFISH', 'SURGEONS', 'UMBRAGEOUS', 'UMBRAGEOUSLY', 'UMBRAGEOUSNESS', 'UNCOURAGEOUS',\n",
       "'WIDGEON', 'WIDGEONS', 'WIGEON', 'WIGEONS', 'ZOOGEOGRAPHER', 'ZOOGEOGRAPHIC',\n",
       "'ZOOGEOGRAPHY']"
      ]
     },
     "execution_count": 6,
     "metadata": {},
     "output_type": "execute_result"
    }
   ],
   "source": [
    "print dicc['GEO']"
   ]
  },
  {
   "cell_type": "code",
   "execution_count": 7,
   "metadata": {
    "collapsed": false
   },
   "outputs": [
    {
     "data": {
      "text/plain": [
       "0\n",
       "1\n",
       "2\n",
       "3\n",
       "4"
      ]
     },
     "execution_count": 7,
     "metadata": {},
     "output_type": "execute_result"
    }
   ],
   "source": [
    "'palabra'.index('pal');'palabra'.index('ala');'palabra'.index('lab');'palabra'.index('abr');'palabra'.index('bra');"
   ]
  },
  {
   "cell_type": "code",
   "execution_count": 8,
   "metadata": {
    "collapsed": false
   },
   "outputs": [],
   "source": [
    "def cribar(dicc):\n",
    "    L = []\n",
    "    cont = 0\n",
    "    for key in dicc:\n",
    "        n = len(dicc[key])\n",
    "        c = 0\n",
    "        for palabra in dicc[key]:\n",
    "            if palabra.index(key) == 0:\n",
    "                c +=1 \n",
    "        if n == c:    \n",
    "            cont += 1\n",
    "            L.append(key)  \n",
    "    return cont,L"
   ]
  },
  {
   "cell_type": "code",
   "execution_count": 9,
   "metadata": {
    "collapsed": false
   },
   "outputs": [],
   "source": [
    "C = cribar(dicc)"
   ]
  },
  {
   "cell_type": "code",
   "execution_count": 10,
   "metadata": {
    "collapsed": false
   },
   "outputs": [
    {
     "data": {
      "text/plain": [
       "293"
      ]
     },
     "execution_count": 10,
     "metadata": {},
     "output_type": "execute_result"
    }
   ],
   "source": [
    "C[0]"
   ]
  },
  {
   "cell_type": "code",
   "execution_count": 11,
   "metadata": {
    "collapsed": false
   },
   "outputs": [
    {
     "data": {
      "text/plain": [
       "[1, 2, 25, 2, 1, 2, 1, 1, 5, 1, 1, 1, 1, 1, 1, 1, 1, 1, 2, 1, 1, 4, 3, 3, 9, 10, 1, 2, 8,\n",
       "1, 1, 7, 3, 4, 2, 5, 1, 3, 1, 1, 1, 2, 2, 1, 2, 1, 3, 2, 5, 2, 1, 1, 8, 1, 5, 6, 2, 4, 4,\n",
       "6, 1, 2, 4, 14, 14, 1, 1, 26, 10, 9, 18, 4, 13, 38, 2, 1, 1, 14, 1, 4, 2, 1, 5, 1, 2, 1,\n",
       "2, 1, 1, 1, 1, 1, 3, 1, 1, 2, 1, 5, 1, 5, 2, 1, 1, 1, 4, 1, 6, 1, 1, 1, 10, 3, 2, 4, 5, 3,\n",
       "1, 2, 3, 1, 2, 5, 1, 3, 2, 1, 1, 1, 1, 1, 2, 1, 1, 6, 1, 3, 6, 1, 3, 3, 4, 2, 1, 13, 8, 1,\n",
       "1, 1, 1, 3, 4, 1, 1, 8, 2, 2, 3, 3, 1, 1, 1, 1, 2, 3, 3, 1, 2, 2, 5, 10, 2, 1, 4, 5, 5, 5,\n",
       "5, 1, 10, 1, 2, 4, 2, 6, 1, 3, 1, 6, 2, 1, 10, 4, 7, 4, 1, 1, 1, 2, 1, 2, 5, 2, 1, 9, 2,\n",
       "1, 3, 13, 22, 10, 6, 2, 1, 2, 1, 1, 22, 2, 1, 1, 1, 1, 1, 1, 1, 2, 1, 4, 2, 3, 1, 1, 2, 5,\n",
       "3, 15, 11, 1, 1, 2, 1, 1, 3, 1, 2, 1, 2, 1, 1, 1, 2, 1, 2, 7, 2, 7, 1, 4, 1, 1, 1, 1, 1,\n",
       "1, 1, 2, 7, 4, 12, 1, 1, 1, 6, 2, 1, 1, 1, 1, 1, 1, 1, 1, 4, 3, 1, 1, 1, 1, 13, 1, 1, 1,\n",
       "1]"
      ]
     },
     "execution_count": 11,
     "metadata": {},
     "output_type": "execute_result"
    }
   ],
   "source": [
    "L = [len(dicc[C[1][n]]) for n in srange(293)]; print L"
   ]
  },
  {
   "cell_type": "code",
   "execution_count": 12,
   "metadata": {
    "collapsed": false
   },
   "outputs": [
    {
     "data": {
      "text/plain": [
       "2\n",
       "73\n",
       "67"
      ]
     },
     "execution_count": 12,
     "metadata": {},
     "output_type": "execute_result"
    }
   ],
   "source": [
    "L.index(25);L.index(38);L.index(26);\n",
    "print(C[1])"
   ]
  },
  {
   "cell_type": "code",
   "execution_count": 13,
   "metadata": {
    "collapsed": false
   },
   "outputs": [
    {
     "data": {
      "text/plain": [
       "['BEWAIL', 'BEWAILED', 'BEWAILING', 'BEWAILS', 'BEWARE', 'BEWHISKER', 'BEWHISKERED',\n",
       "'BEWICK', 'BEWIGGED', 'BEWILDER', 'BEWILDERED', 'BEWILDEREDLY', 'BEWILDEREDNESS',\n",
       "'BEWILDERING', 'BEWILDERINGLY', 'BEWILDERMENT', 'BEWILDERS', 'BEWITCH', 'BEWITCHED',\n",
       "'BEWITCHERY', 'BEWITCHES', 'BEWITCHING', 'BEWITCHINGLY', 'BEWITCHMENT', 'BEWRAY']"
      ]
     },
     "execution_count": 13,
     "metadata": {},
     "output_type": "execute_result"
    }
   ],
   "source": [
    "print dicc[C[1][2]]"
   ]
  },
  {
   "cell_type": "code",
   "execution_count": 14,
   "metadata": {
    "collapsed": false
   },
   "outputs": [
    {
     "data": {
      "text/plain": [
       "['MCCABE', \"MCCABE'S\", 'MCCALL', \"MCCALL'S\", 'MCCALLUM', \"MCCALLUM'S\", 'MCCANN',\n",
       "\"MCCANN'S\", 'MCCARTHY', \"MCCARTHY'S\", 'MCCARTHYISM', 'MCCARTNEY', 'MCCARTY', \"MCCARTY'S\",\n",
       "'MCCAULEY', \"MCCAULEY'S\", 'MCCLAIN', \"MCCLAIN'S\", 'MCCLELLAN', \"MCCLELLAN'S\", 'MCCLURE',\n",
       "\"MCCLURE'S\", 'MCCLUSKEY', \"MCCLUSKEY'S\", 'MCCONNEL', \"MCCONNEL'S\", 'MCCONNELL',\n",
       "\"MCCONNELL'S\", 'MCCORMACK', 'MCCORMICK', \"MCCORMICK'S\", 'MCCOY', \"MCCOY'S\", 'MCCRACKEN',\n",
       "\"MCCRACKEN'S\", 'MCCULLERS', 'MCCULLOUGH', \"MCCULLOUGH'S\"]"
      ]
     },
     "execution_count": 14,
     "metadata": {},
     "output_type": "execute_result"
    }
   ],
   "source": [
    "print dicc[C[1][73]]"
   ]
  },
  {
   "cell_type": "code",
   "execution_count": 15,
   "metadata": {
    "collapsed": false
   },
   "outputs": [
    {
     "data": {
      "text/plain": [
       "['BIPACK', 'BIPARENTAL', 'BIPARENTALLY', 'BIPARIETAL', 'BIPAROUS', 'BIPARTISAN',\n",
       "'BIPARTISANISM', 'BIPARTISANSHIP', 'BIPARTITE', 'BIPARTITELY', 'BIPARTITION', 'BIPED',\n",
       "'BIPEDAL', 'BIPEDS', 'BIPETALOUS', 'BIPHENYL', 'BIPINNATE', 'BIPINNATELY', 'BIPLANE',\n",
       "\"BIPLANE'S\", 'BIPLANES', 'BIPOD', 'BIPOLAR', 'BIPOLARITY', 'BIPROPELLANT', 'BIPYRAMIDAL']"
      ]
     },
     "execution_count": 15,
     "metadata": {},
     "output_type": "execute_result"
    }
   ],
   "source": [
    "print dicc[C[1][67]]"
   ]
  },
  {
   "cell_type": "markdown",
   "metadata": {},
   "source": [
    "<h4>Ejercicio 2</h4>\n",
    "\n",
    "<p>En este ejercicio hay que programar funciones para <span style=\"color: #ff0000;\">encriptar y desencriptar</span> <span style=\"color: #ff0000;\">(no se excluye</span> que la funci&oacute;n que sirve para encriptar tambi&eacute;n sirva para desencriptar) un texto usando el siguiente sistema cl&aacute;sico:&nbsp; La clave es un entero $d$ y una permutaci&oacute;n $\\pi$ del conjunto $X_d:=\\{1,2,\\dots,d\\}$ (i.e. una funci&oacute;n biyectiva de $X_d$ en $X_d$).&nbsp; Encriptamos dividiendo el texto en bloques de longitud $d$ y encriptando cada bloque colocando la letra que ocupa la posici&oacute;n $i$ en el lugar $\\pi(i)$. <span style=\"color: #ff0000;\">Debes comprobar</span> que funciona utilizando el texto suministrado. </p>\n",
    "<p>En este sistema las frecuencias de las letras en el texto original y en el encriptado son iguales, de forma que no se puede atacar en la misma forma que la cifra de C&eacute;sar o la cifra de permutaci&oacute;n. &iquest;<span style=\"color: #ff0000;\">Qu&eacute; opinas</span> de la seguridad de este m&eacute;todo?</p>"
   ]
  },
  {
   "cell_type": "code",
   "execution_count": 16,
   "metadata": {
    "collapsed": false
   },
   "outputs": [],
   "source": [
    "texto = 'THROUGHTHEUSEOFABSTRACTIONANDLOGICALREASONINGMATHEMATICSDEVELOPEDFROMCO\\\n",
    "UNTINGCALCULATIONMEASUREMENTANDTHESYSTEMATICSTUDYOFTHESHAPESANDMOTIONSOF\\\n",
    "PHYSICALOBJECTSPRACTICALMATHEMATICSHASBEENAHUMANACTIVITYFORASFARBACKASWR\\\n",
    "ITTENRECORDSEXISTRIGOROUSARGUMENTSFIRSTAPPEAREDINGREEKMATHEMATICSMOSTNOT\\\n",
    "ABLYINEUCLIDSELEMENTSMATHEMATICSDEVELOPEDATARELATIVELYSLOWPACEUNTILTHERE\\\n",
    "NAISSANCEWHENMATHEMATICALINNOVATIONSINTERACTINGWITHNEWSCIENTIFICDISCOVER\\\n",
    "IESLEDTOARAPIDINCREASEINTHERATEOFMATHEMATICALDISCOVERYTHATCONTINUESTOTHE\\\n",
    "PRESENTDAY'"
   ]
  },
  {
   "cell_type": "code",
   "execution_count": 17,
   "metadata": {
    "collapsed": false
   },
   "outputs": [
    {
     "data": {
      "text/plain": [
       "THROUGHTHEUSEOFABSTRACTIONANDLOGICALREASONINGMATHEMATICSDEVELOPEDFROMCOUNTINGCALCULATIONME\n",
       "ASUREMENTANDTHESYSTEMATICSTUDYOFTHESHAPESANDMOTIONSOFPHYSICALOBJECTSPRACTICALMATHEMATICSHA\n",
       "SBEENAHUMANACTIVITYFORASFARBACKASWRITTENRECORDSEXISTRIGOROUSARGUMENTSFIRSTAPPEAREDINGREEKM\n",
       "ATHEMATICSMOSTNOTABLYINEUCLIDSELEMENTSMATHEMATICSDEVELOPEDATARELATIVELYSLOWPACEUNTILTHEREN\n",
       "AISSANCEWHENMATHEMATICALINNOVATIONSINTERACTINGWITHNEWSCIENTIFICDISCOVERIESLEDTOARAPIDINCRE\n",
       "ASEINTHERATEOFMATHEMATICALDISCOVERYTHATCONTINUESTOTHEPRESENTDAY"
      ]
     },
     "execution_count": 17,
     "metadata": {},
     "output_type": "execute_result"
    }
   ],
   "source": [
    "print texto"
   ]
  },
  {
   "cell_type": "code",
   "execution_count": 18,
   "metadata": {
    "collapsed": false
   },
   "outputs": [
    {
     "data": {
      "text/plain": [
       "26"
      ]
     },
     "execution_count": 18,
     "metadata": {},
     "output_type": "execute_result"
    }
   ],
   "source": [
    "alf = 'ABCDEFGHIJKLMNOPQRSTUVWXYZ' ;len(alf)"
   ]
  },
  {
   "cell_type": "code",
   "execution_count": 19,
   "metadata": {
    "collapsed": false
   },
   "outputs": [],
   "source": [
    "def completar(texto,alf,d):\n",
    "    n = len(texto)\n",
    "    k = n%d\n",
    "    for int in srange(d-k):\n",
    "        texto += alf[randint(0,25)]\n",
    "    return texto"
   ]
  },
  {
   "cell_type": "code",
   "execution_count": 20,
   "metadata": {
    "collapsed": false
   },
   "outputs": [
    {
     "data": {
      "text/plain": [
       "THROUGHTHEUSEOFABSTRACTIONANDLOGICALREASONINGMATHEMATICSDEVELOPEDFROMCOUNTINGCALCULATIONME\n",
       "ASUREMENTANDTHESYSTEMATICSTUDYOFTHESHAPESANDMOTIONSOFPHYSICALOBJECTSPRACTICALMATHEMATICSHA\n",
       "SBEENAHUMANACTIVITYFORASFARBACKASWRITTENRECORDSEXISTRIGOROUSARGUMENTSFIRSTAPPEAREDINGREEKM\n",
       "ATHEMATICSMOSTNOTABLYINEUCLIDSELEMENTSMATHEMATICSDEVELOPEDATARELATIVELYSLOWPACEUNTILTHEREN\n",
       "AISSANCEWHENMATHEMATICALINNOVATIONSINTERACTINGWITHNEWSCIENTIFICDISCOVERIESLEDTOARAPIDINCRE\n",
       "ASEINTHERATEOFMATHEMATICALDISCOVERYTHATCONTINUESTOTHEPRESENTDAYBZBZB\n",
       "0"
      ]
     },
     "execution_count": 20,
     "metadata": {},
     "output_type": "execute_result"
    }
   ],
   "source": [
    "texto2 = completar(texto,alf,7); print texto2;len(texto2)%7"
   ]
  },
  {
   "cell_type": "code",
   "execution_count": 21,
   "metadata": {
    "collapsed": false
   },
   "outputs": [],
   "source": [
    "def encriptar(texto,pi,d):\n",
    "    if len(pi) != d:\n",
    "        return \"ERROR: la permutacion no tiene la longitud adecuada\"\n",
    "    if len(texto) == d:\n",
    "        C = ''\n",
    "        for i in srange(d):\n",
    "            C += texto[pi[i]-1]\n",
    "        return C\n",
    "    return encriptar(texto[:d],pi,d)+encriptar(texto[d:],pi,d)"
   ]
  },
  {
   "cell_type": "code",
   "execution_count": 22,
   "metadata": {
    "collapsed": false
   },
   "outputs": [
    {
     "data": {
      "text/plain": [
       "'HHUTORGHOSTUEEAATFSBRTNNCOIALAIDGOCRNSLAEONHAIMGTMSIETACEPLDEVODCOERFMUGIOTNNAAUCCLLIAMTN\n",
       "OEUNMSEREAETTDNHYAESTSMIDTTSCUOSHYTFEANSHEPAMNIDTOOOSHSPFYCJOILABCAPESTRTMACCILTTMAEHACBAI\n",
       "HSSEMHEANUNVTACAITAOIFYRFCBSRAAATRKWSIEOETRNCDSXRESIROOTGIRSMGURAUNRFESTITAPSPAEERNRIDGEHA\n",
       "EMKTMSIETACOTNMTSOBEIAYLNCEDUILSESNLEMTAAEMHTMIVDTSCELAEEPODATLTERAVLYILESWUCOAPETETNLIHES\n",
       "IRANSNEWAECHMMHNTAETIAACILNIANVOTNENOISTAGIRTCNIWNWHTECINSEITICIFDCSVSIOREEEROLTDAPCIADINE\n",
       "NERSAIHEATRETFETOAMHALCMITAIEODCSVYCARHTTNENOITUTPHSTOEEDNRESTYBBAZBZ'"
      ]
     },
     "execution_count": 22,
     "metadata": {},
     "output_type": "execute_result"
    }
   ],
   "source": [
    "encriptar(texto2,[2,7,5,1,4,3,6],7)"
   ]
  },
  {
   "cell_type": "code",
   "execution_count": 23,
   "metadata": {
    "collapsed": false
   },
   "outputs": [
    {
     "data": {
      "text/plain": [
       "'THROUGHTHEUSEOFABSTRACTIONANDLOGICALREASONINGMATHEMATICSDEVELOPEDFROMCOUNTINGCALCULATIONM\n",
       "EASUREMENTANDTHESYSTEMATICSTUDYOFTHESHAPESANDMOTIONSOFPHYSICALOBJECTSPRACTICALMATHEMATICSH\n",
       "ASBEENAHUMANACTIVITYFORASFARBACKASWRITTENRECORDSEXISTRIGOROUSARGUMENTSFIRSTAPPEAREDINGREEK\n",
       "MATHEMATICSMOSTNOTABLYINEUCLIDSELEMENTSMATHEMATICSDEVELOPEDATARELATIVELYSLOWPACEUNTILTHERE\n",
       "NAISSANCEWHENMATHEMATICALINNOVATIONSINTERACTINGWITHNEWSCIENTIFICDISCOVERIESLEDTOARAPIDINCR\n",
       "EASEINTHERATEOFMATHEMATICALDISCOVERYTHATCONTINUESTOTHEPRESENTDAYBZBZB'"
      ]
     },
     "execution_count": 23,
     "metadata": {},
     "output_type": "execute_result"
    }
   ],
   "source": [
    "encriptar(encriptar(texto2,[2,7,5,1,4,3,6],7),[4,1,6,5,3,7,2],7)"
   ]
  },
  {
   "cell_type": "markdown",
   "metadata": {},
   "source": [
    "<p>Para desencriptar hay que usar la permutaci&oacute;n inversa, es decir, la inversa de la funci&oacute;n biyectiva $\\pi.$ &iquest;Es seguro este m&eacute;todo? Es claro que cuanto mayor es $d$, y si elegimos la permutaci&oacute;n aleatoriamente, m&aacute;s grande es el espacio de claves y m&aacute;s seguro es el m&eacute;todo.</p>\n",
    "<h4>Ejercicio 3</h4>\n",
    "<p>(3 puntos) En este otro ejercicio hay que encriptar, y desencriptar,&nbsp; un texto corto usando una variante de RSA que se explica a continuaci&oacute;n.&nbsp;</p>\n",
    "<ol>\n",
    "<li>En primer lugar <span style=\"color: #ff0000;\">necesitamos una funci&oacute;n, $raiz(c,p)$,</span> que reciba como argumentos un primo $p$ y un entero $0&lt; c&lt;p$ y devuelva una lista con las dos ra&iacute;ces cuadradas de $c$ en $\\mathbb{Z}_p$ si existen o bien una lista vac&iacute;a. Como sabemos, las dos ra&iacute;ces son opuestas una de la otra, es decir, se pueden representar mediante dos enteros positivos que suman $p$.&nbsp; <span style=\"color: #ff0000;\">Programa</span> una tal funci&oacute;n mediante un <span style=\"color: #ff0000;\">m&eacute;todo de fuerza bruta</span>.</li>\n",
    "<li><span style=\"color: #ff0000;\">Necesitamos una segunda funci&oacute;n, $chinodelresto(a,b,p,q)$,&nbsp;</span> que reciba como argumentos dos enteros positivos $a$ y $b$ y dos primos $p$ y $q$, y devuelva un entero $n$ tal que su resto m&oacute;dulo $p$ es igual al de $a$ y su resto m&oacute;dulo $q$ es igual al de $b$ .&nbsp; <span style=\"color: #ff0000;\">Programa</span> una tal funci&oacute;n mediante un <span style=\"color: #ff0000;\">m&eacute;todo de fuerza bruta</span>.</li>\n",
    "<li>Las funciones anteriores se usar&iacute;an para desencriptar, pero para valores grandes de $p$ y $q$ no servir&iacute;an. Sage dispone de funciones eficientes para hacer esto: para calcular las ra&iacute;ces cuadradas de $c$&nbsp; en $\\mathbb{Z}_p$ <span style=\"color: #ff0000;\">usamos la combinaci&oacute;n $R = Integers(p);Lp = R(c).sqrt(all=True)$</span> y $Lp$ ser&iacute;a la misma lista que nos devuelve <span style=\"color: #ff0000;\">$raiz(c,p)$</span>, y para calcular el $n$ que devuelve la funci&oacute;n <span style=\"color: #ff0000;\">$chinodelresto(a,b,p,q)$</span> basta usar la <span style=\"color: #ff0000;\">funci&oacute;n de Sage $crt(a,b,p,q)$ (teorema chino del resto)</span>.<span style=\"color: #ff0000;\"> OBSERVACI&Oacute;N IMPORTANTE: la primera funci&oacute;n devuelve un par de clases de restos y la segunda necesita que sus argumentos sean enteros. Para que la segunda funcione sobre lo que devuelve la primera hay que forzar las clases de restos al anillo de los enteros.&nbsp;</span></li>\n",
    "<li>Convertimos el texto en un entero&nbsp; (codificaci&oacute;n) con el mismo procedimiento que en RSA, con alfabeto de $26$ letras.</li>\n",
    "<li>Elegimos un entero suficientemente grande $n$ que sea el producto de dos primos distintos y bastante distantes. <span style=\"color: #ff0000;\">Este $n$ ser&aacute; la clave p&uacute;blica.</span> &iquest;Cu&aacute;n grande debe ser $n$? Igual que en RSA tiene que ser suficientemente grande para que todos los mensajes posibles de la longitud del que queremos encriptar, supongamos que es $N$,&nbsp; se puedan representar, mediante el paso 3,&nbsp; como un entero $m$ menor que $n$. <span style=\"color: #ff0000;\">No es necesario</span> definir funciones que generen los primos $p$ y $q$ aleatoriamente dentro de rangos grandes (&eacute;sto servir&iacute;a para generar claves seguras) sino que basta con encontrar primos que cumplan las condiciones requeridas en el punto 6.&nbsp;</li>\n",
    "<li><span style=\"color: #ff0000;\">Encriptamos $m$ elev&aacute;ndolo al cuadrado m&oacute;dulo $n$.</span> De la misma forma que en RSA, podemos convertir&nbsp; el entero resultante en texto (descodificaci&oacute;n)&nbsp; de $N+1$ caracteres si hemos tenido cuidado de elegir $n$ entre $26^N$ y $26^{N+1}.$ El texto resultante ser&aacute; el mensaje encriptado.</li>\n",
    "<li>La clave privada est&aacute; formada por los dos factores $(p,q)$ de $n$. Conocidos los dos primos y el mensaje encriptado $m_e:=m^2$, podemos <span style=\"color: #ff0000;\"><span><span style=\"color: #000000;\">calcular las ra&iacute;ces cuadradas</span><span style=\"color: #000000;\"> $a$ y $b$&nbsp;</span> <span style=\"color: #000000;\">de $m_e$ m&oacute;dulo $p$ y $q$ y aplicando la funci&oacute;n del teorema chino del resto recuperar $m$.&nbsp; Hay que tener en cuenta que como $m_e$ tiene dos ra&iacute;ces m&oacute;dulo $p$ y otras dos m&oacute;dulo $q$, en total hay cuatro pares de combinaciones de una ra&iacute;z m&oacute;dulo $p$ y otra m&oacute;dulo $q$, y s&oacute;lo uno de los cuatro posibles $m$ obtenidos es el correcto. &nbsp; Finalmente hay que descodificar los cuatro posibles $m$, como en RSA, para obtener cuatro textos y el que sea legible debe ser el correcto.&nbsp; </span></span></span></li>\n",
    "</ol>"
   ]
  },
  {
   "cell_type": "code",
   "execution_count": 24,
   "metadata": {
    "collapsed": false
   },
   "outputs": [],
   "source": [
    "from string import *"
   ]
  },
  {
   "cell_type": "code",
   "execution_count": 25,
   "metadata": {
    "collapsed": false
   },
   "outputs": [],
   "source": [
    "def raiz(c,p):\n",
    "    if c == 0 or c ==1:\n",
    "        return [c,p-c]\n",
    "    for x in xsrange(2,p):\n",
    "        if power_mod(x,2,p) == c%p:\n",
    "            return [x,p-x]\n",
    "    return []"
   ]
  },
  {
   "cell_type": "code",
   "execution_count": 26,
   "metadata": {
    "collapsed": false
   },
   "outputs": [
    {
     "data": {
      "text/plain": [
       "[3, 14]"
      ]
     },
     "execution_count": 26,
     "metadata": {},
     "output_type": "execute_result"
    }
   ],
   "source": [
    "raiz(9,17)"
   ]
  },
  {
   "cell_type": "code",
   "execution_count": 27,
   "metadata": {
    "collapsed": false
   },
   "outputs": [],
   "source": [
    "def chinodelresto(a,b,p,q):\n",
    "    for n in xsrange(p*q):\n",
    "        if n%p == a and n%q == b:\n",
    "                return n"
   ]
  },
  {
   "cell_type": "code",
   "execution_count": 28,
   "metadata": {
    "collapsed": false
   },
   "outputs": [
    {
     "data": {
      "text/plain": [
       "373"
      ]
     },
     "execution_count": 28,
     "metadata": {},
     "output_type": "execute_result"
    }
   ],
   "source": [
    "chinodelresto(3,5,37,23)"
   ]
  },
  {
   "cell_type": "code",
   "execution_count": 29,
   "metadata": {
    "collapsed": false
   },
   "outputs": [
    {
     "data": {
      "text/plain": [
       "3\n",
       "5"
      ]
     },
     "execution_count": 29,
     "metadata": {},
     "output_type": "execute_result"
    }
   ],
   "source": [
    "373%37;373%23"
   ]
  },
  {
   "cell_type": "code",
   "execution_count": 30,
   "metadata": {
    "collapsed": false
   },
   "outputs": [],
   "source": [
    "alfb = \"ABCDEFGHIJKLMNOPQRSTUVWXYZ\""
   ]
  },
  {
   "cell_type": "code",
   "execution_count": 31,
   "metadata": {
    "collapsed": false
   },
   "outputs": [
    {
     "data": {
      "text/plain": [
       "['A', 'B', 'C', 'D', 'E', 'F', 'G', 'H', 'I', 'J', 'K', 'L', 'M', 'N', 'O', 'P', 'Q', 'R',\n",
       "'S', 'T', 'U', 'V', 'W', 'X', 'Y', 'Z']"
      ]
     },
     "execution_count": 31,
     "metadata": {},
     "output_type": "execute_result"
    }
   ],
   "source": [
    "L_alfb = list(alfb);print L_alfb"
   ]
  },
  {
   "cell_type": "code",
   "execution_count": 32,
   "metadata": {
    "collapsed": false
   },
   "outputs": [],
   "source": [
    "def ord2(c):\n",
    "    return L_alfb.index(c)"
   ]
  },
  {
   "cell_type": "code",
   "execution_count": 33,
   "metadata": {
    "collapsed": false
   },
   "outputs": [],
   "source": [
    "def chr2(n):\n",
    "    return L_alfb[n]"
   ]
  },
  {
   "cell_type": "code",
   "execution_count": 34,
   "metadata": {
    "collapsed": false
   },
   "outputs": [],
   "source": [
    "texto = 'ESTEEXAMENESINHUMANOYSILOSENOVENGO'"
   ]
  },
  {
   "cell_type": "code",
   "execution_count": 35,
   "metadata": {
    "collapsed": false
   },
   "outputs": [
    {
     "data": {
      "text/plain": [
       "[4, 18, 19, 4, 4, 23, 0, 12, 4, 13, 4, 18, 8, 13, 7, 20, 12, 0, 13, 14, 24, 18, 8, 11, 14,\n",
       "18, 4, 13, 14, 21, 4, 13, 6, 14]"
      ]
     },
     "execution_count": 35,
     "metadata": {},
     "output_type": "execute_result"
    }
   ],
   "source": [
    "COD = [ord2(c) for c in texto];print COD"
   ]
  },
  {
   "cell_type": "code",
   "execution_count": 36,
   "metadata": {
    "collapsed": false
   },
   "outputs": [
    {
     "data": {
      "text/plain": [
       "34"
      ]
     },
     "execution_count": 36,
     "metadata": {},
     "output_type": "execute_result"
    }
   ],
   "source": [
    "len(COD)"
   ]
  },
  {
   "cell_type": "code",
   "execution_count": 37,
   "metadata": {
    "collapsed": false
   },
   "outputs": [
    {
     "data": {
      "text/plain": [
       "704601755783994605038376672032337899044472564292"
      ]
     },
     "execution_count": 37,
     "metadata": {},
     "output_type": "execute_result"
    }
   ],
   "source": [
    "m = ZZ(COD,26); m"
   ]
  },
  {
   "cell_type": "code",
   "execution_count": 38,
   "metadata": {
    "collapsed": false
   },
   "outputs": [],
   "source": [
    "p = next_prime(26^17+1);q= next_prime(26^17+26^9)"
   ]
  },
  {
   "cell_type": "code",
   "execution_count": 39,
   "metadata": {
    "collapsed": false
   },
   "outputs": [
    {
     "data": {
      "text/plain": [
       "1133827315385150725554179\n",
       "1133827315390580229233189\n",
       "1285564381119654170779380114033200298268244446831\n",
       "1285564381113498051199127603629788201662311038976\n",
       "33424673908950949331177317694374493243220087013376"
      ]
     },
     "execution_count": 39,
     "metadata": {},
     "output_type": "execute_result"
    }
   ],
   "source": [
    "p;q;p*q;26^34;26^35"
   ]
  },
  {
   "cell_type": "code",
   "execution_count": 40,
   "metadata": {
    "collapsed": false
   },
   "outputs": [
    {
     "data": {
      "text/plain": [
       "True\n",
       "True"
      ]
     },
     "execution_count": 40,
     "metadata": {},
     "output_type": "execute_result"
    }
   ],
   "source": [
    "p*q>26^34;26^35>p*q"
   ]
  },
  {
   "cell_type": "code",
   "execution_count": 41,
   "metadata": {
    "collapsed": false
   },
   "outputs": [
    {
     "data": {
      "text/plain": [
       "620734881407662752230677277363340188282546576657"
      ]
     },
     "execution_count": 41,
     "metadata": {},
     "output_type": "execute_result"
    }
   ],
   "source": [
    "ME = power_mod(m,2,p*q);ME"
   ]
  },
  {
   "cell_type": "code",
   "execution_count": 42,
   "metadata": {
    "collapsed": false
   },
   "outputs": [
    {
     "data": {
      "text/plain": [
       "[1, 8, 18, 25, 9, 8, 15, 14, 25, 12, 22, 5, 25, 10, 13, 5, 6, 21, 8, 25, 14, 4, 23, 3, 12,\n",
       "5, 3, 7, 13, 23, 14, 10, 14, 12]"
      ]
     },
     "execution_count": 42,
     "metadata": {},
     "output_type": "execute_result"
    }
   ],
   "source": [
    "L = ME.digits(base=26);print L"
   ]
  },
  {
   "cell_type": "code",
   "execution_count": 43,
   "metadata": {
    "collapsed": false
   },
   "outputs": [
    {
     "data": {
      "text/plain": [
       "BISZJIPOZMWFZKNFGVIZOEXDMFDHNXOKOM"
      ]
     },
     "execution_count": 43,
     "metadata": {},
     "output_type": "execute_result"
    }
   ],
   "source": [
    "MEC = join(map(chr2,L),sep=''); print MEC"
   ]
  },
  {
   "cell_type": "markdown",
   "metadata": {},
   "source": [
    "<p>MEC es el mensaje encriptado, y es lo que enviar&iacute;amos a su destinatario. Para desencriptar, en primer lugar recuperamos el entero que codifica el mensaje encriptado:</p>"
   ]
  },
  {
   "cell_type": "code",
   "execution_count": 44,
   "metadata": {
    "collapsed": false
   },
   "outputs": [
    {
     "data": {
      "text/plain": [
       "True\n",
       "620734881407662752230677277363340188282546576657"
      ]
     },
     "execution_count": 44,
     "metadata": {},
     "output_type": "execute_result"
    }
   ],
   "source": [
    "ME2 = ZZ(map(ord2,list(MEC)),base=26); ME2 == ME; ME2"
   ]
  },
  {
   "cell_type": "markdown",
   "metadata": {},
   "source": [
    "<p>Ahora debemos encontrar la ra&iacute;z cuadrada de ME2 en $\\mathbb{Z}_n$, y es para este c&aacute;lculo que utilizamnos los factores $p$y $q$ de $n$:</p>"
   ]
  },
  {
   "cell_type": "code",
   "execution_count": 45,
   "metadata": {
    "collapsed": false
   },
   "outputs": [],
   "source": [
    "Rp = Integers(p)"
   ]
  },
  {
   "cell_type": "code",
   "execution_count": 46,
   "metadata": {
    "collapsed": false
   },
   "outputs": [
    {
     "data": {
      "text/plain": [
       "Time: CPU 0.01 s, Wall: 0.11 s\n",
       "[173147632577771811594615, 960679682807378913959564]"
      ]
     },
     "execution_count": 46,
     "metadata": {},
     "output_type": "execute_result"
    }
   ],
   "source": [
    "time Lp = Rp(ME).sqrt(all=True); Lp"
   ]
  },
  {
   "cell_type": "code",
   "execution_count": 47,
   "metadata": {
    "collapsed": false
   },
   "outputs": [],
   "source": [
    "Rq = Integers(q)"
   ]
  },
  {
   "cell_type": "code",
   "execution_count": 48,
   "metadata": {
    "collapsed": false
   },
   "outputs": [
    {
     "data": {
      "text/plain": [
       "Time: CPU 0.01 s, Wall: 0.01 s\n",
       "[105038938390052410002602, 1028788377000527819230587]"
      ]
     },
     "execution_count": 48,
     "metadata": {},
     "output_type": "execute_result"
    }
   ],
   "source": [
    "time Lq = Rq(ME).sqrt(all=True); Lq"
   ]
  },
  {
   "cell_type": "code",
   "execution_count": 49,
   "metadata": {
    "collapsed": false
   },
   "outputs": [
    {
     "data": {
      "text/plain": [
       "Time: CPU 0.00 s, Wall: 0.00 s\n",
       "580962625335659565741003442000862399223771882539"
      ]
     },
     "execution_count": 49,
     "metadata": {},
     "output_type": "execute_result"
    }
   ],
   "source": [
    "time m1 = crt(ZZ(Lp[0]),ZZ(Lq[0]),p,q); print m1"
   ]
  },
  {
   "cell_type": "code",
   "execution_count": 50,
   "metadata": {
    "collapsed": false
   },
   "outputs": [
    {
     "data": {
      "text/plain": [
       "'DMGVVCZNVPVHRMSFNNOLBHROLHWMLEVMTL'"
      ]
     },
     "execution_count": 50,
     "metadata": {},
     "output_type": "execute_result"
    }
   ],
   "source": [
    "join(map(chr2,m1.digits(base=26)),sep='')"
   ]
  },
  {
   "cell_type": "code",
   "execution_count": 51,
   "metadata": {
    "collapsed": false
   },
   "outputs": [
    {
     "data": {
      "text/plain": [
       "Time: CPU 0.00 s, Wall: 0.00 s\n",
       "439301908482902470768665266187401389968318317769"
      ]
     },
     "execution_count": 51,
     "metadata": {},
     "output_type": "execute_result"
    }
   ],
   "source": [
    "time m2 = crt(ZZ(Lp[1]),ZZ(Lq[0]),p,q); print m2"
   ]
  },
  {
   "cell_type": "code",
   "execution_count": 52,
   "metadata": {
    "collapsed": false
   },
   "outputs": [
    {
     "data": {
      "text/plain": [
       "'DZHKTGJWKDGNDDURWQGTRGDOAMBFELBAXI'"
      ]
     },
     "execution_count": 52,
     "metadata": {},
     "output_type": "execute_result"
    }
   ],
   "source": [
    "join(map(chr2,m2.digits(base=26)),sep='')"
   ]
  },
  {
   "cell_type": "code",
   "execution_count": 53,
   "metadata": {
    "collapsed": false
   },
   "outputs": [
    {
     "data": {
      "text/plain": [
       "Time: CPU 0.00 s, Wall: 0.00 s\n",
       "846262472636751700010714847845798908299926129062"
      ]
     },
     "execution_count": 53,
     "metadata": {},
     "output_type": "execute_result"
    }
   ],
   "source": [
    "time m3 = crt(ZZ(Lp[0]),ZZ(Lq[1]),p,q); print m3"
   ]
  },
  {
   "cell_type": "code",
   "execution_count": 54,
   "metadata": {
    "collapsed": false
   },
   "outputs": [
    {
     "data": {
      "text/plain": [
       "'EFSPGTQDPZTMWWFIDXUGITWLZNZUVOYZCR'"
      ]
     },
     "execution_count": 54,
     "metadata": {},
     "output_type": "execute_result"
    }
   ],
   "source": [
    "join(map(chr2,m3.digits(base=26)),sep='')"
   ]
  },
  {
   "cell_type": "code",
   "execution_count": 55,
   "metadata": {
    "collapsed": false
   },
   "outputs": [
    {
     "data": {
      "text/plain": [
       "Time: CPU 0.00 s, Wall: 0.00 s\n",
       "704601755783994605038376672032337899044472564292"
      ]
     },
     "execution_count": 55,
     "metadata": {},
     "output_type": "execute_result"
    }
   ],
   "source": [
    "time m4 = crt(ZZ(Lp[1]),ZZ(Lq[1]),p,q); print m4"
   ]
  },
  {
   "cell_type": "code",
   "execution_count": 56,
   "metadata": {
    "collapsed": false
   },
   "outputs": [
    {
     "data": {
      "text/plain": [
       "'ESTEEXAMENESINHUMANOYSILOSENOVENGO'"
      ]
     },
     "execution_count": 56,
     "metadata": {},
     "output_type": "execute_result"
    }
   ],
   "source": [
    "join(map(chr2,m4.digits(base=26)),sep='')"
   ]
  },
  {
   "cell_type": "code",
   "execution_count": 57,
   "metadata": {
    "collapsed": false
   },
   "outputs": [
    {
     "data": {
      "text/plain": [
       "[439301908482902470768665266187401389968318317769,\n",
       " 580962625335659565741003442000862399223771882539,\n",
       " 704601755783994605038376672032337899044472564292,\n",
       " 846262472636751700010714847845798908299926129062]\n",
       "Time: CPU 0.78 s, Wall: 0.80 s"
      ]
     },
     "execution_count": 57,
     "metadata": {},
     "output_type": "execute_result"
    }
   ],
   "source": [
    "Rpq=Integers(p*q); time Rpq(ME2).sqrt(all=True)"
   ]
  },
  {
   "cell_type": "markdown",
   "metadata": {},
   "source": [
    "<p>Vemos que Sage puede calcular las cuatro ra&iacute;ces cuadradas del mensaje encriptado en menos de un segundo, pero tambi&eacute;n puede factorizar la clave p&uacute;blica en menos de un segundo:&nbsp;</p>"
   ]
  },
  {
   "cell_type": "code",
   "execution_count": 58,
   "metadata": {
    "collapsed": false
   },
   "outputs": [
    {
     "data": {
      "text/plain": [
       "1133827315385150725554179 * 1133827315390580229233189\n",
       "Time: CPU 0.77 s, Wall: 0.81 s"
      ]
     },
     "execution_count": 58,
     "metadata": {},
     "output_type": "execute_result"
    }
   ],
   "source": [
    "time factor(p*q)"
   ]
  },
  {
   "cell_type": "markdown",
   "metadata": {},
   "source": [
    "<p>Esto quiere decir que la clave p&uacute;blica utilizada es demasiado peque&ntilde;a. En un caso real debe ser imposible factorizar $n$ y el truco de calcular la ra&iacute;z cuadrada en $\\mathbb{Z}_n$ de ME2 usando sus&nbsp; ra&iacute;ces cuadradas m&oacute;dulo los primos $p$ y $q$ y el teorema chino del resto todav&iacute;a funciona. Por ejemplo:</p>"
   ]
  },
  {
   "cell_type": "code",
   "execution_count": 59,
   "metadata": {
    "collapsed": false
   },
   "outputs": [
    {
     "data": {
      "text/plain": [
       "117"
      ]
     },
     "execution_count": 59,
     "metadata": {},
     "output_type": "execute_result"
    }
   ],
   "source": [
    "p1 = next_prime(10^117+12345678987654321); floor(log(p1,base=10))"
   ]
  },
  {
   "cell_type": "code",
   "execution_count": 60,
   "metadata": {
    "collapsed": false
   },
   "outputs": [
    {
     "data": {
      "text/plain": [
       "[45585357769907762508017960456229797737500554155094887758612239819691336413434747752964201\n",
       "2698592690192929096605107284,\n",
       " 54414642230092237491982039543770202262499445844905112241387760180308663586565252247035798\n",
       "7301407309819416582382547427]\n",
       "Time: CPU 0.73 s, Wall: 0.75 s"
      ]
     },
     "execution_count": 60,
     "metadata": {},
     "output_type": "execute_result"
    }
   ],
   "source": [
    "Rp1 =Integers(p1); alea = ZZ([randint(0,9) for muda in srange(130)],base=10); time Rp1(alea).sqrt(all=True)"
   ]
  },
  {
   "cell_type": "markdown",
   "metadata": {},
   "source": [
    "<p>$alea$ es un mensaje aleatorio cuya codificaci&oacute;n tiene aproximadamente $130$ cifras.</p>"
   ]
  },
  {
   "cell_type": "code",
   "execution_count": 61,
   "metadata": {
    "collapsed": false
   },
   "outputs": [],
   "source": [
    "alea2 = ZZ([randint(0,9) for muda in srange(115)],base=10); p2 = next_prime(alea2); #p2 es otro primo de unas 115 cifras"
   ]
  },
  {
   "cell_type": "code",
   "execution_count": 62,
   "metadata": {
    "collapsed": false
   },
   "outputs": [
    {
     "data": {
      "text/plain": [
       "^C"
      ]
     },
     "execution_count": 62,
     "metadata": {},
     "output_type": "execute_result"
    },
    {
     "name": "stderr",
     "output_type": "stream",
     "text": [
      "Traceback (most recent call last):\n",
      "  File \"<stdin>\", line 1, in <module>\n",
      "  File \"_sage_input_110.py\", line 10, in <module>\n",
      "    exec compile(u'open(\"___code___.py\",\"w\").write(\"# -*- coding: utf-8 -*-\\\\n\" + _support\n",
      "_.preparse_worksheet_cell(base64.b64decode(\"dGltZSBmYWN0b3IocDEqcDIp\"),globals())+\"\\\\n\");\n",
      "execfile(os.path.abspath(\"___code___.py\"))' + '\\n', '', 'single')\n",
      "  File \"\", line 1, in <module>\n",
      "\n",
      "  File \"/tmp/tmp78p_FO/___code___.py\", line 2, in <module>\n",
      "    exec compile(u'__time__=misc.cputime(); __wall__=misc.walltime(); factor(p1*p2); print\n",
      "\"Time: CPU %.2f s, Wall: %.2f s\"%(misc.cputime(__time__), misc.walltime(__wall__))' +\n",
      "'\\n', '', 'single')\n",
      "  File \"\", line 1, in <module>\n",
      "\n",
      "  File \"/usr/lib/sagemath/local/lib/python2.7/site-packages/sage/rings/arith.py\", line\n",
      "2455, in factor\n",
      "    int_ = int_, verbose=verbose)\n",
      "  File \"sage/rings/integer.pyx\", line 3506, in sage.rings.integer.Integer.factor (/mnt/hig\n",
      "hperf/buildbot/slave/sage_git/build/src/build/cythonized/sage/rings/integer.c:22654)\n",
      "  File \"sage/rings/factorint.pyx\", line 352, in sage.rings.factorint.factor_using_pari (/m\n",
      "nt/highperf/buildbot/slave/sage_git/build/src/build/cythonized/sage/rings/factorint.c:6302\n",
      ")\n",
      "  File \"sage/libs/pari/gen.pyx\", line 8944, in sage.libs.pari.gen.gen.factor (/mnt/highper\n",
      "f/buildbot/slave/sage_git/build/src/build/cythonized/sage/libs/pari/gen.c:136856)\n",
      "  File \"sage/ext/interrupt/interrupt.pyx\", line 88, in\n",
      "sage.ext.interrupt.interrupt.sig_raise_exception (/mnt/highperf/buildbot/slave/sage_git/bu\n",
      "ild/src/build/cythonized/sage/ext/interrupt/interrupt.c:924)\n",
      "KeyboardInterrupt\n",
      "__SAGE__"
     ]
    }
   ],
   "source": [
    "time factor(p1*p2)"
   ]
  },
  {
   "cell_type": "code",
   "execution_count": 63,
   "metadata": {
    "collapsed": false
   },
   "outputs": [
    {
     "name": "stderr",
     "output_type": "stream",
     "text": [
      "Traceback (most recent call last):\n",
      "  File \"<stdin>\", line 1, in <module>\n",
      "  File \"_sage_input_115.py\", line 10, in <module>\n",
      "    exec compile(u'open(\"___code___.py\",\"w\").write(\"# -*- coding: utf-8 -*-\\\\n\" + _support\n",
      "_.preparse_worksheet_cell(base64.b64decode(\"UjEyPUludGVnZXJzKHAxKnAyKTsgUjEyKGFsZWEpLnNxcn\n",
      "QoYWxsPVRydWUp\"),globals())+\"\\\\n\"); execfile(os.path.abspath(\"___code___.py\"))' + '\\n',\n",
      "'', 'single')\n",
      "  File \"\", line 1, in <module>\n",
      "\n",
      "  File \"/tmp/tmpeF48f5/___code___.py\", line 2, in <module>\n",
      "    exec compile(u'R12=Integers(p1*p2); R12(alea).sqrt(all=True)' + '\\n', '', 'single')\n",
      "  File \"\", line 1, in <module>\n",
      "\n",
      "  File \"sage/rings/finite_rings/integer_mod.pyx\", line 987, in\n",
      "sage.rings.finite_rings.integer_mod.IntegerMod_abstract.sqrt (/mnt/highperf/buildbot/slave\n",
      "/sage_git/build/src/build/cythonized/sage/rings/finite_rings/integer_mod.c:10395)\n",
      "NotImplementedError"
     ]
    }
   ],
   "source": [
    "R12=Integers(p1*p2); R12(alea).sqrt(all=True)"
   ]
  },
  {
   "cell_type": "markdown",
   "metadata": {},
   "source": [
    "<p>Vemos que Sage no puede, en un tiempo razonable, factorizar $n$ ni calcular directamente, sin usar los factoies de $n$, las ra&iacute;ces cuadradas del mensaje en $\\mathbb{Z}_n$, pero s&iacute; podr&iacute;a hacerlo en pocos segundos si conocemos los factores de $n$. </p>"
   ]
  }
 ],
 "metadata": {
  "kernelspec": {
   "display_name": "SageMath 7.4",
   "language": "",
   "name": "sage-7.4"
  },
  "language_info": {
   "codemirror_mode": {
    "name": "ipython",
    "version": 2
   },
   "file_extension": ".py",
   "mimetype": "text/x-python",
   "name": "python",
   "nbconvert_exporter": "python",
   "pygments_lexer": "ipython2",
   "version": "2.7.13"
  }
 },
 "nbformat": 4,
 "nbformat_minor": 0
}
