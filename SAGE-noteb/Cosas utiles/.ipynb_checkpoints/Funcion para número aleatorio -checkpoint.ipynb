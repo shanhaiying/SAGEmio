{
 "cells": [
  {
   "cell_type": "code",
   "execution_count": 1,
   "metadata": {
    "collapsed": true
   },
   "outputs": [],
   "source": [
    "%%cython\n",
    "\n",
    "cdef extern from 'gsl/gsl_rng.h':\n",
    "   ctypedef struct gsl_rng_type:\n",
    "      pass\n",
    "   ctypedef struct gsl_rng:\n",
    "       pass\n",
    "   gsl_rng_type *gsl_rng_mt19937\n",
    "   gsl_rng *gsl_rng_alloc(gsl_rng_type * T)\n",
    "  \n",
    "cdef gsl_rng *r = gsl_rng_alloc(gsl_rng_mt19937)\n",
    "\n",
    "cdef extern from 'gsl/gsl_randist.h':\n",
    "     double uniform 'gsl_rng_uniform'(gsl_rng * r)\n",
    "\n",
    "def dec_aleatorio():\n",
    "    cdef double n\n",
    "    n = uniform(r)\n",
    "    return n"
   ]
  },
  {
   "cell_type": "code",
   "execution_count": 3,
   "metadata": {
    "collapsed": false
   },
   "outputs": [
    {
     "name": "stdout",
     "output_type": "stream",
     "text": [
      "[0.16290987539105117]\n"
     ]
    }
   ],
   "source": [
    "print[dec_aleatorio()]"
   ]
  },
  {
   "cell_type": "code",
   "execution_count": null,
   "metadata": {
    "collapsed": true
   },
   "outputs": [],
   "source": []
  }
 ],
 "metadata": {
  "kernelspec": {
   "display_name": "SageMath 7.3",
   "language": "",
   "name": "sagemath"
  },
  "language_info": {
   "codemirror_mode": {
    "name": "ipython",
    "version": 2
   },
   "file_extension": ".py",
   "mimetype": "text/x-python",
   "name": "python",
   "nbconvert_exporter": "python",
   "pygments_lexer": "ipython2",
   "version": "2.7.10"
  }
 },
 "nbformat": 4,
 "nbformat_minor": 0
}
