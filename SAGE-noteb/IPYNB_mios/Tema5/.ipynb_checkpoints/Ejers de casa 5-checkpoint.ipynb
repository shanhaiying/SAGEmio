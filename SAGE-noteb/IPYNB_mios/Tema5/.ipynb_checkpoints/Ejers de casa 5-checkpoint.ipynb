{
 "cells": [
  {
   "cell_type": "code",
   "execution_count": 19,
   "metadata": {
    "collapsed": false
   },
   "outputs": [
    {
     "data": {
      "text/html": [
       "<html><script type=\"math/tex; mode=display\">\\newcommand{\\Bold}[1]{\\mathbf{#1}}\\left[3, 4, 5, 23, 10\\right] \\left[4, 5, 23, 7, 10\\right] \\left[3, 4, 5, 10\\right]</script></html>"
      ],
      "text/plain": [
       "[3, 4, 5, 23, 10] [4, 5, 23, 7, 10] [3, 4, 5, 10]"
      ]
     },
     "metadata": {},
     "output_type": "display_data"
    }
   ],
   "source": [
    "L=[3,4,5,23,7,10]\n",
    "L1 = list(L)\n",
    "L2 = list(L)\n",
    "L1.pop(4)\n",
    "L2.remove(3)\n",
    "del(L[3:5])\n",
    "show(L1, L2,L)"
   ]
  },
  {
   "cell_type": "code",
   "execution_count": null,
   "metadata": {
    "collapsed": false
   },
   "outputs": [],
   "source": [
    "time power(265445,99999999)"
   ]
  },
  {
   "cell_type": "code",
   "execution_count": null,
   "metadata": {
    "collapsed": true
   },
   "outputs": [],
   "source": []
  }
 ],
 "metadata": {
  "kernelspec": {
   "display_name": "SageMath 7.3",
   "language": "",
   "name": "sagemath"
  },
  "language_info": {
   "codemirror_mode": {
    "name": "ipython",
    "version": 2
   },
   "file_extension": ".py",
   "mimetype": "text/x-python",
   "name": "python",
   "nbconvert_exporter": "python",
   "pygments_lexer": "ipython2",
   "version": "2.7.10"
  }
 },
 "nbformat": 4,
 "nbformat_minor": 0
}
