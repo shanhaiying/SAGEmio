{
 "cells": [
  {
   "cell_type": "markdown",
   "metadata": {},
   "source": [
    "<p><span style=\"color: #ff0000;\">Por favor, antes de empezar el examen cambia el nombre de la hoja (File&gt;Rename worksheet) poniendo en lugar de \"nombre.apellido\" los tuyos tal como aparecen en tu direcci&oacute;n de correo electr&oacute;nico de la UAM. El final del nombre de la hoja, -labot-ex2-2016, dej&aacute;lo como est&aacute;.<br /></span></p>\n",
    "<p><span style=\"color: #ff0000;\">Una vez hayas terminado el examen, salva la hoja (File&gt;Save worksheet to a file....) y d&eacute;jala en la carpeta en tu escritorio con nombre \"ENTREGA......\".</span></p>\n",
    "<h4><span style=\"color: #ff0000;\"><span style=\"color: #000000;\">Ejercicio 1</span><br /></span></h4>\n",
    "<p>&nbsp;<span style=\"color: #ff0000;\">(2 puntos)</span> <span style=\"color: #ff0000;\">Define&nbsp; funciones</span> $H(n,nbits)$&nbsp; y $H2(n,nbits)$ que devuelvan la suma $\\sum_{k=1}^{k=n} \\frac{1}{k}$ calculada con precisi&oacute;n igual a $nbits$. Las dos funciones ser&aacute;n esencialmente iguales,&nbsp; pero $H$ realizar&aacute; todos los c&aacute;lculos con n&uacute;meros decimales de la precisi&oacute;n fijada mientras que&nbsp; $H2$ debe efectuar los c&aacute;lculos con racionales,&nbsp; y &uacute;nicamente al devolver el resultado debe convertir a decimal de $nbits$ de precisi&oacute;n.<span style=\"color: #ff0000;\"> &iquest;Qu&eacute; ense&ntilde;a este ejemplo?</span></p>"
   ]
  },
  {
   "cell_type": "code",
   "execution_count": null,
   "metadata": {
    "collapsed": true
   },
   "outputs": [],
   "source": []
  },
  {
   "cell_type": "code",
   "execution_count": null,
   "metadata": {
    "collapsed": true
   },
   "outputs": [],
   "source": [
    "f\n",
    "f\n",
    "f\n",
    "f\n",
    "\n",
    "f\n",
    "f\n",
    "\n",
    "f\n",
    "fc\n",
    "f\n",
    "\n",
    "f\n",
    "f\n",
    "\n",
    "f\n",
    "f\n",
    "f\n",
    "\n",
    "f\n",
    "f\n",
    "\n",
    "f\n",
    "f\n",
    "f\n",
    "fu"
   ]
  },
  {
   "cell_type": "code",
   "execution_count": 1,
   "metadata": {
    "collapsed": false
   },
   "outputs": [],
   "source": [
    "def H(n,nbits):\n",
    "    R = RealField(prec=nbits)\n",
    "    S = R(0)\n",
    "    for j in xsrange(1,n+1):\n",
    "        S += R(1/j)\n",
    "    return S"
   ]
  },
  {
   "cell_type": "code",
   "execution_count": 2,
   "metadata": {
    "collapsed": false
   },
   "outputs": [],
   "source": [
    "def H2(n,nbits):\n",
    "    R = RealField(prec=nbits)\n",
    "    S = 0\n",
    "    for j in xsrange(1,n+1):\n",
    "        S += 1/j\n",
    "    return R(S)"
   ]
  },
  {
   "cell_type": "code",
   "execution_count": 3,
   "metadata": {
    "collapsed": false
   },
   "outputs": [
    {
     "data": {
      "text/plain": [
       "13.699580042309\n",
       "Time: CPU 0.41 s, Wall: 0.41 s"
      ]
     },
     "execution_count": 3,
     "metadata": {},
     "output_type": "execute_result"
    }
   ],
   "source": [
    "time H(5*10^5,50)"
   ]
  },
  {
   "cell_type": "code",
   "execution_count": 4,
   "metadata": {
    "collapsed": false
   },
   "outputs": [
    {
     "data": {
      "text/plain": [
       "13.699580042306\n",
       "Time: CPU 34.49 s, Wall: 34.51 s"
      ]
     },
     "execution_count": 4,
     "metadata": {},
     "output_type": "execute_result"
    }
   ],
   "source": [
    "time H2(5*10^5,50)"
   ]
  },
  {
   "cell_type": "markdown",
   "metadata": {},
   "source": [
    "<p>En muchos de los c&aacute;lculos que nos interesan, en este cap&iacute;tulo 7,&nbsp; sumamos t&eacute;rminos de series de n&uacute;meros racionales. Si efectuamos la suma como n&uacute;meros racionales corremos el peligro de que las fracciones implicadas tengan numeradores y denominadores grandes,&nbsp; lo que hace que el c&aacute;lculo exacto con racionales sea muy costoso. Si lo que realmente nos interesa es el resultado final como decimal con un cierto n&uacute;mero de bits de precisi&oacute;n&nbsp; y no la fracci&oacute;n que determina ese decimal, <span style=\"color: #ff0000;\">este ejemplo muestra</span> que nos conviene hacer todos los c&aacute;lculos con decimales de la precisi&oacute;n fijada.</p>\n",
    "<h4>Ejercicio 2</h4>\n",
    "<p>Sabemos que la serie $\\sum_{k=1}^{k=\\infty} \\frac{1}{k}$ es divergente. Adem&aacute;s, sabemos que sus sumas parciales $H_n:=\\sum_{k=1}^{k=n} \\frac{1}{k}$&nbsp; tienen un valor no muy diferente a $log(n)$ (logaritmo neperiano siempre) ya que</p>\n",
    "<p>\\[\\int_1^x \\frac{1}{t}dt=log(x),\\]</p>\n",
    "<p>y $H_n$ es una suma de Riemann de esta integral con los puntos de la partici&oacute;n con coordenadas enteras. Podemos entonces decir que la serie diverge (aproximadamente) como el logaritmo.</p>\n",
    "<p>Euler defini&oacute; la constante</p>\n",
    "<p>\\[\\gamma:=\\lim_{n\\to \\infty}(H_n-log(n)),\\]</p>\n",
    "<p>cuya existencia nos indica que la diferencia entre $H_n$ y el logaritmo de $n$ no crece con $n$. Sage dispone de un procedimiento, $euler\\_gamma$, para calcular con la precisi&oacute;n que queramos la constante de Euler.</p>\n",
    "<ol><ol><ol>\n",
    "<li><span style=\"color: #ff0000;\">(1 punto) Define una funci&oacute;n</span> $mi\\_gamma1(n,nbits)$ que calcule el t&eacute;rmino $n$-&eacute;simo de la sucesi&oacute;n que define $gamma$ con $nbits$ de precisi&oacute;n.</li>\n",
    "<li><span style=\"color: #ff0000;\"><span style=\"color: #ff0000;\">(1 punto)</span> Define una funci&oacute;n</span> $mi\\_gamma2(n,nbits)$ que calcule \\[\\gamma_n:= \\sum_{k=1}^{k=n} \\frac{1}{n}\\left(\\left\\lceil \\frac{n}{k}\\right\\rceil -\\frac{n}{k}\\right)\\] con $nbits$ de precisi&oacute;n. La notaci&oacute;n $\\lceil x\\rceil$ indica la parte entera por exceso de $x$. El l&iacute;mite, cuando $n$ tiende a infinito, de $\\gamma_n$ se sabe que es $\\gamma$.</li>\n",
    "<li><span style=\"color: #ff0000;\"><span style=\"color: #ff0000;\"><span style=\"color: #ff0000;\">(1 punto)</span></span> Define una funci&oacute;n</span> $mi\\_gamma3(n,nbits)$ que calcule $gamma$ sumando $n$ t&eacute;rminos de la serie \\[\\sum_{k=1}^{k=\\infty} \\left(\\frac{1}{k}-log(1+\\frac{1}{k})\\right),\\] que tambi&eacute;n converge a $\\gamma.$</li>\n",
    "<li><span style=\"color: #ff0000;\"><span style=\"color: #ff0000;\"><span style=\"color: #ff0000;\">(1 punto)</span></span> Compara</span> la cantidad de cifras correctas obtenidas y los tiempos de c&aacute;lculo para los tres m&eacute;todos,&nbsp; usando $n=10^6$ y&nbsp; fijando la precisi&oacute;n &oacute;ptima mediante experimentaci&oacute;n. <span style=\"color: #ff0000;\">&iquest;Qu&eacute; conclusiones obtienes y cu&aacute;l puede ser el motivo?</span></li>\n",
    "</ol></ol></ol>\n",
    "<p>&nbsp;</p>"
   ]
  },
  {
   "cell_type": "code",
   "execution_count": 5,
   "metadata": {
    "collapsed": false
   },
   "outputs": [],
   "source": [
    "##Apartado 1\n",
    "def mi_gamma1(n,nbits):\n",
    "    R = RealField(prec=nbits)\n",
    "    return -R(log(n))+H(n,nbits)"
   ]
  },
  {
   "cell_type": "code",
   "execution_count": 6,
   "metadata": {
    "collapsed": false
   },
   "outputs": [],
   "source": [
    "##Apartado 2\n",
    "def F(n,nbits):\n",
    "    R = RealField(prec=nbits)\n",
    "    S = 0\n",
    "    for j in xsrange(1,n+1):\n",
    "        x = R(n/j)\n",
    "        S += ceil(x)-x\n",
    "    return S"
   ]
  },
  {
   "cell_type": "code",
   "execution_count": 7,
   "metadata": {
    "collapsed": false
   },
   "outputs": [],
   "source": [
    "def mi_gamma2(n,nbits):\n",
    "    R = RealField(prec=nbits)\n",
    "    return R(F(n,nbits)/n)"
   ]
  },
  {
   "cell_type": "code",
   "execution_count": 8,
   "metadata": {
    "collapsed": false
   },
   "outputs": [],
   "source": [
    "##Apartado 3\n",
    "def mi_gamma3(n,nbits):\n",
    "    R = RealField(prec=nbits)\n",
    "    S = 0\n",
    "    for j in xsrange(1,n+1):\n",
    "        x = R(1/j)\n",
    "        S += x-R(log(1+x))\n",
    "    return S"
   ]
  },
  {
   "cell_type": "code",
   "execution_count": 9,
   "metadata": {
    "collapsed": false
   },
   "outputs": [
    {
     "data": {
      "text/plain": [
       "0.577215664901533"
      ]
     },
     "execution_count": 9,
     "metadata": {},
     "output_type": "execute_result"
    }
   ],
   "source": [
    "##Apartado 4\n",
    "euler_gamma.n()"
   ]
  },
  {
   "cell_type": "code",
   "execution_count": 10,
   "metadata": {
    "collapsed": false
   },
   "outputs": [
    {
     "data": {
      "text/plain": [
       "0.577216164900715\n",
       "Time: CPU 0.82 s, Wall: 0.82 s"
      ]
     },
     "execution_count": 10,
     "metadata": {},
     "output_type": "execute_result"
    }
   ],
   "source": [
    "time mi_gamma1(10^6,53)"
   ]
  },
  {
   "cell_type": "code",
   "execution_count": 11,
   "metadata": {
    "collapsed": false
   },
   "outputs": [
    {
     "data": {
      "text/plain": [
       "0.5772161649014495272731787649864\n",
       "Time: CPU 0.84 s, Wall: 0.84 s"
      ]
     },
     "execution_count": 11,
     "metadata": {},
     "output_type": "execute_result"
    }
   ],
   "source": [
    "time mi_gamma1(10^6,106)"
   ]
  },
  {
   "cell_type": "markdown",
   "metadata": {},
   "source": [
    "<p>En este caso vemos que la precisi&oacute;n est&aacute;ndar de $53$ bits es suficiente para obtener $5$ cifras decimales correctas, y que no obtenemos m&aacute;s cifras correctas por aumentar la precisi&oacute;n.</p>"
   ]
  },
  {
   "cell_type": "code",
   "execution_count": 12,
   "metadata": {
    "collapsed": false
   },
   "outputs": [
    {
     "data": {
      "text/plain": [
       "0.577258277134282\n",
       "Time: CPU 3.72 s, Wall: 3.73 s"
      ]
     },
     "execution_count": 12,
     "metadata": {},
     "output_type": "execute_result"
    }
   ],
   "source": [
    "time mi_gamma2(10^6,53)"
   ]
  },
  {
   "cell_type": "code",
   "execution_count": 13,
   "metadata": {
    "collapsed": false
   },
   "outputs": [
    {
     "data": {
      "text/plain": [
       "0.5772582771342763686188725068125\n",
       "Time: CPU 3.76 s, Wall: 3.76 s"
      ]
     },
     "execution_count": 13,
     "metadata": {},
     "output_type": "execute_result"
    }
   ],
   "source": [
    "time mi_gamma2(10^6,106)"
   ]
  },
  {
   "cell_type": "markdown",
   "metadata": {},
   "source": [
    "<p>Vemos que el segundo m&eacute;todo obtiene s&oacute;lo $4$ cifras decimales correctas y tarda m&aacute;s de cuatro veces m&aacute;s.</p>"
   ]
  },
  {
   "cell_type": "code",
   "execution_count": 14,
   "metadata": {
    "collapsed": false
   },
   "outputs": [
    {
     "data": {
      "text/plain": [
       "0.577215164902028\n",
       "Time: CPU 17.28 s, Wall: 17.29 s"
      ]
     },
     "execution_count": 14,
     "metadata": {},
     "output_type": "execute_result"
    }
   ],
   "source": [
    "time mi_gamma3(10^6,53)"
   ]
  },
  {
   "cell_type": "code",
   "execution_count": 15,
   "metadata": {
    "collapsed": false
   },
   "outputs": [
    {
     "data": {
      "text/plain": [
       "0.5772151649019495269398456817487\n",
       "Time: CPU 19.95 s, Wall: 19.96 s"
      ]
     },
     "execution_count": 15,
     "metadata": {},
     "output_type": "execute_result"
    }
   ],
   "source": [
    "time mi_gamma3(10^6,106)"
   ]
  },
  {
   "cell_type": "markdown",
   "metadata": {},
   "source": [
    "<p>Con el tercer m&eacute;todo se recuperan $5$ cifras correctas pero tarda mas de $20$ vveces m&aacute;s que el primero. <span style=\"color: #ff0000;\">CONCLUSIONES:</span></p>\n",
    "<ol>\n",
    "<li>Es bastante claro que el primer m&eacute;todo es mejor que el segundo y &eacute;ste mejor que el tercero. &iquest;Por qu&eacute;?</li>\n",
    "<li><span style=\"color: #ff0000;\">Debemos contar</span> el n&uacute;mero de operaciones que se hacen al aplicar cada uno de los m&eacute;todos: En el primero calculamos $n$ sumas y un logaritmo, en el segundo calculamos $n$ divisiones y $n$ sumas, y en el tercero $n$ divisiones, $n$ logaritmos y $n$ sumas. </li>\n",
    "</ol>\n",
    "\n",
    "<h4>Ejercicio 3</h4>\n",
    "<p>(2 puntos) Se define la funci&oacute;n $\\sigma(n)$ como la suma de todos los divisores positivos del entero positivo $n$. Sage dispone de la funci&oacute;n $sigma$ que realiza este c&aacute;lculo. <span style=\"color: #ff0000;\">Determina</span> (experimentalmente) el mayor entero positivo tal que la diferencia</p>\n",
    "<p>\\[e^\\gamma\\cdot n \\cdot log(log(n))-\\sigma(n),\\]</p>\n",
    "<p>es negativa ($\\gamma$ es la constante de Euler).</p>"
   ]
  },
  {
   "cell_type": "code",
   "execution_count": 16,
   "metadata": {
    "collapsed": false
   },
   "outputs": [],
   "source": [
    "def FF(n,nbits):\n",
    "    R = RealField(prec=nbits)\n",
    "    return exp(R(euler_gamma))*n*R(log(log(n)))-sigma(n)"
   ]
  },
  {
   "cell_type": "code",
   "execution_count": 17,
   "metadata": {
    "collapsed": false
   },
   "outputs": [],
   "source": [
    "def mayor(N,nbits):\n",
    "    max = 1\n",
    "    for n in xsrange(1,N):\n",
    "        if FF(n,nbits)<0.0:\n",
    "            max = n\n",
    "    return max"
   ]
  },
  {
   "cell_type": "code",
   "execution_count": 18,
   "metadata": {
    "collapsed": false
   },
   "outputs": [
    {
     "data": {
      "text/plain": [
       "840\n",
       "Time: CPU 0.22 s, Wall: 0.22 s"
      ]
     },
     "execution_count": 18,
     "metadata": {},
     "output_type": "execute_result"
    }
   ],
   "source": [
    "time mayor(10^3,53)"
   ]
  },
  {
   "cell_type": "code",
   "execution_count": 19,
   "metadata": {
    "collapsed": false
   },
   "outputs": [
    {
     "data": {
      "text/plain": [
       "5040\n",
       "Time: CPU 2.20 s, Wall: 2.20 s"
      ]
     },
     "execution_count": 19,
     "metadata": {},
     "output_type": "execute_result"
    }
   ],
   "source": [
    "time mayor(10^4,53)"
   ]
  },
  {
   "cell_type": "code",
   "execution_count": 20,
   "metadata": {
    "collapsed": false
   },
   "outputs": [
    {
     "data": {
      "text/plain": [
       "5040\n",
       "Time: CPU 21.52 s, Wall: 21.53 s"
      ]
     },
     "execution_count": 20,
     "metadata": {},
     "output_type": "execute_result"
    }
   ],
   "source": [
    "time mayor(10^5,53)"
   ]
  },
  {
   "cell_type": "markdown",
   "metadata": {},
   "source": [
    "<p><span style=\"color: #ff0000;\">Vemos que el entero buscado podr&iacute;a ser $5040$</span> ya que no hay ninguno con $FF(n,53)$ negativo entre $5041$ y $10^5$. Si quisi&eacute;ramos comprobar hasta $10^6$ debemos esperar que tarde del orden de $200$ segundos, que no es demasiado. La precisi&oacute;n no parece ser importante en este problema, por lo que usamos la est&aacute;ndar de $53$ bits.</p>"
   ]
  },
  {
   "cell_type": "code",
   "execution_count": 21,
   "metadata": {
    "collapsed": false
   },
   "outputs": [
    {
     "data": {
      "text/plain": [
       "5040\n",
       "Time: CPU 132.51 s, Wall: 132.60 s"
      ]
     },
     "execution_count": 21,
     "metadata": {},
     "output_type": "execute_result"
    }
   ],
   "source": [
    "time mayor(10^6,53)"
   ]
  },
  {
   "cell_type": "markdown",
   "metadata": {},
   "source": [
    "<p>El comportamiento de la funci&oacute;n $FF(n,nbits)$ debe ser bastante err&aacute;tico ya que $\\sigma(n)$ vale s&oacute;lo $1+n$ si n es primo, y, en cambio es mucho m&aacute;s&nbsp; grande que $n$ si $n$ tiene muchos factores&nbsp; primos elevados a exponentes grandes. Podemos obtener una idea del aspecto de la funci&oacute;n mediante una gr&aacute;fica.&nbsp;</p>"
   ]
  },
  {
   "cell_type": "code",
   "execution_count": 22,
   "metadata": {
    "collapsed": false
   },
   "outputs": [],
   "source": [
    "L = [(n,FF(n,53)) for n in srange(2,10^4)]"
   ]
  },
  {
   "cell_type": "code",
   "execution_count": 23,
   "metadata": {
    "collapsed": false
   },
   "outputs": [],
   "source": [
    "points(L,pointsize=3)"
   ]
  },
  {
   "cell_type": "markdown",
   "metadata": {},
   "source": [
    "<p>En el gr&aacute;fico se ven algunos de los valores negativos de $FF(n,nbits)$, y, en particular que debe haber uno hacia el $2500$ y otro, el mayor, alrededor del $5000$.&nbsp; No se sabe si es cierto que $5040$ es el mayor entero tal que $FF(n,nbits)$ es negativo, pero esa afirmaci&oacute;n se ha demostrado que es equivalente a la \"hip&oacute;tesis de Riemann\", que se considera un&aacute;nimemente como el problema (actualmente)&nbsp; abierto m&aacute;s importante de las Matem&aacute;ticas. </p>\n",
    "\n",
    "<h4>Ejercicio 4</h4>\n",
    "<p>Definimos una sucesi&oacute;n de n&uacute;meros racionales mediante</p>\n",
    "<p>\\[G_1=0,\\ G_2=1,\\ G_n=G_{n-1}+\\frac{1}{n-2}G_{n-2} \\ (n\\ge 3).\\]</p>\n",
    "<ol>\n",
    "<li><span style=\"color: #ff0000;\">(1 punto) Comprueba</span> (experimentalmente)&nbsp; que la fracci&oacute;n $\\frac{n}{G_n}$ tiende al n&uacute;mero $e$.</li>\n",
    "<li><span style=\"color: #ff0000;\">(1 punto) Compara</span> la eficiencia de esta manera de aproximar $e$&nbsp; con la de la forma,&nbsp; m&aacute;s conocida,&nbsp; que utiliza la serie \\[e=\\sum_{n=0}^{n=\\infty}\\frac{1}{n!}.\\]</li>\n",
    "</ol>\n",
    "\n",
    "<p>Programamos la recursi&oacute;n iterativamente, de forma similar a lo que hicimos para la sucesi&oacute;n de Fibonacci.</p>"
   ]
  },
  {
   "cell_type": "code",
   "execution_count": 24,
   "metadata": {
    "collapsed": false
   },
   "outputs": [],
   "source": [
    "def G(n):\n",
    "    a,b = 0,1\n",
    "    for j in xsrange(3,n):\n",
    "        b,a = b+(a/(j-2)),b\n",
    "    return b"
   ]
  },
  {
   "cell_type": "code",
   "execution_count": 25,
   "metadata": {
    "collapsed": false
   },
   "outputs": [
    {
     "data": {
      "text/plain": [
       "2.72100283129034\n",
       "2.71828182845905"
      ]
     },
     "execution_count": 25,
     "metadata": {},
     "output_type": "execute_result"
    }
   ],
   "source": [
    "x = G(1000);RR(1000/x);RR(e)"
   ]
  },
  {
   "cell_type": "markdown",
   "metadata": {},
   "source": [
    "<p>Ahora efectuamos el c&aacute;llculo mediante un bucle $while$ hasta alcanzar un n&uacute;mero prefijado de cifras decimales correctas.</p>"
   ]
  },
  {
   "cell_type": "code",
   "execution_count": 26,
   "metadata": {
    "collapsed": false
   },
   "outputs": [],
   "source": [
    "def E(n,nbits):\n",
    "    R = RealField(prec=nbits)\n",
    "    a,b,k = R(0),R(1),3\n",
    "    while abs(R(k/b)-R(e))>R(10^(-n)):\n",
    "        b,a = R(b)+R(a/(k-2)),b\n",
    "        k += 1\n",
    "        #if k%10000 == 0:\n",
    "        #    print \"otros 10000\"  ##,k,abs(R(k/b)-R(e))\n",
    "    return R(k/b),R(k/b)-R(e),k"
   ]
  },
  {
   "cell_type": "code",
   "execution_count": 27,
   "metadata": {
    "collapsed": false
   },
   "outputs": [
    {
     "data": {
      "text/plain": [
       "(2.71928156432821, 0.000999735869168905, 2720)\n",
       "Time: CPU 0.02 s, Wall: 0.02 s"
      ]
     },
     "execution_count": 27,
     "metadata": {},
     "output_type": "execute_result"
    }
   ],
   "source": [
    "time E(3,53)"
   ]
  },
  {
   "cell_type": "code",
   "execution_count": 28,
   "metadata": {
    "collapsed": false
   },
   "outputs": [
    {
     "data": {
      "text/plain": [
       "(2.71828282845870, 9.99999657302908e-7, 2718652)\n",
       "Time: CPU 15.68 s, Wall: 15.69 s"
      ]
     },
     "execution_count": 28,
     "metadata": {},
     "output_type": "execute_result"
    }
   ],
   "source": [
    "time E(6,53)"
   ]
  },
  {
   "cell_type": "markdown",
   "metadata": {},
   "source": [
    "<p>No intento calcular m&aacute;s cifras correctas de $e$ mediante este m&eacute;todo: al pasar de $3$ cifras a $6$ se multiplica por $1000$ el sub&iacute;ndice $n$ de la sucesi&oacute;n y por $800$ el tiempo de c&aacute;lculo. &nbsp; Comparo con la serie:</p>"
   ]
  },
  {
   "cell_type": "code",
   "execution_count": 29,
   "metadata": {
    "collapsed": false
   },
   "outputs": [],
   "source": [
    "def Eserie(n,nbits):\n",
    "    R = RealField(prec=nbits)\n",
    "    S,k =R(2),1\n",
    "    while abs(R(S)-R(e))>R(10^(-n)):\n",
    "        k += 1\n",
    "        S += R(1/factorial(k))\n",
    "    return R(S),R(S)-R(e),k"
   ]
  },
  {
   "cell_type": "code",
   "execution_count": 30,
   "metadata": {
    "collapsed": false
   },
   "outputs": [
    {
     "data": {
      "text/plain": [
       "(2.71828152557319, -3.02885852843104e-7, 9)\n",
       "Time: CPU 0.00 s, Wall: 0.00 s"
      ]
     },
     "execution_count": 30,
     "metadata": {},
     "output_type": "execute_result"
    }
   ],
   "source": [
    "time Eserie(6,53)"
   ]
  },
  {
   "cell_type": "code",
   "execution_count": 31,
   "metadata": {
    "collapsed": false
   },
   "outputs": [
    {
     "data": {
      "text/plain": [
       "(2.71828182845823, -8.14903700074865e-13, 14)\n",
       "Time: CPU 0.00 s, Wall: 0.00 s"
      ]
     },
     "execution_count": 31,
     "metadata": {},
     "output_type": "execute_result"
    }
   ],
   "source": [
    "time Eserie(12,53)"
   ]
  },
  {
   "cell_type": "code",
   "execution_count": 32,
   "metadata": {
    "collapsed": false
   },
   "outputs": [
    {
     "data": {
      "text/plain": [
       "^C"
      ]
     },
     "execution_count": 32,
     "metadata": {},
     "output_type": "execute_result"
    },
    {
     "name": "stderr",
     "output_type": "stream",
     "text": [
      "Traceback (most recent call last):\n",
      "  File \"<stdin>\", line 1, in <module>\n",
      "  File \"_sage_input_17.py\", line 10, in <module>\n",
      "    exec compile(u'open(\"___code___.py\",\"w\").write(\"# -*- coding: utf-8 -*-\\\\n\" + _support\n",
      "_.preparse_worksheet_cell(base64.b64decode(\"dGltZSBFc2VyaWUoMjQsNTMp\"),globals())+\"\\\\n\");\n",
      "execfile(os.path.abspath(\"___code___.py\"))' + '\\n', '', 'single')\n",
      "  File \"\", line 1, in <module>\n",
      "\n",
      "  File \"/tmp/tmp1B1Vlg/___code___.py\", line 3, in <module>\n",
      "    exec compile(u'__time__=misc.cputime(); __wall__=misc.walltime();\n",
      "Eserie(_sage_const_24 ,_sage_const_53 ); print \"Time: CPU %.2f s, Wall: %.2f\n",
      "s\"%(misc.cputime(__time__), misc.walltime(__wall__))' + '\\n', '', 'single')\n",
      "  File \"\", line 1, in <module>\n",
      "\n",
      "  File \"/tmp/tmpf6N5Lt/___code___.py\", line 8, in Eserie\n",
      "    S += R(_sage_const_1 /factorial(k))\n",
      "  File \"sage/symbolic/function.pyx\", line 847, in\n",
      "sage.symbolic.function.GinacFunction.__call__\n",
      "(build/cythonized/sage/symbolic/function.cpp:9392)\n",
      "  File \"sage/symbolic/function.pyx\", line 985, in\n",
      "sage.symbolic.function.BuiltinFunction.__call__\n",
      "(build/cythonized/sage/symbolic/function.cpp:10676)\n",
      "  File \"sage/rings/integer.pyx\", line 3920, in sage.rings.integer.Integer.factorial\n",
      "(build/cythonized/sage/rings/integer.c:24511)\n",
      "  File \"sage/ext/interrupt.pyx\", line 71, in sage.ext.interrupt.sig_raise_exception\n",
      "(build/cythonized/sage/ext/interrupt.c:808)\n",
      "KeyboardInterrupt\n",
      "__SAGE__"
     ]
    }
   ],
   "source": [
    "time Eserie(24,53)"
   ]
  },
  {
   "cell_type": "code",
   "execution_count": 33,
   "metadata": {
    "collapsed": false
   },
   "outputs": [
    {
     "data": {
      "text/plain": [
       "(2.718281828459045235360287404308, -6.704430225860226707718604610268e-26, 24)\n",
       "Time: CPU 0.00 s, Wall: 0.00 s"
      ]
     },
     "execution_count": 33,
     "metadata": {},
     "output_type": "execute_result"
    }
   ],
   "source": [
    "time Eserie(24,106)"
   ]
  },
  {
   "cell_type": "markdown",
   "metadata": {},
   "source": [
    "<p>No podemos calcular $24$ cifras de $e$ usando $53$bits de precisi&oacute;n, y el bucle en el primer caso es infinito. Doblando la precisi&oacute;n obtenemos m&aacute;s de $4\\times 24=96$ bits d eprecisi&oacute;n, y el c&aacute;lculo se realiza en menos de cent&eacute;simas de segundo.&nbsp; Es claro que la serie es un m&eacute;todo mucho m&aacute;s eficiente, posiblemente debido a que</p>\n",
    "<ol>\n",
    "<li>Como $n!$ crece de forma tan bestial, los t&eacute;rminos que sumamos son en seguida irrelevantes para alcanzar la precisi&oacute;n deseada.</li>\n",
    "<li>Sage dispone de un m&eacute;todo muy eficiente para calcular factoriales, de forma que algo que, en principio,&nbsp; suena improbable, que se pueda calcular r&aacute;pido el factorial de un n&uacute;mero grande, de hecho es cierto.</li>\n",
    "</ol>\n",
    "<p>Las celdas que siguen calculan el n&uacute;mero de cifras decimales de factoriales grandes y el tiempo de c&aacute;lculo.</p>"
   ]
  },
  {
   "cell_type": "code",
   "execution_count": 34,
   "metadata": {
    "collapsed": false
   },
   "outputs": [
    {
     "data": {
      "text/plain": [
       "6984220\n",
       "Time: CPU 0.24 s, Wall: 0.24 s"
      ]
     },
     "execution_count": 34,
     "metadata": {},
     "output_type": "execute_result"
    }
   ],
   "source": [
    "time floor(log(factorial(1234567),base=10))"
   ]
  },
  {
   "cell_type": "code",
   "execution_count": 35,
   "metadata": {
    "collapsed": false
   },
   "outputs": [
    {
     "data": {
      "text/plain": [
       "82187904\n",
       "Time: CPU 3.96 s, Wall: 3.96 s"
      ]
     },
     "execution_count": 35,
     "metadata": {},
     "output_type": "execute_result"
    }
   ],
   "source": [
    "time floor(log(factorial(12345678),base=10))"
   ]
  },
  {
   "cell_type": "code",
   "execution_count": 36,
   "metadata": {
    "collapsed": false
   },
   "outputs": [
    {
     "data": {
      "text/plain": [
       "945335859\n",
       "Time: CPU 96.49 s, Wall: 96.55 s"
      ]
     },
     "execution_count": 36,
     "metadata": {},
     "output_type": "execute_result"
    }
   ],
   "source": [
    "time floor(log(factorial(123456789),base=10))"
   ]
  }
 ],
 "metadata": {
  "kernelspec": {
   "display_name": "SageMath 7.3",
   "language": "",
   "name": "sagemath"
  },
  "language_info": {
   "codemirror_mode": {
    "name": "ipython",
    "version": 2
   },
   "file_extension": ".py",
   "mimetype": "text/x-python",
   "name": "python",
   "nbconvert_exporter": "python",
   "pygments_lexer": "ipython2",
   "version": "2.7.10"
  }
 },
 "nbformat": 4,
 "nbformat_minor": 0
}
