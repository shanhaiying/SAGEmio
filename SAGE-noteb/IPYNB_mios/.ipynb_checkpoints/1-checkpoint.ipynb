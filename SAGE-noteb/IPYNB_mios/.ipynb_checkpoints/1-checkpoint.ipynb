{
 "cells": [
  {
   "cell_type": "markdown",
   "metadata": {},
   "source": [
    "<p><span style=\"color: #ff0000;\">Por favor, antes de empezar el examen cambia el nombre de la hoja (File&gt;Rename worksheet) poniendo en lugar de \"nombre.apellido\" los tuyos tal como aparecen en tu direcci&oacute;n de correo electr&oacute;nico de la UAM. El final del nombre de la hoja, -labot-ex1, dej&aacute;lo como est&aacute;.<br /></span></p>\n",
    "<p><span style=\"color: #ff0000;\">Una vez hayas terminado el examen, salva la hoja (File&gt;Save worksheet to a file....) y d&eacute;jala en la carpeta en tu escritorio con nombre \"ENTREGA......\".</span></p>\n",
    "<h4>&nbsp;</h4>\n",
    "<h4>&nbsp;</h4>\n",
    "<h4>Ejercicio1</h4>\n",
    "<p>Decimos que un entero positivo $n$ es <strong>multiplicativamente perfecto</strong> si el producto de todos los divisores de $n$ vale exactamente $n^2.$ El ejemplo m&aacute;s sencillo de un n&uacute;mero multiplicativamente perfecto es el producto $n=p\\cdot q$ de dos primos distintos. Por tanto, existen infinitos enteros multiplicativamente perfectos. Queremos caracterizar los enteros multiplicativamente perfectos.</p>\n",
    "<ol>\n",
    "<li>Primero define una funci&oacute;n de Sage, de nombre $perfecto(n)$,&nbsp; que reciba como argumento un entero $n$ y devuelva $Truo$ o $False$ seg&uacute;n el n&uacute;mero $n$ sea multiplicativamente perfecto o no.</li>\n",
    "<li>Ahora define una funci&oacute;n de Sage, de nombre $perfectos(N)$,&nbsp; que reciba como argumento un entero $N$ y devuelva la lista de todos los enteros multiplicativamente perfectos que pertenecen al intervalo $[1,N].$</li>\n",
    "<li>Usando las listas de enteros multiplicativamente perfectos que puedes obtener con la funci&oacute;n del apartado anterior, produce una conjetura razonable acerca de qu&eacute; enteros son multiplicativamente perfectos. Debes escribir expl&iacute;citamente tu conjetura en una celda de texto.</li>\n",
    "<li>Define una tercera funci&oacute;n, de nombre $comprobar(N)$, que devuelva $True$ si tu conjetura es correcta para enteros positivos menores que $N$, y $False$ si no lo es.</li>\n",
    "<li>Experimenta con valores de $N$ suficientemente grandes para obtener&nbsp; el $N=10^t$ ($t$ entero) m&aacute;s grande tal que tu programa $comprobar(N)$ se ejecuta en menos de un minuto.</li>\n",
    "</ol>"
   ]
  },
  {
   "cell_type": "code",
   "execution_count": 30,
   "metadata": {
    "collapsed": false
   },
   "outputs": [
    {
     "data": {
      "text/html": [
       "<html><script type=\"math/tex; mode=display\">\\newcommand{\\Bold}[1]{\\mathbf{#1}}1</script></html>"
      ],
      "text/plain": [
       "1"
      ]
     },
     "metadata": {},
     "output_type": "display_data"
    },
    {
     "data": {
      "text/html": [
       "<html><script type=\"math/tex; mode=display\">\\newcommand{\\Bold}[1]{\\mathbf{#1}}2 \\cdot 3</script></html>"
      ],
      "text/plain": [
       "2 * 3"
      ]
     },
     "metadata": {},
     "output_type": "display_data"
    },
    {
     "data": {
      "text/html": [
       "<html><script type=\"math/tex; mode=display\">\\newcommand{\\Bold}[1]{\\mathbf{#1}}2^{3}</script></html>"
      ],
      "text/plain": [
       "2^3"
      ]
     },
     "metadata": {},
     "output_type": "display_data"
    },
    {
     "data": {
      "text/html": [
       "<html><script type=\"math/tex; mode=display\">\\newcommand{\\Bold}[1]{\\mathbf{#1}}2 \\cdot 5</script></html>"
      ],
      "text/plain": [
       "2 * 5"
      ]
     },
     "metadata": {},
     "output_type": "display_data"
    },
    {
     "data": {
      "text/html": [
       "<html><script type=\"math/tex; mode=display\">\\newcommand{\\Bold}[1]{\\mathbf{#1}}2 \\cdot 7</script></html>"
      ],
      "text/plain": [
       "2 * 7"
      ]
     },
     "metadata": {},
     "output_type": "display_data"
    },
    {
     "data": {
      "text/html": [
       "<html><script type=\"math/tex; mode=display\">\\newcommand{\\Bold}[1]{\\mathbf{#1}}3 \\cdot 5</script></html>"
      ],
      "text/plain": [
       "3 * 5"
      ]
     },
     "metadata": {},
     "output_type": "display_data"
    },
    {
     "data": {
      "text/html": [
       "<html><script type=\"math/tex; mode=display\">\\newcommand{\\Bold}[1]{\\mathbf{#1}}3 \\cdot 7</script></html>"
      ],
      "text/plain": [
       "3 * 7"
      ]
     },
     "metadata": {},
     "output_type": "display_data"
    },
    {
     "data": {
      "text/html": [
       "<html><script type=\"math/tex; mode=display\">\\newcommand{\\Bold}[1]{\\mathbf{#1}}2 \\cdot 11</script></html>"
      ],
      "text/plain": [
       "2 * 11"
      ]
     },
     "metadata": {},
     "output_type": "display_data"
    },
    {
     "data": {
      "text/html": [
       "<html><script type=\"math/tex; mode=display\">\\newcommand{\\Bold}[1]{\\mathbf{#1}}2 \\cdot 13</script></html>"
      ],
      "text/plain": [
       "2 * 13"
      ]
     },
     "metadata": {},
     "output_type": "display_data"
    },
    {
     "data": {
      "text/html": [
       "<html><script type=\"math/tex; mode=display\">\\newcommand{\\Bold}[1]{\\mathbf{#1}}3^{3}</script></html>"
      ],
      "text/plain": [
       "3^3"
      ]
     },
     "metadata": {},
     "output_type": "display_data"
    },
    {
     "data": {
      "text/html": [
       "<html><script type=\"math/tex; mode=display\">\\newcommand{\\Bold}[1]{\\mathbf{#1}}3 \\cdot 11</script></html>"
      ],
      "text/plain": [
       "3 * 11"
      ]
     },
     "metadata": {},
     "output_type": "display_data"
    },
    {
     "data": {
      "text/html": [
       "<html><script type=\"math/tex; mode=display\">\\newcommand{\\Bold}[1]{\\mathbf{#1}}2 \\cdot 17</script></html>"
      ],
      "text/plain": [
       "2 * 17"
      ]
     },
     "metadata": {},
     "output_type": "display_data"
    },
    {
     "data": {
      "text/html": [
       "<html><script type=\"math/tex; mode=display\">\\newcommand{\\Bold}[1]{\\mathbf{#1}}5 \\cdot 7</script></html>"
      ],
      "text/plain": [
       "5 * 7"
      ]
     },
     "metadata": {},
     "output_type": "display_data"
    },
    {
     "data": {
      "text/html": [
       "<html><script type=\"math/tex; mode=display\">\\newcommand{\\Bold}[1]{\\mathbf{#1}}2 \\cdot 19</script></html>"
      ],
      "text/plain": [
       "2 * 19"
      ]
     },
     "metadata": {},
     "output_type": "display_data"
    },
    {
     "data": {
      "text/html": [
       "<html><script type=\"math/tex; mode=display\">\\newcommand{\\Bold}[1]{\\mathbf{#1}}3 \\cdot 13</script></html>"
      ],
      "text/plain": [
       "3 * 13"
      ]
     },
     "metadata": {},
     "output_type": "display_data"
    },
    {
     "data": {
      "text/html": [
       "<html><script type=\"math/tex; mode=display\">\\newcommand{\\Bold}[1]{\\mathbf{#1}}2 \\cdot 23</script></html>"
      ],
      "text/plain": [
       "2 * 23"
      ]
     },
     "metadata": {},
     "output_type": "display_data"
    },
    {
     "data": {
      "text/html": [
       "<html><script type=\"math/tex; mode=display\">\\newcommand{\\Bold}[1]{\\mathbf{#1}}3 \\cdot 17</script></html>"
      ],
      "text/plain": [
       "3 * 17"
      ]
     },
     "metadata": {},
     "output_type": "display_data"
    },
    {
     "data": {
      "text/html": [
       "<html><script type=\"math/tex; mode=display\">\\newcommand{\\Bold}[1]{\\mathbf{#1}}5 \\cdot 11</script></html>"
      ],
      "text/plain": [
       "5 * 11"
      ]
     },
     "metadata": {},
     "output_type": "display_data"
    },
    {
     "data": {
      "text/html": [
       "<html><script type=\"math/tex; mode=display\">\\newcommand{\\Bold}[1]{\\mathbf{#1}}3 \\cdot 19</script></html>"
      ],
      "text/plain": [
       "3 * 19"
      ]
     },
     "metadata": {},
     "output_type": "display_data"
    },
    {
     "data": {
      "text/html": [
       "<html><script type=\"math/tex; mode=display\">\\newcommand{\\Bold}[1]{\\mathbf{#1}}2 \\cdot 29</script></html>"
      ],
      "text/plain": [
       "2 * 29"
      ]
     },
     "metadata": {},
     "output_type": "display_data"
    },
    {
     "data": {
      "text/html": [
       "<html><script type=\"math/tex; mode=display\">\\newcommand{\\Bold}[1]{\\mathbf{#1}}2 \\cdot 31</script></html>"
      ],
      "text/plain": [
       "2 * 31"
      ]
     },
     "metadata": {},
     "output_type": "display_data"
    },
    {
     "data": {
      "text/html": [
       "<html><script type=\"math/tex; mode=display\">\\newcommand{\\Bold}[1]{\\mathbf{#1}}5 \\cdot 13</script></html>"
      ],
      "text/plain": [
       "5 * 13"
      ]
     },
     "metadata": {},
     "output_type": "display_data"
    },
    {
     "data": {
      "text/html": [
       "<html><script type=\"math/tex; mode=display\">\\newcommand{\\Bold}[1]{\\mathbf{#1}}3 \\cdot 23</script></html>"
      ],
      "text/plain": [
       "3 * 23"
      ]
     },
     "metadata": {},
     "output_type": "display_data"
    },
    {
     "data": {
      "text/html": [
       "<html><script type=\"math/tex; mode=display\">\\newcommand{\\Bold}[1]{\\mathbf{#1}}2 \\cdot 37</script></html>"
      ],
      "text/plain": [
       "2 * 37"
      ]
     },
     "metadata": {},
     "output_type": "display_data"
    },
    {
     "data": {
      "text/html": [
       "<html><script type=\"math/tex; mode=display\">\\newcommand{\\Bold}[1]{\\mathbf{#1}}7 \\cdot 11</script></html>"
      ],
      "text/plain": [
       "7 * 11"
      ]
     },
     "metadata": {},
     "output_type": "display_data"
    },
    {
     "data": {
      "text/html": [
       "<html><script type=\"math/tex; mode=display\">\\newcommand{\\Bold}[1]{\\mathbf{#1}}2 \\cdot 41</script></html>"
      ],
      "text/plain": [
       "2 * 41"
      ]
     },
     "metadata": {},
     "output_type": "display_data"
    },
    {
     "data": {
      "text/html": [
       "<html><script type=\"math/tex; mode=display\">\\newcommand{\\Bold}[1]{\\mathbf{#1}}5 \\cdot 17</script></html>"
      ],
      "text/plain": [
       "5 * 17"
      ]
     },
     "metadata": {},
     "output_type": "display_data"
    },
    {
     "data": {
      "text/html": [
       "<html><script type=\"math/tex; mode=display\">\\newcommand{\\Bold}[1]{\\mathbf{#1}}2 \\cdot 43</script></html>"
      ],
      "text/plain": [
       "2 * 43"
      ]
     },
     "metadata": {},
     "output_type": "display_data"
    },
    {
     "data": {
      "text/html": [
       "<html><script type=\"math/tex; mode=display\">\\newcommand{\\Bold}[1]{\\mathbf{#1}}3 \\cdot 29</script></html>"
      ],
      "text/plain": [
       "3 * 29"
      ]
     },
     "metadata": {},
     "output_type": "display_data"
    },
    {
     "data": {
      "text/html": [
       "<html><script type=\"math/tex; mode=display\">\\newcommand{\\Bold}[1]{\\mathbf{#1}}7 \\cdot 13</script></html>"
      ],
      "text/plain": [
       "7 * 13"
      ]
     },
     "metadata": {},
     "output_type": "display_data"
    },
    {
     "data": {
      "text/html": [
       "<html><script type=\"math/tex; mode=display\">\\newcommand{\\Bold}[1]{\\mathbf{#1}}3 \\cdot 31</script></html>"
      ],
      "text/plain": [
       "3 * 31"
      ]
     },
     "metadata": {},
     "output_type": "display_data"
    },
    {
     "data": {
      "text/html": [
       "<html><script type=\"math/tex; mode=display\">\\newcommand{\\Bold}[1]{\\mathbf{#1}}2 \\cdot 47</script></html>"
      ],
      "text/plain": [
       "2 * 47"
      ]
     },
     "metadata": {},
     "output_type": "display_data"
    },
    {
     "data": {
      "text/html": [
       "<html><script type=\"math/tex; mode=display\">\\newcommand{\\Bold}[1]{\\mathbf{#1}}5 \\cdot 19</script></html>"
      ],
      "text/plain": [
       "5 * 19"
      ]
     },
     "metadata": {},
     "output_type": "display_data"
    },
    {
     "data": {
      "text/html": [
       "<html><script type=\"math/tex; mode=display\">\\newcommand{\\Bold}[1]{\\mathbf{#1}}\\left[1, 6, 8, 10, 14, 15, 21, 22, 26, 27, 33, 34, 35, 38, 39, 46, 51, 55, 57, 58, 62, 65, 69, 74, 77, 82, 85, 86, 87, 91, 93, 94, 95\\right]</script></html>"
      ],
      "text/plain": [
       "[1,\n",
       " 6,\n",
       " 8,\n",
       " 10,\n",
       " 14,\n",
       " 15,\n",
       " 21,\n",
       " 22,\n",
       " 26,\n",
       " 27,\n",
       " 33,\n",
       " 34,\n",
       " 35,\n",
       " 38,\n",
       " 39,\n",
       " 46,\n",
       " 51,\n",
       " 55,\n",
       " 57,\n",
       " 58,\n",
       " 62,\n",
       " 65,\n",
       " 69,\n",
       " 74,\n",
       " 77,\n",
       " 82,\n",
       " 85,\n",
       " 86,\n",
       " 87,\n",
       " 91,\n",
       " 93,\n",
       " 94,\n",
       " 95]"
      ]
     },
     "metadata": {},
     "output_type": "display_data"
    }
   ],
   "source": [
    "def perfecto(n):\n",
    "    L = divisors(n)\n",
    "    a = prod(L)\n",
    "    return n^2==a\n",
    "def perfectos(n):\n",
    "    L = []\n",
    "    for x in xsrange(1,n+1):\n",
    "        if perfecto(x):\n",
    "            show(factor(x))\n",
    "            L.append(x)\n",
    "    return L\n",
    "\n",
    "n = 100\n",
    "L1 = perfectos(n)\n",
    "show(L1)\n",
    "\n"
   ]
  },
  {
   "cell_type": "code",
   "execution_count": null,
   "metadata": {
    "collapsed": false
   },
   "outputs": [],
   "source": []
  },
  {
   "cell_type": "code",
   "execution_count": 15,
   "metadata": {
    "collapsed": true
   },
   "outputs": [],
   "source": [
    "prod?"
   ]
  },
  {
   "cell_type": "code",
   "execution_count": null,
   "metadata": {
    "collapsed": true
   },
   "outputs": [],
   "source": []
  },
  {
   "cell_type": "code",
   "execution_count": null,
   "metadata": {
    "collapsed": true
   },
   "outputs": [],
   "source": []
  },
  {
   "cell_type": "code",
   "execution_count": null,
   "metadata": {
    "collapsed": true
   },
   "outputs": [],
   "source": []
  },
  {
   "cell_type": "code",
   "execution_count": 41,
   "metadata": {
    "collapsed": false
   },
   "outputs": [],
   "source": []
  },
  {
   "cell_type": "code",
   "execution_count": 42,
   "metadata": {
    "collapsed": false
   },
   "outputs": [
    {
     "data": {
      "text/html": [
       "<html><script type=\"math/tex; mode=display\">\\newcommand{\\Bold}[1]{\\mathbf{#1}}\\left[1, 6, 8, 10, 14, 15, 21, 22, 26, 27, 33, 34, 35, 38, 39, 46\\right]</script></html>"
      ],
      "text/plain": [
       "[1, 6, 8, 10, 14, 15, 21, 22, 26, 27, 33, 34, 35, 38, 39, 46]"
      ]
     },
     "metadata": {},
     "output_type": "display_data"
    }
   ],
   "source": []
  },
  {
   "cell_type": "code",
   "execution_count": 43,
   "metadata": {
    "collapsed": false
   },
   "outputs": [],
   "source": []
  },
  {
   "cell_type": "code",
   "execution_count": 44,
   "metadata": {
    "collapsed": false
   },
   "outputs": [
    {
     "data": {
      "text/html": [
       "<html><script type=\"math/tex; mode=display\">\\newcommand{\\Bold}[1]{\\mathbf{#1}}\\left[1, 2 \\cdot 3, 2^{3}, 2 \\cdot 5, 2 \\cdot 7, 3 \\cdot 5, 3 \\cdot 7, 2 \\cdot 11, 2 \\cdot 13, 3^{3}, 3 \\cdot 11, 2 \\cdot 17, 5 \\cdot 7, 2 \\cdot 19, 3 \\cdot 13, 2 \\cdot 23\\right]</script></html>"
      ],
      "text/plain": [
       "[1,\n",
       " 2 * 3,\n",
       " 2^3,\n",
       " 2 * 5,\n",
       " 2 * 7,\n",
       " 3 * 5,\n",
       " 3 * 7,\n",
       " 2 * 11,\n",
       " 2 * 13,\n",
       " 3^3,\n",
       " 3 * 11,\n",
       " 2 * 17,\n",
       " 5 * 7,\n",
       " 2 * 19,\n",
       " 3 * 13,\n",
       " 2 * 23]"
      ]
     },
     "metadata": {},
     "output_type": "display_data"
    }
   ],
   "source": []
  },
  {
   "cell_type": "markdown",
   "metadata": {},
   "source": [
    "<p>Vemos que todos los enteros multiplicativamente perfectos en este rango son producto de dos primos distintos o cubos de primos.&nbsp; Es&nbsp; claro que los productos de dos primos y los cubos de primos son multiplicativamente perfectos, pero &iquest;son los &uacute;nicos?</p>"
   ]
  },
  {
   "cell_type": "code",
   "execution_count": 45,
   "metadata": {
    "collapsed": false
   },
   "outputs": [],
   "source": []
  },
  {
   "cell_type": "code",
   "execution_count": 46,
   "metadata": {
    "collapsed": false
   },
   "outputs": [
    {
     "name": "stdout",
     "output_type": "stream",
     "text": [
      "1 []\n"
     ]
    }
   ],
   "source": []
  },
  {
   "cell_type": "code",
   "execution_count": 35,
   "metadata": {
    "collapsed": false
   },
   "outputs": [],
   "source": []
  },
  {
   "cell_type": "code",
   "execution_count": 24,
   "metadata": {
    "collapsed": false
   },
   "outputs": [
    {
     "name": "stdout",
     "output_type": "stream",
     "text": [
      "1\n",
      "[]\n",
      "CPU times: user 0 ns, sys: 0 ns, total: 0 ns\n",
      "Wall time: 227 µs\n"
     ]
    },
    {
     "data": {
      "text/plain": [
       "'Conjetura correcta hasta N'"
      ]
     },
     "execution_count": 24,
     "metadata": {},
     "output_type": "execute_result"
    }
   ],
   "source": []
  },
  {
   "cell_type": "code",
   "execution_count": null,
   "metadata": {
    "collapsed": false
   },
   "outputs": [],
   "source": []
  },
  {
   "cell_type": "code",
   "execution_count": null,
   "metadata": {
    "collapsed": false
   },
   "outputs": [],
   "source": []
  },
  {
   "cell_type": "code",
   "execution_count": 32,
   "metadata": {
    "collapsed": false
   },
   "outputs": [
    {
     "name": "stdout",
     "output_type": "stream",
     "text": [
      "CPU times: user 1min 16s, sys: 544 ms, total: 1min 16s\n",
      "Wall time: 1min 19s\n"
     ]
    },
    {
     "data": {
      "text/plain": [
       "'Conjetura correcta hasta N'"
      ]
     },
     "execution_count": 32,
     "metadata": {},
     "output_type": "execute_result"
    }
   ],
   "source": []
  },
  {
   "cell_type": "markdown",
   "metadata": {},
   "source": [
    "<h4>Ejercicio 2</h4>\n",
    "<p>En este ejercicio queremos definir funciones para comparar listas de enteros, <strong>salvo el orden de sus elementos</strong>,&nbsp; es decir, diremos que dos listas son <strong>casi-iguales</strong> si tienen la misma longitud y los mismos elementos pero no necesariamente en los mismos lugares. Las funciones que vamos a definir son 'tests' de casi-igualdad de listas.</p>\n",
    "<ol>\n",
    "<li>Primer m&eacute;todo: despu&eacute;s de comparar longitudes, y devolver $False$ si son diferentes, recorrer los elementos de la primera lista comprobando si son elementos de la segunda tambi&eacute;n. Si encontramos un elemento que est&aacute; en la primera lista y no en la segunda es claro que debemos devolver $False$, pero cada vez que encontramos un elemento que est&aacute; en las dos listas &iquest;qu&eacute; debemos hacer? Completa la idea para este m&eacute;todo y&nbsp; define una funci&oacute;n de Sage que lo implemente.</li>\n",
    "<li>Segundo m&eacute;todo:&nbsp; despu&eacute;s de comparar longitudes, y devolver $False$ si son diferentes, ordena las dos listas (puedes usar el m&eacute;todo $sort$ de Sage). Ahora compara las listas ordenadas&nbsp; recorriendo los elementos de la primera y comprobando si es igual al que ocupa el mismo lugar en la segunda.&nbsp; Define una funci&oacute;n de Sage que implemente este m&eacute;todo.</li>\n",
    "</ol>\n",
    "<p>Compara la eficiencia de los dos m&eacute;todos y discute los resultados obtenidos. Debes tener en cuenta que los tiempos obtenidos depender&aacute;n mucho de lo diferentes que sean las listas y debemos esperar que se obtengan tiempos mayores, y es el caso que nos conviene analizar,&nbsp; cuando una de las listas sea una reordenaci&oacute;n de la otra.&nbsp; Para producir una reordenaci&oacute;n aleatoria de una lista $L$ se pueden ejecutar las siguientes&nbsp; instrucciones en una celda</p>\n",
    "<p>$import \\ \\ numpy\\ \\&nbsp; as\\&nbsp; \\ np$</p>\n",
    "<p>$L1 = np.random.permutation(L).tolist()$</p>\n",
    "<p>y queda definida la lista $L1$ que es una permutaci&oacute;n aleatoria&nbsp; de la lista $L$.</p>"
   ]
  },
  {
   "cell_type": "code",
   "execution_count": null,
   "metadata": {
    "collapsed": true
   },
   "outputs": [],
   "source": []
  },
  {
   "cell_type": "code",
   "execution_count": null,
   "metadata": {
    "collapsed": true
   },
   "outputs": [],
   "source": []
  },
  {
   "cell_type": "code",
   "execution_count": null,
   "metadata": {
    "collapsed": true
   },
   "outputs": [],
   "source": []
  },
  {
   "cell_type": "code",
   "execution_count": null,
   "metadata": {
    "collapsed": true
   },
   "outputs": [],
   "source": []
  },
  {
   "cell_type": "code",
   "execution_count": null,
   "metadata": {
    "collapsed": true
   },
   "outputs": [],
   "source": []
  },
  {
   "cell_type": "code",
   "execution_count": null,
   "metadata": {
    "collapsed": true
   },
   "outputs": [],
   "source": []
  },
  {
   "cell_type": "code",
   "execution_count": 98,
   "metadata": {
    "collapsed": false
   },
   "outputs": [],
   "source": [
    "#%time\n",
    "def metodo1(L,L1):\n",
    "    if len(L) != len(L1):\n",
    "        return False\n",
    "    for item in L:\n",
    "        if item not in L1:\n",
    "            return False\n",
    "        else:\n",
    "            if L.count(item) != L1.count(item):\n",
    "                return False\n",
    "    return True"
   ]
  },
  {
   "cell_type": "code",
   "execution_count": 99,
   "metadata": {
    "collapsed": false
   },
   "outputs": [
    {
     "data": {
      "text/plain": [
       "True"
      ]
     },
     "execution_count": 99,
     "metadata": {},
     "output_type": "execute_result"
    }
   ],
   "source": [
    "L=(1,2,3)\n",
    "L1=(1,3,2)\n",
    "metodo1(L,L1)\n",
    "#print L, L1"
   ]
  },
  {
   "cell_type": "code",
   "execution_count": 100,
   "metadata": {
    "collapsed": false
   },
   "outputs": [],
   "source": [
    "#%time\n",
    "def metodo2(L1,L2):\n",
    "    if len(L1) != len(L2):\n",
    "        return false\n",
    "    L1.sort()\n",
    "    L2.sort()\n",
    "    for j in xsrange(len(L1)):\n",
    "        if L1[j] != L2[j]:\n",
    "            return false\n",
    "    return true"
   ]
  },
  {
   "cell_type": "code",
   "execution_count": 101,
   "metadata": {
    "collapsed": false
   },
   "outputs": [
    {
     "data": {
      "text/plain": [
       "True"
      ]
     },
     "execution_count": 101,
     "metadata": {},
     "output_type": "execute_result"
    }
   ],
   "source": [
    "L2=[1,2,3]\n",
    "L1=[1,3,2]\n",
    "metodo2(L2,L1)"
   ]
  },
  {
   "cell_type": "code",
   "execution_count": 102,
   "metadata": {
    "collapsed": false
   },
   "outputs": [],
   "source": [
    "L = [randint(-10^5,10^5) for _ in xsrange(5*10^4)]"
   ]
  },
  {
   "cell_type": "code",
   "execution_count": 103,
   "metadata": {
    "collapsed": false
   },
   "outputs": [
    {
     "name": "stdout",
     "output_type": "stream",
     "text": [
      "CPU times: user 8 ms, sys: 0 ns, total: 8 ms\n",
      "Wall time: 8.43 ms\n"
     ]
    }
   ],
   "source": [
    "import numpy as np\n",
    "%time L1 = np.random.permutation(L).tolist()"
   ]
  },
  {
   "cell_type": "code",
   "execution_count": 104,
   "metadata": {
    "collapsed": false
   },
   "outputs": [
    {
     "name": "stdout",
     "output_type": "stream",
     "text": [
      "CPU times: user 0 ns, sys: 0 ns, total: 0 ns\n",
      "Wall time: 9.06 µs\n"
     ]
    },
    {
     "data": {
      "text/plain": [
       "False"
      ]
     },
     "execution_count": 104,
     "metadata": {},
     "output_type": "execute_result"
    }
   ],
   "source": [
    "time metodo1(L2,L1)"
   ]
  },
  {
   "cell_type": "code",
   "execution_count": 105,
   "metadata": {
    "collapsed": false
   },
   "outputs": [
    {
     "name": "stdout",
     "output_type": "stream",
     "text": [
      "CPU times: user 0 ns, sys: 0 ns, total: 0 ns\n",
      "Wall time: 8.11 µs\n"
     ]
    },
    {
     "data": {
      "text/plain": [
       "False"
      ]
     },
     "execution_count": 105,
     "metadata": {},
     "output_type": "execute_result"
    }
   ],
   "source": [
    "time metodo2(L2,L1)"
   ]
  },
  {
   "cell_type": "markdown",
   "metadata": {},
   "source": [
    "<h4>Ejercicio 3</h4>\n",
    "<p>En este ejercicio estudiamos la existencia de ra&iacute;ces $k$-&eacute;simas en el anillo $\\mathbb{Z}_m$ de clases de restos m&oacute;dulo un entero $m$ . Como es natural,&nbsp; dados elementos&nbsp; $a,b\\in &nbsp; \\mathbb{Z}_m$, decimos que $a$ es una ra&iacute;z $k$-&eacute;sima de $b$ si $a^k=b$ en $\\mathbb{Z}_m$. Nuestro objetivo es, dado el entero $m$,&nbsp; determinar los valores de $k&lt;m$ tales que todos los elementos de $\\mathbb{Z}_m$ tienen una ra&iacute;z $k$-&eacute;sima.</p>\n",
    "<ol>\n",
    "<li>Define una funci&oacute;n de Sage, con nombre $raices(m,k)$, que devuelva $True$ si todas las clases de restos m&oacute;dulo $m$ tienen una ra&iacute;z $k$-&eacute;sima , con $k&lt;m$, y $False$ en caso contrario.</li>\n",
    "<li>Aplica la funci&oacute;n $raices(m,k)$ con $m$ primo, por ejemplo $m=23$, $m=31$, y trata de entender (explicita una conjetura) cu&aacute;les son los valores de $k$ para los que se obtiene $True$.&nbsp; Define una nueva funci&oacute;n de Sage, $comprobador(N)$&nbsp; que sirva para comprobar si&nbsp; tu conjetura es cierta para todos los enteros primos&nbsp; del intervalo $[1,N].$ Mediante esta funci&oacute;n comprueba tu conjetura hasta el $N=10^t$ ($t$ entero) m&aacute;s grande tal que la comprobaci&oacute;n tarde menos de un minuto.</li>\n",
    "<li>&nbsp;Si todav&iacute;a tienes tiempo y ganas puedes estudiar el caso de enteros $m$ que son producto de dos primos distintos.</li>\n",
    "</ol>"
   ]
  },
  {
   "cell_type": "code",
   "execution_count": 106,
   "metadata": {
    "collapsed": false
   },
   "outputs": [],
   "source": [
    "def raices(p,k):\n",
    "    L = [power_mod(n,k,p) for n in srange(p)]\n",
    "    if len(set(L))==p:\n",
    "        return True\n",
    "    else:\n",
    "        return False"
   ]
  },
  {
   "cell_type": "code",
   "execution_count": 107,
   "metadata": {
    "collapsed": false
   },
   "outputs": [
    {
     "data": {
      "text/plain": [
       "[(2, False),\n",
       " (3, True),\n",
       " (4, False),\n",
       " (5, True),\n",
       " (6, False),\n",
       " (7, True),\n",
       " (8, False),\n",
       " (9, True),\n",
       " (10, False),\n",
       " (11, False),\n",
       " (12, False),\n",
       " (13, True),\n",
       " (14, False),\n",
       " (15, True),\n",
       " (16, False),\n",
       " (17, True),\n",
       " (18, False),\n",
       " (19, True),\n",
       " (20, False),\n",
       " (21, True),\n",
       " (22, False)]"
      ]
     },
     "execution_count": 107,
     "metadata": {},
     "output_type": "execute_result"
    }
   ],
   "source": [
    "[(k,raices(23,k)) for k in srange(2,23)]"
   ]
  },
  {
   "cell_type": "code",
   "execution_count": 108,
   "metadata": {
    "collapsed": false
   },
   "outputs": [
    {
     "data": {
      "text/plain": [
       "[(2, False),\n",
       " (3, False),\n",
       " (4, False),\n",
       " (5, False),\n",
       " (6, False),\n",
       " (7, True),\n",
       " (8, False),\n",
       " (9, False),\n",
       " (10, False),\n",
       " (11, True),\n",
       " (12, False),\n",
       " (13, True),\n",
       " (14, False),\n",
       " (15, False),\n",
       " (16, False),\n",
       " (17, True),\n",
       " (18, False),\n",
       " (19, True),\n",
       " (20, False),\n",
       " (21, False),\n",
       " (22, False),\n",
       " (23, True),\n",
       " (24, False),\n",
       " (25, False),\n",
       " (26, False),\n",
       " (27, False),\n",
       " (28, False),\n",
       " (29, True),\n",
       " (30, False)]"
      ]
     },
     "execution_count": 108,
     "metadata": {},
     "output_type": "execute_result"
    }
   ],
   "source": [
    "[(k,raices(31,k)) for k in srange(2,31)]"
   ]
  },
  {
   "cell_type": "markdown",
   "metadata": {},
   "source": [
    "<p>Parece que los que dan $True$ son los casos en que $k$ es primo com $m-1$. Observa que si $m$ es primo cualquier&nbsp; $k&lt;m$ es primo com $m$, de forma que $k$ primo con $m$ no es una condici&oacute;n.</p>"
   ]
  },
  {
   "cell_type": "code",
   "execution_count": 109,
   "metadata": {
    "collapsed": false
   },
   "outputs": [
    {
     "data": {
      "text/plain": [
       "[(2, 2, False),\n",
       " (3, 1, True),\n",
       " (4, 2, False),\n",
       " (5, 1, True),\n",
       " (6, 2, False),\n",
       " (7, 1, True),\n",
       " (8, 2, False),\n",
       " (9, 1, True),\n",
       " (10, 2, False),\n",
       " (11, 11, False),\n",
       " (12, 2, False),\n",
       " (13, 1, True),\n",
       " (14, 2, False),\n",
       " (15, 1, True),\n",
       " (16, 2, False),\n",
       " (17, 1, True),\n",
       " (18, 2, False),\n",
       " (19, 1, True),\n",
       " (20, 2, False),\n",
       " (21, 1, True),\n",
       " (22, 22, False)]"
      ]
     },
     "execution_count": 109,
     "metadata": {},
     "output_type": "execute_result"
    }
   ],
   "source": [
    "[(k,gcd(22,k),raices(23,k)) for k in srange(2,23)]"
   ]
  },
  {
   "cell_type": "code",
   "execution_count": 114,
   "metadata": {
    "collapsed": false
   },
   "outputs": [
    {
     "data": {
      "text/plain": [
       "[(2, 2, False),\n",
       " (3, 3, False),\n",
       " (4, 2, False),\n",
       " (5, 5, False),\n",
       " (6, 6, False),\n",
       " (7, 1, True),\n",
       " (8, 2, False),\n",
       " (9, 3, False),\n",
       " (10, 10, False),\n",
       " (11, 1, True),\n",
       " (12, 6, False),\n",
       " (13, 1, True),\n",
       " (14, 2, False),\n",
       " (15, 15, False),\n",
       " (16, 2, False),\n",
       " (17, 1, True),\n",
       " (18, 6, False),\n",
       " (19, 1, True),\n",
       " (20, 10, False),\n",
       " (21, 3, False),\n",
       " (22, 2, False),\n",
       " (23, 1, True),\n",
       " (24, 6, False),\n",
       " (25, 5, False),\n",
       " (26, 2, False),\n",
       " (27, 3, False),\n",
       " (28, 2, False),\n",
       " (29, 1, True),\n",
       " (30, 30, False)]"
      ]
     },
     "execution_count": 114,
     "metadata": {},
     "output_type": "execute_result"
    }
   ],
   "source": [
    "[(k,gcd(30,k),raices(31,k)) for k in srange(2,31)]"
   ]
  },
  {
   "cell_type": "code",
   "execution_count": 115,
   "metadata": {
    "collapsed": false
   },
   "outputs": [],
   "source": [
    "def comprobador(N):\n",
    "    for p in prime_range(1,N+1):\n",
    "        L = [(gcd(p-1,k),raices(p,k)) for k in srange(2,p)]\n",
    "        for item in L:\n",
    "             if (item[0]!=1 and item[1]== True) or (item[0]==1 and item[1]== False):\n",
    "                    return \"La conjetura es falsa.\"\n",
    "    return \"La conjetura es correcta hasta N.\""
   ]
  },
  {
   "cell_type": "code",
   "execution_count": 116,
   "metadata": {
    "collapsed": false
   },
   "outputs": [
    {
     "name": "stdout",
     "output_type": "stream",
     "text": [
      "CPU times: user 308 ms, sys: 24 ms, total: 332 ms\n",
      "Wall time: 300 ms\n"
     ]
    },
    {
     "data": {
      "text/plain": [
       "'La conjetura es correcta hasta N.'"
      ]
     },
     "execution_count": 116,
     "metadata": {},
     "output_type": "execute_result"
    }
   ],
   "source": [
    "time comprobador(10^2)"
   ]
  },
  {
   "cell_type": "code",
   "execution_count": 117,
   "metadata": {
    "collapsed": false
   },
   "outputs": [
    {
     "name": "stdout",
     "output_type": "stream",
     "text": [
      "CPU times: user 36.6 s, sys: 216 ms, total: 36.8 s\n",
      "Wall time: 36.3 s\n"
     ]
    },
    {
     "data": {
      "text/plain": [
       "'La conjetura es correcta hasta N.'"
      ]
     },
     "execution_count": 117,
     "metadata": {},
     "output_type": "execute_result"
    }
   ],
   "source": [
    "time comprobador(5*10^2)"
   ]
  },
  {
   "cell_type": "code",
   "execution_count": 118,
   "metadata": {
    "collapsed": false
   },
   "outputs": [
    {
     "data": {
      "text/plain": [
       "[(2, 2, False),\n",
       " (3, 1, False),\n",
       " (4, 4, False),\n",
       " (5, 5, True),\n",
       " (6, 2, False),\n",
       " (7, 1, True),\n",
       " (8, 4, False),\n",
       " (9, 1, False),\n",
       " (10, 10, False),\n",
       " (11, 1, True),\n",
       " (12, 4, False),\n",
       " (13, 1, True),\n",
       " (14, 2, False),\n",
       " (15, 5, False),\n",
       " (16, 4, False),\n",
       " (17, 1, True),\n",
       " (18, 2, False),\n",
       " (19, 1, True),\n",
       " (20, 20, False)]"
      ]
     },
     "execution_count": 118,
     "metadata": {},
     "output_type": "execute_result"
    }
   ],
   "source": [
    "[(k,gcd(20,k),raices(21,k)) for k in srange(2,21)]"
   ]
  },
  {
   "cell_type": "markdown",
   "metadata": {},
   "source": [
    "<p>La misma regla no sirve para n&uacute;meros compuestos que son m&uacute;ltiplos de dos primos distintos. Sin embargo, para casi todos los $k$ primos, excepto el $2$ y el $3$, se obtiene $True$. Esto sugiere en lugar del $20$, que es uno menos que $m$, hay que usar un entero, relacionado con $21$,&nbsp; cuyos factores son $2$ y $3$. Ese debe ser $\\phi(3\\cdot 7)=(3-1)(7-1)=12.$</p>"
   ]
  },
  {
   "cell_type": "code",
   "execution_count": 119,
   "metadata": {
    "collapsed": false
   },
   "outputs": [
    {
     "data": {
      "text/plain": [
       "[(2, 2, False),\n",
       " (3, 3, False),\n",
       " (4, 4, False),\n",
       " (5, 1, True),\n",
       " (6, 6, False),\n",
       " (7, 1, True),\n",
       " (8, 4, False),\n",
       " (9, 3, False),\n",
       " (10, 2, False),\n",
       " (11, 1, True),\n",
       " (12, 12, False),\n",
       " (13, 1, True),\n",
       " (14, 2, False),\n",
       " (15, 3, False),\n",
       " (16, 4, False),\n",
       " (17, 1, True),\n",
       " (18, 6, False),\n",
       " (19, 1, True),\n",
       " (20, 4, False)]"
      ]
     },
     "execution_count": 119,
     "metadata": {},
     "output_type": "execute_result"
    }
   ],
   "source": [
    "[(k,gcd(12,k),raices(21,k)) for k in srange(2,21)]"
   ]
  },
  {
   "cell_type": "code",
   "execution_count": null,
   "metadata": {
    "collapsed": true
   },
   "outputs": [],
   "source": []
  }
 ],
 "metadata": {
  "kernelspec": {
   "display_name": "SageMath 7.3",
   "language": "",
   "name": "sagemath"
  },
  "language_info": {
   "codemirror_mode": {
    "name": "ipython",
    "version": 2
   },
   "file_extension": ".py",
   "mimetype": "text/x-python",
   "name": "python",
   "nbconvert_exporter": "python",
   "pygments_lexer": "ipython2",
   "version": "2.7.10"
  }
 },
 "nbformat": 4,
 "nbformat_minor": 0
}
